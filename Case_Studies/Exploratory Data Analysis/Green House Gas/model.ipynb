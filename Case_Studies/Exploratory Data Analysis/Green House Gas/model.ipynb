{
 "cells": [
  {
   "cell_type": "markdown",
   "source": [
    "<div style=\"color:white;\n",
    "           display:fill;\n",
    "           border-radius:10px;\n",
    "           font-size:110%;\n",
    "           font-family:cursive;\n",
    "           letter-spacing:0.5px;\n",
    "           background-color:#4ff0d2;\n",
    "           color:Black;\n",
    "           font-family:cursive;\n",
    "            padding:5px 5px 5px 5px;\n",
    "           \">\n",
    "<h1 style=\"text-align:center;font-weight: bold\"> Introduction </h1></div>\n",
    "\n"
   ],
   "metadata": {
    "papermill": {
     "duration": 0.025574,
     "end_time": "2021-07-04T08:40:43.741938",
     "exception": false,
     "start_time": "2021-07-04T08:40:43.716364",
     "status": "completed"
    },
    "tags": []
   }
  },
  {
   "cell_type": "markdown",
   "source": [
    "![](https://medialibrary.climatecentral.org/uploads/general/2018GreenhouseEffect.png)\n",
    "[Source](https://medialibrary.climatecentral.org/uploads/general/2018GreenhouseEffect.png)"
   ],
   "metadata": {
    "papermill": {
     "duration": 0.024492,
     "end_time": "2021-07-04T08:40:43.791022",
     "exception": false,
     "start_time": "2021-07-04T08:40:43.766530",
     "status": "completed"
    },
    "tags": []
   }
  },
  {
   "cell_type": "markdown",
   "source": [
    "<div style=\"color:white;\n",
    "           display:fill;\n",
    "           border-radius:10px;\n",
    "           font-size:110%;\n",
    "           font-family:cursive;\n",
    "           letter-spacing:0.5px;\n",
    "           background-color:#4ff0d2;\n",
    "           color:Black;\n",
    "           font-family:cursive;\n",
    "            padding:5px 5px 5px 5px;\n",
    "           \">\n",
    "<h1 style=\"text-align:center;font-weight: bold\"> GreenHouse Effect </h1></div>\n",
    "\n",
    "\n",
    "![](https://assets.nrdc.org/sites/default/files/styles/ec_home_alert_large/public/greenhouseeffect_graphic1_2400x1742.png?itok=rNkTHqeP)"
   ],
   "metadata": {
    "papermill": {
     "duration": 0.024104,
     "end_time": "2021-07-04T08:40:43.839588",
     "exception": false,
     "start_time": "2021-07-04T08:40:43.815484",
     "status": "completed"
    },
    "tags": []
   }
  },
  {
   "cell_type": "markdown",
   "source": [
    "<div style=\"color:white;\n",
    "           display:fill;\n",
    "           border-radius:10px;\n",
    "           font-size:110%;\n",
    "           font-family:cursive;\n",
    "           letter-spacing:0.5px;\n",
    "           background-color:#4ff0d2;\n",
    "           color:Black;\n",
    "           font-family:cursive;\n",
    "            padding:5px 5px 5px 5px;\n",
    "           \">\n",
    "<h1 style=\"text-align:center;font-weight: bold;\">Do you know?</h1>\n",
    "    <h3 style=\"text-align:center;font-weight: bold\">1) The three greenhouse gases that are of most concern are Carbon Dioxide (CO<sub>2</sub>), Nitrous Oxide\n",
    "        (N<sub>2</sub>O), and Methane (CH<sub>4</sub>).</h3>\n",
    "    <h3 style=\"text-align:center;font-weight: bold\">2) . Greenhouse gases are naturally produced; however humans produce additional amounts of\n",
    "certain greenhouse gases.</h3>\n",
    "    <h3 style=\"text-align:center;font-weight: bold\">3) Greenhouse gases trap heat in the atmosphere warming the Earth’s temperature above\n",
    "freezing. This is known as the Greenhouse effect.</h3>\n",
    "\n",
    "</div>\n",
    "\n",
    "\n",
    "\n"
   ],
   "metadata": {
    "papermill": {
     "duration": 0.024217,
     "end_time": "2021-07-04T08:40:43.888167",
     "exception": false,
     "start_time": "2021-07-04T08:40:43.863950",
     "status": "completed"
    },
    "tags": []
   }
  },
  {
   "cell_type": "markdown",
   "source": [
    "<div style=\"color:white;\n",
    "           display:fill;\n",
    "           border-radius:10px;\n",
    "           font-size:110%;\n",
    "           font-family:cursive;\n",
    "           letter-spacing:0.5px;\n",
    "           background-color:#4ff0d2;\n",
    "           color:Black;\n",
    "           font-family:cursive;\n",
    "            padding:5px 5px 5px 5px;\n",
    "           \">\n",
    "<h1 style=\"text-align:center;font-weight: bold\">About the Dataset</h1>\n",
    "    <h3 style=\"text-align:left;font-weight: bold\">A two-column dataset for Greenhouse gas emissions by sector.\n",
    "    </h3>\n",
    "<ul>\n",
    "<li>GlobalShare: Share of global greenhouse gas emissions (%)</li>\n",
    "<li>Sub-sector</li>\n",
    "<li>Source of content: ourworldindata.org</li>\n",
    "</ul>\n",
    "</div>\n",
    "\n"
   ],
   "metadata": {
    "papermill": {
     "duration": 0.024085,
     "end_time": "2021-07-04T08:40:43.936887",
     "exception": false,
     "start_time": "2021-07-04T08:40:43.912802",
     "status": "completed"
    },
    "tags": []
   }
  },
  {
   "cell_type": "markdown",
   "source": [
    "<div style=\"color:white;\n",
    "           display:fill;\n",
    "           border-radius:10px;\n",
    "           font-size:110%;\n",
    "           font-family:cursive;\n",
    "           letter-spacing:0.5px;\n",
    "           background-color:#4ff0d2;\n",
    "           color:Black;\n",
    "           font-family:cursive;\n",
    "            padding:5px 5px 5px 5px;\n",
    "           \">\n",
    "<h1 style=\"text-align:center;font-weight: bold\"> Importing Libraries </h1></div>\n",
    "\n"
   ],
   "metadata": {
    "papermill": {
     "duration": 0.024388,
     "end_time": "2021-07-04T08:40:43.985477",
     "exception": false,
     "start_time": "2021-07-04T08:40:43.961089",
     "status": "completed"
    },
    "tags": []
   }
  },
  {
   "cell_type": "code",
   "execution_count": 1,
   "source": [
    "import matplotlib.pyplot as plt\r\n",
    "plt.style.use('fivethirtyeight')\r\n",
    "plt.style.use('dark_background')\r\n",
    "import numpy as np\r\n",
    "import pandas as pd\r\n",
    "import seaborn as sns\r\n",
    "import plotly.express as px\r\n",
    "import plotly.graph_objects as go\r\n",
    "\r\n",
    "import warnings\r\n",
    "warnings.simplefilter(action='ignore', category=Warning)"
   ],
   "outputs": [],
   "metadata": {
    "execution": {
     "iopub.execute_input": "2021-07-04T08:40:44.050027Z",
     "iopub.status.busy": "2021-07-04T08:40:44.049366Z",
     "iopub.status.idle": "2021-07-04T08:40:46.238216Z",
     "shell.execute_reply": "2021-07-04T08:40:46.238743Z",
     "shell.execute_reply.started": "2021-07-04T08:35:37.407215Z"
    },
    "papermill": {
     "duration": 2.228111,
     "end_time": "2021-07-04T08:40:46.239053",
     "exception": false,
     "start_time": "2021-07-04T08:40:44.010942",
     "status": "completed"
    },
    "tags": []
   }
  },
  {
   "cell_type": "markdown",
   "source": [
    "<div style=\"color:white;\n",
    "           display:fill;\n",
    "           border-radius:10px;\n",
    "           font-size:110%;\n",
    "           font-family:cursive;\n",
    "           letter-spacing:0.5px;\n",
    "           background-color:#4ff0d2;\n",
    "           color:Black;\n",
    "           font-family:cursive;\n",
    "            padding:5px 5px 5px 5px;\n",
    "           \">\n",
    "<h1 style=\"text-align:center;font-weight: bold\"> Importing Dataset </h1></div>\n",
    "\n"
   ],
   "metadata": {
    "papermill": {
     "duration": 0.023844,
     "end_time": "2021-07-04T08:40:46.287550",
     "exception": false,
     "start_time": "2021-07-04T08:40:46.263706",
     "status": "completed"
    },
    "tags": []
   }
  },
  {
   "cell_type": "code",
   "execution_count": 2,
   "source": [
    "dataset = pd.read_csv('GHG-Emissions-by-sector.csv')"
   ],
   "outputs": [],
   "metadata": {
    "execution": {
     "iopub.execute_input": "2021-07-04T08:40:46.341183Z",
     "iopub.status.busy": "2021-07-04T08:40:46.340349Z",
     "iopub.status.idle": "2021-07-04T08:40:46.357890Z",
     "shell.execute_reply": "2021-07-04T08:40:46.358418Z",
     "shell.execute_reply.started": "2021-07-04T08:35:39.391752Z"
    },
    "papermill": {
     "duration": 0.046928,
     "end_time": "2021-07-04T08:40:46.358607",
     "exception": false,
     "start_time": "2021-07-04T08:40:46.311679",
     "status": "completed"
    },
    "tags": []
   }
  },
  {
   "cell_type": "markdown",
   "source": [
    "<div style=\"color:white;\n",
    "           display:fill;\n",
    "           border-radius:10px;\n",
    "           font-size:110%;\n",
    "           font-family:cursive;\n",
    "           letter-spacing:0.5px;\n",
    "           background-color:#4ff0d2;\n",
    "           color:Black;\n",
    "           font-family:cursive;\n",
    "            padding:5px 5px 5px 5px;\n",
    "           \">\n",
    "<h1 style=\"text-align:center;font-weight: bold\"> Exploratory Data Analysis </h1></div>\n",
    "\n"
   ],
   "metadata": {
    "papermill": {
     "duration": 0.024274,
     "end_time": "2021-07-04T08:40:46.407046",
     "exception": false,
     "start_time": "2021-07-04T08:40:46.382772",
     "status": "completed"
    },
    "tags": []
   }
  },
  {
   "cell_type": "code",
   "execution_count": 3,
   "source": [
    "dataset.head()"
   ],
   "outputs": [
    {
     "output_type": "execute_result",
     "data": {
      "text/plain": [
       "  Sub-sector  GlobalShare\n",
       "0       Road         11.9\n",
       "1   Aviation          1.9\n",
       "2       Rail          0.4\n",
       "3   Pipeline          0.3\n",
       "4       Ship          1.7"
      ],
      "text/html": [
       "<div>\n",
       "<style scoped>\n",
       "    .dataframe tbody tr th:only-of-type {\n",
       "        vertical-align: middle;\n",
       "    }\n",
       "\n",
       "    .dataframe tbody tr th {\n",
       "        vertical-align: top;\n",
       "    }\n",
       "\n",
       "    .dataframe thead th {\n",
       "        text-align: right;\n",
       "    }\n",
       "</style>\n",
       "<table border=\"1\" class=\"dataframe\">\n",
       "  <thead>\n",
       "    <tr style=\"text-align: right;\">\n",
       "      <th></th>\n",
       "      <th>Sub-sector</th>\n",
       "      <th>GlobalShare</th>\n",
       "    </tr>\n",
       "  </thead>\n",
       "  <tbody>\n",
       "    <tr>\n",
       "      <th>0</th>\n",
       "      <td>Road</td>\n",
       "      <td>11.9</td>\n",
       "    </tr>\n",
       "    <tr>\n",
       "      <th>1</th>\n",
       "      <td>Aviation</td>\n",
       "      <td>1.9</td>\n",
       "    </tr>\n",
       "    <tr>\n",
       "      <th>2</th>\n",
       "      <td>Rail</td>\n",
       "      <td>0.4</td>\n",
       "    </tr>\n",
       "    <tr>\n",
       "      <th>3</th>\n",
       "      <td>Pipeline</td>\n",
       "      <td>0.3</td>\n",
       "    </tr>\n",
       "    <tr>\n",
       "      <th>4</th>\n",
       "      <td>Ship</td>\n",
       "      <td>1.7</td>\n",
       "    </tr>\n",
       "  </tbody>\n",
       "</table>\n",
       "</div>"
      ]
     },
     "metadata": {},
     "execution_count": 3
    }
   ],
   "metadata": {
    "execution": {
     "iopub.execute_input": "2021-07-04T08:40:46.458620Z",
     "iopub.status.busy": "2021-07-04T08:40:46.457907Z",
     "iopub.status.idle": "2021-07-04T08:40:46.483722Z",
     "shell.execute_reply": "2021-07-04T08:40:46.484225Z",
     "shell.execute_reply.started": "2021-07-04T08:35:39.412833Z"
    },
    "papermill": {
     "duration": 0.053347,
     "end_time": "2021-07-04T08:40:46.484413",
     "exception": false,
     "start_time": "2021-07-04T08:40:46.431066",
     "status": "completed"
    },
    "tags": []
   }
  },
  {
   "cell_type": "code",
   "execution_count": 4,
   "source": [
    "dataset.shape"
   ],
   "outputs": [
    {
     "output_type": "execute_result",
     "data": {
      "text/plain": [
       "(29, 2)"
      ]
     },
     "metadata": {},
     "execution_count": 4
    }
   ],
   "metadata": {
    "execution": {
     "iopub.execute_input": "2021-07-04T08:40:46.537458Z",
     "iopub.status.busy": "2021-07-04T08:40:46.536729Z",
     "iopub.status.idle": "2021-07-04T08:40:46.541353Z",
     "shell.execute_reply": "2021-07-04T08:40:46.541808Z",
     "shell.execute_reply.started": "2021-07-04T08:35:39.445400Z"
    },
    "papermill": {
     "duration": 0.032428,
     "end_time": "2021-07-04T08:40:46.541984",
     "exception": false,
     "start_time": "2021-07-04T08:40:46.509556",
     "status": "completed"
    },
    "tags": []
   }
  },
  {
   "cell_type": "markdown",
   "source": [
    "## This dataset contain 29 Rows and 2 Columns"
   ],
   "metadata": {
    "papermill": {
     "duration": 0.024691,
     "end_time": "2021-07-04T08:40:46.591784",
     "exception": false,
     "start_time": "2021-07-04T08:40:46.567093",
     "status": "completed"
    },
    "tags": []
   }
  },
  {
   "cell_type": "code",
   "execution_count": 5,
   "source": [
    "dataset.isnull().sum()"
   ],
   "outputs": [
    {
     "output_type": "execute_result",
     "data": {
      "text/plain": [
       "Sub-sector     0\n",
       "GlobalShare    0\n",
       "dtype: int64"
      ]
     },
     "metadata": {},
     "execution_count": 5
    }
   ],
   "metadata": {
    "execution": {
     "iopub.execute_input": "2021-07-04T08:40:46.646320Z",
     "iopub.status.busy": "2021-07-04T08:40:46.645609Z",
     "iopub.status.idle": "2021-07-04T08:40:46.652950Z",
     "shell.execute_reply": "2021-07-04T08:40:46.653485Z",
     "shell.execute_reply.started": "2021-07-04T08:35:39.455081Z"
    },
    "papermill": {
     "duration": 0.036636,
     "end_time": "2021-07-04T08:40:46.653680",
     "exception": false,
     "start_time": "2021-07-04T08:40:46.617044",
     "status": "completed"
    },
    "tags": []
   }
  },
  {
   "cell_type": "markdown",
   "source": [
    "## There are no null values"
   ],
   "metadata": {
    "papermill": {
     "duration": 0.025801,
     "end_time": "2021-07-04T08:40:46.705467",
     "exception": false,
     "start_time": "2021-07-04T08:40:46.679666",
     "status": "completed"
    },
    "tags": []
   }
  },
  {
   "cell_type": "code",
   "execution_count": 6,
   "source": [
    "dataset.info()"
   ],
   "outputs": [
    {
     "output_type": "stream",
     "name": "stdout",
     "text": [
      "<class 'pandas.core.frame.DataFrame'>\n",
      "RangeIndex: 29 entries, 0 to 28\n",
      "Data columns (total 2 columns):\n",
      " #   Column       Non-Null Count  Dtype  \n",
      "---  ------       --------------  -----  \n",
      " 0   Sub-sector   29 non-null     object \n",
      " 1   GlobalShare  29 non-null     float64\n",
      "dtypes: float64(1), object(1)\n",
      "memory usage: 592.0+ bytes\n"
     ]
    }
   ],
   "metadata": {
    "execution": {
     "iopub.execute_input": "2021-07-04T08:40:46.759830Z",
     "iopub.status.busy": "2021-07-04T08:40:46.759085Z",
     "iopub.status.idle": "2021-07-04T08:40:46.780098Z",
     "shell.execute_reply": "2021-07-04T08:40:46.779075Z",
     "shell.execute_reply.started": "2021-07-04T08:35:39.470347Z"
    },
    "papermill": {
     "duration": 0.049621,
     "end_time": "2021-07-04T08:40:46.780342",
     "exception": false,
     "start_time": "2021-07-04T08:40:46.730721",
     "status": "completed"
    },
    "tags": []
   }
  },
  {
   "cell_type": "code",
   "execution_count": 7,
   "source": [
    "dataset.describe().T.style.bar(\r\n",
    "    subset=['mean'],\r\n",
    "    color='#606ff2').background_gradient(\r\n",
    "    subset=['std'], cmap='PuBu').background_gradient(subset=['50%'], cmap='PuBu')"
   ],
   "outputs": [
    {
     "output_type": "execute_result",
     "data": {
      "text/plain": [
       "<pandas.io.formats.style.Styler at 0x7fa72b66c410>"
      ],
      "text/html": [
       "<style  type=\"text/css\" >\n",
       "#T_afd81_row0_col1{\n",
       "            width:  10em;\n",
       "             height:  80%;\n",
       "        }#T_afd81_row0_col2,#T_afd81_row0_col5{\n",
       "            background-color:  #fff7fb;\n",
       "            color:  #000000;\n",
       "        }</style><table id=\"T_afd81_\" ><thead>    <tr>        <th class=\"blank level0\" ></th>        <th class=\"col_heading level0 col0\" >count</th>        <th class=\"col_heading level0 col1\" >mean</th>        <th class=\"col_heading level0 col2\" >std</th>        <th class=\"col_heading level0 col3\" >min</th>        <th class=\"col_heading level0 col4\" >25%</th>        <th class=\"col_heading level0 col5\" >50%</th>        <th class=\"col_heading level0 col6\" >75%</th>        <th class=\"col_heading level0 col7\" >max</th>    </tr></thead><tbody>\n",
       "                <tr>\n",
       "                        <th id=\"T_afd81_level0_row0\" class=\"row_heading level0 row0\" >GlobalShare</th>\n",
       "                        <td id=\"T_afd81_row0_col0\" class=\"data row0 col0\" >29.000000</td>\n",
       "                        <td id=\"T_afd81_row0_col1\" class=\"data row0 col1\" >3.448276</td>\n",
       "                        <td id=\"T_afd81_row0_col2\" class=\"data row0 col2\" >3.370314</td>\n",
       "                        <td id=\"T_afd81_row0_col3\" class=\"data row0 col3\" >0.100000</td>\n",
       "                        <td id=\"T_afd81_row0_col4\" class=\"data row0 col4\" >1.300000</td>\n",
       "                        <td id=\"T_afd81_row0_col5\" class=\"data row0 col5\" >1.900000</td>\n",
       "                        <td id=\"T_afd81_row0_col6\" class=\"data row0 col6\" >4.100000</td>\n",
       "                        <td id=\"T_afd81_row0_col7\" class=\"data row0 col7\" >11.900000</td>\n",
       "            </tr>\n",
       "    </tbody></table>"
      ]
     },
     "metadata": {},
     "execution_count": 7
    }
   ],
   "metadata": {
    "execution": {
     "iopub.execute_input": "2021-07-04T08:40:46.839349Z",
     "iopub.status.busy": "2021-07-04T08:40:46.838664Z",
     "iopub.status.idle": "2021-07-04T08:40:46.895241Z",
     "shell.execute_reply": "2021-07-04T08:40:46.894712Z",
     "shell.execute_reply.started": "2021-07-04T08:35:39.494301Z"
    },
    "papermill": {
     "duration": 0.087748,
     "end_time": "2021-07-04T08:40:46.895409",
     "exception": false,
     "start_time": "2021-07-04T08:40:46.807661",
     "status": "completed"
    },
    "tags": []
   }
  },
  {
   "cell_type": "code",
   "execution_count": 8,
   "source": [
    "sorted_dataset = dataset.sort_values('GlobalShare', ascending=True).reset_index()"
   ],
   "outputs": [],
   "metadata": {
    "execution": {
     "iopub.execute_input": "2021-07-04T08:40:46.952075Z",
     "iopub.status.busy": "2021-07-04T08:40:46.951019Z",
     "iopub.status.idle": "2021-07-04T08:40:46.956937Z",
     "shell.execute_reply": "2021-07-04T08:40:46.957453Z",
     "shell.execute_reply.started": "2021-07-04T08:35:39.570540Z"
    },
    "papermill": {
     "duration": 0.035719,
     "end_time": "2021-07-04T08:40:46.957666",
     "exception": false,
     "start_time": "2021-07-04T08:40:46.921947",
     "status": "completed"
    },
    "tags": []
   }
  },
  {
   "cell_type": "markdown",
   "source": [
    "<div style=\"color:white;\n",
    "           display:fill;\n",
    "           border-radius:10px;\n",
    "           font-size:110%;\n",
    "           font-family:cursive;\n",
    "           letter-spacing:0.5px;\n",
    "           background-color:#4ff0d2;\n",
    "           color:Black;\n",
    "           font-family:cursive;\n",
    "            padding:5px 5px 5px 5px;\n",
    "           \">\n",
    "<h1 style=\"text-align:center;font-weight: bold\"> ✨Visualisation✨ </h1></div>\n",
    "\n"
   ],
   "metadata": {
    "papermill": {
     "duration": 0.026594,
     "end_time": "2021-07-04T08:40:47.010614",
     "exception": false,
     "start_time": "2021-07-04T08:40:46.984020",
     "status": "completed"
    },
    "tags": []
   }
  },
  {
   "cell_type": "markdown",
   "source": [
    "<div style=\"color:white;\n",
    "           display:fill;\n",
    "           border-radius:10px;\n",
    "           font-size:110%;\n",
    "           font-family:cursive;\n",
    "           letter-spacing:0.5px;\n",
    "           background-color:#4ff0d2;\n",
    "           color:Black;\n",
    "           font-family:cursive;\n",
    "            padding:5px 5px 5px 5px;\n",
    "           \">\n",
    "<h1 style=\"text-align:center;font-weight: bold\"> Bar Plots </h1></div>\n",
    "\n"
   ],
   "metadata": {
    "papermill": {
     "duration": 0.02564,
     "end_time": "2021-07-04T08:40:47.063500",
     "exception": false,
     "start_time": "2021-07-04T08:40:47.037860",
     "status": "completed"
    },
    "tags": []
   }
  },
  {
   "cell_type": "code",
   "execution_count": 9,
   "source": [
    "fig = px.bar(sorted_dataset, x = 'GlobalShare',color=\"Sub-sector\", template = 'plotly_dark', title = 'Distrbution of GlobalShare')\n",
    "fig.show()"
   ],
   "outputs": [
    {
     "output_type": "display_data",
     "data": {
      "text/html": [
       "        <script type=\"text/javascript\">\n",
       "        window.PlotlyConfig = {MathJaxConfig: 'local'};\n",
       "        if (window.MathJax) {MathJax.Hub.Config({SVG: {font: \"STIX-Web\"}});}\n",
       "        if (typeof require !== 'undefined') {\n",
       "        require.undef(\"plotly\");\n",
       "        requirejs.config({\n",
       "            paths: {\n",
       "                'plotly': ['https://cdn.plot.ly/plotly-latest.min']\n",
       "            }\n",
       "        });\n",
       "        require(['plotly'], function(Plotly) {\n",
       "            window._Plotly = Plotly;\n",
       "        });\n",
       "        }\n",
       "        </script>\n",
       "        "
      ]
     },
     "metadata": {}
    },
    {
     "output_type": "display_data",
     "data": {
      "text/html": [
       "<div>                            <div id=\"3759c391-edaa-4b3a-9712-a9544c4bae7a\" class=\"plotly-graph-div\" style=\"height:525px; width:100%;\"></div>            <script type=\"text/javascript\">                require([\"plotly\"], function(Plotly) {                    window.PLOTLYENV=window.PLOTLYENV || {};                                    if (document.getElementById(\"3759c391-edaa-4b3a-9712-a9544c4bae7a\")) {                    Plotly.newPlot(                        \"3759c391-edaa-4b3a-9712-a9544c4bae7a\",                        [{\"alignmentgroup\": \"True\", \"hovertemplate\": \"Sub-sector=Grassland<br>GlobalShare=%{x}<br>_index=%{y}<extra></extra>\", \"legendgroup\": \"Grassland\", \"marker\": {\"color\": \"#636efa\"}, \"name\": \"Grassland\", \"offsetgroup\": \"Grassland\", \"orientation\": \"h\", \"showlegend\": true, \"textposition\": \"auto\", \"type\": \"bar\", \"x\": [0.1], \"xaxis\": \"x\", \"y\": [0], \"yaxis\": \"y\"}, {\"alignmentgroup\": \"True\", \"hovertemplate\": \"Sub-sector=Pipeline<br>GlobalShare=%{x}<br>_index=%{y}<extra></extra>\", \"legendgroup\": \"Pipeline\", \"marker\": {\"color\": \"#EF553B\"}, \"name\": \"Pipeline\", \"offsetgroup\": \"Pipeline\", \"orientation\": \"h\", \"showlegend\": true, \"textposition\": \"auto\", \"type\": \"bar\", \"x\": [0.3], \"xaxis\": \"x\", \"y\": [1], \"yaxis\": \"y\"}, {\"alignmentgroup\": \"True\", \"hovertemplate\": \"Sub-sector=Rail<br>GlobalShare=%{x}<br>_index=%{y}<extra></extra>\", \"legendgroup\": \"Rail\", \"marker\": {\"color\": \"#00cc96\"}, \"name\": \"Rail\", \"offsetgroup\": \"Rail\", \"orientation\": \"h\", \"showlegend\": true, \"textposition\": \"auto\", \"type\": \"bar\", \"x\": [0.4], \"xaxis\": \"x\", \"y\": [2], \"yaxis\": \"y\"}, {\"alignmentgroup\": \"True\", \"hovertemplate\": \"Sub-sector=Machinery<br>GlobalShare=%{x}<br>_index=%{y}<extra></extra>\", \"legendgroup\": \"Machinery\", \"marker\": {\"color\": \"#ab63fa\"}, \"name\": \"Machinery\", \"offsetgroup\": \"Machinery\", \"orientation\": \"h\", \"showlegend\": true, \"textposition\": \"auto\", \"type\": \"bar\", \"x\": [0.5], \"xaxis\": \"x\", \"y\": [3], \"yaxis\": \"y\"}, {\"alignmentgroup\": \"True\", \"hovertemplate\": \"Sub-sector=Paper pulp & printing<br>GlobalShare=%{x}<br>_index=%{y}<extra></extra>\", \"legendgroup\": \"Paper pulp & printing\", \"marker\": {\"color\": \"#FFA15A\"}, \"name\": \"Paper pulp & printing\", \"offsetgroup\": \"Paper pulp & printing\", \"orientation\": \"h\", \"showlegend\": true, \"textposition\": \"auto\", \"type\": \"bar\", \"x\": [0.6], \"xaxis\": \"x\", \"y\": [4], \"yaxis\": \"y\"}, {\"alignmentgroup\": \"True\", \"hovertemplate\": \"Sub-sector=Non-ferous metals<br>GlobalShare=%{x}<br>_index=%{y}<extra></extra>\", \"legendgroup\": \"Non-ferous metals\", \"marker\": {\"color\": \"#19d3f3\"}, \"name\": \"Non-ferous metals\", \"offsetgroup\": \"Non-ferous metals\", \"orientation\": \"h\", \"showlegend\": true, \"textposition\": \"auto\", \"type\": \"bar\", \"x\": [0.7], \"xaxis\": \"x\", \"y\": [5], \"yaxis\": \"y\"}, {\"alignmentgroup\": \"True\", \"hovertemplate\": \"Sub-sector=Food and tobacco<br>GlobalShare=%{x}<br>_index=%{y}<extra></extra>\", \"legendgroup\": \"Food and tobacco\", \"marker\": {\"color\": \"#FF6692\"}, \"name\": \"Food and tobacco\", \"offsetgroup\": \"Food and tobacco\", \"orientation\": \"h\", \"showlegend\": true, \"textposition\": \"auto\", \"type\": \"bar\", \"x\": [1.0], \"xaxis\": \"x\", \"y\": [6], \"yaxis\": \"y\"}, {\"alignmentgroup\": \"True\", \"hovertemplate\": \"Sub-sector=Wastewater<br>GlobalShare=%{x}<br>_index=%{y}<extra></extra>\", \"legendgroup\": \"Wastewater\", \"marker\": {\"color\": \"#B6E880\"}, \"name\": \"Wastewater\", \"offsetgroup\": \"Wastewater\", \"orientation\": \"h\", \"showlegend\": true, \"textposition\": \"auto\", \"type\": \"bar\", \"x\": [1.3], \"xaxis\": \"x\", \"y\": [7], \"yaxis\": \"y\"}, {\"alignmentgroup\": \"True\", \"hovertemplate\": \"Sub-sector=Rice Cultivation<br>GlobalShare=%{x}<br>_index=%{y}<extra></extra>\", \"legendgroup\": \"Rice Cultivation\", \"marker\": {\"color\": \"#FF97FF\"}, \"name\": \"Rice Cultivation\", \"offsetgroup\": \"Rice Cultivation\", \"orientation\": \"h\", \"showlegend\": true, \"textposition\": \"auto\", \"type\": \"bar\", \"x\": [1.3], \"xaxis\": \"x\", \"y\": [8], \"yaxis\": \"y\"}, {\"alignmentgroup\": \"True\", \"hovertemplate\": \"Sub-sector=Cropland<br>GlobalShare=%{x}<br>_index=%{y}<extra></extra>\", \"legendgroup\": \"Cropland\", \"marker\": {\"color\": \"#FECB52\"}, \"name\": \"Cropland\", \"offsetgroup\": \"Cropland\", \"orientation\": \"h\", \"showlegend\": true, \"textposition\": \"auto\", \"type\": \"bar\", \"x\": [1.4], \"xaxis\": \"x\", \"y\": [9], \"yaxis\": \"y\"}, {\"alignmentgroup\": \"True\", \"hovertemplate\": \"Sub-sector=Energy in Agri & Fishing<br>GlobalShare=%{x}<br>_index=%{y}<extra></extra>\", \"legendgroup\": \"Energy in Agri & Fishing\", \"marker\": {\"color\": \"#636efa\"}, \"name\": \"Energy in Agri & Fishing\", \"offsetgroup\": \"Energy in Agri & Fishing\", \"orientation\": \"h\", \"showlegend\": true, \"textposition\": \"auto\", \"type\": \"bar\", \"x\": [1.7], \"xaxis\": \"x\", \"y\": [10], \"yaxis\": \"y\"}, {\"alignmentgroup\": \"True\", \"hovertemplate\": \"Sub-sector=Ship<br>GlobalShare=%{x}<br>_index=%{y}<extra></extra>\", \"legendgroup\": \"Ship\", \"marker\": {\"color\": \"#EF553B\"}, \"name\": \"Ship\", \"offsetgroup\": \"Ship\", \"orientation\": \"h\", \"showlegend\": true, \"textposition\": \"auto\", \"type\": \"bar\", \"x\": [1.7], \"xaxis\": \"x\", \"y\": [11], \"yaxis\": \"y\"}, {\"alignmentgroup\": \"True\", \"hovertemplate\": \"Sub-sector=Aviation<br>GlobalShare=%{x}<br>_index=%{y}<extra></extra>\", \"legendgroup\": \"Aviation\", \"marker\": {\"color\": \"#00cc96\"}, \"name\": \"Aviation\", \"offsetgroup\": \"Aviation\", \"orientation\": \"h\", \"showlegend\": true, \"textposition\": \"auto\", \"type\": \"bar\", \"x\": [1.9], \"xaxis\": \"x\", \"y\": [12], \"yaxis\": \"y\"}, {\"alignmentgroup\": \"True\", \"hovertemplate\": \"Sub-sector=Landfills<br>GlobalShare=%{x}<br>_index=%{y}<extra></extra>\", \"legendgroup\": \"Landfills\", \"marker\": {\"color\": \"#ab63fa\"}, \"name\": \"Landfills\", \"offsetgroup\": \"Landfills\", \"orientation\": \"h\", \"showlegend\": true, \"textposition\": \"auto\", \"type\": \"bar\", \"x\": [1.9], \"xaxis\": \"x\", \"y\": [13], \"yaxis\": \"y\"}, {\"alignmentgroup\": \"True\", \"hovertemplate\": \"Sub-sector=Coal<br>GlobalShare=%{x}<br>_index=%{y}<extra></extra>\", \"legendgroup\": \"Coal\", \"marker\": {\"color\": \"#FFA15A\"}, \"name\": \"Coal\", \"offsetgroup\": \"Coal\", \"orientation\": \"h\", \"showlegend\": true, \"textposition\": \"auto\", \"type\": \"bar\", \"x\": [1.9], \"xaxis\": \"x\", \"y\": [14], \"yaxis\": \"y\"}, {\"alignmentgroup\": \"True\", \"hovertemplate\": \"Sub-sector=Chemical & petrochemical (industrial)<br>GlobalShare=%{x}<br>_index=%{y}<extra></extra>\", \"legendgroup\": \"Chemical & petrochemical (industrial)\", \"marker\": {\"color\": \"#19d3f3\"}, \"name\": \"Chemical & petrochemical (industrial)\", \"offsetgroup\": \"Chemical & petrochemical (industrial)\", \"orientation\": \"h\", \"showlegend\": true, \"textposition\": \"auto\", \"type\": \"bar\", \"x\": [2.2], \"xaxis\": \"x\", \"y\": [15], \"yaxis\": \"y\"}, {\"alignmentgroup\": \"True\", \"hovertemplate\": \"Sub-sector=Forest Land<br>GlobalShare=%{x}<br>_index=%{y}<extra></extra>\", \"legendgroup\": \"Forest Land\", \"marker\": {\"color\": \"#FF6692\"}, \"name\": \"Forest Land\", \"offsetgroup\": \"Forest Land\", \"orientation\": \"h\", \"showlegend\": true, \"textposition\": \"auto\", \"type\": \"bar\", \"x\": [2.2], \"xaxis\": \"x\", \"y\": [16], \"yaxis\": \"y\"}, {\"alignmentgroup\": \"True\", \"hovertemplate\": \"Sub-sector=Cement<br>GlobalShare=%{x}<br>_index=%{y}<extra></extra>\", \"legendgroup\": \"Cement\", \"marker\": {\"color\": \"#B6E880\"}, \"name\": \"Cement\", \"offsetgroup\": \"Cement\", \"orientation\": \"h\", \"showlegend\": true, \"textposition\": \"auto\", \"type\": \"bar\", \"x\": [3.0], \"xaxis\": \"x\", \"y\": [17], \"yaxis\": \"y\"}, {\"alignmentgroup\": \"True\", \"hovertemplate\": \"Sub-sector=Crop Burning<br>GlobalShare=%{x}<br>_index=%{y}<extra></extra>\", \"legendgroup\": \"Crop Burning\", \"marker\": {\"color\": \"#FF97FF\"}, \"name\": \"Crop Burning\", \"offsetgroup\": \"Crop Burning\", \"orientation\": \"h\", \"showlegend\": true, \"textposition\": \"auto\", \"type\": \"bar\", \"x\": [3.5], \"xaxis\": \"x\", \"y\": [18], \"yaxis\": \"y\"}, {\"alignmentgroup\": \"True\", \"hovertemplate\": \"Sub-sector=Chemical & petrochemical (energy)<br>GlobalShare=%{x}<br>_index=%{y}<extra></extra>\", \"legendgroup\": \"Chemical & petrochemical (energy)\", \"marker\": {\"color\": \"#FECB52\"}, \"name\": \"Chemical & petrochemical (energy)\", \"offsetgroup\": \"Chemical & petrochemical (energy)\", \"orientation\": \"h\", \"showlegend\": true, \"textposition\": \"auto\", \"type\": \"bar\", \"x\": [3.6], \"xaxis\": \"x\", \"y\": [19], \"yaxis\": \"y\"}, {\"alignmentgroup\": \"True\", \"hovertemplate\": \"Sub-sector=Oil & Natural Gas<br>GlobalShare=%{x}<br>_index=%{y}<extra></extra>\", \"legendgroup\": \"Oil & Natural Gas\", \"marker\": {\"color\": \"#636efa\"}, \"name\": \"Oil & Natural Gas\", \"offsetgroup\": \"Oil & Natural Gas\", \"orientation\": \"h\", \"showlegend\": true, \"textposition\": \"auto\", \"type\": \"bar\", \"x\": [3.9], \"xaxis\": \"x\", \"y\": [20], \"yaxis\": \"y\"}, {\"alignmentgroup\": \"True\", \"hovertemplate\": \"Sub-sector=Agricultural Soils<br>GlobalShare=%{x}<br>_index=%{y}<extra></extra>\", \"legendgroup\": \"Agricultural Soils\", \"marker\": {\"color\": \"#EF553B\"}, \"name\": \"Agricultural Soils\", \"offsetgroup\": \"Agricultural Soils\", \"orientation\": \"h\", \"showlegend\": true, \"textposition\": \"auto\", \"type\": \"bar\", \"x\": [4.1], \"xaxis\": \"x\", \"y\": [21], \"yaxis\": \"y\"}, {\"alignmentgroup\": \"True\", \"hovertemplate\": \"Sub-sector=Livestock & Manure<br>GlobalShare=%{x}<br>_index=%{y}<extra></extra>\", \"legendgroup\": \"Livestock & Manure\", \"marker\": {\"color\": \"#00cc96\"}, \"name\": \"Livestock & Manure\", \"offsetgroup\": \"Livestock & Manure\", \"orientation\": \"h\", \"showlegend\": true, \"textposition\": \"auto\", \"type\": \"bar\", \"x\": [5.8], \"xaxis\": \"x\", \"y\": [22], \"yaxis\": \"y\"}, {\"alignmentgroup\": \"True\", \"hovertemplate\": \"Sub-sector=Commercial<br>GlobalShare=%{x}<br>_index=%{y}<extra></extra>\", \"legendgroup\": \"Commercial\", \"marker\": {\"color\": \"#ab63fa\"}, \"name\": \"Commercial\", \"offsetgroup\": \"Commercial\", \"orientation\": \"h\", \"showlegend\": true, \"textposition\": \"auto\", \"type\": \"bar\", \"x\": [6.6], \"xaxis\": \"x\", \"y\": [23], \"yaxis\": \"y\"}, {\"alignmentgroup\": \"True\", \"hovertemplate\": \"Sub-sector=Iron & Steel<br>GlobalShare=%{x}<br>_index=%{y}<extra></extra>\", \"legendgroup\": \"Iron & Steel\", \"marker\": {\"color\": \"#FFA15A\"}, \"name\": \"Iron & Steel\", \"offsetgroup\": \"Iron & Steel\", \"orientation\": \"h\", \"showlegend\": true, \"textposition\": \"auto\", \"type\": \"bar\", \"x\": [7.2], \"xaxis\": \"x\", \"y\": [24], \"yaxis\": \"y\"}, {\"alignmentgroup\": \"True\", \"hovertemplate\": \"Sub-sector=Unallocated fuel combustion<br>GlobalShare=%{x}<br>_index=%{y}<extra></extra>\", \"legendgroup\": \"Unallocated fuel combustion\", \"marker\": {\"color\": \"#19d3f3\"}, \"name\": \"Unallocated fuel combustion\", \"offsetgroup\": \"Unallocated fuel combustion\", \"orientation\": \"h\", \"showlegend\": true, \"textposition\": \"auto\", \"type\": \"bar\", \"x\": [7.8], \"xaxis\": \"x\", \"y\": [25], \"yaxis\": \"y\"}, {\"alignmentgroup\": \"True\", \"hovertemplate\": \"Sub-sector=Other industry<br>GlobalShare=%{x}<br>_index=%{y}<extra></extra>\", \"legendgroup\": \"Other industry\", \"marker\": {\"color\": \"#FF6692\"}, \"name\": \"Other industry\", \"offsetgroup\": \"Other industry\", \"orientation\": \"h\", \"showlegend\": true, \"textposition\": \"auto\", \"type\": \"bar\", \"x\": [10.6], \"xaxis\": \"x\", \"y\": [26], \"yaxis\": \"y\"}, {\"alignmentgroup\": \"True\", \"hovertemplate\": \"Sub-sector=Residential<br>GlobalShare=%{x}<br>_index=%{y}<extra></extra>\", \"legendgroup\": \"Residential\", \"marker\": {\"color\": \"#B6E880\"}, \"name\": \"Residential\", \"offsetgroup\": \"Residential\", \"orientation\": \"h\", \"showlegend\": true, \"textposition\": \"auto\", \"type\": \"bar\", \"x\": [10.9], \"xaxis\": \"x\", \"y\": [27], \"yaxis\": \"y\"}, {\"alignmentgroup\": \"True\", \"hovertemplate\": \"Sub-sector=Road<br>GlobalShare=%{x}<br>_index=%{y}<extra></extra>\", \"legendgroup\": \"Road\", \"marker\": {\"color\": \"#FF97FF\"}, \"name\": \"Road\", \"offsetgroup\": \"Road\", \"orientation\": \"h\", \"showlegend\": true, \"textposition\": \"auto\", \"type\": \"bar\", \"x\": [11.9], \"xaxis\": \"x\", \"y\": [28], \"yaxis\": \"y\"}],                        {\"barmode\": \"relative\", \"legend\": {\"title\": {\"text\": \"Sub-sector\"}, \"tracegroupgap\": 0}, \"template\": {\"data\": {\"bar\": [{\"error_x\": {\"color\": \"#f2f5fa\"}, \"error_y\": {\"color\": \"#f2f5fa\"}, \"marker\": {\"line\": {\"color\": \"rgb(17,17,17)\", \"width\": 0.5}}, \"type\": \"bar\"}], \"barpolar\": [{\"marker\": {\"line\": {\"color\": \"rgb(17,17,17)\", \"width\": 0.5}}, \"type\": \"barpolar\"}], \"carpet\": [{\"aaxis\": {\"endlinecolor\": \"#A2B1C6\", \"gridcolor\": \"#506784\", \"linecolor\": \"#506784\", \"minorgridcolor\": \"#506784\", \"startlinecolor\": \"#A2B1C6\"}, \"baxis\": {\"endlinecolor\": \"#A2B1C6\", \"gridcolor\": \"#506784\", \"linecolor\": \"#506784\", \"minorgridcolor\": \"#506784\", \"startlinecolor\": \"#A2B1C6\"}, \"type\": \"carpet\"}], \"choropleth\": [{\"colorbar\": {\"outlinewidth\": 0, \"ticks\": \"\"}, \"type\": \"choropleth\"}], \"contour\": [{\"colorbar\": {\"outlinewidth\": 0, \"ticks\": \"\"}, \"colorscale\": [[0.0, \"#0d0887\"], [0.1111111111111111, \"#46039f\"], [0.2222222222222222, \"#7201a8\"], [0.3333333333333333, \"#9c179e\"], [0.4444444444444444, \"#bd3786\"], [0.5555555555555556, \"#d8576b\"], [0.6666666666666666, \"#ed7953\"], [0.7777777777777778, \"#fb9f3a\"], [0.8888888888888888, \"#fdca26\"], [1.0, \"#f0f921\"]], \"type\": \"contour\"}], \"contourcarpet\": [{\"colorbar\": {\"outlinewidth\": 0, \"ticks\": \"\"}, \"type\": \"contourcarpet\"}], \"heatmap\": [{\"colorbar\": {\"outlinewidth\": 0, \"ticks\": \"\"}, \"colorscale\": [[0.0, \"#0d0887\"], [0.1111111111111111, \"#46039f\"], [0.2222222222222222, \"#7201a8\"], [0.3333333333333333, \"#9c179e\"], [0.4444444444444444, \"#bd3786\"], [0.5555555555555556, \"#d8576b\"], [0.6666666666666666, \"#ed7953\"], [0.7777777777777778, \"#fb9f3a\"], [0.8888888888888888, \"#fdca26\"], [1.0, \"#f0f921\"]], \"type\": \"heatmap\"}], \"heatmapgl\": [{\"colorbar\": {\"outlinewidth\": 0, \"ticks\": \"\"}, \"colorscale\": [[0.0, \"#0d0887\"], [0.1111111111111111, \"#46039f\"], [0.2222222222222222, \"#7201a8\"], [0.3333333333333333, \"#9c179e\"], [0.4444444444444444, \"#bd3786\"], [0.5555555555555556, \"#d8576b\"], [0.6666666666666666, \"#ed7953\"], [0.7777777777777778, \"#fb9f3a\"], [0.8888888888888888, \"#fdca26\"], [1.0, \"#f0f921\"]], \"type\": \"heatmapgl\"}], \"histogram\": [{\"marker\": {\"colorbar\": {\"outlinewidth\": 0, \"ticks\": \"\"}}, \"type\": \"histogram\"}], \"histogram2d\": [{\"colorbar\": {\"outlinewidth\": 0, \"ticks\": \"\"}, \"colorscale\": [[0.0, \"#0d0887\"], [0.1111111111111111, \"#46039f\"], [0.2222222222222222, \"#7201a8\"], [0.3333333333333333, \"#9c179e\"], [0.4444444444444444, \"#bd3786\"], [0.5555555555555556, \"#d8576b\"], [0.6666666666666666, \"#ed7953\"], [0.7777777777777778, \"#fb9f3a\"], [0.8888888888888888, \"#fdca26\"], [1.0, \"#f0f921\"]], \"type\": \"histogram2d\"}], \"histogram2dcontour\": [{\"colorbar\": {\"outlinewidth\": 0, \"ticks\": \"\"}, \"colorscale\": [[0.0, \"#0d0887\"], [0.1111111111111111, \"#46039f\"], [0.2222222222222222, \"#7201a8\"], [0.3333333333333333, \"#9c179e\"], [0.4444444444444444, \"#bd3786\"], [0.5555555555555556, \"#d8576b\"], [0.6666666666666666, \"#ed7953\"], [0.7777777777777778, \"#fb9f3a\"], [0.8888888888888888, \"#fdca26\"], [1.0, \"#f0f921\"]], \"type\": \"histogram2dcontour\"}], \"mesh3d\": [{\"colorbar\": {\"outlinewidth\": 0, \"ticks\": \"\"}, \"type\": \"mesh3d\"}], \"parcoords\": [{\"line\": {\"colorbar\": {\"outlinewidth\": 0, \"ticks\": \"\"}}, \"type\": \"parcoords\"}], \"pie\": [{\"automargin\": true, \"type\": \"pie\"}], \"scatter\": [{\"marker\": {\"line\": {\"color\": \"#283442\"}}, \"type\": \"scatter\"}], \"scatter3d\": [{\"line\": {\"colorbar\": {\"outlinewidth\": 0, \"ticks\": \"\"}}, \"marker\": {\"colorbar\": {\"outlinewidth\": 0, \"ticks\": \"\"}}, \"type\": \"scatter3d\"}], \"scattercarpet\": [{\"marker\": {\"colorbar\": {\"outlinewidth\": 0, \"ticks\": \"\"}}, \"type\": \"scattercarpet\"}], \"scattergeo\": [{\"marker\": {\"colorbar\": {\"outlinewidth\": 0, \"ticks\": \"\"}}, \"type\": \"scattergeo\"}], \"scattergl\": [{\"marker\": {\"line\": {\"color\": \"#283442\"}}, \"type\": \"scattergl\"}], \"scattermapbox\": [{\"marker\": {\"colorbar\": {\"outlinewidth\": 0, \"ticks\": \"\"}}, \"type\": \"scattermapbox\"}], \"scatterpolar\": [{\"marker\": {\"colorbar\": {\"outlinewidth\": 0, \"ticks\": \"\"}}, \"type\": \"scatterpolar\"}], \"scatterpolargl\": [{\"marker\": {\"colorbar\": {\"outlinewidth\": 0, \"ticks\": \"\"}}, \"type\": \"scatterpolargl\"}], \"scatterternary\": [{\"marker\": {\"colorbar\": {\"outlinewidth\": 0, \"ticks\": \"\"}}, \"type\": \"scatterternary\"}], \"surface\": [{\"colorbar\": {\"outlinewidth\": 0, \"ticks\": \"\"}, \"colorscale\": [[0.0, \"#0d0887\"], [0.1111111111111111, \"#46039f\"], [0.2222222222222222, \"#7201a8\"], [0.3333333333333333, \"#9c179e\"], [0.4444444444444444, \"#bd3786\"], [0.5555555555555556, \"#d8576b\"], [0.6666666666666666, \"#ed7953\"], [0.7777777777777778, \"#fb9f3a\"], [0.8888888888888888, \"#fdca26\"], [1.0, \"#f0f921\"]], \"type\": \"surface\"}], \"table\": [{\"cells\": {\"fill\": {\"color\": \"#506784\"}, \"line\": {\"color\": \"rgb(17,17,17)\"}}, \"header\": {\"fill\": {\"color\": \"#2a3f5f\"}, \"line\": {\"color\": \"rgb(17,17,17)\"}}, \"type\": \"table\"}]}, \"layout\": {\"annotationdefaults\": {\"arrowcolor\": \"#f2f5fa\", \"arrowhead\": 0, \"arrowwidth\": 1}, \"autotypenumbers\": \"strict\", \"coloraxis\": {\"colorbar\": {\"outlinewidth\": 0, \"ticks\": \"\"}}, \"colorscale\": {\"diverging\": [[0, \"#8e0152\"], [0.1, \"#c51b7d\"], [0.2, \"#de77ae\"], [0.3, \"#f1b6da\"], [0.4, \"#fde0ef\"], [0.5, \"#f7f7f7\"], [0.6, \"#e6f5d0\"], [0.7, \"#b8e186\"], [0.8, \"#7fbc41\"], [0.9, \"#4d9221\"], [1, \"#276419\"]], \"sequential\": [[0.0, \"#0d0887\"], [0.1111111111111111, \"#46039f\"], [0.2222222222222222, \"#7201a8\"], [0.3333333333333333, \"#9c179e\"], [0.4444444444444444, \"#bd3786\"], [0.5555555555555556, \"#d8576b\"], [0.6666666666666666, \"#ed7953\"], [0.7777777777777778, \"#fb9f3a\"], [0.8888888888888888, \"#fdca26\"], [1.0, \"#f0f921\"]], \"sequentialminus\": [[0.0, \"#0d0887\"], [0.1111111111111111, \"#46039f\"], [0.2222222222222222, \"#7201a8\"], [0.3333333333333333, \"#9c179e\"], [0.4444444444444444, \"#bd3786\"], [0.5555555555555556, \"#d8576b\"], [0.6666666666666666, \"#ed7953\"], [0.7777777777777778, \"#fb9f3a\"], [0.8888888888888888, \"#fdca26\"], [1.0, \"#f0f921\"]]}, \"colorway\": [\"#636efa\", \"#EF553B\", \"#00cc96\", \"#ab63fa\", \"#FFA15A\", \"#19d3f3\", \"#FF6692\", \"#B6E880\", \"#FF97FF\", \"#FECB52\"], \"font\": {\"color\": \"#f2f5fa\"}, \"geo\": {\"bgcolor\": \"rgb(17,17,17)\", \"lakecolor\": \"rgb(17,17,17)\", \"landcolor\": \"rgb(17,17,17)\", \"showlakes\": true, \"showland\": true, \"subunitcolor\": \"#506784\"}, \"hoverlabel\": {\"align\": \"left\"}, \"hovermode\": \"closest\", \"mapbox\": {\"style\": \"dark\"}, \"paper_bgcolor\": \"rgb(17,17,17)\", \"plot_bgcolor\": \"rgb(17,17,17)\", \"polar\": {\"angularaxis\": {\"gridcolor\": \"#506784\", \"linecolor\": \"#506784\", \"ticks\": \"\"}, \"bgcolor\": \"rgb(17,17,17)\", \"radialaxis\": {\"gridcolor\": \"#506784\", \"linecolor\": \"#506784\", \"ticks\": \"\"}}, \"scene\": {\"xaxis\": {\"backgroundcolor\": \"rgb(17,17,17)\", \"gridcolor\": \"#506784\", \"gridwidth\": 2, \"linecolor\": \"#506784\", \"showbackground\": true, \"ticks\": \"\", \"zerolinecolor\": \"#C8D4E3\"}, \"yaxis\": {\"backgroundcolor\": \"rgb(17,17,17)\", \"gridcolor\": \"#506784\", \"gridwidth\": 2, \"linecolor\": \"#506784\", \"showbackground\": true, \"ticks\": \"\", \"zerolinecolor\": \"#C8D4E3\"}, \"zaxis\": {\"backgroundcolor\": \"rgb(17,17,17)\", \"gridcolor\": \"#506784\", \"gridwidth\": 2, \"linecolor\": \"#506784\", \"showbackground\": true, \"ticks\": \"\", \"zerolinecolor\": \"#C8D4E3\"}}, \"shapedefaults\": {\"line\": {\"color\": \"#f2f5fa\"}}, \"sliderdefaults\": {\"bgcolor\": \"#C8D4E3\", \"bordercolor\": \"rgb(17,17,17)\", \"borderwidth\": 1, \"tickwidth\": 0}, \"ternary\": {\"aaxis\": {\"gridcolor\": \"#506784\", \"linecolor\": \"#506784\", \"ticks\": \"\"}, \"baxis\": {\"gridcolor\": \"#506784\", \"linecolor\": \"#506784\", \"ticks\": \"\"}, \"bgcolor\": \"rgb(17,17,17)\", \"caxis\": {\"gridcolor\": \"#506784\", \"linecolor\": \"#506784\", \"ticks\": \"\"}}, \"title\": {\"x\": 0.05}, \"updatemenudefaults\": {\"bgcolor\": \"#506784\", \"borderwidth\": 0}, \"xaxis\": {\"automargin\": true, \"gridcolor\": \"#283442\", \"linecolor\": \"#506784\", \"ticks\": \"\", \"title\": {\"standoff\": 15}, \"zerolinecolor\": \"#283442\", \"zerolinewidth\": 2}, \"yaxis\": {\"automargin\": true, \"gridcolor\": \"#283442\", \"linecolor\": \"#506784\", \"ticks\": \"\", \"title\": {\"standoff\": 15}, \"zerolinecolor\": \"#283442\", \"zerolinewidth\": 2}}}, \"title\": {\"text\": \"Distrbution of GlobalShare\"}, \"xaxis\": {\"anchor\": \"y\", \"domain\": [0.0, 1.0], \"title\": {\"text\": \"GlobalShare\"}}, \"yaxis\": {\"anchor\": \"x\", \"domain\": [0.0, 1.0], \"title\": {\"text\": \"_index\"}}},                        {\"responsive\": true}                    ).then(function(){\n",
       "                            \n",
       "var gd = document.getElementById('3759c391-edaa-4b3a-9712-a9544c4bae7a');\n",
       "var x = new MutationObserver(function (mutations, observer) {{\n",
       "        var display = window.getComputedStyle(gd).display;\n",
       "        if (!display || display === 'none') {{\n",
       "            console.log([gd, 'removed!']);\n",
       "            Plotly.purge(gd);\n",
       "            observer.disconnect();\n",
       "        }}\n",
       "}});\n",
       "\n",
       "// Listen for the removal of the full notebook cells\n",
       "var notebookContainer = gd.closest('#notebook-container');\n",
       "if (notebookContainer) {{\n",
       "    x.observe(notebookContainer, {childList: true});\n",
       "}}\n",
       "\n",
       "// Listen for the clearing of the current output cell\n",
       "var outputEl = gd.closest('.output');\n",
       "if (outputEl) {{\n",
       "    x.observe(outputEl, {childList: true});\n",
       "}}\n",
       "\n",
       "                        })                };                });            </script>        </div>"
      ]
     },
     "metadata": {}
    }
   ],
   "metadata": {
    "execution": {
     "iopub.execute_input": "2021-07-04T08:40:47.119928Z",
     "iopub.status.busy": "2021-07-04T08:40:47.118922Z",
     "iopub.status.idle": "2021-07-04T08:40:48.394703Z",
     "shell.execute_reply": "2021-07-04T08:40:48.395134Z",
     "shell.execute_reply.started": "2021-07-04T08:35:39.578859Z"
    },
    "papermill": {
     "duration": 1.305756,
     "end_time": "2021-07-04T08:40:48.395333",
     "exception": false,
     "start_time": "2021-07-04T08:40:47.089577",
     "status": "completed"
    },
    "tags": []
   }
  },
  {
   "cell_type": "code",
   "execution_count": 10,
   "source": [
    "plt.figure(figsize=(12, 6))\n",
    "sns.countplot(y=\"GlobalShare\", data=sorted_dataset, palette='husl');"
   ],
   "outputs": [
    {
     "output_type": "display_data",
     "data": {
      "text/plain": [
       "<Figure size 864x432 with 1 Axes>"
      ],
      "image/png": "[encoded data removed]"
     },
     "metadata": {}
    }
   ],
   "metadata": {
    "execution": {
     "iopub.execute_input": "2021-07-04T08:40:48.454022Z",
     "iopub.status.busy": "2021-07-04T08:40:48.453016Z",
     "iopub.status.idle": "2021-07-04T08:40:48.777122Z",
     "shell.execute_reply": "2021-07-04T08:40:48.776429Z",
     "shell.execute_reply.started": "2021-07-04T08:35:40.964716Z"
    },
    "papermill": {
     "duration": 0.354478,
     "end_time": "2021-07-04T08:40:48.777298",
     "exception": false,
     "start_time": "2021-07-04T08:40:48.422820",
     "status": "completed"
    },
    "tags": []
   }
  },
  {
   "cell_type": "code",
   "execution_count": 11,
   "source": [
    "fig = px.histogram(sorted_dataset, x=\"GlobalShare\" ,marginal=\"rug\",color= 'Sub-sector',\n",
    "                   hover_data=dataset.columns, template = 'plotly_dark', title = 'Distribution of GlobalShare represented by SubSector')\n",
    "fig.show()"
   ],
   "outputs": [
    {
     "output_type": "display_data",
     "data": {
      "text/html": [
       "<div>                            <div id=\"441e1062-8ca9-43f7-a941-d5b8aabb0501\" class=\"plotly-graph-div\" style=\"height:525px; width:100%;\"></div>            <script type=\"text/javascript\">                require([\"plotly\"], function(Plotly) {                    window.PLOTLYENV=window.PLOTLYENV || {};                                    if (document.getElementById(\"441e1062-8ca9-43f7-a941-d5b8aabb0501\")) {                    Plotly.newPlot(                        \"441e1062-8ca9-43f7-a941-d5b8aabb0501\",                        [{\"alignmentgroup\": \"True\", \"bingroup\": \"x\", \"hovertemplate\": \"Sub-sector=Grassland<br>GlobalShare=%{x}<br>count=%{y}<extra></extra>\", \"legendgroup\": \"Grassland\", \"marker\": {\"color\": \"#636efa\"}, \"name\": \"Grassland\", \"offsetgroup\": \"Grassland\", \"orientation\": \"v\", \"showlegend\": true, \"type\": \"histogram\", \"x\": [0.1], \"xaxis\": \"x\", \"yaxis\": \"y\"}, {\"alignmentgroup\": \"True\", \"boxpoints\": \"all\", \"customdata\": [[\"Grassland\"]], \"fillcolor\": \"rgba(255,255,255,0)\", \"hoveron\": \"points\", \"hovertemplate\": \"Sub-sector=%{customdata[0]}<br>GlobalShare=%{x}<extra></extra>\", \"jitter\": 0, \"legendgroup\": \"Grassland\", \"line\": {\"color\": \"rgba(255,255,255,0)\"}, \"marker\": {\"color\": \"#636efa\", \"symbol\": \"line-ns-open\"}, \"name\": \"Grassland\", \"offsetgroup\": \"Grassland\", \"showlegend\": false, \"type\": \"box\", \"x\": [0.1], \"xaxis\": \"x2\", \"yaxis\": \"y2\"}, {\"alignmentgroup\": \"True\", \"bingroup\": \"x\", \"hovertemplate\": \"Sub-sector=Pipeline<br>GlobalShare=%{x}<br>count=%{y}<extra></extra>\", \"legendgroup\": \"Pipeline\", \"marker\": {\"color\": \"#EF553B\"}, \"name\": \"Pipeline\", \"offsetgroup\": \"Pipeline\", \"orientation\": \"v\", \"showlegend\": true, \"type\": \"histogram\", \"x\": [0.3], \"xaxis\": \"x\", \"yaxis\": \"y\"}, {\"alignmentgroup\": \"True\", \"boxpoints\": \"all\", \"customdata\": [[\"Pipeline\"]], \"fillcolor\": \"rgba(255,255,255,0)\", \"hoveron\": \"points\", \"hovertemplate\": \"Sub-sector=%{customdata[0]}<br>GlobalShare=%{x}<extra></extra>\", \"jitter\": 0, \"legendgroup\": \"Pipeline\", \"line\": {\"color\": \"rgba(255,255,255,0)\"}, \"marker\": {\"color\": \"#EF553B\", \"symbol\": \"line-ns-open\"}, \"name\": \"Pipeline\", \"offsetgroup\": \"Pipeline\", \"showlegend\": false, \"type\": \"box\", \"x\": [0.3], \"xaxis\": \"x2\", \"yaxis\": \"y2\"}, {\"alignmentgroup\": \"True\", \"bingroup\": \"x\", \"hovertemplate\": \"Sub-sector=Rail<br>GlobalShare=%{x}<br>count=%{y}<extra></extra>\", \"legendgroup\": \"Rail\", \"marker\": {\"color\": \"#00cc96\"}, \"name\": \"Rail\", \"offsetgroup\": \"Rail\", \"orientation\": \"v\", \"showlegend\": true, \"type\": \"histogram\", \"x\": [0.4], \"xaxis\": \"x\", \"yaxis\": \"y\"}, {\"alignmentgroup\": \"True\", \"boxpoints\": \"all\", \"customdata\": [[\"Rail\"]], \"fillcolor\": \"rgba(255,255,255,0)\", \"hoveron\": \"points\", \"hovertemplate\": \"Sub-sector=%{customdata[0]}<br>GlobalShare=%{x}<extra></extra>\", \"jitter\": 0, \"legendgroup\": \"Rail\", \"line\": {\"color\": \"rgba(255,255,255,0)\"}, \"marker\": {\"color\": \"#00cc96\", \"symbol\": \"line-ns-open\"}, \"name\": \"Rail\", \"offsetgroup\": \"Rail\", \"showlegend\": false, \"type\": \"box\", \"x\": [0.4], \"xaxis\": \"x2\", \"yaxis\": \"y2\"}, {\"alignmentgroup\": \"True\", \"bingroup\": \"x\", \"hovertemplate\": \"Sub-sector=Machinery<br>GlobalShare=%{x}<br>count=%{y}<extra></extra>\", \"legendgroup\": \"Machinery\", \"marker\": {\"color\": \"#ab63fa\"}, \"name\": \"Machinery\", \"offsetgroup\": \"Machinery\", \"orientation\": \"v\", \"showlegend\": true, \"type\": \"histogram\", \"x\": [0.5], \"xaxis\": \"x\", \"yaxis\": \"y\"}, {\"alignmentgroup\": \"True\", \"boxpoints\": \"all\", \"customdata\": [[\"Machinery\"]], \"fillcolor\": \"rgba(255,255,255,0)\", \"hoveron\": \"points\", \"hovertemplate\": \"Sub-sector=%{customdata[0]}<br>GlobalShare=%{x}<extra></extra>\", \"jitter\": 0, \"legendgroup\": \"Machinery\", \"line\": {\"color\": \"rgba(255,255,255,0)\"}, \"marker\": {\"color\": \"#ab63fa\", \"symbol\": \"line-ns-open\"}, \"name\": \"Machinery\", \"offsetgroup\": \"Machinery\", \"showlegend\": false, \"type\": \"box\", \"x\": [0.5], \"xaxis\": \"x2\", \"yaxis\": \"y2\"}, {\"alignmentgroup\": \"True\", \"bingroup\": \"x\", \"hovertemplate\": \"Sub-sector=Paper pulp & printing<br>GlobalShare=%{x}<br>count=%{y}<extra></extra>\", \"legendgroup\": \"Paper pulp & printing\", \"marker\": {\"color\": \"#FFA15A\"}, \"name\": \"Paper pulp & printing\", \"offsetgroup\": \"Paper pulp & printing\", \"orientation\": \"v\", \"showlegend\": true, \"type\": \"histogram\", \"x\": [0.6], \"xaxis\": \"x\", \"yaxis\": \"y\"}, {\"alignmentgroup\": \"True\", \"boxpoints\": \"all\", \"customdata\": [[\"Paper pulp & printing\"]], \"fillcolor\": \"rgba(255,255,255,0)\", \"hoveron\": \"points\", \"hovertemplate\": \"Sub-sector=%{customdata[0]}<br>GlobalShare=%{x}<extra></extra>\", \"jitter\": 0, \"legendgroup\": \"Paper pulp & printing\", \"line\": {\"color\": \"rgba(255,255,255,0)\"}, \"marker\": {\"color\": \"#FFA15A\", \"symbol\": \"line-ns-open\"}, \"name\": \"Paper pulp & printing\", \"offsetgroup\": \"Paper pulp & printing\", \"showlegend\": false, \"type\": \"box\", \"x\": [0.6], \"xaxis\": \"x2\", \"yaxis\": \"y2\"}, {\"alignmentgroup\": \"True\", \"bingroup\": \"x\", \"hovertemplate\": \"Sub-sector=Non-ferous metals<br>GlobalShare=%{x}<br>count=%{y}<extra></extra>\", \"legendgroup\": \"Non-ferous metals\", \"marker\": {\"color\": \"#19d3f3\"}, \"name\": \"Non-ferous metals\", \"offsetgroup\": \"Non-ferous metals\", \"orientation\": \"v\", \"showlegend\": true, \"type\": \"histogram\", \"x\": [0.7], \"xaxis\": \"x\", \"yaxis\": \"y\"}, {\"alignmentgroup\": \"True\", \"boxpoints\": \"all\", \"customdata\": [[\"Non-ferous metals\"]], \"fillcolor\": \"rgba(255,255,255,0)\", \"hoveron\": \"points\", \"hovertemplate\": \"Sub-sector=%{customdata[0]}<br>GlobalShare=%{x}<extra></extra>\", \"jitter\": 0, \"legendgroup\": \"Non-ferous metals\", \"line\": {\"color\": \"rgba(255,255,255,0)\"}, \"marker\": {\"color\": \"#19d3f3\", \"symbol\": \"line-ns-open\"}, \"name\": \"Non-ferous metals\", \"offsetgroup\": \"Non-ferous metals\", \"showlegend\": false, \"type\": \"box\", \"x\": [0.7], \"xaxis\": \"x2\", \"yaxis\": \"y2\"}, {\"alignmentgroup\": \"True\", \"bingroup\": \"x\", \"hovertemplate\": \"Sub-sector=Food and tobacco<br>GlobalShare=%{x}<br>count=%{y}<extra></extra>\", \"legendgroup\": \"Food and tobacco\", \"marker\": {\"color\": \"#FF6692\"}, \"name\": \"Food and tobacco\", \"offsetgroup\": \"Food and tobacco\", \"orientation\": \"v\", \"showlegend\": true, \"type\": \"histogram\", \"x\": [1.0], \"xaxis\": \"x\", \"yaxis\": \"y\"}, {\"alignmentgroup\": \"True\", \"boxpoints\": \"all\", \"customdata\": [[\"Food and tobacco\"]], \"fillcolor\": \"rgba(255,255,255,0)\", \"hoveron\": \"points\", \"hovertemplate\": \"Sub-sector=%{customdata[0]}<br>GlobalShare=%{x}<extra></extra>\", \"jitter\": 0, \"legendgroup\": \"Food and tobacco\", \"line\": {\"color\": \"rgba(255,255,255,0)\"}, \"marker\": {\"color\": \"#FF6692\", \"symbol\": \"line-ns-open\"}, \"name\": \"Food and tobacco\", \"offsetgroup\": \"Food and tobacco\", \"showlegend\": false, \"type\": \"box\", \"x\": [1.0], \"xaxis\": \"x2\", \"yaxis\": \"y2\"}, {\"alignmentgroup\": \"True\", \"bingroup\": \"x\", \"hovertemplate\": \"Sub-sector=Wastewater<br>GlobalShare=%{x}<br>count=%{y}<extra></extra>\", \"legendgroup\": \"Wastewater\", \"marker\": {\"color\": \"#B6E880\"}, \"name\": \"Wastewater\", \"offsetgroup\": \"Wastewater\", \"orientation\": \"v\", \"showlegend\": true, \"type\": \"histogram\", \"x\": [1.3], \"xaxis\": \"x\", \"yaxis\": \"y\"}, {\"alignmentgroup\": \"True\", \"boxpoints\": \"all\", \"customdata\": [[\"Wastewater\"]], \"fillcolor\": \"rgba(255,255,255,0)\", \"hoveron\": \"points\", \"hovertemplate\": \"Sub-sector=%{customdata[0]}<br>GlobalShare=%{x}<extra></extra>\", \"jitter\": 0, \"legendgroup\": \"Wastewater\", \"line\": {\"color\": \"rgba(255,255,255,0)\"}, \"marker\": {\"color\": \"#B6E880\", \"symbol\": \"line-ns-open\"}, \"name\": \"Wastewater\", \"offsetgroup\": \"Wastewater\", \"showlegend\": false, \"type\": \"box\", \"x\": [1.3], \"xaxis\": \"x2\", \"yaxis\": \"y2\"}, {\"alignmentgroup\": \"True\", \"bingroup\": \"x\", \"hovertemplate\": \"Sub-sector=Rice Cultivation<br>GlobalShare=%{x}<br>count=%{y}<extra></extra>\", \"legendgroup\": \"Rice Cultivation\", \"marker\": {\"color\": \"#FF97FF\"}, \"name\": \"Rice Cultivation\", \"offsetgroup\": \"Rice Cultivation\", \"orientation\": \"v\", \"showlegend\": true, \"type\": \"histogram\", \"x\": [1.3], \"xaxis\": \"x\", \"yaxis\": \"y\"}, {\"alignmentgroup\": \"True\", \"boxpoints\": \"all\", \"customdata\": [[\"Rice Cultivation\"]], \"fillcolor\": \"rgba(255,255,255,0)\", \"hoveron\": \"points\", \"hovertemplate\": \"Sub-sector=%{customdata[0]}<br>GlobalShare=%{x}<extra></extra>\", \"jitter\": 0, \"legendgroup\": \"Rice Cultivation\", \"line\": {\"color\": \"rgba(255,255,255,0)\"}, \"marker\": {\"color\": \"#FF97FF\", \"symbol\": \"line-ns-open\"}, \"name\": \"Rice Cultivation\", \"offsetgroup\": \"Rice Cultivation\", \"showlegend\": false, \"type\": \"box\", \"x\": [1.3], \"xaxis\": \"x2\", \"yaxis\": \"y2\"}, {\"alignmentgroup\": \"True\", \"bingroup\": \"x\", \"hovertemplate\": \"Sub-sector=Cropland<br>GlobalShare=%{x}<br>count=%{y}<extra></extra>\", \"legendgroup\": \"Cropland\", \"marker\": {\"color\": \"#FECB52\"}, \"name\": \"Cropland\", \"offsetgroup\": \"Cropland\", \"orientation\": \"v\", \"showlegend\": true, \"type\": \"histogram\", \"x\": [1.4], \"xaxis\": \"x\", \"yaxis\": \"y\"}, {\"alignmentgroup\": \"True\", \"boxpoints\": \"all\", \"customdata\": [[\"Cropland\"]], \"fillcolor\": \"rgba(255,255,255,0)\", \"hoveron\": \"points\", \"hovertemplate\": \"Sub-sector=%{customdata[0]}<br>GlobalShare=%{x}<extra></extra>\", \"jitter\": 0, \"legendgroup\": \"Cropland\", \"line\": {\"color\": \"rgba(255,255,255,0)\"}, \"marker\": {\"color\": \"#FECB52\", \"symbol\": \"line-ns-open\"}, \"name\": \"Cropland\", \"offsetgroup\": \"Cropland\", \"showlegend\": false, \"type\": \"box\", \"x\": [1.4], \"xaxis\": \"x2\", \"yaxis\": \"y2\"}, {\"alignmentgroup\": \"True\", \"bingroup\": \"x\", \"hovertemplate\": \"Sub-sector=Energy in Agri & Fishing<br>GlobalShare=%{x}<br>count=%{y}<extra></extra>\", \"legendgroup\": \"Energy in Agri & Fishing\", \"marker\": {\"color\": \"#636efa\"}, \"name\": \"Energy in Agri & Fishing\", \"offsetgroup\": \"Energy in Agri & Fishing\", \"orientation\": \"v\", \"showlegend\": true, \"type\": \"histogram\", \"x\": [1.7], \"xaxis\": \"x\", \"yaxis\": \"y\"}, {\"alignmentgroup\": \"True\", \"boxpoints\": \"all\", \"customdata\": [[\"Energy in Agri & Fishing\"]], \"fillcolor\": \"rgba(255,255,255,0)\", \"hoveron\": \"points\", \"hovertemplate\": \"Sub-sector=%{customdata[0]}<br>GlobalShare=%{x}<extra></extra>\", \"jitter\": 0, \"legendgroup\": \"Energy in Agri & Fishing\", \"line\": {\"color\": \"rgba(255,255,255,0)\"}, \"marker\": {\"color\": \"#636efa\", \"symbol\": \"line-ns-open\"}, \"name\": \"Energy in Agri & Fishing\", \"offsetgroup\": \"Energy in Agri & Fishing\", \"showlegend\": false, \"type\": \"box\", \"x\": [1.7], \"xaxis\": \"x2\", \"yaxis\": \"y2\"}, {\"alignmentgroup\": \"True\", \"bingroup\": \"x\", \"hovertemplate\": \"Sub-sector=Ship<br>GlobalShare=%{x}<br>count=%{y}<extra></extra>\", \"legendgroup\": \"Ship\", \"marker\": {\"color\": \"#EF553B\"}, \"name\": \"Ship\", \"offsetgroup\": \"Ship\", \"orientation\": \"v\", \"showlegend\": true, \"type\": \"histogram\", \"x\": [1.7], \"xaxis\": \"x\", \"yaxis\": \"y\"}, {\"alignmentgroup\": \"True\", \"boxpoints\": \"all\", \"customdata\": [[\"Ship\"]], \"fillcolor\": \"rgba(255,255,255,0)\", \"hoveron\": \"points\", \"hovertemplate\": \"Sub-sector=%{customdata[0]}<br>GlobalShare=%{x}<extra></extra>\", \"jitter\": 0, \"legendgroup\": \"Ship\", \"line\": {\"color\": \"rgba(255,255,255,0)\"}, \"marker\": {\"color\": \"#EF553B\", \"symbol\": \"line-ns-open\"}, \"name\": \"Ship\", \"offsetgroup\": \"Ship\", \"showlegend\": false, \"type\": \"box\", \"x\": [1.7], \"xaxis\": \"x2\", \"yaxis\": \"y2\"}, {\"alignmentgroup\": \"True\", \"bingroup\": \"x\", \"hovertemplate\": \"Sub-sector=Aviation<br>GlobalShare=%{x}<br>count=%{y}<extra></extra>\", \"legendgroup\": \"Aviation\", \"marker\": {\"color\": \"#00cc96\"}, \"name\": \"Aviation\", \"offsetgroup\": \"Aviation\", \"orientation\": \"v\", \"showlegend\": true, \"type\": \"histogram\", \"x\": [1.9], \"xaxis\": \"x\", \"yaxis\": \"y\"}, {\"alignmentgroup\": \"True\", \"boxpoints\": \"all\", \"customdata\": [[\"Aviation\"]], \"fillcolor\": \"rgba(255,255,255,0)\", \"hoveron\": \"points\", \"hovertemplate\": \"Sub-sector=%{customdata[0]}<br>GlobalShare=%{x}<extra></extra>\", \"jitter\": 0, \"legendgroup\": \"Aviation\", \"line\": {\"color\": \"rgba(255,255,255,0)\"}, \"marker\": {\"color\": \"#00cc96\", \"symbol\": \"line-ns-open\"}, \"name\": \"Aviation\", \"offsetgroup\": \"Aviation\", \"showlegend\": false, \"type\": \"box\", \"x\": [1.9], \"xaxis\": \"x2\", \"yaxis\": \"y2\"}, {\"alignmentgroup\": \"True\", \"bingroup\": \"x\", \"hovertemplate\": \"Sub-sector=Landfills<br>GlobalShare=%{x}<br>count=%{y}<extra></extra>\", \"legendgroup\": \"Landfills\", \"marker\": {\"color\": \"#ab63fa\"}, \"name\": \"Landfills\", \"offsetgroup\": \"Landfills\", \"orientation\": \"v\", \"showlegend\": true, \"type\": \"histogram\", \"x\": [1.9], \"xaxis\": \"x\", \"yaxis\": \"y\"}, {\"alignmentgroup\": \"True\", \"boxpoints\": \"all\", \"customdata\": [[\"Landfills\"]], \"fillcolor\": \"rgba(255,255,255,0)\", \"hoveron\": \"points\", \"hovertemplate\": \"Sub-sector=%{customdata[0]}<br>GlobalShare=%{x}<extra></extra>\", \"jitter\": 0, \"legendgroup\": \"Landfills\", \"line\": {\"color\": \"rgba(255,255,255,0)\"}, \"marker\": {\"color\": \"#ab63fa\", \"symbol\": \"line-ns-open\"}, \"name\": \"Landfills\", \"offsetgroup\": \"Landfills\", \"showlegend\": false, \"type\": \"box\", \"x\": [1.9], \"xaxis\": \"x2\", \"yaxis\": \"y2\"}, {\"alignmentgroup\": \"True\", \"bingroup\": \"x\", \"hovertemplate\": \"Sub-sector=Coal<br>GlobalShare=%{x}<br>count=%{y}<extra></extra>\", \"legendgroup\": \"Coal\", \"marker\": {\"color\": \"#FFA15A\"}, \"name\": \"Coal\", \"offsetgroup\": \"Coal\", \"orientation\": \"v\", \"showlegend\": true, \"type\": \"histogram\", \"x\": [1.9], \"xaxis\": \"x\", \"yaxis\": \"y\"}, {\"alignmentgroup\": \"True\", \"boxpoints\": \"all\", \"customdata\": [[\"Coal\"]], \"fillcolor\": \"rgba(255,255,255,0)\", \"hoveron\": \"points\", \"hovertemplate\": \"Sub-sector=%{customdata[0]}<br>GlobalShare=%{x}<extra></extra>\", \"jitter\": 0, \"legendgroup\": \"Coal\", \"line\": {\"color\": \"rgba(255,255,255,0)\"}, \"marker\": {\"color\": \"#FFA15A\", \"symbol\": \"line-ns-open\"}, \"name\": \"Coal\", \"offsetgroup\": \"Coal\", \"showlegend\": false, \"type\": \"box\", \"x\": [1.9], \"xaxis\": \"x2\", \"yaxis\": \"y2\"}, {\"alignmentgroup\": \"True\", \"bingroup\": \"x\", \"hovertemplate\": \"Sub-sector=Chemical & petrochemical (industrial)<br>GlobalShare=%{x}<br>count=%{y}<extra></extra>\", \"legendgroup\": \"Chemical & petrochemical (industrial)\", \"marker\": {\"color\": \"#19d3f3\"}, \"name\": \"Chemical & petrochemical (industrial)\", \"offsetgroup\": \"Chemical & petrochemical (industrial)\", \"orientation\": \"v\", \"showlegend\": true, \"type\": \"histogram\", \"x\": [2.2], \"xaxis\": \"x\", \"yaxis\": \"y\"}, {\"alignmentgroup\": \"True\", \"boxpoints\": \"all\", \"customdata\": [[\"Chemical & petrochemical (industrial)\"]], \"fillcolor\": \"rgba(255,255,255,0)\", \"hoveron\": \"points\", \"hovertemplate\": \"Sub-sector=%{customdata[0]}<br>GlobalShare=%{x}<extra></extra>\", \"jitter\": 0, \"legendgroup\": \"Chemical & petrochemical (industrial)\", \"line\": {\"color\": \"rgba(255,255,255,0)\"}, \"marker\": {\"color\": \"#19d3f3\", \"symbol\": \"line-ns-open\"}, \"name\": \"Chemical & petrochemical (industrial)\", \"offsetgroup\": \"Chemical & petrochemical (industrial)\", \"showlegend\": false, \"type\": \"box\", \"x\": [2.2], \"xaxis\": \"x2\", \"yaxis\": \"y2\"}, {\"alignmentgroup\": \"True\", \"bingroup\": \"x\", \"hovertemplate\": \"Sub-sector=Forest Land<br>GlobalShare=%{x}<br>count=%{y}<extra></extra>\", \"legendgroup\": \"Forest Land\", \"marker\": {\"color\": \"#FF6692\"}, \"name\": \"Forest Land\", \"offsetgroup\": \"Forest Land\", \"orientation\": \"v\", \"showlegend\": true, \"type\": \"histogram\", \"x\": [2.2], \"xaxis\": \"x\", \"yaxis\": \"y\"}, {\"alignmentgroup\": \"True\", \"boxpoints\": \"all\", \"customdata\": [[\"Forest Land\"]], \"fillcolor\": \"rgba(255,255,255,0)\", \"hoveron\": \"points\", \"hovertemplate\": \"Sub-sector=%{customdata[0]}<br>GlobalShare=%{x}<extra></extra>\", \"jitter\": 0, \"legendgroup\": \"Forest Land\", \"line\": {\"color\": \"rgba(255,255,255,0)\"}, \"marker\": {\"color\": \"#FF6692\", \"symbol\": \"line-ns-open\"}, \"name\": \"Forest Land\", \"offsetgroup\": \"Forest Land\", \"showlegend\": false, \"type\": \"box\", \"x\": [2.2], \"xaxis\": \"x2\", \"yaxis\": \"y2\"}, {\"alignmentgroup\": \"True\", \"bingroup\": \"x\", \"hovertemplate\": \"Sub-sector=Cement<br>GlobalShare=%{x}<br>count=%{y}<extra></extra>\", \"legendgroup\": \"Cement\", \"marker\": {\"color\": \"#B6E880\"}, \"name\": \"Cement\", \"offsetgroup\": \"Cement\", \"orientation\": \"v\", \"showlegend\": true, \"type\": \"histogram\", \"x\": [3.0], \"xaxis\": \"x\", \"yaxis\": \"y\"}, {\"alignmentgroup\": \"True\", \"boxpoints\": \"all\", \"customdata\": [[\"Cement\"]], \"fillcolor\": \"rgba(255,255,255,0)\", \"hoveron\": \"points\", \"hovertemplate\": \"Sub-sector=%{customdata[0]}<br>GlobalShare=%{x}<extra></extra>\", \"jitter\": 0, \"legendgroup\": \"Cement\", \"line\": {\"color\": \"rgba(255,255,255,0)\"}, \"marker\": {\"color\": \"#B6E880\", \"symbol\": \"line-ns-open\"}, \"name\": \"Cement\", \"offsetgroup\": \"Cement\", \"showlegend\": false, \"type\": \"box\", \"x\": [3.0], \"xaxis\": \"x2\", \"yaxis\": \"y2\"}, {\"alignmentgroup\": \"True\", \"bingroup\": \"x\", \"hovertemplate\": \"Sub-sector=Crop Burning<br>GlobalShare=%{x}<br>count=%{y}<extra></extra>\", \"legendgroup\": \"Crop Burning\", \"marker\": {\"color\": \"#FF97FF\"}, \"name\": \"Crop Burning\", \"offsetgroup\": \"Crop Burning\", \"orientation\": \"v\", \"showlegend\": true, \"type\": \"histogram\", \"x\": [3.5], \"xaxis\": \"x\", \"yaxis\": \"y\"}, {\"alignmentgroup\": \"True\", \"boxpoints\": \"all\", \"customdata\": [[\"Crop Burning\"]], \"fillcolor\": \"rgba(255,255,255,0)\", \"hoveron\": \"points\", \"hovertemplate\": \"Sub-sector=%{customdata[0]}<br>GlobalShare=%{x}<extra></extra>\", \"jitter\": 0, \"legendgroup\": \"Crop Burning\", \"line\": {\"color\": \"rgba(255,255,255,0)\"}, \"marker\": {\"color\": \"#FF97FF\", \"symbol\": \"line-ns-open\"}, \"name\": \"Crop Burning\", \"offsetgroup\": \"Crop Burning\", \"showlegend\": false, \"type\": \"box\", \"x\": [3.5], \"xaxis\": \"x2\", \"yaxis\": \"y2\"}, {\"alignmentgroup\": \"True\", \"bingroup\": \"x\", \"hovertemplate\": \"Sub-sector=Chemical & petrochemical (energy)<br>GlobalShare=%{x}<br>count=%{y}<extra></extra>\", \"legendgroup\": \"Chemical & petrochemical (energy)\", \"marker\": {\"color\": \"#FECB52\"}, \"name\": \"Chemical & petrochemical (energy)\", \"offsetgroup\": \"Chemical & petrochemical (energy)\", \"orientation\": \"v\", \"showlegend\": true, \"type\": \"histogram\", \"x\": [3.6], \"xaxis\": \"x\", \"yaxis\": \"y\"}, {\"alignmentgroup\": \"True\", \"boxpoints\": \"all\", \"customdata\": [[\"Chemical & petrochemical (energy)\"]], \"fillcolor\": \"rgba(255,255,255,0)\", \"hoveron\": \"points\", \"hovertemplate\": \"Sub-sector=%{customdata[0]}<br>GlobalShare=%{x}<extra></extra>\", \"jitter\": 0, \"legendgroup\": \"Chemical & petrochemical (energy)\", \"line\": {\"color\": \"rgba(255,255,255,0)\"}, \"marker\": {\"color\": \"#FECB52\", \"symbol\": \"line-ns-open\"}, \"name\": \"Chemical & petrochemical (energy)\", \"offsetgroup\": \"Chemical & petrochemical (energy)\", \"showlegend\": false, \"type\": \"box\", \"x\": [3.6], \"xaxis\": \"x2\", \"yaxis\": \"y2\"}, {\"alignmentgroup\": \"True\", \"bingroup\": \"x\", \"hovertemplate\": \"Sub-sector=Oil & Natural Gas<br>GlobalShare=%{x}<br>count=%{y}<extra></extra>\", \"legendgroup\": \"Oil & Natural Gas\", \"marker\": {\"color\": \"#636efa\"}, \"name\": \"Oil & Natural Gas\", \"offsetgroup\": \"Oil & Natural Gas\", \"orientation\": \"v\", \"showlegend\": true, \"type\": \"histogram\", \"x\": [3.9], \"xaxis\": \"x\", \"yaxis\": \"y\"}, {\"alignmentgroup\": \"True\", \"boxpoints\": \"all\", \"customdata\": [[\"Oil & Natural Gas\"]], \"fillcolor\": \"rgba(255,255,255,0)\", \"hoveron\": \"points\", \"hovertemplate\": \"Sub-sector=%{customdata[0]}<br>GlobalShare=%{x}<extra></extra>\", \"jitter\": 0, \"legendgroup\": \"Oil & Natural Gas\", \"line\": {\"color\": \"rgba(255,255,255,0)\"}, \"marker\": {\"color\": \"#636efa\", \"symbol\": \"line-ns-open\"}, \"name\": \"Oil & Natural Gas\", \"offsetgroup\": \"Oil & Natural Gas\", \"showlegend\": false, \"type\": \"box\", \"x\": [3.9], \"xaxis\": \"x2\", \"yaxis\": \"y2\"}, {\"alignmentgroup\": \"True\", \"bingroup\": \"x\", \"hovertemplate\": \"Sub-sector=Agricultural Soils<br>GlobalShare=%{x}<br>count=%{y}<extra></extra>\", \"legendgroup\": \"Agricultural Soils\", \"marker\": {\"color\": \"#EF553B\"}, \"name\": \"Agricultural Soils\", \"offsetgroup\": \"Agricultural Soils\", \"orientation\": \"v\", \"showlegend\": true, \"type\": \"histogram\", \"x\": [4.1], \"xaxis\": \"x\", \"yaxis\": \"y\"}, {\"alignmentgroup\": \"True\", \"boxpoints\": \"all\", \"customdata\": [[\"Agricultural Soils\"]], \"fillcolor\": \"rgba(255,255,255,0)\", \"hoveron\": \"points\", \"hovertemplate\": \"Sub-sector=%{customdata[0]}<br>GlobalShare=%{x}<extra></extra>\", \"jitter\": 0, \"legendgroup\": \"Agricultural Soils\", \"line\": {\"color\": \"rgba(255,255,255,0)\"}, \"marker\": {\"color\": \"#EF553B\", \"symbol\": \"line-ns-open\"}, \"name\": \"Agricultural Soils\", \"offsetgroup\": \"Agricultural Soils\", \"showlegend\": false, \"type\": \"box\", \"x\": [4.1], \"xaxis\": \"x2\", \"yaxis\": \"y2\"}, {\"alignmentgroup\": \"True\", \"bingroup\": \"x\", \"hovertemplate\": \"Sub-sector=Livestock & Manure<br>GlobalShare=%{x}<br>count=%{y}<extra></extra>\", \"legendgroup\": \"Livestock & Manure\", \"marker\": {\"color\": \"#00cc96\"}, \"name\": \"Livestock & Manure\", \"offsetgroup\": \"Livestock & Manure\", \"orientation\": \"v\", \"showlegend\": true, \"type\": \"histogram\", \"x\": [5.8], \"xaxis\": \"x\", \"yaxis\": \"y\"}, {\"alignmentgroup\": \"True\", \"boxpoints\": \"all\", \"customdata\": [[\"Livestock & Manure\"]], \"fillcolor\": \"rgba(255,255,255,0)\", \"hoveron\": \"points\", \"hovertemplate\": \"Sub-sector=%{customdata[0]}<br>GlobalShare=%{x}<extra></extra>\", \"jitter\": 0, \"legendgroup\": \"Livestock & Manure\", \"line\": {\"color\": \"rgba(255,255,255,0)\"}, \"marker\": {\"color\": \"#00cc96\", \"symbol\": \"line-ns-open\"}, \"name\": \"Livestock & Manure\", \"offsetgroup\": \"Livestock & Manure\", \"showlegend\": false, \"type\": \"box\", \"x\": [5.8], \"xaxis\": \"x2\", \"yaxis\": \"y2\"}, {\"alignmentgroup\": \"True\", \"bingroup\": \"x\", \"hovertemplate\": \"Sub-sector=Commercial<br>GlobalShare=%{x}<br>count=%{y}<extra></extra>\", \"legendgroup\": \"Commercial\", \"marker\": {\"color\": \"#ab63fa\"}, \"name\": \"Commercial\", \"offsetgroup\": \"Commercial\", \"orientation\": \"v\", \"showlegend\": true, \"type\": \"histogram\", \"x\": [6.6], \"xaxis\": \"x\", \"yaxis\": \"y\"}, {\"alignmentgroup\": \"True\", \"boxpoints\": \"all\", \"customdata\": [[\"Commercial\"]], \"fillcolor\": \"rgba(255,255,255,0)\", \"hoveron\": \"points\", \"hovertemplate\": \"Sub-sector=%{customdata[0]}<br>GlobalShare=%{x}<extra></extra>\", \"jitter\": 0, \"legendgroup\": \"Commercial\", \"line\": {\"color\": \"rgba(255,255,255,0)\"}, \"marker\": {\"color\": \"#ab63fa\", \"symbol\": \"line-ns-open\"}, \"name\": \"Commercial\", \"offsetgroup\": \"Commercial\", \"showlegend\": false, \"type\": \"box\", \"x\": [6.6], \"xaxis\": \"x2\", \"yaxis\": \"y2\"}, {\"alignmentgroup\": \"True\", \"bingroup\": \"x\", \"hovertemplate\": \"Sub-sector=Iron & Steel<br>GlobalShare=%{x}<br>count=%{y}<extra></extra>\", \"legendgroup\": \"Iron & Steel\", \"marker\": {\"color\": \"#FFA15A\"}, \"name\": \"Iron & Steel\", \"offsetgroup\": \"Iron & Steel\", \"orientation\": \"v\", \"showlegend\": true, \"type\": \"histogram\", \"x\": [7.2], \"xaxis\": \"x\", \"yaxis\": \"y\"}, {\"alignmentgroup\": \"True\", \"boxpoints\": \"all\", \"customdata\": [[\"Iron & Steel\"]], \"fillcolor\": \"rgba(255,255,255,0)\", \"hoveron\": \"points\", \"hovertemplate\": \"Sub-sector=%{customdata[0]}<br>GlobalShare=%{x}<extra></extra>\", \"jitter\": 0, \"legendgroup\": \"Iron & Steel\", \"line\": {\"color\": \"rgba(255,255,255,0)\"}, \"marker\": {\"color\": \"#FFA15A\", \"symbol\": \"line-ns-open\"}, \"name\": \"Iron & Steel\", \"offsetgroup\": \"Iron & Steel\", \"showlegend\": false, \"type\": \"box\", \"x\": [7.2], \"xaxis\": \"x2\", \"yaxis\": \"y2\"}, {\"alignmentgroup\": \"True\", \"bingroup\": \"x\", \"hovertemplate\": \"Sub-sector=Unallocated fuel combustion<br>GlobalShare=%{x}<br>count=%{y}<extra></extra>\", \"legendgroup\": \"Unallocated fuel combustion\", \"marker\": {\"color\": \"#19d3f3\"}, \"name\": \"Unallocated fuel combustion\", \"offsetgroup\": \"Unallocated fuel combustion\", \"orientation\": \"v\", \"showlegend\": true, \"type\": \"histogram\", \"x\": [7.8], \"xaxis\": \"x\", \"yaxis\": \"y\"}, {\"alignmentgroup\": \"True\", \"boxpoints\": \"all\", \"customdata\": [[\"Unallocated fuel combustion\"]], \"fillcolor\": \"rgba(255,255,255,0)\", \"hoveron\": \"points\", \"hovertemplate\": \"Sub-sector=%{customdata[0]}<br>GlobalShare=%{x}<extra></extra>\", \"jitter\": 0, \"legendgroup\": \"Unallocated fuel combustion\", \"line\": {\"color\": \"rgba(255,255,255,0)\"}, \"marker\": {\"color\": \"#19d3f3\", \"symbol\": \"line-ns-open\"}, \"name\": \"Unallocated fuel combustion\", \"offsetgroup\": \"Unallocated fuel combustion\", \"showlegend\": false, \"type\": \"box\", \"x\": [7.8], \"xaxis\": \"x2\", \"yaxis\": \"y2\"}, {\"alignmentgroup\": \"True\", \"bingroup\": \"x\", \"hovertemplate\": \"Sub-sector=Other industry<br>GlobalShare=%{x}<br>count=%{y}<extra></extra>\", \"legendgroup\": \"Other industry\", \"marker\": {\"color\": \"#FF6692\"}, \"name\": \"Other industry\", \"offsetgroup\": \"Other industry\", \"orientation\": \"v\", \"showlegend\": true, \"type\": \"histogram\", \"x\": [10.6], \"xaxis\": \"x\", \"yaxis\": \"y\"}, {\"alignmentgroup\": \"True\", \"boxpoints\": \"all\", \"customdata\": [[\"Other industry\"]], \"fillcolor\": \"rgba(255,255,255,0)\", \"hoveron\": \"points\", \"hovertemplate\": \"Sub-sector=%{customdata[0]}<br>GlobalShare=%{x}<extra></extra>\", \"jitter\": 0, \"legendgroup\": \"Other industry\", \"line\": {\"color\": \"rgba(255,255,255,0)\"}, \"marker\": {\"color\": \"#FF6692\", \"symbol\": \"line-ns-open\"}, \"name\": \"Other industry\", \"offsetgroup\": \"Other industry\", \"showlegend\": false, \"type\": \"box\", \"x\": [10.6], \"xaxis\": \"x2\", \"yaxis\": \"y2\"}, {\"alignmentgroup\": \"True\", \"bingroup\": \"x\", \"hovertemplate\": \"Sub-sector=Residential<br>GlobalShare=%{x}<br>count=%{y}<extra></extra>\", \"legendgroup\": \"Residential\", \"marker\": {\"color\": \"#B6E880\"}, \"name\": \"Residential\", \"offsetgroup\": \"Residential\", \"orientation\": \"v\", \"showlegend\": true, \"type\": \"histogram\", \"x\": [10.9], \"xaxis\": \"x\", \"yaxis\": \"y\"}, {\"alignmentgroup\": \"True\", \"boxpoints\": \"all\", \"customdata\": [[\"Residential\"]], \"fillcolor\": \"rgba(255,255,255,0)\", \"hoveron\": \"points\", \"hovertemplate\": \"Sub-sector=%{customdata[0]}<br>GlobalShare=%{x}<extra></extra>\", \"jitter\": 0, \"legendgroup\": \"Residential\", \"line\": {\"color\": \"rgba(255,255,255,0)\"}, \"marker\": {\"color\": \"#B6E880\", \"symbol\": \"line-ns-open\"}, \"name\": \"Residential\", \"offsetgroup\": \"Residential\", \"showlegend\": false, \"type\": \"box\", \"x\": [10.9], \"xaxis\": \"x2\", \"yaxis\": \"y2\"}, {\"alignmentgroup\": \"True\", \"bingroup\": \"x\", \"hovertemplate\": \"Sub-sector=Road<br>GlobalShare=%{x}<br>count=%{y}<extra></extra>\", \"legendgroup\": \"Road\", \"marker\": {\"color\": \"#FF97FF\"}, \"name\": \"Road\", \"offsetgroup\": \"Road\", \"orientation\": \"v\", \"showlegend\": true, \"type\": \"histogram\", \"x\": [11.9], \"xaxis\": \"x\", \"yaxis\": \"y\"}, {\"alignmentgroup\": \"True\", \"boxpoints\": \"all\", \"customdata\": [[\"Road\"]], \"fillcolor\": \"rgba(255,255,255,0)\", \"hoveron\": \"points\", \"hovertemplate\": \"Sub-sector=%{customdata[0]}<br>GlobalShare=%{x}<extra></extra>\", \"jitter\": 0, \"legendgroup\": \"Road\", \"line\": {\"color\": \"rgba(255,255,255,0)\"}, \"marker\": {\"color\": \"#FF97FF\", \"symbol\": \"line-ns-open\"}, \"name\": \"Road\", \"offsetgroup\": \"Road\", \"showlegend\": false, \"type\": \"box\", \"x\": [11.9], \"xaxis\": \"x2\", \"yaxis\": \"y2\"}],                        {\"barmode\": \"relative\", \"legend\": {\"title\": {\"text\": \"Sub-sector\"}, \"tracegroupgap\": 0}, \"template\": {\"data\": {\"bar\": [{\"error_x\": {\"color\": \"#f2f5fa\"}, \"error_y\": {\"color\": \"#f2f5fa\"}, \"marker\": {\"line\": {\"color\": \"rgb(17,17,17)\", \"width\": 0.5}}, \"type\": \"bar\"}], \"barpolar\": [{\"marker\": {\"line\": {\"color\": \"rgb(17,17,17)\", \"width\": 0.5}}, \"type\": \"barpolar\"}], \"carpet\": [{\"aaxis\": {\"endlinecolor\": \"#A2B1C6\", \"gridcolor\": \"#506784\", \"linecolor\": \"#506784\", \"minorgridcolor\": \"#506784\", \"startlinecolor\": \"#A2B1C6\"}, \"baxis\": {\"endlinecolor\": \"#A2B1C6\", \"gridcolor\": \"#506784\", \"linecolor\": \"#506784\", \"minorgridcolor\": \"#506784\", \"startlinecolor\": \"#A2B1C6\"}, \"type\": \"carpet\"}], \"choropleth\": [{\"colorbar\": {\"outlinewidth\": 0, \"ticks\": \"\"}, \"type\": \"choropleth\"}], \"contour\": [{\"colorbar\": {\"outlinewidth\": 0, \"ticks\": \"\"}, \"colorscale\": [[0.0, \"#0d0887\"], [0.1111111111111111, \"#46039f\"], [0.2222222222222222, \"#7201a8\"], [0.3333333333333333, \"#9c179e\"], [0.4444444444444444, \"#bd3786\"], [0.5555555555555556, \"#d8576b\"], [0.6666666666666666, \"#ed7953\"], [0.7777777777777778, \"#fb9f3a\"], [0.8888888888888888, \"#fdca26\"], [1.0, \"#f0f921\"]], \"type\": \"contour\"}], \"contourcarpet\": [{\"colorbar\": {\"outlinewidth\": 0, \"ticks\": \"\"}, \"type\": \"contourcarpet\"}], \"heatmap\": [{\"colorbar\": {\"outlinewidth\": 0, \"ticks\": \"\"}, \"colorscale\": [[0.0, \"#0d0887\"], [0.1111111111111111, \"#46039f\"], [0.2222222222222222, \"#7201a8\"], [0.3333333333333333, \"#9c179e\"], [0.4444444444444444, \"#bd3786\"], [0.5555555555555556, \"#d8576b\"], [0.6666666666666666, \"#ed7953\"], [0.7777777777777778, \"#fb9f3a\"], [0.8888888888888888, \"#fdca26\"], [1.0, \"#f0f921\"]], \"type\": \"heatmap\"}], \"heatmapgl\": [{\"colorbar\": {\"outlinewidth\": 0, \"ticks\": \"\"}, \"colorscale\": [[0.0, \"#0d0887\"], [0.1111111111111111, \"#46039f\"], [0.2222222222222222, \"#7201a8\"], [0.3333333333333333, \"#9c179e\"], [0.4444444444444444, \"#bd3786\"], [0.5555555555555556, \"#d8576b\"], [0.6666666666666666, \"#ed7953\"], [0.7777777777777778, \"#fb9f3a\"], [0.8888888888888888, \"#fdca26\"], [1.0, \"#f0f921\"]], \"type\": \"heatmapgl\"}], \"histogram\": [{\"marker\": {\"colorbar\": {\"outlinewidth\": 0, \"ticks\": \"\"}}, \"type\": \"histogram\"}], \"histogram2d\": [{\"colorbar\": {\"outlinewidth\": 0, \"ticks\": \"\"}, \"colorscale\": [[0.0, \"#0d0887\"], [0.1111111111111111, \"#46039f\"], [0.2222222222222222, \"#7201a8\"], [0.3333333333333333, \"#9c179e\"], [0.4444444444444444, \"#bd3786\"], [0.5555555555555556, \"#d8576b\"], [0.6666666666666666, \"#ed7953\"], [0.7777777777777778, \"#fb9f3a\"], [0.8888888888888888, \"#fdca26\"], [1.0, \"#f0f921\"]], \"type\": \"histogram2d\"}], \"histogram2dcontour\": [{\"colorbar\": {\"outlinewidth\": 0, \"ticks\": \"\"}, \"colorscale\": [[0.0, \"#0d0887\"], [0.1111111111111111, \"#46039f\"], [0.2222222222222222, \"#7201a8\"], [0.3333333333333333, \"#9c179e\"], [0.4444444444444444, \"#bd3786\"], [0.5555555555555556, \"#d8576b\"], [0.6666666666666666, \"#ed7953\"], [0.7777777777777778, \"#fb9f3a\"], [0.8888888888888888, \"#fdca26\"], [1.0, \"#f0f921\"]], \"type\": \"histogram2dcontour\"}], \"mesh3d\": [{\"colorbar\": {\"outlinewidth\": 0, \"ticks\": \"\"}, \"type\": \"mesh3d\"}], \"parcoords\": [{\"line\": {\"colorbar\": {\"outlinewidth\": 0, \"ticks\": \"\"}}, \"type\": \"parcoords\"}], \"pie\": [{\"automargin\": true, \"type\": \"pie\"}], \"scatter\": [{\"marker\": {\"line\": {\"color\": \"#283442\"}}, \"type\": \"scatter\"}], \"scatter3d\": [{\"line\": {\"colorbar\": {\"outlinewidth\": 0, \"ticks\": \"\"}}, \"marker\": {\"colorbar\": {\"outlinewidth\": 0, \"ticks\": \"\"}}, \"type\": \"scatter3d\"}], \"scattercarpet\": [{\"marker\": {\"colorbar\": {\"outlinewidth\": 0, \"ticks\": \"\"}}, \"type\": \"scattercarpet\"}], \"scattergeo\": [{\"marker\": {\"colorbar\": {\"outlinewidth\": 0, \"ticks\": \"\"}}, \"type\": \"scattergeo\"}], \"scattergl\": [{\"marker\": {\"line\": {\"color\": \"#283442\"}}, \"type\": \"scattergl\"}], \"scattermapbox\": [{\"marker\": {\"colorbar\": {\"outlinewidth\": 0, \"ticks\": \"\"}}, \"type\": \"scattermapbox\"}], \"scatterpolar\": [{\"marker\": {\"colorbar\": {\"outlinewidth\": 0, \"ticks\": \"\"}}, \"type\": \"scatterpolar\"}], \"scatterpolargl\": [{\"marker\": {\"colorbar\": {\"outlinewidth\": 0, \"ticks\": \"\"}}, \"type\": \"scatterpolargl\"}], \"scatterternary\": [{\"marker\": {\"colorbar\": {\"outlinewidth\": 0, \"ticks\": \"\"}}, \"type\": \"scatterternary\"}], \"surface\": [{\"colorbar\": {\"outlinewidth\": 0, \"ticks\": \"\"}, \"colorscale\": [[0.0, \"#0d0887\"], [0.1111111111111111, \"#46039f\"], [0.2222222222222222, \"#7201a8\"], [0.3333333333333333, \"#9c179e\"], [0.4444444444444444, \"#bd3786\"], [0.5555555555555556, \"#d8576b\"], [0.6666666666666666, \"#ed7953\"], [0.7777777777777778, \"#fb9f3a\"], [0.8888888888888888, \"#fdca26\"], [1.0, \"#f0f921\"]], \"type\": \"surface\"}], \"table\": [{\"cells\": {\"fill\": {\"color\": \"#506784\"}, \"line\": {\"color\": \"rgb(17,17,17)\"}}, \"header\": {\"fill\": {\"color\": \"#2a3f5f\"}, \"line\": {\"color\": \"rgb(17,17,17)\"}}, \"type\": \"table\"}]}, \"layout\": {\"annotationdefaults\": {\"arrowcolor\": \"#f2f5fa\", \"arrowhead\": 0, \"arrowwidth\": 1}, \"autotypenumbers\": \"strict\", \"coloraxis\": {\"colorbar\": {\"outlinewidth\": 0, \"ticks\": \"\"}}, \"colorscale\": {\"diverging\": [[0, \"#8e0152\"], [0.1, \"#c51b7d\"], [0.2, \"#de77ae\"], [0.3, \"#f1b6da\"], [0.4, \"#fde0ef\"], [0.5, \"#f7f7f7\"], [0.6, \"#e6f5d0\"], [0.7, \"#b8e186\"], [0.8, \"#7fbc41\"], [0.9, \"#4d9221\"], [1, \"#276419\"]], \"sequential\": [[0.0, \"#0d0887\"], [0.1111111111111111, \"#46039f\"], [0.2222222222222222, \"#7201a8\"], [0.3333333333333333, \"#9c179e\"], [0.4444444444444444, \"#bd3786\"], [0.5555555555555556, \"#d8576b\"], [0.6666666666666666, \"#ed7953\"], [0.7777777777777778, \"#fb9f3a\"], [0.8888888888888888, \"#fdca26\"], [1.0, \"#f0f921\"]], \"sequentialminus\": [[0.0, \"#0d0887\"], [0.1111111111111111, \"#46039f\"], [0.2222222222222222, \"#7201a8\"], [0.3333333333333333, \"#9c179e\"], [0.4444444444444444, \"#bd3786\"], [0.5555555555555556, \"#d8576b\"], [0.6666666666666666, \"#ed7953\"], [0.7777777777777778, \"#fb9f3a\"], [0.8888888888888888, \"#fdca26\"], [1.0, \"#f0f921\"]]}, \"colorway\": [\"#636efa\", \"#EF553B\", \"#00cc96\", \"#ab63fa\", \"#FFA15A\", \"#19d3f3\", \"#FF6692\", \"#B6E880\", \"#FF97FF\", \"#FECB52\"], \"font\": {\"color\": \"#f2f5fa\"}, \"geo\": {\"bgcolor\": \"rgb(17,17,17)\", \"lakecolor\": \"rgb(17,17,17)\", \"landcolor\": \"rgb(17,17,17)\", \"showlakes\": true, \"showland\": true, \"subunitcolor\": \"#506784\"}, \"hoverlabel\": {\"align\": \"left\"}, \"hovermode\": \"closest\", \"mapbox\": {\"style\": \"dark\"}, \"paper_bgcolor\": \"rgb(17,17,17)\", \"plot_bgcolor\": \"rgb(17,17,17)\", \"polar\": {\"angularaxis\": {\"gridcolor\": \"#506784\", \"linecolor\": \"#506784\", \"ticks\": \"\"}, \"bgcolor\": \"rgb(17,17,17)\", \"radialaxis\": {\"gridcolor\": \"#506784\", \"linecolor\": \"#506784\", \"ticks\": \"\"}}, \"scene\": {\"xaxis\": {\"backgroundcolor\": \"rgb(17,17,17)\", \"gridcolor\": \"#506784\", \"gridwidth\": 2, \"linecolor\": \"#506784\", \"showbackground\": true, \"ticks\": \"\", \"zerolinecolor\": \"#C8D4E3\"}, \"yaxis\": {\"backgroundcolor\": \"rgb(17,17,17)\", \"gridcolor\": \"#506784\", \"gridwidth\": 2, \"linecolor\": \"#506784\", \"showbackground\": true, \"ticks\": \"\", \"zerolinecolor\": \"#C8D4E3\"}, \"zaxis\": {\"backgroundcolor\": \"rgb(17,17,17)\", \"gridcolor\": \"#506784\", \"gridwidth\": 2, \"linecolor\": \"#506784\", \"showbackground\": true, \"ticks\": \"\", \"zerolinecolor\": \"#C8D4E3\"}}, \"shapedefaults\": {\"line\": {\"color\": \"#f2f5fa\"}}, \"sliderdefaults\": {\"bgcolor\": \"#C8D4E3\", \"bordercolor\": \"rgb(17,17,17)\", \"borderwidth\": 1, \"tickwidth\": 0}, \"ternary\": {\"aaxis\": {\"gridcolor\": \"#506784\", \"linecolor\": \"#506784\", \"ticks\": \"\"}, \"baxis\": {\"gridcolor\": \"#506784\", \"linecolor\": \"#506784\", \"ticks\": \"\"}, \"bgcolor\": \"rgb(17,17,17)\", \"caxis\": {\"gridcolor\": \"#506784\", \"linecolor\": \"#506784\", \"ticks\": \"\"}}, \"title\": {\"x\": 0.05}, \"updatemenudefaults\": {\"bgcolor\": \"#506784\", \"borderwidth\": 0}, \"xaxis\": {\"automargin\": true, \"gridcolor\": \"#283442\", \"linecolor\": \"#506784\", \"ticks\": \"\", \"title\": {\"standoff\": 15}, \"zerolinecolor\": \"#283442\", \"zerolinewidth\": 2}, \"yaxis\": {\"automargin\": true, \"gridcolor\": \"#283442\", \"linecolor\": \"#506784\", \"ticks\": \"\", \"title\": {\"standoff\": 15}, \"zerolinecolor\": \"#283442\", \"zerolinewidth\": 2}}}, \"title\": {\"text\": \"Distribution of GlobalShare represented by SubSector\"}, \"xaxis\": {\"anchor\": \"y\", \"domain\": [0.0, 1.0], \"title\": {\"text\": \"GlobalShare\"}}, \"xaxis2\": {\"anchor\": \"y2\", \"domain\": [0.0, 1.0], \"matches\": \"x\", \"showgrid\": true, \"showticklabels\": false}, \"yaxis\": {\"anchor\": \"x\", \"domain\": [0.0, 0.7326], \"title\": {\"text\": \"count\"}}, \"yaxis2\": {\"anchor\": \"x2\", \"domain\": [0.7426, 1.0], \"matches\": \"y2\", \"showgrid\": false, \"showline\": false, \"showticklabels\": false, \"ticks\": \"\"}},                        {\"responsive\": true}                    ).then(function(){\n",
       "                            \n",
       "var gd = document.getElementById('441e1062-8ca9-43f7-a941-d5b8aabb0501');\n",
       "var x = new MutationObserver(function (mutations, observer) {{\n",
       "        var display = window.getComputedStyle(gd).display;\n",
       "        if (!display || display === 'none') {{\n",
       "            console.log([gd, 'removed!']);\n",
       "            Plotly.purge(gd);\n",
       "            observer.disconnect();\n",
       "        }}\n",
       "}});\n",
       "\n",
       "// Listen for the removal of the full notebook cells\n",
       "var notebookContainer = gd.closest('#notebook-container');\n",
       "if (notebookContainer) {{\n",
       "    x.observe(notebookContainer, {childList: true});\n",
       "}}\n",
       "\n",
       "// Listen for the clearing of the current output cell\n",
       "var outputEl = gd.closest('.output');\n",
       "if (outputEl) {{\n",
       "    x.observe(outputEl, {childList: true});\n",
       "}}\n",
       "\n",
       "                        })                };                });            </script>        </div>"
      ]
     },
     "metadata": {}
    }
   ],
   "metadata": {
    "execution": {
     "iopub.execute_input": "2021-07-04T08:40:48.856182Z",
     "iopub.status.busy": "2021-07-04T08:40:48.855455Z",
     "iopub.status.idle": "2021-07-04T08:40:49.234608Z",
     "shell.execute_reply": "2021-07-04T08:40:49.234051Z",
     "shell.execute_reply.started": "2021-07-04T08:35:41.288462Z"
    },
    "papermill": {
     "duration": 0.416634,
     "end_time": "2021-07-04T08:40:49.234746",
     "exception": false,
     "start_time": "2021-07-04T08:40:48.818112",
     "status": "completed"
    },
    "tags": []
   }
  },
  {
   "cell_type": "markdown",
   "source": [
    "## From above plot we can conclude that most of the Global Shares lies b/w 0-2 and least b/w 8-10"
   ],
   "metadata": {
    "papermill": {
     "duration": 0.029907,
     "end_time": "2021-07-04T08:40:49.294876",
     "exception": false,
     "start_time": "2021-07-04T08:40:49.264969",
     "status": "completed"
    },
    "tags": []
   }
  },
  {
   "cell_type": "markdown",
   "source": [
    "<div style=\"color:white;\n",
    "           display:fill;\n",
    "           border-radius:10px;\n",
    "           font-size:110%;\n",
    "           font-family:cursive;\n",
    "           letter-spacing:0.5px;\n",
    "           background-color:#4ff0d2;\n",
    "           color:Black;\n",
    "           font-family:cursive;\n",
    "            padding:5px 5px 5px 5px;\n",
    "           \">\n",
    "<h1 style=\"text-align:center;font-weight: bold\"> Scatter Plot </h1></div>\n",
    "\n"
   ],
   "metadata": {
    "papermill": {
     "duration": 0.030505,
     "end_time": "2021-07-04T08:40:49.355579",
     "exception": false,
     "start_time": "2021-07-04T08:40:49.325074",
     "status": "completed"
    },
    "tags": []
   }
  },
  {
   "cell_type": "code",
   "execution_count": 12,
   "source": [
    "fig = px.scatter(dataset,\n",
    "                 x=\"GlobalShare\", y=dataset.index, color= 'Sub-sector',\n",
    "                 log_x=True, size_max=60,\n",
    "                 template='plotly_dark', title='Scatter plot for Global Share')\n",
    "fig.show()"
   ],
   "outputs": [
    {
     "output_type": "display_data",
     "data": {
      "text/html": [
       "<div>                            <div id=\"0ca4dfda-7cc1-43bb-be34-b13102b751b7\" class=\"plotly-graph-div\" style=\"height:525px; width:100%;\"></div>            <script type=\"text/javascript\">                require([\"plotly\"], function(Plotly) {                    window.PLOTLYENV=window.PLOTLYENV || {};                                    if (document.getElementById(\"0ca4dfda-7cc1-43bb-be34-b13102b751b7\")) {                    Plotly.newPlot(                        \"0ca4dfda-7cc1-43bb-be34-b13102b751b7\",                        [{\"hovertemplate\": \"Sub-sector=Road<br>GlobalShare=%{x}<br>index=%{y}<extra></extra>\", \"legendgroup\": \"Road\", \"marker\": {\"color\": \"#636efa\", \"symbol\": \"circle\"}, \"mode\": \"markers\", \"name\": \"Road\", \"orientation\": \"v\", \"showlegend\": true, \"type\": \"scatter\", \"x\": [11.9], \"xaxis\": \"x\", \"y\": [0], \"yaxis\": \"y\"}, {\"hovertemplate\": \"Sub-sector=Aviation<br>GlobalShare=%{x}<br>index=%{y}<extra></extra>\", \"legendgroup\": \"Aviation\", \"marker\": {\"color\": \"#EF553B\", \"symbol\": \"circle\"}, \"mode\": \"markers\", \"name\": \"Aviation\", \"orientation\": \"v\", \"showlegend\": true, \"type\": \"scatter\", \"x\": [1.9], \"xaxis\": \"x\", \"y\": [1], \"yaxis\": \"y\"}, {\"hovertemplate\": \"Sub-sector=Rail<br>GlobalShare=%{x}<br>index=%{y}<extra></extra>\", \"legendgroup\": \"Rail\", \"marker\": {\"color\": \"#00cc96\", \"symbol\": \"circle\"}, \"mode\": \"markers\", \"name\": \"Rail\", \"orientation\": \"v\", \"showlegend\": true, \"type\": \"scatter\", \"x\": [0.4], \"xaxis\": \"x\", \"y\": [2], \"yaxis\": \"y\"}, {\"hovertemplate\": \"Sub-sector=Pipeline<br>GlobalShare=%{x}<br>index=%{y}<extra></extra>\", \"legendgroup\": \"Pipeline\", \"marker\": {\"color\": \"#ab63fa\", \"symbol\": \"circle\"}, \"mode\": \"markers\", \"name\": \"Pipeline\", \"orientation\": \"v\", \"showlegend\": true, \"type\": \"scatter\", \"x\": [0.3], \"xaxis\": \"x\", \"y\": [3], \"yaxis\": \"y\"}, {\"hovertemplate\": \"Sub-sector=Ship<br>GlobalShare=%{x}<br>index=%{y}<extra></extra>\", \"legendgroup\": \"Ship\", \"marker\": {\"color\": \"#FFA15A\", \"symbol\": \"circle\"}, \"mode\": \"markers\", \"name\": \"Ship\", \"orientation\": \"v\", \"showlegend\": true, \"type\": \"scatter\", \"x\": [1.7], \"xaxis\": \"x\", \"y\": [4], \"yaxis\": \"y\"}, {\"hovertemplate\": \"Sub-sector=Residential<br>GlobalShare=%{x}<br>index=%{y}<extra></extra>\", \"legendgroup\": \"Residential\", \"marker\": {\"color\": \"#19d3f3\", \"symbol\": \"circle\"}, \"mode\": \"markers\", \"name\": \"Residential\", \"orientation\": \"v\", \"showlegend\": true, \"type\": \"scatter\", \"x\": [10.9], \"xaxis\": \"x\", \"y\": [5], \"yaxis\": \"y\"}, {\"hovertemplate\": \"Sub-sector=Commercial<br>GlobalShare=%{x}<br>index=%{y}<extra></extra>\", \"legendgroup\": \"Commercial\", \"marker\": {\"color\": \"#FF6692\", \"symbol\": \"circle\"}, \"mode\": \"markers\", \"name\": \"Commercial\", \"orientation\": \"v\", \"showlegend\": true, \"type\": \"scatter\", \"x\": [6.6], \"xaxis\": \"x\", \"y\": [6], \"yaxis\": \"y\"}, {\"hovertemplate\": \"Sub-sector=Iron & Steel<br>GlobalShare=%{x}<br>index=%{y}<extra></extra>\", \"legendgroup\": \"Iron & Steel\", \"marker\": {\"color\": \"#B6E880\", \"symbol\": \"circle\"}, \"mode\": \"markers\", \"name\": \"Iron & Steel\", \"orientation\": \"v\", \"showlegend\": true, \"type\": \"scatter\", \"x\": [7.2], \"xaxis\": \"x\", \"y\": [7], \"yaxis\": \"y\"}, {\"hovertemplate\": \"Sub-sector=Non-ferous metals<br>GlobalShare=%{x}<br>index=%{y}<extra></extra>\", \"legendgroup\": \"Non-ferous metals\", \"marker\": {\"color\": \"#FF97FF\", \"symbol\": \"circle\"}, \"mode\": \"markers\", \"name\": \"Non-ferous metals\", \"orientation\": \"v\", \"showlegend\": true, \"type\": \"scatter\", \"x\": [0.7], \"xaxis\": \"x\", \"y\": [8], \"yaxis\": \"y\"}, {\"hovertemplate\": \"Sub-sector=Machinery<br>GlobalShare=%{x}<br>index=%{y}<extra></extra>\", \"legendgroup\": \"Machinery\", \"marker\": {\"color\": \"#FECB52\", \"symbol\": \"circle\"}, \"mode\": \"markers\", \"name\": \"Machinery\", \"orientation\": \"v\", \"showlegend\": true, \"type\": \"scatter\", \"x\": [0.5], \"xaxis\": \"x\", \"y\": [9], \"yaxis\": \"y\"}, {\"hovertemplate\": \"Sub-sector=Food and tobacco<br>GlobalShare=%{x}<br>index=%{y}<extra></extra>\", \"legendgroup\": \"Food and tobacco\", \"marker\": {\"color\": \"#636efa\", \"symbol\": \"circle\"}, \"mode\": \"markers\", \"name\": \"Food and tobacco\", \"orientation\": \"v\", \"showlegend\": true, \"type\": \"scatter\", \"x\": [1.0], \"xaxis\": \"x\", \"y\": [10], \"yaxis\": \"y\"}, {\"hovertemplate\": \"Sub-sector=Paper pulp & printing<br>GlobalShare=%{x}<br>index=%{y}<extra></extra>\", \"legendgroup\": \"Paper pulp & printing\", \"marker\": {\"color\": \"#EF553B\", \"symbol\": \"circle\"}, \"mode\": \"markers\", \"name\": \"Paper pulp & printing\", \"orientation\": \"v\", \"showlegend\": true, \"type\": \"scatter\", \"x\": [0.6], \"xaxis\": \"x\", \"y\": [11], \"yaxis\": \"y\"}, {\"hovertemplate\": \"Sub-sector=Chemical & petrochemical (energy)<br>GlobalShare=%{x}<br>index=%{y}<extra></extra>\", \"legendgroup\": \"Chemical & petrochemical (energy)\", \"marker\": {\"color\": \"#00cc96\", \"symbol\": \"circle\"}, \"mode\": \"markers\", \"name\": \"Chemical & petrochemical (energy)\", \"orientation\": \"v\", \"showlegend\": true, \"type\": \"scatter\", \"x\": [3.6], \"xaxis\": \"x\", \"y\": [12], \"yaxis\": \"y\"}, {\"hovertemplate\": \"Sub-sector=Other industry<br>GlobalShare=%{x}<br>index=%{y}<extra></extra>\", \"legendgroup\": \"Other industry\", \"marker\": {\"color\": \"#ab63fa\", \"symbol\": \"circle\"}, \"mode\": \"markers\", \"name\": \"Other industry\", \"orientation\": \"v\", \"showlegend\": true, \"type\": \"scatter\", \"x\": [10.6], \"xaxis\": \"x\", \"y\": [13], \"yaxis\": \"y\"}, {\"hovertemplate\": \"Sub-sector=Energy in Agri & Fishing<br>GlobalShare=%{x}<br>index=%{y}<extra></extra>\", \"legendgroup\": \"Energy in Agri & Fishing\", \"marker\": {\"color\": \"#FFA15A\", \"symbol\": \"circle\"}, \"mode\": \"markers\", \"name\": \"Energy in Agri & Fishing\", \"orientation\": \"v\", \"showlegend\": true, \"type\": \"scatter\", \"x\": [1.7], \"xaxis\": \"x\", \"y\": [14], \"yaxis\": \"y\"}, {\"hovertemplate\": \"Sub-sector=Unallocated fuel combustion<br>GlobalShare=%{x}<br>index=%{y}<extra></extra>\", \"legendgroup\": \"Unallocated fuel combustion\", \"marker\": {\"color\": \"#19d3f3\", \"symbol\": \"circle\"}, \"mode\": \"markers\", \"name\": \"Unallocated fuel combustion\", \"orientation\": \"v\", \"showlegend\": true, \"type\": \"scatter\", \"x\": [7.8], \"xaxis\": \"x\", \"y\": [15], \"yaxis\": \"y\"}, {\"hovertemplate\": \"Sub-sector=Coal<br>GlobalShare=%{x}<br>index=%{y}<extra></extra>\", \"legendgroup\": \"Coal\", \"marker\": {\"color\": \"#FF6692\", \"symbol\": \"circle\"}, \"mode\": \"markers\", \"name\": \"Coal\", \"orientation\": \"v\", \"showlegend\": true, \"type\": \"scatter\", \"x\": [1.9], \"xaxis\": \"x\", \"y\": [16], \"yaxis\": \"y\"}, {\"hovertemplate\": \"Sub-sector=Oil & Natural Gas<br>GlobalShare=%{x}<br>index=%{y}<extra></extra>\", \"legendgroup\": \"Oil & Natural Gas\", \"marker\": {\"color\": \"#B6E880\", \"symbol\": \"circle\"}, \"mode\": \"markers\", \"name\": \"Oil & Natural Gas\", \"orientation\": \"v\", \"showlegend\": true, \"type\": \"scatter\", \"x\": [3.9], \"xaxis\": \"x\", \"y\": [17], \"yaxis\": \"y\"}, {\"hovertemplate\": \"Sub-sector=Cement<br>GlobalShare=%{x}<br>index=%{y}<extra></extra>\", \"legendgroup\": \"Cement\", \"marker\": {\"color\": \"#FF97FF\", \"symbol\": \"circle\"}, \"mode\": \"markers\", \"name\": \"Cement\", \"orientation\": \"v\", \"showlegend\": true, \"type\": \"scatter\", \"x\": [3.0], \"xaxis\": \"x\", \"y\": [18], \"yaxis\": \"y\"}, {\"hovertemplate\": \"Sub-sector=Chemical & petrochemical (industrial)<br>GlobalShare=%{x}<br>index=%{y}<extra></extra>\", \"legendgroup\": \"Chemical & petrochemical (industrial)\", \"marker\": {\"color\": \"#FECB52\", \"symbol\": \"circle\"}, \"mode\": \"markers\", \"name\": \"Chemical & petrochemical (industrial)\", \"orientation\": \"v\", \"showlegend\": true, \"type\": \"scatter\", \"x\": [2.2], \"xaxis\": \"x\", \"y\": [19], \"yaxis\": \"y\"}, {\"hovertemplate\": \"Sub-sector=Livestock & Manure<br>GlobalShare=%{x}<br>index=%{y}<extra></extra>\", \"legendgroup\": \"Livestock & Manure\", \"marker\": {\"color\": \"#636efa\", \"symbol\": \"circle\"}, \"mode\": \"markers\", \"name\": \"Livestock & Manure\", \"orientation\": \"v\", \"showlegend\": true, \"type\": \"scatter\", \"x\": [5.8], \"xaxis\": \"x\", \"y\": [20], \"yaxis\": \"y\"}, {\"hovertemplate\": \"Sub-sector=Rice Cultivation<br>GlobalShare=%{x}<br>index=%{y}<extra></extra>\", \"legendgroup\": \"Rice Cultivation\", \"marker\": {\"color\": \"#EF553B\", \"symbol\": \"circle\"}, \"mode\": \"markers\", \"name\": \"Rice Cultivation\", \"orientation\": \"v\", \"showlegend\": true, \"type\": \"scatter\", \"x\": [1.3], \"xaxis\": \"x\", \"y\": [21], \"yaxis\": \"y\"}, {\"hovertemplate\": \"Sub-sector=Agricultural Soils<br>GlobalShare=%{x}<br>index=%{y}<extra></extra>\", \"legendgroup\": \"Agricultural Soils\", \"marker\": {\"color\": \"#00cc96\", \"symbol\": \"circle\"}, \"mode\": \"markers\", \"name\": \"Agricultural Soils\", \"orientation\": \"v\", \"showlegend\": true, \"type\": \"scatter\", \"x\": [4.1], \"xaxis\": \"x\", \"y\": [22], \"yaxis\": \"y\"}, {\"hovertemplate\": \"Sub-sector=Crop Burning<br>GlobalShare=%{x}<br>index=%{y}<extra></extra>\", \"legendgroup\": \"Crop Burning\", \"marker\": {\"color\": \"#ab63fa\", \"symbol\": \"circle\"}, \"mode\": \"markers\", \"name\": \"Crop Burning\", \"orientation\": \"v\", \"showlegend\": true, \"type\": \"scatter\", \"x\": [3.5], \"xaxis\": \"x\", \"y\": [23], \"yaxis\": \"y\"}, {\"hovertemplate\": \"Sub-sector=Forest Land<br>GlobalShare=%{x}<br>index=%{y}<extra></extra>\", \"legendgroup\": \"Forest Land\", \"marker\": {\"color\": \"#FFA15A\", \"symbol\": \"circle\"}, \"mode\": \"markers\", \"name\": \"Forest Land\", \"orientation\": \"v\", \"showlegend\": true, \"type\": \"scatter\", \"x\": [2.2], \"xaxis\": \"x\", \"y\": [24], \"yaxis\": \"y\"}, {\"hovertemplate\": \"Sub-sector=Cropland<br>GlobalShare=%{x}<br>index=%{y}<extra></extra>\", \"legendgroup\": \"Cropland\", \"marker\": {\"color\": \"#19d3f3\", \"symbol\": \"circle\"}, \"mode\": \"markers\", \"name\": \"Cropland\", \"orientation\": \"v\", \"showlegend\": true, \"type\": \"scatter\", \"x\": [1.4], \"xaxis\": \"x\", \"y\": [25], \"yaxis\": \"y\"}, {\"hovertemplate\": \"Sub-sector=Grassland<br>GlobalShare=%{x}<br>index=%{y}<extra></extra>\", \"legendgroup\": \"Grassland\", \"marker\": {\"color\": \"#FF6692\", \"symbol\": \"circle\"}, \"mode\": \"markers\", \"name\": \"Grassland\", \"orientation\": \"v\", \"showlegend\": true, \"type\": \"scatter\", \"x\": [0.1], \"xaxis\": \"x\", \"y\": [26], \"yaxis\": \"y\"}, {\"hovertemplate\": \"Sub-sector=Landfills<br>GlobalShare=%{x}<br>index=%{y}<extra></extra>\", \"legendgroup\": \"Landfills\", \"marker\": {\"color\": \"#B6E880\", \"symbol\": \"circle\"}, \"mode\": \"markers\", \"name\": \"Landfills\", \"orientation\": \"v\", \"showlegend\": true, \"type\": \"scatter\", \"x\": [1.9], \"xaxis\": \"x\", \"y\": [27], \"yaxis\": \"y\"}, {\"hovertemplate\": \"Sub-sector=Wastewater<br>GlobalShare=%{x}<br>index=%{y}<extra></extra>\", \"legendgroup\": \"Wastewater\", \"marker\": {\"color\": \"#FF97FF\", \"symbol\": \"circle\"}, \"mode\": \"markers\", \"name\": \"Wastewater\", \"orientation\": \"v\", \"showlegend\": true, \"type\": \"scatter\", \"x\": [1.3], \"xaxis\": \"x\", \"y\": [28], \"yaxis\": \"y\"}],                        {\"legend\": {\"title\": {\"text\": \"Sub-sector\"}, \"tracegroupgap\": 0}, \"template\": {\"data\": {\"bar\": [{\"error_x\": {\"color\": \"#f2f5fa\"}, \"error_y\": {\"color\": \"#f2f5fa\"}, \"marker\": {\"line\": {\"color\": \"rgb(17,17,17)\", \"width\": 0.5}}, \"type\": \"bar\"}], \"barpolar\": [{\"marker\": {\"line\": {\"color\": \"rgb(17,17,17)\", \"width\": 0.5}}, \"type\": \"barpolar\"}], \"carpet\": [{\"aaxis\": {\"endlinecolor\": \"#A2B1C6\", \"gridcolor\": \"#506784\", \"linecolor\": \"#506784\", \"minorgridcolor\": \"#506784\", \"startlinecolor\": \"#A2B1C6\"}, \"baxis\": {\"endlinecolor\": \"#A2B1C6\", \"gridcolor\": \"#506784\", \"linecolor\": \"#506784\", \"minorgridcolor\": \"#506784\", \"startlinecolor\": \"#A2B1C6\"}, \"type\": \"carpet\"}], \"choropleth\": [{\"colorbar\": {\"outlinewidth\": 0, \"ticks\": \"\"}, \"type\": \"choropleth\"}], \"contour\": [{\"colorbar\": {\"outlinewidth\": 0, \"ticks\": \"\"}, \"colorscale\": [[0.0, \"#0d0887\"], [0.1111111111111111, \"#46039f\"], [0.2222222222222222, \"#7201a8\"], [0.3333333333333333, \"#9c179e\"], [0.4444444444444444, \"#bd3786\"], [0.5555555555555556, \"#d8576b\"], [0.6666666666666666, \"#ed7953\"], [0.7777777777777778, \"#fb9f3a\"], [0.8888888888888888, \"#fdca26\"], [1.0, \"#f0f921\"]], \"type\": \"contour\"}], \"contourcarpet\": [{\"colorbar\": {\"outlinewidth\": 0, \"ticks\": \"\"}, \"type\": \"contourcarpet\"}], \"heatmap\": [{\"colorbar\": {\"outlinewidth\": 0, \"ticks\": \"\"}, \"colorscale\": [[0.0, \"#0d0887\"], [0.1111111111111111, \"#46039f\"], [0.2222222222222222, \"#7201a8\"], [0.3333333333333333, \"#9c179e\"], [0.4444444444444444, \"#bd3786\"], [0.5555555555555556, \"#d8576b\"], [0.6666666666666666, \"#ed7953\"], [0.7777777777777778, \"#fb9f3a\"], [0.8888888888888888, \"#fdca26\"], [1.0, \"#f0f921\"]], \"type\": \"heatmap\"}], \"heatmapgl\": [{\"colorbar\": {\"outlinewidth\": 0, \"ticks\": \"\"}, \"colorscale\": [[0.0, \"#0d0887\"], [0.1111111111111111, \"#46039f\"], [0.2222222222222222, \"#7201a8\"], [0.3333333333333333, \"#9c179e\"], [0.4444444444444444, \"#bd3786\"], [0.5555555555555556, \"#d8576b\"], [0.6666666666666666, \"#ed7953\"], [0.7777777777777778, \"#fb9f3a\"], [0.8888888888888888, \"#fdca26\"], [1.0, \"#f0f921\"]], \"type\": \"heatmapgl\"}], \"histogram\": [{\"marker\": {\"colorbar\": {\"outlinewidth\": 0, \"ticks\": \"\"}}, \"type\": \"histogram\"}], \"histogram2d\": [{\"colorbar\": {\"outlinewidth\": 0, \"ticks\": \"\"}, \"colorscale\": [[0.0, \"#0d0887\"], [0.1111111111111111, \"#46039f\"], [0.2222222222222222, \"#7201a8\"], [0.3333333333333333, \"#9c179e\"], [0.4444444444444444, \"#bd3786\"], [0.5555555555555556, \"#d8576b\"], [0.6666666666666666, \"#ed7953\"], [0.7777777777777778, \"#fb9f3a\"], [0.8888888888888888, \"#fdca26\"], [1.0, \"#f0f921\"]], \"type\": \"histogram2d\"}], \"histogram2dcontour\": [{\"colorbar\": {\"outlinewidth\": 0, \"ticks\": \"\"}, \"colorscale\": [[0.0, \"#0d0887\"], [0.1111111111111111, \"#46039f\"], [0.2222222222222222, \"#7201a8\"], [0.3333333333333333, \"#9c179e\"], [0.4444444444444444, \"#bd3786\"], [0.5555555555555556, \"#d8576b\"], [0.6666666666666666, \"#ed7953\"], [0.7777777777777778, \"#fb9f3a\"], [0.8888888888888888, \"#fdca26\"], [1.0, \"#f0f921\"]], \"type\": \"histogram2dcontour\"}], \"mesh3d\": [{\"colorbar\": {\"outlinewidth\": 0, \"ticks\": \"\"}, \"type\": \"mesh3d\"}], \"parcoords\": [{\"line\": {\"colorbar\": {\"outlinewidth\": 0, \"ticks\": \"\"}}, \"type\": \"parcoords\"}], \"pie\": [{\"automargin\": true, \"type\": \"pie\"}], \"scatter\": [{\"marker\": {\"line\": {\"color\": \"#283442\"}}, \"type\": \"scatter\"}], \"scatter3d\": [{\"line\": {\"colorbar\": {\"outlinewidth\": 0, \"ticks\": \"\"}}, \"marker\": {\"colorbar\": {\"outlinewidth\": 0, \"ticks\": \"\"}}, \"type\": \"scatter3d\"}], \"scattercarpet\": [{\"marker\": {\"colorbar\": {\"outlinewidth\": 0, \"ticks\": \"\"}}, \"type\": \"scattercarpet\"}], \"scattergeo\": [{\"marker\": {\"colorbar\": {\"outlinewidth\": 0, \"ticks\": \"\"}}, \"type\": \"scattergeo\"}], \"scattergl\": [{\"marker\": {\"line\": {\"color\": \"#283442\"}}, \"type\": \"scattergl\"}], \"scattermapbox\": [{\"marker\": {\"colorbar\": {\"outlinewidth\": 0, \"ticks\": \"\"}}, \"type\": \"scattermapbox\"}], \"scatterpolar\": [{\"marker\": {\"colorbar\": {\"outlinewidth\": 0, \"ticks\": \"\"}}, \"type\": \"scatterpolar\"}], \"scatterpolargl\": [{\"marker\": {\"colorbar\": {\"outlinewidth\": 0, \"ticks\": \"\"}}, \"type\": \"scatterpolargl\"}], \"scatterternary\": [{\"marker\": {\"colorbar\": {\"outlinewidth\": 0, \"ticks\": \"\"}}, \"type\": \"scatterternary\"}], \"surface\": [{\"colorbar\": {\"outlinewidth\": 0, \"ticks\": \"\"}, \"colorscale\": [[0.0, \"#0d0887\"], [0.1111111111111111, \"#46039f\"], [0.2222222222222222, \"#7201a8\"], [0.3333333333333333, \"#9c179e\"], [0.4444444444444444, \"#bd3786\"], [0.5555555555555556, \"#d8576b\"], [0.6666666666666666, \"#ed7953\"], [0.7777777777777778, \"#fb9f3a\"], [0.8888888888888888, \"#fdca26\"], [1.0, \"#f0f921\"]], \"type\": \"surface\"}], \"table\": [{\"cells\": {\"fill\": {\"color\": \"#506784\"}, \"line\": {\"color\": \"rgb(17,17,17)\"}}, \"header\": {\"fill\": {\"color\": \"#2a3f5f\"}, \"line\": {\"color\": \"rgb(17,17,17)\"}}, \"type\": \"table\"}]}, \"layout\": {\"annotationdefaults\": {\"arrowcolor\": \"#f2f5fa\", \"arrowhead\": 0, \"arrowwidth\": 1}, \"autotypenumbers\": \"strict\", \"coloraxis\": {\"colorbar\": {\"outlinewidth\": 0, \"ticks\": \"\"}}, \"colorscale\": {\"diverging\": [[0, \"#8e0152\"], [0.1, \"#c51b7d\"], [0.2, \"#de77ae\"], [0.3, \"#f1b6da\"], [0.4, \"#fde0ef\"], [0.5, \"#f7f7f7\"], [0.6, \"#e6f5d0\"], [0.7, \"#b8e186\"], [0.8, \"#7fbc41\"], [0.9, \"#4d9221\"], [1, \"#276419\"]], \"sequential\": [[0.0, \"#0d0887\"], [0.1111111111111111, \"#46039f\"], [0.2222222222222222, \"#7201a8\"], [0.3333333333333333, \"#9c179e\"], [0.4444444444444444, \"#bd3786\"], [0.5555555555555556, \"#d8576b\"], [0.6666666666666666, \"#ed7953\"], [0.7777777777777778, \"#fb9f3a\"], [0.8888888888888888, \"#fdca26\"], [1.0, \"#f0f921\"]], \"sequentialminus\": [[0.0, \"#0d0887\"], [0.1111111111111111, \"#46039f\"], [0.2222222222222222, \"#7201a8\"], [0.3333333333333333, \"#9c179e\"], [0.4444444444444444, \"#bd3786\"], [0.5555555555555556, \"#d8576b\"], [0.6666666666666666, \"#ed7953\"], [0.7777777777777778, \"#fb9f3a\"], [0.8888888888888888, \"#fdca26\"], [1.0, \"#f0f921\"]]}, \"colorway\": [\"#636efa\", \"#EF553B\", \"#00cc96\", \"#ab63fa\", \"#FFA15A\", \"#19d3f3\", \"#FF6692\", \"#B6E880\", \"#FF97FF\", \"#FECB52\"], \"font\": {\"color\": \"#f2f5fa\"}, \"geo\": {\"bgcolor\": \"rgb(17,17,17)\", \"lakecolor\": \"rgb(17,17,17)\", \"landcolor\": \"rgb(17,17,17)\", \"showlakes\": true, \"showland\": true, \"subunitcolor\": \"#506784\"}, \"hoverlabel\": {\"align\": \"left\"}, \"hovermode\": \"closest\", \"mapbox\": {\"style\": \"dark\"}, \"paper_bgcolor\": \"rgb(17,17,17)\", \"plot_bgcolor\": \"rgb(17,17,17)\", \"polar\": {\"angularaxis\": {\"gridcolor\": \"#506784\", \"linecolor\": \"#506784\", \"ticks\": \"\"}, \"bgcolor\": \"rgb(17,17,17)\", \"radialaxis\": {\"gridcolor\": \"#506784\", \"linecolor\": \"#506784\", \"ticks\": \"\"}}, \"scene\": {\"xaxis\": {\"backgroundcolor\": \"rgb(17,17,17)\", \"gridcolor\": \"#506784\", \"gridwidth\": 2, \"linecolor\": \"#506784\", \"showbackground\": true, \"ticks\": \"\", \"zerolinecolor\": \"#C8D4E3\"}, \"yaxis\": {\"backgroundcolor\": \"rgb(17,17,17)\", \"gridcolor\": \"#506784\", \"gridwidth\": 2, \"linecolor\": \"#506784\", \"showbackground\": true, \"ticks\": \"\", \"zerolinecolor\": \"#C8D4E3\"}, \"zaxis\": {\"backgroundcolor\": \"rgb(17,17,17)\", \"gridcolor\": \"#506784\", \"gridwidth\": 2, \"linecolor\": \"#506784\", \"showbackground\": true, \"ticks\": \"\", \"zerolinecolor\": \"#C8D4E3\"}}, \"shapedefaults\": {\"line\": {\"color\": \"#f2f5fa\"}}, \"sliderdefaults\": {\"bgcolor\": \"#C8D4E3\", \"bordercolor\": \"rgb(17,17,17)\", \"borderwidth\": 1, \"tickwidth\": 0}, \"ternary\": {\"aaxis\": {\"gridcolor\": \"#506784\", \"linecolor\": \"#506784\", \"ticks\": \"\"}, \"baxis\": {\"gridcolor\": \"#506784\", \"linecolor\": \"#506784\", \"ticks\": \"\"}, \"bgcolor\": \"rgb(17,17,17)\", \"caxis\": {\"gridcolor\": \"#506784\", \"linecolor\": \"#506784\", \"ticks\": \"\"}}, \"title\": {\"x\": 0.05}, \"updatemenudefaults\": {\"bgcolor\": \"#506784\", \"borderwidth\": 0}, \"xaxis\": {\"automargin\": true, \"gridcolor\": \"#283442\", \"linecolor\": \"#506784\", \"ticks\": \"\", \"title\": {\"standoff\": 15}, \"zerolinecolor\": \"#283442\", \"zerolinewidth\": 2}, \"yaxis\": {\"automargin\": true, \"gridcolor\": \"#283442\", \"linecolor\": \"#506784\", \"ticks\": \"\", \"title\": {\"standoff\": 15}, \"zerolinecolor\": \"#283442\", \"zerolinewidth\": 2}}}, \"title\": {\"text\": \"Scatter plot for Global Share\"}, \"xaxis\": {\"anchor\": \"y\", \"domain\": [0.0, 1.0], \"title\": {\"text\": \"GlobalShare\"}, \"type\": \"log\"}, \"yaxis\": {\"anchor\": \"x\", \"domain\": [0.0, 1.0], \"title\": {\"text\": \"index\"}}},                        {\"responsive\": true}                    ).then(function(){\n",
       "                            \n",
       "var gd = document.getElementById('0ca4dfda-7cc1-43bb-be34-b13102b751b7');\n",
       "var x = new MutationObserver(function (mutations, observer) {{\n",
       "        var display = window.getComputedStyle(gd).display;\n",
       "        if (!display || display === 'none') {{\n",
       "            console.log([gd, 'removed!']);\n",
       "            Plotly.purge(gd);\n",
       "            observer.disconnect();\n",
       "        }}\n",
       "}});\n",
       "\n",
       "// Listen for the removal of the full notebook cells\n",
       "var notebookContainer = gd.closest('#notebook-container');\n",
       "if (notebookContainer) {{\n",
       "    x.observe(notebookContainer, {childList: true});\n",
       "}}\n",
       "\n",
       "// Listen for the clearing of the current output cell\n",
       "var outputEl = gd.closest('.output');\n",
       "if (outputEl) {{\n",
       "    x.observe(outputEl, {childList: true});\n",
       "}}\n",
       "\n",
       "                        })                };                });            </script>        </div>"
      ]
     },
     "metadata": {}
    }
   ],
   "metadata": {
    "execution": {
     "iopub.execute_input": "2021-07-04T08:40:49.423023Z",
     "iopub.status.busy": "2021-07-04T08:40:49.421909Z",
     "iopub.status.idle": "2021-07-04T08:40:49.609865Z",
     "shell.execute_reply": "2021-07-04T08:40:49.610327Z",
     "shell.execute_reply.started": "2021-07-04T08:35:41.669606Z"
    },
    "papermill": {
     "duration": 0.224831,
     "end_time": "2021-07-04T08:40:49.610502",
     "exception": false,
     "start_time": "2021-07-04T08:40:49.385671",
     "status": "completed"
    },
    "tags": []
   }
  },
  {
   "cell_type": "markdown",
   "source": [
    "## From above plot we can conclude that Global Share are Right Skewed"
   ],
   "metadata": {
    "papermill": {
     "duration": 0.031433,
     "end_time": "2021-07-04T08:40:49.672978",
     "exception": false,
     "start_time": "2021-07-04T08:40:49.641545",
     "status": "completed"
    },
    "tags": []
   }
  },
  {
   "cell_type": "markdown",
   "source": [
    "<div style=\"color:white;\n",
    "           display:fill;\n",
    "           border-radius:10px;\n",
    "           font-size:110%;\n",
    "           font-family:cursive;\n",
    "           letter-spacing:0.5px;\n",
    "           background-color:#4ff0d2;\n",
    "           color:Black;\n",
    "           font-family:cursive;\n",
    "            padding:5px 5px 5px 5px;\n",
    "           \">\n",
    "<h1 style=\"text-align:center;font-weight: bold\"> Pie Chart </h1></div>\n",
    "\n"
   ],
   "metadata": {
    "papermill": {
     "duration": 0.031453,
     "end_time": "2021-07-04T08:40:49.735805",
     "exception": false,
     "start_time": "2021-07-04T08:40:49.704352",
     "status": "completed"
    },
    "tags": []
   }
  },
  {
   "cell_type": "code",
   "execution_count": 13,
   "source": [
    "fig = px.pie(dataset, names='Sub-sector', values='GlobalShare', template = 'plotly_dark', \n",
    "             title = 'Representation of Sub-Sectors with their Global Shares')\n",
    "fig.show()"
   ],
   "outputs": [
    {
     "output_type": "display_data",
     "data": {
      "text/html": [
       "<div>                            <div id=\"e1c0d9d6-855e-424a-a6dc-47698e862121\" class=\"plotly-graph-div\" style=\"height:525px; width:100%;\"></div>            <script type=\"text/javascript\">                require([\"plotly\"], function(Plotly) {                    window.PLOTLYENV=window.PLOTLYENV || {};                                    if (document.getElementById(\"e1c0d9d6-855e-424a-a6dc-47698e862121\")) {                    Plotly.newPlot(                        \"e1c0d9d6-855e-424a-a6dc-47698e862121\",                        [{\"domain\": {\"x\": [0.0, 1.0], \"y\": [0.0, 1.0]}, \"hovertemplate\": \"Sub-sector=%{label}<br>GlobalShare=%{value}<extra></extra>\", \"labels\": [\"Road\", \"Aviation\", \"Rail\", \"Pipeline\", \"Ship\", \"Residential\", \"Commercial\", \"Iron & Steel\", \"Non-ferous metals\", \"Machinery\", \"Food and tobacco\", \"Paper pulp & printing\", \"Chemical & petrochemical (energy)\", \"Other industry\", \"Energy in Agri & Fishing\", \"Unallocated fuel combustion\", \"Coal\", \"Oil & Natural Gas\", \"Cement\", \"Chemical & petrochemical (industrial)\", \"Livestock & Manure\", \"Rice Cultivation\", \"Agricultural Soils\", \"Crop Burning\", \"Forest Land\", \"Cropland\", \"Grassland\", \"Landfills\", \"Wastewater\"], \"legendgroup\": \"\", \"name\": \"\", \"showlegend\": true, \"type\": \"pie\", \"values\": [11.9, 1.9, 0.4, 0.3, 1.7, 10.9, 6.6, 7.2, 0.7, 0.5, 1.0, 0.6, 3.6, 10.6, 1.7, 7.8, 1.9, 3.9, 3.0, 2.2, 5.8, 1.3, 4.1, 3.5, 2.2, 1.4, 0.1, 1.9, 1.3]}],                        {\"legend\": {\"tracegroupgap\": 0}, \"template\": {\"data\": {\"bar\": [{\"error_x\": {\"color\": \"#f2f5fa\"}, \"error_y\": {\"color\": \"#f2f5fa\"}, \"marker\": {\"line\": {\"color\": \"rgb(17,17,17)\", \"width\": 0.5}}, \"type\": \"bar\"}], \"barpolar\": [{\"marker\": {\"line\": {\"color\": \"rgb(17,17,17)\", \"width\": 0.5}}, \"type\": \"barpolar\"}], \"carpet\": [{\"aaxis\": {\"endlinecolor\": \"#A2B1C6\", \"gridcolor\": \"#506784\", \"linecolor\": \"#506784\", \"minorgridcolor\": \"#506784\", \"startlinecolor\": \"#A2B1C6\"}, \"baxis\": {\"endlinecolor\": \"#A2B1C6\", \"gridcolor\": \"#506784\", \"linecolor\": \"#506784\", \"minorgridcolor\": \"#506784\", \"startlinecolor\": \"#A2B1C6\"}, \"type\": \"carpet\"}], \"choropleth\": [{\"colorbar\": {\"outlinewidth\": 0, \"ticks\": \"\"}, \"type\": \"choropleth\"}], \"contour\": [{\"colorbar\": {\"outlinewidth\": 0, \"ticks\": \"\"}, \"colorscale\": [[0.0, \"#0d0887\"], [0.1111111111111111, \"#46039f\"], [0.2222222222222222, \"#7201a8\"], [0.3333333333333333, \"#9c179e\"], [0.4444444444444444, \"#bd3786\"], [0.5555555555555556, \"#d8576b\"], [0.6666666666666666, \"#ed7953\"], [0.7777777777777778, \"#fb9f3a\"], [0.8888888888888888, \"#fdca26\"], [1.0, \"#f0f921\"]], \"type\": \"contour\"}], \"contourcarpet\": [{\"colorbar\": {\"outlinewidth\": 0, \"ticks\": \"\"}, \"type\": \"contourcarpet\"}], \"heatmap\": [{\"colorbar\": {\"outlinewidth\": 0, \"ticks\": \"\"}, \"colorscale\": [[0.0, \"#0d0887\"], [0.1111111111111111, \"#46039f\"], [0.2222222222222222, \"#7201a8\"], [0.3333333333333333, \"#9c179e\"], [0.4444444444444444, \"#bd3786\"], [0.5555555555555556, \"#d8576b\"], [0.6666666666666666, \"#ed7953\"], [0.7777777777777778, \"#fb9f3a\"], [0.8888888888888888, \"#fdca26\"], [1.0, \"#f0f921\"]], \"type\": \"heatmap\"}], \"heatmapgl\": [{\"colorbar\": {\"outlinewidth\": 0, \"ticks\": \"\"}, \"colorscale\": [[0.0, \"#0d0887\"], [0.1111111111111111, \"#46039f\"], [0.2222222222222222, \"#7201a8\"], [0.3333333333333333, \"#9c179e\"], [0.4444444444444444, \"#bd3786\"], [0.5555555555555556, \"#d8576b\"], [0.6666666666666666, \"#ed7953\"], [0.7777777777777778, \"#fb9f3a\"], [0.8888888888888888, \"#fdca26\"], [1.0, \"#f0f921\"]], \"type\": \"heatmapgl\"}], \"histogram\": [{\"marker\": {\"colorbar\": {\"outlinewidth\": 0, \"ticks\": \"\"}}, \"type\": \"histogram\"}], \"histogram2d\": [{\"colorbar\": {\"outlinewidth\": 0, \"ticks\": \"\"}, \"colorscale\": [[0.0, \"#0d0887\"], [0.1111111111111111, \"#46039f\"], [0.2222222222222222, \"#7201a8\"], [0.3333333333333333, \"#9c179e\"], [0.4444444444444444, \"#bd3786\"], [0.5555555555555556, \"#d8576b\"], [0.6666666666666666, \"#ed7953\"], [0.7777777777777778, \"#fb9f3a\"], [0.8888888888888888, \"#fdca26\"], [1.0, \"#f0f921\"]], \"type\": \"histogram2d\"}], \"histogram2dcontour\": [{\"colorbar\": {\"outlinewidth\": 0, \"ticks\": \"\"}, \"colorscale\": [[0.0, \"#0d0887\"], [0.1111111111111111, \"#46039f\"], [0.2222222222222222, \"#7201a8\"], [0.3333333333333333, \"#9c179e\"], [0.4444444444444444, \"#bd3786\"], [0.5555555555555556, \"#d8576b\"], [0.6666666666666666, \"#ed7953\"], [0.7777777777777778, \"#fb9f3a\"], [0.8888888888888888, \"#fdca26\"], [1.0, \"#f0f921\"]], \"type\": \"histogram2dcontour\"}], \"mesh3d\": [{\"colorbar\": {\"outlinewidth\": 0, \"ticks\": \"\"}, \"type\": \"mesh3d\"}], \"parcoords\": [{\"line\": {\"colorbar\": {\"outlinewidth\": 0, \"ticks\": \"\"}}, \"type\": \"parcoords\"}], \"pie\": [{\"automargin\": true, \"type\": \"pie\"}], \"scatter\": [{\"marker\": {\"line\": {\"color\": \"#283442\"}}, \"type\": \"scatter\"}], \"scatter3d\": [{\"line\": {\"colorbar\": {\"outlinewidth\": 0, \"ticks\": \"\"}}, \"marker\": {\"colorbar\": {\"outlinewidth\": 0, \"ticks\": \"\"}}, \"type\": \"scatter3d\"}], \"scattercarpet\": [{\"marker\": {\"colorbar\": {\"outlinewidth\": 0, \"ticks\": \"\"}}, \"type\": \"scattercarpet\"}], \"scattergeo\": [{\"marker\": {\"colorbar\": {\"outlinewidth\": 0, \"ticks\": \"\"}}, \"type\": \"scattergeo\"}], \"scattergl\": [{\"marker\": {\"line\": {\"color\": \"#283442\"}}, \"type\": \"scattergl\"}], \"scattermapbox\": [{\"marker\": {\"colorbar\": {\"outlinewidth\": 0, \"ticks\": \"\"}}, \"type\": \"scattermapbox\"}], \"scatterpolar\": [{\"marker\": {\"colorbar\": {\"outlinewidth\": 0, \"ticks\": \"\"}}, \"type\": \"scatterpolar\"}], \"scatterpolargl\": [{\"marker\": {\"colorbar\": {\"outlinewidth\": 0, \"ticks\": \"\"}}, \"type\": \"scatterpolargl\"}], \"scatterternary\": [{\"marker\": {\"colorbar\": {\"outlinewidth\": 0, \"ticks\": \"\"}}, \"type\": \"scatterternary\"}], \"surface\": [{\"colorbar\": {\"outlinewidth\": 0, \"ticks\": \"\"}, \"colorscale\": [[0.0, \"#0d0887\"], [0.1111111111111111, \"#46039f\"], [0.2222222222222222, \"#7201a8\"], [0.3333333333333333, \"#9c179e\"], [0.4444444444444444, \"#bd3786\"], [0.5555555555555556, \"#d8576b\"], [0.6666666666666666, \"#ed7953\"], [0.7777777777777778, \"#fb9f3a\"], [0.8888888888888888, \"#fdca26\"], [1.0, \"#f0f921\"]], \"type\": \"surface\"}], \"table\": [{\"cells\": {\"fill\": {\"color\": \"#506784\"}, \"line\": {\"color\": \"rgb(17,17,17)\"}}, \"header\": {\"fill\": {\"color\": \"#2a3f5f\"}, \"line\": {\"color\": \"rgb(17,17,17)\"}}, \"type\": \"table\"}]}, \"layout\": {\"annotationdefaults\": {\"arrowcolor\": \"#f2f5fa\", \"arrowhead\": 0, \"arrowwidth\": 1}, \"autotypenumbers\": \"strict\", \"coloraxis\": {\"colorbar\": {\"outlinewidth\": 0, \"ticks\": \"\"}}, \"colorscale\": {\"diverging\": [[0, \"#8e0152\"], [0.1, \"#c51b7d\"], [0.2, \"#de77ae\"], [0.3, \"#f1b6da\"], [0.4, \"#fde0ef\"], [0.5, \"#f7f7f7\"], [0.6, \"#e6f5d0\"], [0.7, \"#b8e186\"], [0.8, \"#7fbc41\"], [0.9, \"#4d9221\"], [1, \"#276419\"]], \"sequential\": [[0.0, \"#0d0887\"], [0.1111111111111111, \"#46039f\"], [0.2222222222222222, \"#7201a8\"], [0.3333333333333333, \"#9c179e\"], [0.4444444444444444, \"#bd3786\"], [0.5555555555555556, \"#d8576b\"], [0.6666666666666666, \"#ed7953\"], [0.7777777777777778, \"#fb9f3a\"], [0.8888888888888888, \"#fdca26\"], [1.0, \"#f0f921\"]], \"sequentialminus\": [[0.0, \"#0d0887\"], [0.1111111111111111, \"#46039f\"], [0.2222222222222222, \"#7201a8\"], [0.3333333333333333, \"#9c179e\"], [0.4444444444444444, \"#bd3786\"], [0.5555555555555556, \"#d8576b\"], [0.6666666666666666, \"#ed7953\"], [0.7777777777777778, \"#fb9f3a\"], [0.8888888888888888, \"#fdca26\"], [1.0, \"#f0f921\"]]}, \"colorway\": [\"#636efa\", \"#EF553B\", \"#00cc96\", \"#ab63fa\", \"#FFA15A\", \"#19d3f3\", \"#FF6692\", \"#B6E880\", \"#FF97FF\", \"#FECB52\"], \"font\": {\"color\": \"#f2f5fa\"}, \"geo\": {\"bgcolor\": \"rgb(17,17,17)\", \"lakecolor\": \"rgb(17,17,17)\", \"landcolor\": \"rgb(17,17,17)\", \"showlakes\": true, \"showland\": true, \"subunitcolor\": \"#506784\"}, \"hoverlabel\": {\"align\": \"left\"}, \"hovermode\": \"closest\", \"mapbox\": {\"style\": \"dark\"}, \"paper_bgcolor\": \"rgb(17,17,17)\", \"plot_bgcolor\": \"rgb(17,17,17)\", \"polar\": {\"angularaxis\": {\"gridcolor\": \"#506784\", \"linecolor\": \"#506784\", \"ticks\": \"\"}, \"bgcolor\": \"rgb(17,17,17)\", \"radialaxis\": {\"gridcolor\": \"#506784\", \"linecolor\": \"#506784\", \"ticks\": \"\"}}, \"scene\": {\"xaxis\": {\"backgroundcolor\": \"rgb(17,17,17)\", \"gridcolor\": \"#506784\", \"gridwidth\": 2, \"linecolor\": \"#506784\", \"showbackground\": true, \"ticks\": \"\", \"zerolinecolor\": \"#C8D4E3\"}, \"yaxis\": {\"backgroundcolor\": \"rgb(17,17,17)\", \"gridcolor\": \"#506784\", \"gridwidth\": 2, \"linecolor\": \"#506784\", \"showbackground\": true, \"ticks\": \"\", \"zerolinecolor\": \"#C8D4E3\"}, \"zaxis\": {\"backgroundcolor\": \"rgb(17,17,17)\", \"gridcolor\": \"#506784\", \"gridwidth\": 2, \"linecolor\": \"#506784\", \"showbackground\": true, \"ticks\": \"\", \"zerolinecolor\": \"#C8D4E3\"}}, \"shapedefaults\": {\"line\": {\"color\": \"#f2f5fa\"}}, \"sliderdefaults\": {\"bgcolor\": \"#C8D4E3\", \"bordercolor\": \"rgb(17,17,17)\", \"borderwidth\": 1, \"tickwidth\": 0}, \"ternary\": {\"aaxis\": {\"gridcolor\": \"#506784\", \"linecolor\": \"#506784\", \"ticks\": \"\"}, \"baxis\": {\"gridcolor\": \"#506784\", \"linecolor\": \"#506784\", \"ticks\": \"\"}, \"bgcolor\": \"rgb(17,17,17)\", \"caxis\": {\"gridcolor\": \"#506784\", \"linecolor\": \"#506784\", \"ticks\": \"\"}}, \"title\": {\"x\": 0.05}, \"updatemenudefaults\": {\"bgcolor\": \"#506784\", \"borderwidth\": 0}, \"xaxis\": {\"automargin\": true, \"gridcolor\": \"#283442\", \"linecolor\": \"#506784\", \"ticks\": \"\", \"title\": {\"standoff\": 15}, \"zerolinecolor\": \"#283442\", \"zerolinewidth\": 2}, \"yaxis\": {\"automargin\": true, \"gridcolor\": \"#283442\", \"linecolor\": \"#506784\", \"ticks\": \"\", \"title\": {\"standoff\": 15}, \"zerolinecolor\": \"#283442\", \"zerolinewidth\": 2}}}, \"title\": {\"text\": \"Representation of Sub-Sectors with their Global Shares\"}},                        {\"responsive\": true}                    ).then(function(){\n",
       "                            \n",
       "var gd = document.getElementById('e1c0d9d6-855e-424a-a6dc-47698e862121');\n",
       "var x = new MutationObserver(function (mutations, observer) {{\n",
       "        var display = window.getComputedStyle(gd).display;\n",
       "        if (!display || display === 'none') {{\n",
       "            console.log([gd, 'removed!']);\n",
       "            Plotly.purge(gd);\n",
       "            observer.disconnect();\n",
       "        }}\n",
       "}});\n",
       "\n",
       "// Listen for the removal of the full notebook cells\n",
       "var notebookContainer = gd.closest('#notebook-container');\n",
       "if (notebookContainer) {{\n",
       "    x.observe(notebookContainer, {childList: true});\n",
       "}}\n",
       "\n",
       "// Listen for the clearing of the current output cell\n",
       "var outputEl = gd.closest('.output');\n",
       "if (outputEl) {{\n",
       "    x.observe(outputEl, {childList: true});\n",
       "}}\n",
       "\n",
       "                        })                };                });            </script>        </div>"
      ]
     },
     "metadata": {}
    }
   ],
   "metadata": {
    "execution": {
     "iopub.execute_input": "2021-07-04T08:40:49.810796Z",
     "iopub.status.busy": "2021-07-04T08:40:49.809854Z",
     "iopub.status.idle": "2021-07-04T08:40:49.874528Z",
     "shell.execute_reply": "2021-07-04T08:40:49.873921Z",
     "shell.execute_reply.started": "2021-07-04T08:35:41.853613Z"
    },
    "papermill": {
     "duration": 0.107161,
     "end_time": "2021-07-04T08:40:49.874669",
     "exception": false,
     "start_time": "2021-07-04T08:40:49.767508",
     "status": "completed"
    },
    "tags": []
   }
  },
  {
   "cell_type": "markdown",
   "source": [
    "## Above Plot tells us Sub-Sector Road has max. Global Share"
   ],
   "metadata": {
    "papermill": {
     "duration": 0.031662,
     "end_time": "2021-07-04T08:40:49.937962",
     "exception": false,
     "start_time": "2021-07-04T08:40:49.906300",
     "status": "completed"
    },
    "tags": []
   }
  },
  {
   "cell_type": "markdown",
   "source": [
    "<div style=\"color:white;\n",
    "           display:fill;\n",
    "           border-radius:10px;\n",
    "           font-size:110%;\n",
    "           font-family:cursive;\n",
    "           letter-spacing:0.5px;\n",
    "           background-color:#4ff0d2;\n",
    "           color:Black;\n",
    "           font-family:cursive;\n",
    "            padding:5px 5px 5px 5px;\n",
    "           \">\n",
    "<h1 style=\"text-align:center;font-weight: bold\"> Box Plot </h1></div>\n",
    "\n"
   ],
   "metadata": {
    "papermill": {
     "duration": 0.031162,
     "end_time": "2021-07-04T08:40:50.001241",
     "exception": false,
     "start_time": "2021-07-04T08:40:49.970079",
     "status": "completed"
    },
    "tags": []
   }
  },
  {
   "cell_type": "code",
   "execution_count": 14,
   "source": [
    "fig = px.box(dataset, y=\"GlobalShare\" ,template = 'plotly_dark', \n",
    "             title = 'Representation of Global Shares')\n",
    "fig.show()"
   ],
   "outputs": [
    {
     "output_type": "display_data",
     "data": {
      "text/html": [
       "<div>                            <div id=\"f2629d7a-88b7-42a7-b314-997ccc24049e\" class=\"plotly-graph-div\" style=\"height:525px; width:100%;\"></div>            <script type=\"text/javascript\">                require([\"plotly\"], function(Plotly) {                    window.PLOTLYENV=window.PLOTLYENV || {};                                    if (document.getElementById(\"f2629d7a-88b7-42a7-b314-997ccc24049e\")) {                    Plotly.newPlot(                        \"f2629d7a-88b7-42a7-b314-997ccc24049e\",                        [{\"alignmentgroup\": \"True\", \"hovertemplate\": \"GlobalShare=%{y}<extra></extra>\", \"legendgroup\": \"\", \"marker\": {\"color\": \"#636efa\"}, \"name\": \"\", \"notched\": false, \"offsetgroup\": \"\", \"orientation\": \"v\", \"showlegend\": false, \"type\": \"box\", \"x0\": \" \", \"xaxis\": \"x\", \"y\": [11.9, 1.9, 0.4, 0.3, 1.7, 10.9, 6.6, 7.2, 0.7, 0.5, 1.0, 0.6, 3.6, 10.6, 1.7, 7.8, 1.9, 3.9, 3.0, 2.2, 5.8, 1.3, 4.1, 3.5, 2.2, 1.4, 0.1, 1.9, 1.3], \"y0\": \" \", \"yaxis\": \"y\"}],                        {\"boxmode\": \"group\", \"legend\": {\"tracegroupgap\": 0}, \"template\": {\"data\": {\"bar\": [{\"error_x\": {\"color\": \"#f2f5fa\"}, \"error_y\": {\"color\": \"#f2f5fa\"}, \"marker\": {\"line\": {\"color\": \"rgb(17,17,17)\", \"width\": 0.5}}, \"type\": \"bar\"}], \"barpolar\": [{\"marker\": {\"line\": {\"color\": \"rgb(17,17,17)\", \"width\": 0.5}}, \"type\": \"barpolar\"}], \"carpet\": [{\"aaxis\": {\"endlinecolor\": \"#A2B1C6\", \"gridcolor\": \"#506784\", \"linecolor\": \"#506784\", \"minorgridcolor\": \"#506784\", \"startlinecolor\": \"#A2B1C6\"}, \"baxis\": {\"endlinecolor\": \"#A2B1C6\", \"gridcolor\": \"#506784\", \"linecolor\": \"#506784\", \"minorgridcolor\": \"#506784\", \"startlinecolor\": \"#A2B1C6\"}, \"type\": \"carpet\"}], \"choropleth\": [{\"colorbar\": {\"outlinewidth\": 0, \"ticks\": \"\"}, \"type\": \"choropleth\"}], \"contour\": [{\"colorbar\": {\"outlinewidth\": 0, \"ticks\": \"\"}, \"colorscale\": [[0.0, \"#0d0887\"], [0.1111111111111111, \"#46039f\"], [0.2222222222222222, \"#7201a8\"], [0.3333333333333333, \"#9c179e\"], [0.4444444444444444, \"#bd3786\"], [0.5555555555555556, \"#d8576b\"], [0.6666666666666666, \"#ed7953\"], [0.7777777777777778, \"#fb9f3a\"], [0.8888888888888888, \"#fdca26\"], [1.0, \"#f0f921\"]], \"type\": \"contour\"}], \"contourcarpet\": [{\"colorbar\": {\"outlinewidth\": 0, \"ticks\": \"\"}, \"type\": \"contourcarpet\"}], \"heatmap\": [{\"colorbar\": {\"outlinewidth\": 0, \"ticks\": \"\"}, \"colorscale\": [[0.0, \"#0d0887\"], [0.1111111111111111, \"#46039f\"], [0.2222222222222222, \"#7201a8\"], [0.3333333333333333, \"#9c179e\"], [0.4444444444444444, \"#bd3786\"], [0.5555555555555556, \"#d8576b\"], [0.6666666666666666, \"#ed7953\"], [0.7777777777777778, \"#fb9f3a\"], [0.8888888888888888, \"#fdca26\"], [1.0, \"#f0f921\"]], \"type\": \"heatmap\"}], \"heatmapgl\": [{\"colorbar\": {\"outlinewidth\": 0, \"ticks\": \"\"}, \"colorscale\": [[0.0, \"#0d0887\"], [0.1111111111111111, \"#46039f\"], [0.2222222222222222, \"#7201a8\"], [0.3333333333333333, \"#9c179e\"], [0.4444444444444444, \"#bd3786\"], [0.5555555555555556, \"#d8576b\"], [0.6666666666666666, \"#ed7953\"], [0.7777777777777778, \"#fb9f3a\"], [0.8888888888888888, \"#fdca26\"], [1.0, \"#f0f921\"]], \"type\": \"heatmapgl\"}], \"histogram\": [{\"marker\": {\"colorbar\": {\"outlinewidth\": 0, \"ticks\": \"\"}}, \"type\": \"histogram\"}], \"histogram2d\": [{\"colorbar\": {\"outlinewidth\": 0, \"ticks\": \"\"}, \"colorscale\": [[0.0, \"#0d0887\"], [0.1111111111111111, \"#46039f\"], [0.2222222222222222, \"#7201a8\"], [0.3333333333333333, \"#9c179e\"], [0.4444444444444444, \"#bd3786\"], [0.5555555555555556, \"#d8576b\"], [0.6666666666666666, \"#ed7953\"], [0.7777777777777778, \"#fb9f3a\"], [0.8888888888888888, \"#fdca26\"], [1.0, \"#f0f921\"]], \"type\": \"histogram2d\"}], \"histogram2dcontour\": [{\"colorbar\": {\"outlinewidth\": 0, \"ticks\": \"\"}, \"colorscale\": [[0.0, \"#0d0887\"], [0.1111111111111111, \"#46039f\"], [0.2222222222222222, \"#7201a8\"], [0.3333333333333333, \"#9c179e\"], [0.4444444444444444, \"#bd3786\"], [0.5555555555555556, \"#d8576b\"], [0.6666666666666666, \"#ed7953\"], [0.7777777777777778, \"#fb9f3a\"], [0.8888888888888888, \"#fdca26\"], [1.0, \"#f0f921\"]], \"type\": \"histogram2dcontour\"}], \"mesh3d\": [{\"colorbar\": {\"outlinewidth\": 0, \"ticks\": \"\"}, \"type\": \"mesh3d\"}], \"parcoords\": [{\"line\": {\"colorbar\": {\"outlinewidth\": 0, \"ticks\": \"\"}}, \"type\": \"parcoords\"}], \"pie\": [{\"automargin\": true, \"type\": \"pie\"}], \"scatter\": [{\"marker\": {\"line\": {\"color\": \"#283442\"}}, \"type\": \"scatter\"}], \"scatter3d\": [{\"line\": {\"colorbar\": {\"outlinewidth\": 0, \"ticks\": \"\"}}, \"marker\": {\"colorbar\": {\"outlinewidth\": 0, \"ticks\": \"\"}}, \"type\": \"scatter3d\"}], \"scattercarpet\": [{\"marker\": {\"colorbar\": {\"outlinewidth\": 0, \"ticks\": \"\"}}, \"type\": \"scattercarpet\"}], \"scattergeo\": [{\"marker\": {\"colorbar\": {\"outlinewidth\": 0, \"ticks\": \"\"}}, \"type\": \"scattergeo\"}], \"scattergl\": [{\"marker\": {\"line\": {\"color\": \"#283442\"}}, \"type\": \"scattergl\"}], \"scattermapbox\": [{\"marker\": {\"colorbar\": {\"outlinewidth\": 0, \"ticks\": \"\"}}, \"type\": \"scattermapbox\"}], \"scatterpolar\": [{\"marker\": {\"colorbar\": {\"outlinewidth\": 0, \"ticks\": \"\"}}, \"type\": \"scatterpolar\"}], \"scatterpolargl\": [{\"marker\": {\"colorbar\": {\"outlinewidth\": 0, \"ticks\": \"\"}}, \"type\": \"scatterpolargl\"}], \"scatterternary\": [{\"marker\": {\"colorbar\": {\"outlinewidth\": 0, \"ticks\": \"\"}}, \"type\": \"scatterternary\"}], \"surface\": [{\"colorbar\": {\"outlinewidth\": 0, \"ticks\": \"\"}, \"colorscale\": [[0.0, \"#0d0887\"], [0.1111111111111111, \"#46039f\"], [0.2222222222222222, \"#7201a8\"], [0.3333333333333333, \"#9c179e\"], [0.4444444444444444, \"#bd3786\"], [0.5555555555555556, \"#d8576b\"], [0.6666666666666666, \"#ed7953\"], [0.7777777777777778, \"#fb9f3a\"], [0.8888888888888888, \"#fdca26\"], [1.0, \"#f0f921\"]], \"type\": \"surface\"}], \"table\": [{\"cells\": {\"fill\": {\"color\": \"#506784\"}, \"line\": {\"color\": \"rgb(17,17,17)\"}}, \"header\": {\"fill\": {\"color\": \"#2a3f5f\"}, \"line\": {\"color\": \"rgb(17,17,17)\"}}, \"type\": \"table\"}]}, \"layout\": {\"annotationdefaults\": {\"arrowcolor\": \"#f2f5fa\", \"arrowhead\": 0, \"arrowwidth\": 1}, \"autotypenumbers\": \"strict\", \"coloraxis\": {\"colorbar\": {\"outlinewidth\": 0, \"ticks\": \"\"}}, \"colorscale\": {\"diverging\": [[0, \"#8e0152\"], [0.1, \"#c51b7d\"], [0.2, \"#de77ae\"], [0.3, \"#f1b6da\"], [0.4, \"#fde0ef\"], [0.5, \"#f7f7f7\"], [0.6, \"#e6f5d0\"], [0.7, \"#b8e186\"], [0.8, \"#7fbc41\"], [0.9, \"#4d9221\"], [1, \"#276419\"]], \"sequential\": [[0.0, \"#0d0887\"], [0.1111111111111111, \"#46039f\"], [0.2222222222222222, \"#7201a8\"], [0.3333333333333333, \"#9c179e\"], [0.4444444444444444, \"#bd3786\"], [0.5555555555555556, \"#d8576b\"], [0.6666666666666666, \"#ed7953\"], [0.7777777777777778, \"#fb9f3a\"], [0.8888888888888888, \"#fdca26\"], [1.0, \"#f0f921\"]], \"sequentialminus\": [[0.0, \"#0d0887\"], [0.1111111111111111, \"#46039f\"], [0.2222222222222222, \"#7201a8\"], [0.3333333333333333, \"#9c179e\"], [0.4444444444444444, \"#bd3786\"], [0.5555555555555556, \"#d8576b\"], [0.6666666666666666, \"#ed7953\"], [0.7777777777777778, \"#fb9f3a\"], [0.8888888888888888, \"#fdca26\"], [1.0, \"#f0f921\"]]}, \"colorway\": [\"#636efa\", \"#EF553B\", \"#00cc96\", \"#ab63fa\", \"#FFA15A\", \"#19d3f3\", \"#FF6692\", \"#B6E880\", \"#FF97FF\", \"#FECB52\"], \"font\": {\"color\": \"#f2f5fa\"}, \"geo\": {\"bgcolor\": \"rgb(17,17,17)\", \"lakecolor\": \"rgb(17,17,17)\", \"landcolor\": \"rgb(17,17,17)\", \"showlakes\": true, \"showland\": true, \"subunitcolor\": \"#506784\"}, \"hoverlabel\": {\"align\": \"left\"}, \"hovermode\": \"closest\", \"mapbox\": {\"style\": \"dark\"}, \"paper_bgcolor\": \"rgb(17,17,17)\", \"plot_bgcolor\": \"rgb(17,17,17)\", \"polar\": {\"angularaxis\": {\"gridcolor\": \"#506784\", \"linecolor\": \"#506784\", \"ticks\": \"\"}, \"bgcolor\": \"rgb(17,17,17)\", \"radialaxis\": {\"gridcolor\": \"#506784\", \"linecolor\": \"#506784\", \"ticks\": \"\"}}, \"scene\": {\"xaxis\": {\"backgroundcolor\": \"rgb(17,17,17)\", \"gridcolor\": \"#506784\", \"gridwidth\": 2, \"linecolor\": \"#506784\", \"showbackground\": true, \"ticks\": \"\", \"zerolinecolor\": \"#C8D4E3\"}, \"yaxis\": {\"backgroundcolor\": \"rgb(17,17,17)\", \"gridcolor\": \"#506784\", \"gridwidth\": 2, \"linecolor\": \"#506784\", \"showbackground\": true, \"ticks\": \"\", \"zerolinecolor\": \"#C8D4E3\"}, \"zaxis\": {\"backgroundcolor\": \"rgb(17,17,17)\", \"gridcolor\": \"#506784\", \"gridwidth\": 2, \"linecolor\": \"#506784\", \"showbackground\": true, \"ticks\": \"\", \"zerolinecolor\": \"#C8D4E3\"}}, \"shapedefaults\": {\"line\": {\"color\": \"#f2f5fa\"}}, \"sliderdefaults\": {\"bgcolor\": \"#C8D4E3\", \"bordercolor\": \"rgb(17,17,17)\", \"borderwidth\": 1, \"tickwidth\": 0}, \"ternary\": {\"aaxis\": {\"gridcolor\": \"#506784\", \"linecolor\": \"#506784\", \"ticks\": \"\"}, \"baxis\": {\"gridcolor\": \"#506784\", \"linecolor\": \"#506784\", \"ticks\": \"\"}, \"bgcolor\": \"rgb(17,17,17)\", \"caxis\": {\"gridcolor\": \"#506784\", \"linecolor\": \"#506784\", \"ticks\": \"\"}}, \"title\": {\"x\": 0.05}, \"updatemenudefaults\": {\"bgcolor\": \"#506784\", \"borderwidth\": 0}, \"xaxis\": {\"automargin\": true, \"gridcolor\": \"#283442\", \"linecolor\": \"#506784\", \"ticks\": \"\", \"title\": {\"standoff\": 15}, \"zerolinecolor\": \"#283442\", \"zerolinewidth\": 2}, \"yaxis\": {\"automargin\": true, \"gridcolor\": \"#283442\", \"linecolor\": \"#506784\", \"ticks\": \"\", \"title\": {\"standoff\": 15}, \"zerolinecolor\": \"#283442\", \"zerolinewidth\": 2}}}, \"title\": {\"text\": \"Representation of Global Shares\"}, \"xaxis\": {\"anchor\": \"y\", \"domain\": [0.0, 1.0]}, \"yaxis\": {\"anchor\": \"x\", \"domain\": [0.0, 1.0], \"title\": {\"text\": \"GlobalShare\"}}},                        {\"responsive\": true}                    ).then(function(){\n",
       "                            \n",
       "var gd = document.getElementById('f2629d7a-88b7-42a7-b314-997ccc24049e');\n",
       "var x = new MutationObserver(function (mutations, observer) {{\n",
       "        var display = window.getComputedStyle(gd).display;\n",
       "        if (!display || display === 'none') {{\n",
       "            console.log([gd, 'removed!']);\n",
       "            Plotly.purge(gd);\n",
       "            observer.disconnect();\n",
       "        }}\n",
       "}});\n",
       "\n",
       "// Listen for the removal of the full notebook cells\n",
       "var notebookContainer = gd.closest('#notebook-container');\n",
       "if (notebookContainer) {{\n",
       "    x.observe(notebookContainer, {childList: true});\n",
       "}}\n",
       "\n",
       "// Listen for the clearing of the current output cell\n",
       "var outputEl = gd.closest('.output');\n",
       "if (outputEl) {{\n",
       "    x.observe(outputEl, {childList: true});\n",
       "}}\n",
       "\n",
       "                        })                };                });            </script>        </div>"
      ]
     },
     "metadata": {}
    }
   ],
   "metadata": {
    "execution": {
     "iopub.execute_input": "2021-07-04T08:40:50.067707Z",
     "iopub.status.busy": "2021-07-04T08:40:50.066980Z",
     "iopub.status.idle": "2021-07-04T08:40:50.132385Z",
     "shell.execute_reply": "2021-07-04T08:40:50.131858Z",
     "shell.execute_reply.started": "2021-07-04T08:35:41.922035Z"
    },
    "papermill": {
     "duration": 0.099504,
     "end_time": "2021-07-04T08:40:50.132531",
     "exception": false,
     "start_time": "2021-07-04T08:40:50.033027",
     "status": "completed"
    },
    "tags": []
   }
  },
  {
   "cell_type": "markdown",
   "source": [
    "<div style=\"color:white;\n",
    "           display:fill;\n",
    "           border-radius:10px;\n",
    "           font-size:110%;\n",
    "           font-family:cursive;\n",
    "           letter-spacing:0.5px;\n",
    "           background-color:#4ff0d2;\n",
    "           color:Black;\n",
    "           font-family:cursive;\n",
    "            padding:5px 5px 5px 5px;\n",
    "           \">\n",
    "<h1 style=\"text-align:center;font-weight: bold\"> Violin Plot </h1></div>\n",
    "\n"
   ],
   "metadata": {
    "papermill": {
     "duration": 0.0321,
     "end_time": "2021-07-04T08:40:50.197011",
     "exception": false,
     "start_time": "2021-07-04T08:40:50.164911",
     "status": "completed"
    },
    "tags": []
   }
  },
  {
   "cell_type": "code",
   "execution_count": 15,
   "source": [
    "fig = px.violin(dataset, y=\"GlobalShare\",template = 'plotly_dark')\n",
    "fig.show()"
   ],
   "outputs": [
    {
     "output_type": "display_data",
     "data": {
      "text/html": [
       "<div>                            <div id=\"d6a5232c-fdbd-4e97-ab3e-ddb9f114f898\" class=\"plotly-graph-div\" style=\"height:525px; width:100%;\"></div>            <script type=\"text/javascript\">                require([\"plotly\"], function(Plotly) {                    window.PLOTLYENV=window.PLOTLYENV || {};                                    if (document.getElementById(\"d6a5232c-fdbd-4e97-ab3e-ddb9f114f898\")) {                    Plotly.newPlot(                        \"d6a5232c-fdbd-4e97-ab3e-ddb9f114f898\",                        [{\"alignmentgroup\": \"True\", \"box\": {\"visible\": false}, \"hovertemplate\": \"GlobalShare=%{y}<extra></extra>\", \"legendgroup\": \"\", \"marker\": {\"color\": \"#636efa\"}, \"name\": \"\", \"offsetgroup\": \"\", \"orientation\": \"v\", \"scalegroup\": \"True\", \"showlegend\": false, \"type\": \"violin\", \"x0\": \" \", \"xaxis\": \"x\", \"y\": [11.9, 1.9, 0.4, 0.3, 1.7, 10.9, 6.6, 7.2, 0.7, 0.5, 1.0, 0.6, 3.6, 10.6, 1.7, 7.8, 1.9, 3.9, 3.0, 2.2, 5.8, 1.3, 4.1, 3.5, 2.2, 1.4, 0.1, 1.9, 1.3], \"y0\": \" \", \"yaxis\": \"y\"}],                        {\"legend\": {\"tracegroupgap\": 0}, \"margin\": {\"t\": 60}, \"template\": {\"data\": {\"bar\": [{\"error_x\": {\"color\": \"#f2f5fa\"}, \"error_y\": {\"color\": \"#f2f5fa\"}, \"marker\": {\"line\": {\"color\": \"rgb(17,17,17)\", \"width\": 0.5}}, \"type\": \"bar\"}], \"barpolar\": [{\"marker\": {\"line\": {\"color\": \"rgb(17,17,17)\", \"width\": 0.5}}, \"type\": \"barpolar\"}], \"carpet\": [{\"aaxis\": {\"endlinecolor\": \"#A2B1C6\", \"gridcolor\": \"#506784\", \"linecolor\": \"#506784\", \"minorgridcolor\": \"#506784\", \"startlinecolor\": \"#A2B1C6\"}, \"baxis\": {\"endlinecolor\": \"#A2B1C6\", \"gridcolor\": \"#506784\", \"linecolor\": \"#506784\", \"minorgridcolor\": \"#506784\", \"startlinecolor\": \"#A2B1C6\"}, \"type\": \"carpet\"}], \"choropleth\": [{\"colorbar\": {\"outlinewidth\": 0, \"ticks\": \"\"}, \"type\": \"choropleth\"}], \"contour\": [{\"colorbar\": {\"outlinewidth\": 0, \"ticks\": \"\"}, \"colorscale\": [[0.0, \"#0d0887\"], [0.1111111111111111, \"#46039f\"], [0.2222222222222222, \"#7201a8\"], [0.3333333333333333, \"#9c179e\"], [0.4444444444444444, \"#bd3786\"], [0.5555555555555556, \"#d8576b\"], [0.6666666666666666, \"#ed7953\"], [0.7777777777777778, \"#fb9f3a\"], [0.8888888888888888, \"#fdca26\"], [1.0, \"#f0f921\"]], \"type\": \"contour\"}], \"contourcarpet\": [{\"colorbar\": {\"outlinewidth\": 0, \"ticks\": \"\"}, \"type\": \"contourcarpet\"}], \"heatmap\": [{\"colorbar\": {\"outlinewidth\": 0, \"ticks\": \"\"}, \"colorscale\": [[0.0, \"#0d0887\"], [0.1111111111111111, \"#46039f\"], [0.2222222222222222, \"#7201a8\"], [0.3333333333333333, \"#9c179e\"], [0.4444444444444444, \"#bd3786\"], [0.5555555555555556, \"#d8576b\"], [0.6666666666666666, \"#ed7953\"], [0.7777777777777778, \"#fb9f3a\"], [0.8888888888888888, \"#fdca26\"], [1.0, \"#f0f921\"]], \"type\": \"heatmap\"}], \"heatmapgl\": [{\"colorbar\": {\"outlinewidth\": 0, \"ticks\": \"\"}, \"colorscale\": [[0.0, \"#0d0887\"], [0.1111111111111111, \"#46039f\"], [0.2222222222222222, \"#7201a8\"], [0.3333333333333333, \"#9c179e\"], [0.4444444444444444, \"#bd3786\"], [0.5555555555555556, \"#d8576b\"], [0.6666666666666666, \"#ed7953\"], [0.7777777777777778, \"#fb9f3a\"], [0.8888888888888888, \"#fdca26\"], [1.0, \"#f0f921\"]], \"type\": \"heatmapgl\"}], \"histogram\": [{\"marker\": {\"colorbar\": {\"outlinewidth\": 0, \"ticks\": \"\"}}, \"type\": \"histogram\"}], \"histogram2d\": [{\"colorbar\": {\"outlinewidth\": 0, \"ticks\": \"\"}, \"colorscale\": [[0.0, \"#0d0887\"], [0.1111111111111111, \"#46039f\"], [0.2222222222222222, \"#7201a8\"], [0.3333333333333333, \"#9c179e\"], [0.4444444444444444, \"#bd3786\"], [0.5555555555555556, \"#d8576b\"], [0.6666666666666666, \"#ed7953\"], [0.7777777777777778, \"#fb9f3a\"], [0.8888888888888888, \"#fdca26\"], [1.0, \"#f0f921\"]], \"type\": \"histogram2d\"}], \"histogram2dcontour\": [{\"colorbar\": {\"outlinewidth\": 0, \"ticks\": \"\"}, \"colorscale\": [[0.0, \"#0d0887\"], [0.1111111111111111, \"#46039f\"], [0.2222222222222222, \"#7201a8\"], [0.3333333333333333, \"#9c179e\"], [0.4444444444444444, \"#bd3786\"], [0.5555555555555556, \"#d8576b\"], [0.6666666666666666, \"#ed7953\"], [0.7777777777777778, \"#fb9f3a\"], [0.8888888888888888, \"#fdca26\"], [1.0, \"#f0f921\"]], \"type\": \"histogram2dcontour\"}], \"mesh3d\": [{\"colorbar\": {\"outlinewidth\": 0, \"ticks\": \"\"}, \"type\": \"mesh3d\"}], \"parcoords\": [{\"line\": {\"colorbar\": {\"outlinewidth\": 0, \"ticks\": \"\"}}, \"type\": \"parcoords\"}], \"pie\": [{\"automargin\": true, \"type\": \"pie\"}], \"scatter\": [{\"marker\": {\"line\": {\"color\": \"#283442\"}}, \"type\": \"scatter\"}], \"scatter3d\": [{\"line\": {\"colorbar\": {\"outlinewidth\": 0, \"ticks\": \"\"}}, \"marker\": {\"colorbar\": {\"outlinewidth\": 0, \"ticks\": \"\"}}, \"type\": \"scatter3d\"}], \"scattercarpet\": [{\"marker\": {\"colorbar\": {\"outlinewidth\": 0, \"ticks\": \"\"}}, \"type\": \"scattercarpet\"}], \"scattergeo\": [{\"marker\": {\"colorbar\": {\"outlinewidth\": 0, \"ticks\": \"\"}}, \"type\": \"scattergeo\"}], \"scattergl\": [{\"marker\": {\"line\": {\"color\": \"#283442\"}}, \"type\": \"scattergl\"}], \"scattermapbox\": [{\"marker\": {\"colorbar\": {\"outlinewidth\": 0, \"ticks\": \"\"}}, \"type\": \"scattermapbox\"}], \"scatterpolar\": [{\"marker\": {\"colorbar\": {\"outlinewidth\": 0, \"ticks\": \"\"}}, \"type\": \"scatterpolar\"}], \"scatterpolargl\": [{\"marker\": {\"colorbar\": {\"outlinewidth\": 0, \"ticks\": \"\"}}, \"type\": \"scatterpolargl\"}], \"scatterternary\": [{\"marker\": {\"colorbar\": {\"outlinewidth\": 0, \"ticks\": \"\"}}, \"type\": \"scatterternary\"}], \"surface\": [{\"colorbar\": {\"outlinewidth\": 0, \"ticks\": \"\"}, \"colorscale\": [[0.0, \"#0d0887\"], [0.1111111111111111, \"#46039f\"], [0.2222222222222222, \"#7201a8\"], [0.3333333333333333, \"#9c179e\"], [0.4444444444444444, \"#bd3786\"], [0.5555555555555556, \"#d8576b\"], [0.6666666666666666, \"#ed7953\"], [0.7777777777777778, \"#fb9f3a\"], [0.8888888888888888, \"#fdca26\"], [1.0, \"#f0f921\"]], \"type\": \"surface\"}], \"table\": [{\"cells\": {\"fill\": {\"color\": \"#506784\"}, \"line\": {\"color\": \"rgb(17,17,17)\"}}, \"header\": {\"fill\": {\"color\": \"#2a3f5f\"}, \"line\": {\"color\": \"rgb(17,17,17)\"}}, \"type\": \"table\"}]}, \"layout\": {\"annotationdefaults\": {\"arrowcolor\": \"#f2f5fa\", \"arrowhead\": 0, \"arrowwidth\": 1}, \"autotypenumbers\": \"strict\", \"coloraxis\": {\"colorbar\": {\"outlinewidth\": 0, \"ticks\": \"\"}}, \"colorscale\": {\"diverging\": [[0, \"#8e0152\"], [0.1, \"#c51b7d\"], [0.2, \"#de77ae\"], [0.3, \"#f1b6da\"], [0.4, \"#fde0ef\"], [0.5, \"#f7f7f7\"], [0.6, \"#e6f5d0\"], [0.7, \"#b8e186\"], [0.8, \"#7fbc41\"], [0.9, \"#4d9221\"], [1, \"#276419\"]], \"sequential\": [[0.0, \"#0d0887\"], [0.1111111111111111, \"#46039f\"], [0.2222222222222222, \"#7201a8\"], [0.3333333333333333, \"#9c179e\"], [0.4444444444444444, \"#bd3786\"], [0.5555555555555556, \"#d8576b\"], [0.6666666666666666, \"#ed7953\"], [0.7777777777777778, \"#fb9f3a\"], [0.8888888888888888, \"#fdca26\"], [1.0, \"#f0f921\"]], \"sequentialminus\": [[0.0, \"#0d0887\"], [0.1111111111111111, \"#46039f\"], [0.2222222222222222, \"#7201a8\"], [0.3333333333333333, \"#9c179e\"], [0.4444444444444444, \"#bd3786\"], [0.5555555555555556, \"#d8576b\"], [0.6666666666666666, \"#ed7953\"], [0.7777777777777778, \"#fb9f3a\"], [0.8888888888888888, \"#fdca26\"], [1.0, \"#f0f921\"]]}, \"colorway\": [\"#636efa\", \"#EF553B\", \"#00cc96\", \"#ab63fa\", \"#FFA15A\", \"#19d3f3\", \"#FF6692\", \"#B6E880\", \"#FF97FF\", \"#FECB52\"], \"font\": {\"color\": \"#f2f5fa\"}, \"geo\": {\"bgcolor\": \"rgb(17,17,17)\", \"lakecolor\": \"rgb(17,17,17)\", \"landcolor\": \"rgb(17,17,17)\", \"showlakes\": true, \"showland\": true, \"subunitcolor\": \"#506784\"}, \"hoverlabel\": {\"align\": \"left\"}, \"hovermode\": \"closest\", \"mapbox\": {\"style\": \"dark\"}, \"paper_bgcolor\": \"rgb(17,17,17)\", \"plot_bgcolor\": \"rgb(17,17,17)\", \"polar\": {\"angularaxis\": {\"gridcolor\": \"#506784\", \"linecolor\": \"#506784\", \"ticks\": \"\"}, \"bgcolor\": \"rgb(17,17,17)\", \"radialaxis\": {\"gridcolor\": \"#506784\", \"linecolor\": \"#506784\", \"ticks\": \"\"}}, \"scene\": {\"xaxis\": {\"backgroundcolor\": \"rgb(17,17,17)\", \"gridcolor\": \"#506784\", \"gridwidth\": 2, \"linecolor\": \"#506784\", \"showbackground\": true, \"ticks\": \"\", \"zerolinecolor\": \"#C8D4E3\"}, \"yaxis\": {\"backgroundcolor\": \"rgb(17,17,17)\", \"gridcolor\": \"#506784\", \"gridwidth\": 2, \"linecolor\": \"#506784\", \"showbackground\": true, \"ticks\": \"\", \"zerolinecolor\": \"#C8D4E3\"}, \"zaxis\": {\"backgroundcolor\": \"rgb(17,17,17)\", \"gridcolor\": \"#506784\", \"gridwidth\": 2, \"linecolor\": \"#506784\", \"showbackground\": true, \"ticks\": \"\", \"zerolinecolor\": \"#C8D4E3\"}}, \"shapedefaults\": {\"line\": {\"color\": \"#f2f5fa\"}}, \"sliderdefaults\": {\"bgcolor\": \"#C8D4E3\", \"bordercolor\": \"rgb(17,17,17)\", \"borderwidth\": 1, \"tickwidth\": 0}, \"ternary\": {\"aaxis\": {\"gridcolor\": \"#506784\", \"linecolor\": \"#506784\", \"ticks\": \"\"}, \"baxis\": {\"gridcolor\": \"#506784\", \"linecolor\": \"#506784\", \"ticks\": \"\"}, \"bgcolor\": \"rgb(17,17,17)\", \"caxis\": {\"gridcolor\": \"#506784\", \"linecolor\": \"#506784\", \"ticks\": \"\"}}, \"title\": {\"x\": 0.05}, \"updatemenudefaults\": {\"bgcolor\": \"#506784\", \"borderwidth\": 0}, \"xaxis\": {\"automargin\": true, \"gridcolor\": \"#283442\", \"linecolor\": \"#506784\", \"ticks\": \"\", \"title\": {\"standoff\": 15}, \"zerolinecolor\": \"#283442\", \"zerolinewidth\": 2}, \"yaxis\": {\"automargin\": true, \"gridcolor\": \"#283442\", \"linecolor\": \"#506784\", \"ticks\": \"\", \"title\": {\"standoff\": 15}, \"zerolinecolor\": \"#283442\", \"zerolinewidth\": 2}}}, \"violinmode\": \"group\", \"xaxis\": {\"anchor\": \"y\", \"domain\": [0.0, 1.0]}, \"yaxis\": {\"anchor\": \"x\", \"domain\": [0.0, 1.0], \"title\": {\"text\": \"GlobalShare\"}}},                        {\"responsive\": true}                    ).then(function(){\n",
       "                            \n",
       "var gd = document.getElementById('d6a5232c-fdbd-4e97-ab3e-ddb9f114f898');\n",
       "var x = new MutationObserver(function (mutations, observer) {{\n",
       "        var display = window.getComputedStyle(gd).display;\n",
       "        if (!display || display === 'none') {{\n",
       "            console.log([gd, 'removed!']);\n",
       "            Plotly.purge(gd);\n",
       "            observer.disconnect();\n",
       "        }}\n",
       "}});\n",
       "\n",
       "// Listen for the removal of the full notebook cells\n",
       "var notebookContainer = gd.closest('#notebook-container');\n",
       "if (notebookContainer) {{\n",
       "    x.observe(notebookContainer, {childList: true});\n",
       "}}\n",
       "\n",
       "// Listen for the clearing of the current output cell\n",
       "var outputEl = gd.closest('.output');\n",
       "if (outputEl) {{\n",
       "    x.observe(outputEl, {childList: true});\n",
       "}}\n",
       "\n",
       "                        })                };                });            </script>        </div>"
      ]
     },
     "metadata": {}
    }
   ],
   "metadata": {
    "execution": {
     "iopub.execute_input": "2021-07-04T08:40:50.274433Z",
     "iopub.status.busy": "2021-07-04T08:40:50.273592Z",
     "iopub.status.idle": "2021-07-04T08:40:50.362768Z",
     "shell.execute_reply": "2021-07-04T08:40:50.362163Z",
     "shell.execute_reply.started": "2021-07-04T08:35:41.990840Z"
    },
    "papermill": {
     "duration": 0.133498,
     "end_time": "2021-07-04T08:40:50.362914",
     "exception": false,
     "start_time": "2021-07-04T08:40:50.229416",
     "status": "completed"
    },
    "tags": []
   }
  },
  {
   "cell_type": "markdown",
   "source": [
    "## From above plots we can conclude that:\n",
    "1. There are 3 outliers in global shares\n",
    "2. Q3  = 4.525\n",
    "3. Median = 1.9\n",
    "4. Q1 = 1.225\n",
    "5. Min value = 0.1\n",
    "6. Max Value = 11.9"
   ],
   "metadata": {
    "papermill": {
     "duration": 0.033892,
     "end_time": "2021-07-04T08:40:50.429851",
     "exception": false,
     "start_time": "2021-07-04T08:40:50.395959",
     "status": "completed"
    },
    "tags": []
   }
  },
  {
   "cell_type": "markdown",
   "source": [
    "<div style=\"color:white;\n",
    "           display:fill;\n",
    "           border-radius:10px;\n",
    "           font-size:110%;\n",
    "           font-family:cursive;\n",
    "           letter-spacing:0.5px;\n",
    "           background-color:#4ff0d2;\n",
    "           color:Black;\n",
    "           font-family:cursive;\n",
    "            padding:5px 5px 5px 5px;\n",
    "           \">\n",
    "<h1 style=\"text-align:center;font-weight: bold\"> Parrallel Plot </h1></div>\n",
    "\n"
   ],
   "metadata": {
    "papermill": {
     "duration": 0.032817,
     "end_time": "2021-07-04T08:40:50.496689",
     "exception": false,
     "start_time": "2021-07-04T08:40:50.463872",
     "status": "completed"
    },
    "tags": []
   }
  },
  {
   "cell_type": "code",
   "execution_count": 16,
   "source": [
    "fig = px.parallel_categories(dataset,template = 'plotly_dark', color = 'GlobalShare')\n",
    "\n",
    "fig.show()"
   ],
   "outputs": [
    {
     "output_type": "display_data",
     "data": {
      "text/html": [
       "<div>                            <div id=\"1f0c67cd-0384-4202-abe1-d586b3376d6f\" class=\"plotly-graph-div\" style=\"height:525px; width:100%;\"></div>            <script type=\"text/javascript\">                require([\"plotly\"], function(Plotly) {                    window.PLOTLYENV=window.PLOTLYENV || {};                                    if (document.getElementById(\"1f0c67cd-0384-4202-abe1-d586b3376d6f\")) {                    Plotly.newPlot(                        \"1f0c67cd-0384-4202-abe1-d586b3376d6f\",                        [{\"dimensions\": [{\"label\": \"Sub-sector\", \"values\": [\"Road\", \"Aviation\", \"Rail\", \"Pipeline\", \"Ship\", \"Residential\", \"Commercial\", \"Iron & Steel\", \"Non-ferous metals\", \"Machinery\", \"Food and tobacco\", \"Paper pulp & printing\", \"Chemical & petrochemical (energy)\", \"Other industry\", \"Energy in Agri & Fishing\", \"Unallocated fuel combustion\", \"Coal\", \"Oil & Natural Gas\", \"Cement\", \"Chemical & petrochemical (industrial)\", \"Livestock & Manure\", \"Rice Cultivation\", \"Agricultural Soils\", \"Crop Burning\", \"Forest Land\", \"Cropland\", \"Grassland\", \"Landfills\", \"Wastewater\"]}, {\"label\": \"GlobalShare\", \"values\": [11.9, 1.9, 0.4, 0.3, 1.7, 10.9, 6.6, 7.2, 0.7, 0.5, 1.0, 0.6, 3.6, 10.6, 1.7, 7.8, 1.9, 3.9, 3.0, 2.2, 5.8, 1.3, 4.1, 3.5, 2.2, 1.4, 0.1, 1.9, 1.3]}], \"domain\": {\"x\": [0.0, 1.0], \"y\": [0.0, 1.0]}, \"line\": {\"color\": [11.9, 1.9, 0.4, 0.3, 1.7, 10.9, 6.6, 7.2, 0.7, 0.5, 1.0, 0.6, 3.6, 10.6, 1.7, 7.8, 1.9, 3.9, 3.0, 2.2, 5.8, 1.3, 4.1, 3.5, 2.2, 1.4, 0.1, 1.9, 1.3], \"coloraxis\": \"coloraxis\"}, \"name\": \"\", \"type\": \"parcats\"}],                        {\"coloraxis\": {\"colorbar\": {\"title\": {\"text\": \"GlobalShare\"}}, \"colorscale\": [[0.0, \"#0d0887\"], [0.1111111111111111, \"#46039f\"], [0.2222222222222222, \"#7201a8\"], [0.3333333333333333, \"#9c179e\"], [0.4444444444444444, \"#bd3786\"], [0.5555555555555556, \"#d8576b\"], [0.6666666666666666, \"#ed7953\"], [0.7777777777777778, \"#fb9f3a\"], [0.8888888888888888, \"#fdca26\"], [1.0, \"#f0f921\"]]}, \"legend\": {\"tracegroupgap\": 0}, \"margin\": {\"t\": 60}, \"template\": {\"data\": {\"bar\": [{\"error_x\": {\"color\": \"#f2f5fa\"}, \"error_y\": {\"color\": \"#f2f5fa\"}, \"marker\": {\"line\": {\"color\": \"rgb(17,17,17)\", \"width\": 0.5}}, \"type\": \"bar\"}], \"barpolar\": [{\"marker\": {\"line\": {\"color\": \"rgb(17,17,17)\", \"width\": 0.5}}, \"type\": \"barpolar\"}], \"carpet\": [{\"aaxis\": {\"endlinecolor\": \"#A2B1C6\", \"gridcolor\": \"#506784\", \"linecolor\": \"#506784\", \"minorgridcolor\": \"#506784\", \"startlinecolor\": \"#A2B1C6\"}, \"baxis\": {\"endlinecolor\": \"#A2B1C6\", \"gridcolor\": \"#506784\", \"linecolor\": \"#506784\", \"minorgridcolor\": \"#506784\", \"startlinecolor\": \"#A2B1C6\"}, \"type\": \"carpet\"}], \"choropleth\": [{\"colorbar\": {\"outlinewidth\": 0, \"ticks\": \"\"}, \"type\": \"choropleth\"}], \"contour\": [{\"colorbar\": {\"outlinewidth\": 0, \"ticks\": \"\"}, \"colorscale\": [[0.0, \"#0d0887\"], [0.1111111111111111, \"#46039f\"], [0.2222222222222222, \"#7201a8\"], [0.3333333333333333, \"#9c179e\"], [0.4444444444444444, \"#bd3786\"], [0.5555555555555556, \"#d8576b\"], [0.6666666666666666, \"#ed7953\"], [0.7777777777777778, \"#fb9f3a\"], [0.8888888888888888, \"#fdca26\"], [1.0, \"#f0f921\"]], \"type\": \"contour\"}], \"contourcarpet\": [{\"colorbar\": {\"outlinewidth\": 0, \"ticks\": \"\"}, \"type\": \"contourcarpet\"}], \"heatmap\": [{\"colorbar\": {\"outlinewidth\": 0, \"ticks\": \"\"}, \"colorscale\": [[0.0, \"#0d0887\"], [0.1111111111111111, \"#46039f\"], [0.2222222222222222, \"#7201a8\"], [0.3333333333333333, \"#9c179e\"], [0.4444444444444444, \"#bd3786\"], [0.5555555555555556, \"#d8576b\"], [0.6666666666666666, \"#ed7953\"], [0.7777777777777778, \"#fb9f3a\"], [0.8888888888888888, \"#fdca26\"], [1.0, \"#f0f921\"]], \"type\": \"heatmap\"}], \"heatmapgl\": [{\"colorbar\": {\"outlinewidth\": 0, \"ticks\": \"\"}, \"colorscale\": [[0.0, \"#0d0887\"], [0.1111111111111111, \"#46039f\"], [0.2222222222222222, \"#7201a8\"], [0.3333333333333333, \"#9c179e\"], [0.4444444444444444, \"#bd3786\"], [0.5555555555555556, \"#d8576b\"], [0.6666666666666666, \"#ed7953\"], [0.7777777777777778, \"#fb9f3a\"], [0.8888888888888888, \"#fdca26\"], [1.0, \"#f0f921\"]], \"type\": \"heatmapgl\"}], \"histogram\": [{\"marker\": {\"colorbar\": {\"outlinewidth\": 0, \"ticks\": \"\"}}, \"type\": \"histogram\"}], \"histogram2d\": [{\"colorbar\": {\"outlinewidth\": 0, \"ticks\": \"\"}, \"colorscale\": [[0.0, \"#0d0887\"], [0.1111111111111111, \"#46039f\"], [0.2222222222222222, \"#7201a8\"], [0.3333333333333333, \"#9c179e\"], [0.4444444444444444, \"#bd3786\"], [0.5555555555555556, \"#d8576b\"], [0.6666666666666666, \"#ed7953\"], [0.7777777777777778, \"#fb9f3a\"], [0.8888888888888888, \"#fdca26\"], [1.0, \"#f0f921\"]], \"type\": \"histogram2d\"}], \"histogram2dcontour\": [{\"colorbar\": {\"outlinewidth\": 0, \"ticks\": \"\"}, \"colorscale\": [[0.0, \"#0d0887\"], [0.1111111111111111, \"#46039f\"], [0.2222222222222222, \"#7201a8\"], [0.3333333333333333, \"#9c179e\"], [0.4444444444444444, \"#bd3786\"], [0.5555555555555556, \"#d8576b\"], [0.6666666666666666, \"#ed7953\"], [0.7777777777777778, \"#fb9f3a\"], [0.8888888888888888, \"#fdca26\"], [1.0, \"#f0f921\"]], \"type\": \"histogram2dcontour\"}], \"mesh3d\": [{\"colorbar\": {\"outlinewidth\": 0, \"ticks\": \"\"}, \"type\": \"mesh3d\"}], \"parcoords\": [{\"line\": {\"colorbar\": {\"outlinewidth\": 0, \"ticks\": \"\"}}, \"type\": \"parcoords\"}], \"pie\": [{\"automargin\": true, \"type\": \"pie\"}], \"scatter\": [{\"marker\": {\"line\": {\"color\": \"#283442\"}}, \"type\": \"scatter\"}], \"scatter3d\": [{\"line\": {\"colorbar\": {\"outlinewidth\": 0, \"ticks\": \"\"}}, \"marker\": {\"colorbar\": {\"outlinewidth\": 0, \"ticks\": \"\"}}, \"type\": \"scatter3d\"}], \"scattercarpet\": [{\"marker\": {\"colorbar\": {\"outlinewidth\": 0, \"ticks\": \"\"}}, \"type\": \"scattercarpet\"}], \"scattergeo\": [{\"marker\": {\"colorbar\": {\"outlinewidth\": 0, \"ticks\": \"\"}}, \"type\": \"scattergeo\"}], \"scattergl\": [{\"marker\": {\"line\": {\"color\": \"#283442\"}}, \"type\": \"scattergl\"}], \"scattermapbox\": [{\"marker\": {\"colorbar\": {\"outlinewidth\": 0, \"ticks\": \"\"}}, \"type\": \"scattermapbox\"}], \"scatterpolar\": [{\"marker\": {\"colorbar\": {\"outlinewidth\": 0, \"ticks\": \"\"}}, \"type\": \"scatterpolar\"}], \"scatterpolargl\": [{\"marker\": {\"colorbar\": {\"outlinewidth\": 0, \"ticks\": \"\"}}, \"type\": \"scatterpolargl\"}], \"scatterternary\": [{\"marker\": {\"colorbar\": {\"outlinewidth\": 0, \"ticks\": \"\"}}, \"type\": \"scatterternary\"}], \"surface\": [{\"colorbar\": {\"outlinewidth\": 0, \"ticks\": \"\"}, \"colorscale\": [[0.0, \"#0d0887\"], [0.1111111111111111, \"#46039f\"], [0.2222222222222222, \"#7201a8\"], [0.3333333333333333, \"#9c179e\"], [0.4444444444444444, \"#bd3786\"], [0.5555555555555556, \"#d8576b\"], [0.6666666666666666, \"#ed7953\"], [0.7777777777777778, \"#fb9f3a\"], [0.8888888888888888, \"#fdca26\"], [1.0, \"#f0f921\"]], \"type\": \"surface\"}], \"table\": [{\"cells\": {\"fill\": {\"color\": \"#506784\"}, \"line\": {\"color\": \"rgb(17,17,17)\"}}, \"header\": {\"fill\": {\"color\": \"#2a3f5f\"}, \"line\": {\"color\": \"rgb(17,17,17)\"}}, \"type\": \"table\"}]}, \"layout\": {\"annotationdefaults\": {\"arrowcolor\": \"#f2f5fa\", \"arrowhead\": 0, \"arrowwidth\": 1}, \"autotypenumbers\": \"strict\", \"coloraxis\": {\"colorbar\": {\"outlinewidth\": 0, \"ticks\": \"\"}}, \"colorscale\": {\"diverging\": [[0, \"#8e0152\"], [0.1, \"#c51b7d\"], [0.2, \"#de77ae\"], [0.3, \"#f1b6da\"], [0.4, \"#fde0ef\"], [0.5, \"#f7f7f7\"], [0.6, \"#e6f5d0\"], [0.7, \"#b8e186\"], [0.8, \"#7fbc41\"], [0.9, \"#4d9221\"], [1, \"#276419\"]], \"sequential\": [[0.0, \"#0d0887\"], [0.1111111111111111, \"#46039f\"], [0.2222222222222222, \"#7201a8\"], [0.3333333333333333, \"#9c179e\"], [0.4444444444444444, \"#bd3786\"], [0.5555555555555556, \"#d8576b\"], [0.6666666666666666, \"#ed7953\"], [0.7777777777777778, \"#fb9f3a\"], [0.8888888888888888, \"#fdca26\"], [1.0, \"#f0f921\"]], \"sequentialminus\": [[0.0, \"#0d0887\"], [0.1111111111111111, \"#46039f\"], [0.2222222222222222, \"#7201a8\"], [0.3333333333333333, \"#9c179e\"], [0.4444444444444444, \"#bd3786\"], [0.5555555555555556, \"#d8576b\"], [0.6666666666666666, \"#ed7953\"], [0.7777777777777778, \"#fb9f3a\"], [0.8888888888888888, \"#fdca26\"], [1.0, \"#f0f921\"]]}, \"colorway\": [\"#636efa\", \"#EF553B\", \"#00cc96\", \"#ab63fa\", \"#FFA15A\", \"#19d3f3\", \"#FF6692\", \"#B6E880\", \"#FF97FF\", \"#FECB52\"], \"font\": {\"color\": \"#f2f5fa\"}, \"geo\": {\"bgcolor\": \"rgb(17,17,17)\", \"lakecolor\": \"rgb(17,17,17)\", \"landcolor\": \"rgb(17,17,17)\", \"showlakes\": true, \"showland\": true, \"subunitcolor\": \"#506784\"}, \"hoverlabel\": {\"align\": \"left\"}, \"hovermode\": \"closest\", \"mapbox\": {\"style\": \"dark\"}, \"paper_bgcolor\": \"rgb(17,17,17)\", \"plot_bgcolor\": \"rgb(17,17,17)\", \"polar\": {\"angularaxis\": {\"gridcolor\": \"#506784\", \"linecolor\": \"#506784\", \"ticks\": \"\"}, \"bgcolor\": \"rgb(17,17,17)\", \"radialaxis\": {\"gridcolor\": \"#506784\", \"linecolor\": \"#506784\", \"ticks\": \"\"}}, \"scene\": {\"xaxis\": {\"backgroundcolor\": \"rgb(17,17,17)\", \"gridcolor\": \"#506784\", \"gridwidth\": 2, \"linecolor\": \"#506784\", \"showbackground\": true, \"ticks\": \"\", \"zerolinecolor\": \"#C8D4E3\"}, \"yaxis\": {\"backgroundcolor\": \"rgb(17,17,17)\", \"gridcolor\": \"#506784\", \"gridwidth\": 2, \"linecolor\": \"#506784\", \"showbackground\": true, \"ticks\": \"\", \"zerolinecolor\": \"#C8D4E3\"}, \"zaxis\": {\"backgroundcolor\": \"rgb(17,17,17)\", \"gridcolor\": \"#506784\", \"gridwidth\": 2, \"linecolor\": \"#506784\", \"showbackground\": true, \"ticks\": \"\", \"zerolinecolor\": \"#C8D4E3\"}}, \"shapedefaults\": {\"line\": {\"color\": \"#f2f5fa\"}}, \"sliderdefaults\": {\"bgcolor\": \"#C8D4E3\", \"bordercolor\": \"rgb(17,17,17)\", \"borderwidth\": 1, \"tickwidth\": 0}, \"ternary\": {\"aaxis\": {\"gridcolor\": \"#506784\", \"linecolor\": \"#506784\", \"ticks\": \"\"}, \"baxis\": {\"gridcolor\": \"#506784\", \"linecolor\": \"#506784\", \"ticks\": \"\"}, \"bgcolor\": \"rgb(17,17,17)\", \"caxis\": {\"gridcolor\": \"#506784\", \"linecolor\": \"#506784\", \"ticks\": \"\"}}, \"title\": {\"x\": 0.05}, \"updatemenudefaults\": {\"bgcolor\": \"#506784\", \"borderwidth\": 0}, \"xaxis\": {\"automargin\": true, \"gridcolor\": \"#283442\", \"linecolor\": \"#506784\", \"ticks\": \"\", \"title\": {\"standoff\": 15}, \"zerolinecolor\": \"#283442\", \"zerolinewidth\": 2}, \"yaxis\": {\"automargin\": true, \"gridcolor\": \"#283442\", \"linecolor\": \"#506784\", \"ticks\": \"\", \"title\": {\"standoff\": 15}, \"zerolinecolor\": \"#283442\", \"zerolinewidth\": 2}}}},                        {\"responsive\": true}                    ).then(function(){\n",
       "                            \n",
       "var gd = document.getElementById('1f0c67cd-0384-4202-abe1-d586b3376d6f');\n",
       "var x = new MutationObserver(function (mutations, observer) {{\n",
       "        var display = window.getComputedStyle(gd).display;\n",
       "        if (!display || display === 'none') {{\n",
       "            console.log([gd, 'removed!']);\n",
       "            Plotly.purge(gd);\n",
       "            observer.disconnect();\n",
       "        }}\n",
       "}});\n",
       "\n",
       "// Listen for the removal of the full notebook cells\n",
       "var notebookContainer = gd.closest('#notebook-container');\n",
       "if (notebookContainer) {{\n",
       "    x.observe(notebookContainer, {childList: true});\n",
       "}}\n",
       "\n",
       "// Listen for the clearing of the current output cell\n",
       "var outputEl = gd.closest('.output');\n",
       "if (outputEl) {{\n",
       "    x.observe(outputEl, {childList: true});\n",
       "}}\n",
       "\n",
       "                        })                };                });            </script>        </div>"
      ]
     },
     "metadata": {}
    }
   ],
   "metadata": {
    "execution": {
     "iopub.execute_input": "2021-07-04T08:40:50.575594Z",
     "iopub.status.busy": "2021-07-04T08:40:50.574938Z",
     "iopub.status.idle": "2021-07-04T08:40:50.671166Z",
     "shell.execute_reply": "2021-07-04T08:40:50.670628Z",
     "shell.execute_reply.started": "2021-07-04T08:35:42.087473Z"
    },
    "papermill": {
     "duration": 0.141237,
     "end_time": "2021-07-04T08:40:50.671351",
     "exception": false,
     "start_time": "2021-07-04T08:40:50.530114",
     "status": "completed"
    },
    "tags": []
   }
  },
  {
   "cell_type": "markdown",
   "source": [
    "## From above plot we can identify that some Sub-Secors have Same Global Shares"
   ],
   "metadata": {
    "papermill": {
     "duration": 0.033299,
     "end_time": "2021-07-04T08:40:50.738660",
     "exception": false,
     "start_time": "2021-07-04T08:40:50.705361",
     "status": "completed"
    },
    "tags": []
   }
  },
  {
   "cell_type": "markdown",
   "source": [
    "<div style=\"color:white;\n",
    "           display:fill;\n",
    "           border-radius:15px;\n",
    "           font-size:110%;\n",
    "           font-family:cursive;\n",
    "           letter-spacing:0.5px;\n",
    "           background-color:#4ff0d2;\n",
    "           color:Black;\n",
    "           font-family:cursive;\n",
    "            padding:5px 5px 5px 5px;\n",
    "           \">\n",
    "<h1 style=\"text-align:center;font-weight: bold\">Please share your feedback in the comment section. I'll be more than happy to hear ya'll and If you liked my work and learned from it Please Consider Upvoting.</h1>\n",
    "\n",
    "</div>\n",
    "\n"
   ],
   "metadata": {
    "papermill": {
     "duration": 0.034509,
     "end_time": "2021-07-04T08:40:50.807413",
     "exception": false,
     "start_time": "2021-07-04T08:40:50.772904",
     "status": "completed"
    },
    "tags": []
   }
  }
 ],
 "metadata": {
  "kernelspec": {
   "display_name": "Python 3",
   "language": "python",
   "name": "python3"
  },
  "language_info": {
   "codemirror_mode": {
    "name": "ipython",
    "version": 3
   },
   "file_extension": ".py",
   "mimetype": "text/x-python",
   "name": "python",
   "nbconvert_exporter": "python",
   "pygments_lexer": "ipython3",
   "version": "3.7.10"
  },
  "papermill": {
   "default_parameters": {},
   "duration": 16.867525,
   "end_time": "2021-07-04T08:40:52.541283",
   "environment_variables": {},
   "exception": null,
   "input_path": "__notebook__.ipynb",
   "output_path": "__notebook__.ipynb",
   "parameters": {},
   "start_time": "2021-07-04T08:40:35.673758",
   "version": "2.3.3"
  }
 },
 "nbformat": 4,
 "nbformat_minor": 5
}