{
 "cells": [
  {
   "cell_type": "markdown",
   "id": "anticipated-accommodation",
   "metadata": {
    "papermill": {
     "duration": 0.032125,
     "end_time": "2021-06-18T18:53:42.812396",
     "exception": false,
     "start_time": "2021-06-18T18:53:42.780271",
     "status": "completed"
    },
    "tags": []
   },
   "source": [
    "![](https://miro.medium.com/max/992/1*kUkBXPEDhxB6UaWNKPgqTQ.jpeg)\n",
    "#### [Image Source](https://miro.medium.com/max/992/1*kUkBXPEDhxB6UaWNKPgqTQ.jpeg)"
   ]
  },
  {
   "cell_type": "markdown",
   "id": "first-officer",
   "metadata": {
    "papermill": {
     "duration": 0.029975,
     "end_time": "2021-06-18T18:53:42.872890",
     "exception": false,
     "start_time": "2021-06-18T18:53:42.842915",
     "status": "completed"
    },
    "tags": []
   },
   "source": [
    "<div style=\"color:white;\n",
    "           display:fill;\n",
    "           border-radius:5px;\n",
    "           font-size:110%;\n",
    "           font-family:cursive;\n",
    "           letter-spacing:0.5px;\n",
    "           background-color:pink\n",
    "            ;\n",
    "           color:Black;\n",
    "           font-family:cursive;\n",
    "            padding:5px 5px 5px 5px;\n",
    "           \">\n",
    "<h1 style=\"text-align:center;font-weight: bold\"> Introduction </h1></div>\n",
    "\n"
   ]
  },
  {
   "cell_type": "markdown",
   "id": "planned-cosmetic",
   "metadata": {
    "papermill": {
     "duration": 0.030121,
     "end_time": "2021-06-18T18:53:42.933552",
     "exception": false,
     "start_time": "2021-06-18T18:53:42.903431",
     "status": "completed"
    },
    "tags": []
   },
   "source": [
    "<div style=\"color:white;\n",
    "           display:fill;\n",
    "           border-radius:5px;\n",
    "           font-size:110%;\n",
    "           font-family:cursive;\n",
    "           letter-spacing:0.5px;\n",
    "           background-color:pink;\n",
    "           color:Black;\n",
    "           font-family:cursive;\n",
    "            padding:5px 5px 5px 5px;\n",
    "           \">\n",
    "<h3 style=\"text-align:center;font-weight: bold\"> Turi Create (created by Apple) is a Machine Learning library that’s amazingly powerful and easy to use.In this tutorial, we are going to be covering some basics on what Turi Create is, and how to begin using it.So let's get started</h3>\n",
    "\n",
    "</div>\n",
    "\n",
    "\n"
   ]
  },
  {
   "cell_type": "markdown",
   "id": "decreased-specification",
   "metadata": {
    "papermill": {
     "duration": 0.029843,
     "end_time": "2021-06-18T18:53:42.993068",
     "exception": false,
     "start_time": "2021-06-18T18:53:42.963225",
     "status": "completed"
    },
    "tags": []
   },
   "source": [
    "<div style=\"color:white;\n",
    "           display:fill;\n",
    "           border-radius:5px;\n",
    "           font-size:110%;\n",
    "           font-family:cursive;\n",
    "           letter-spacing:0.5px;\n",
    "           background-color:pink;\n",
    "           color:Black;\n",
    "           font-family:cursive;\n",
    "            padding:5px 5px 5px 5px;\n",
    "           \">\n",
    "<h3 style=\"text-align:center;font-weight: bold\"> Turi Create is a open source contribution by Apple.It boasts of easy-to-use creation and deployment of machine learning models for complex tasks such as object detection, activity classification, and recommendation systems.</h3>\n",
    "<h3 style=\"text-align:center;font-weight: bold\"> Turi Create is developed specially for python. One of the best features that TuriCreate provides is its easy deployability of machine learning models to Core ML (another open source software by Apple) for use in iOS, macOS, watchOS, and tvOS apps</h3>\n",
    "</div>\n"
   ]
  },
  {
   "cell_type": "markdown",
   "id": "demographic-scout",
   "metadata": {
    "papermill": {
     "duration": 0.029043,
     "end_time": "2021-06-18T18:53:43.051812",
     "exception": false,
     "start_time": "2021-06-18T18:53:43.022769",
     "status": "completed"
    },
    "tags": []
   },
   "source": [
    "<div style=\"color:white;\n",
    "           display:fill;\n",
    "           border-radius:5px;\n",
    "           font-size:110%;\n",
    "           font-family:cursive;\n",
    "           letter-spacing:0.5px;\n",
    "           background-color:pink;\n",
    "           color:Black;\n",
    "            padding:5px 5px 5px 5px;\n",
    "           font-family:cursive\n",
    "           \">\n",
    "<h1 style=\"text-align:Left;font-weight: bold\">Requirements</h1>\n",
    "<h2 style=\"text-align:Left;font-weight: bold\">Turi Create supports: </h2>\n",
    "<h3 style=\"text-align:Left;font-weight: bold\">    1. macOS 10.12+  </h3>\n",
    "<h3 style=\"text-align:Left;font-weight: bold\">    2. Linux (with glibc 2.12+) </h3>\n",
    "<h3 style=\"text-align:Left;font-weight: bold\">    3. Windows 10(via WSL)</h3>\n",
    "<h2 style=\"text-align:Left;font-weight: bold\">System Requirements:</h2>\n",
    "<h3 style=\"text-align:Left;font-weight: bold\">    Python 2.7, 3.5, or 3.6</h3>\n",
    "<h3 style=\"text-align:Left;font-weight: bold\">    Python 3.7 macOS only</h3>\n",
    "<h3 style=\"text-align:Left;font-weight: bold\">    x86_64 architecture</h3>\n",
    "<br>\n",
    "<h3 style=\"text-align:Left;font-weight: bold\"><a href\"https://github.com/apple/turicreate/blob/master/README.md#installation\">If you haven't installed ,you can follow this installation guide.</a></h3>\n",
    "</div>\n",
    "\n",
    "\n",
    "\n",
    "\n"
   ]
  },
  {
   "cell_type": "code",
   "execution_count": 1,
   "id": "informed-hierarchy",
   "metadata": {
    "_kg_hide-input": true,
    "_kg_hide-output": true,
    "execution": {
     "iopub.execute_input": "2021-06-18T18:53:43.116853Z",
     "iopub.status.busy": "2021-06-18T18:53:43.115662Z",
     "iopub.status.idle": "2021-06-18T18:54:59.201697Z",
     "shell.execute_reply": "2021-06-18T18:54:59.200761Z"
    },
    "papermill": {
     "duration": 76.120063,
     "end_time": "2021-06-18T18:54:59.201917",
     "exception": false,
     "start_time": "2021-06-18T18:53:43.081854",
     "status": "completed"
    },
    "tags": []
   },
   "outputs": [
    {
     "name": "stdout",
     "output_type": "stream",
     "text": [
      "Collecting turicreate\r\n",
      "  Downloading turicreate-6.4.1-cp37-cp37m-manylinux1_x86_64.whl (92.0 MB)\r\n",
      "\u001b[K     |████████████████████████████████| 92.0 MB 21 kB/s \r\n",
      "\u001b[?25hCollecting numpy\r\n",
      "  Downloading numpy-1.20.3-cp37-cp37m-manylinux_2_12_x86_64.manylinux2010_x86_64.whl (15.3 MB)\r\n",
      "\u001b[K     |████████████████████████████████| 15.3 MB 43.2 MB/s \r\n",
      "\u001b[?25hCollecting coremltools==3.3\r\n",
      "  Downloading coremltools-3.3-cp37-none-manylinux1_x86_64.whl (3.5 MB)\r\n",
      "\u001b[K     |████████████████████████████████| 3.5 MB 46.7 MB/s \r\n",
      "\u001b[?25hCollecting pandas>=0.23.2\r\n",
      "  Downloading pandas-1.2.4-cp37-cp37m-manylinux1_x86_64.whl (9.9 MB)\r\n",
      "\u001b[K     |████████████████████████████████| 9.9 MB 48.3 MB/s \r\n",
      "\u001b[?25hCollecting six>=1.10.0\r\n",
      "  Downloading six-1.16.0-py2.py3-none-any.whl (11 kB)\r\n",
      "Collecting pillow>=5.2.0\r\n",
      "  Downloading Pillow-8.2.0-cp37-cp37m-manylinux1_x86_64.whl (3.0 MB)\r\n",
      "\u001b[K     |████████████████████████████████| 3.0 MB 47.1 MB/s \r\n",
      "\u001b[?25hCollecting resampy==0.2.1\r\n",
      "  Downloading resampy-0.2.1.tar.gz (322 kB)\r\n",
      "\u001b[K     |████████████████████████████████| 322 kB 45.6 MB/s \r\n",
      "\u001b[?25hCollecting requests>=2.9.1\r\n",
      "  Downloading requests-2.25.1-py2.py3-none-any.whl (61 kB)\r\n",
      "\u001b[K     |████████████████████████████████| 61 kB 5.7 MB/s \r\n",
      "\u001b[?25hCollecting prettytable==0.7.2\r\n",
      "  Downloading prettytable-0.7.2.zip (28 kB)\r\n",
      "Collecting decorator>=4.0.9\r\n",
      "  Downloading decorator-5.0.9-py3-none-any.whl (8.9 kB)\r\n",
      "Collecting numba<0.51.0\r\n",
      "  Downloading numba-0.50.1-cp37-cp37m-manylinux2014_x86_64.whl (3.6 MB)\r\n",
      "\u001b[K     |████████████████████████████████| 3.6 MB 39.4 MB/s \r\n",
      "\u001b[?25hCollecting scipy>=1.1.0\r\n",
      "  Downloading scipy-1.6.3-cp37-cp37m-manylinux1_x86_64.whl (27.4 MB)\r\n",
      "\u001b[K     |████████████████████████████████| 27.4 MB 25.6 MB/s \r\n",
      "\u001b[?25hCollecting tensorflow<2.1.0,>=2.0.0\r\n",
      "  Downloading tensorflow-2.0.4-cp37-cp37m-manylinux2010_x86_64.whl (86.4 MB)\r\n",
      "\u001b[K     |████████████████████████████████| 86.4 MB 88 kB/s \r\n",
      "\u001b[?25hCollecting protobuf>=3.1.0\r\n",
      "  Downloading protobuf-3.17.3-cp37-cp37m-manylinux_2_5_x86_64.manylinux1_x86_64.whl (1.0 MB)\r\n",
      "\u001b[K     |████████████████████████████████| 1.0 MB 48.5 MB/s \r\n",
      "\u001b[?25hCollecting llvmlite<0.34,>=0.33.0.dev0\r\n",
      "  Downloading llvmlite-0.33.0-cp37-cp37m-manylinux1_x86_64.whl (18.3 MB)\r\n",
      "\u001b[K     |████████████████████████████████| 18.3 MB 3.0 MB/s \r\n",
      "\u001b[?25hCollecting setuptools\r\n",
      "  Downloading setuptools-57.0.0-py3-none-any.whl (821 kB)\r\n",
      "\u001b[K     |████████████████████████████████| 821 kB 47.9 MB/s \r\n",
      "\u001b[?25hCollecting pytz>=2017.3\r\n",
      "  Downloading pytz-2021.1-py2.py3-none-any.whl (510 kB)\r\n",
      "\u001b[K     |████████████████████████████████| 510 kB 23.0 MB/s \r\n",
      "\u001b[?25hCollecting python-dateutil>=2.7.3\r\n",
      "  Downloading python_dateutil-2.8.1-py2.py3-none-any.whl (227 kB)\r\n",
      "\u001b[K     |████████████████████████████████| 227 kB 47.2 MB/s \r\n",
      "\u001b[?25hCollecting certifi>=2017.4.17\r\n",
      "  Downloading certifi-2021.5.30-py2.py3-none-any.whl (145 kB)\r\n",
      "\u001b[K     |████████████████████████████████| 145 kB 31.7 MB/s \r\n",
      "\u001b[?25hCollecting chardet<5,>=3.0.2\r\n",
      "  Downloading chardet-4.0.0-py2.py3-none-any.whl (178 kB)\r\n",
      "\u001b[K     |████████████████████████████████| 178 kB 48.0 MB/s \r\n",
      "\u001b[?25hCollecting urllib3<1.27,>=1.21.1\r\n",
      "  Downloading urllib3-1.26.5-py2.py3-none-any.whl (138 kB)\r\n",
      "\u001b[K     |████████████████████████████████| 138 kB 47.7 MB/s \r\n",
      "\u001b[?25hCollecting idna<3,>=2.5\r\n",
      "  Downloading idna-2.10-py2.py3-none-any.whl (58 kB)\r\n",
      "\u001b[K     |████████████████████████████████| 58 kB 4.8 MB/s \r\n",
      "\u001b[?25hCollecting numpy\r\n",
      "  Downloading numpy-1.18.5-cp37-cp37m-manylinux1_x86_64.whl (20.1 MB)\r\n",
      "\u001b[K     |████████████████████████████████| 20.1 MB 20.9 MB/s \r\n",
      "\u001b[?25hCollecting wheel>=0.26\r\n",
      "  Downloading wheel-0.36.2-py2.py3-none-any.whl (35 kB)\r\n",
      "Collecting keras-applications>=1.0.8\r\n",
      "  Downloading Keras_Applications-1.0.8-py3-none-any.whl (50 kB)\r\n",
      "\u001b[K     |████████████████████████████████| 50 kB 4.3 MB/s \r\n",
      "\u001b[?25hCollecting absl-py>=0.7.0\r\n",
      "  Downloading absl_py-0.13.0-py3-none-any.whl (132 kB)\r\n",
      "\u001b[K     |████████████████████████████████| 132 kB 38.7 MB/s \r\n",
      "\u001b[?25hCollecting opt-einsum>=2.3.2\r\n",
      "  Downloading opt_einsum-3.3.0-py3-none-any.whl (65 kB)\r\n",
      "\u001b[K     |████████████████████████████████| 65 kB 2.6 MB/s \r\n",
      "\u001b[?25hCollecting tensorboard<2.1.0,>=2.0.0\r\n",
      "  Downloading tensorboard-2.0.2-py3-none-any.whl (3.8 MB)\r\n",
      "\u001b[K     |████████████████████████████████| 3.8 MB 46.5 MB/s \r\n",
      "\u001b[?25hCollecting termcolor>=1.1.0\r\n",
      "  Downloading termcolor-1.1.0.tar.gz (3.9 kB)\r\n",
      "Collecting tensorflow-estimator<2.1.0,>=2.0.0\r\n",
      "  Downloading tensorflow_estimator-2.0.1-py2.py3-none-any.whl (449 kB)\r\n",
      "\u001b[K     |████████████████████████████████| 449 kB 22.4 MB/s \r\n",
      "\u001b[?25hCollecting h5py<=2.10.0\r\n",
      "  Downloading h5py-2.10.0-cp37-cp37m-manylinux1_x86_64.whl (2.9 MB)\r\n",
      "\u001b[K     |████████████████████████████████| 2.9 MB 27.2 MB/s \r\n",
      "\u001b[?25hCollecting wrapt>=1.11.1\r\n",
      "  Downloading wrapt-1.12.1.tar.gz (27 kB)\r\n",
      "Collecting keras-preprocessing>=1.0.5\r\n",
      "  Downloading Keras_Preprocessing-1.1.2-py2.py3-none-any.whl (42 kB)\r\n",
      "\u001b[K     |████████████████████████████████| 42 kB 793 kB/s \r\n",
      "\u001b[?25hCollecting astor>=0.6.0\r\n",
      "  Downloading astor-0.8.1-py2.py3-none-any.whl (27 kB)\r\n",
      "Collecting gast==0.2.2\r\n",
      "  Downloading gast-0.2.2.tar.gz (10 kB)\r\n",
      "Collecting grpcio>=1.8.6\r\n",
      "  Downloading grpcio-1.38.0-cp37-cp37m-manylinux2014_x86_64.whl (4.2 MB)\r\n",
      "\u001b[K     |████████████████████████████████| 4.2 MB 21.7 MB/s \r\n",
      "\u001b[?25hCollecting google-pasta>=0.1.6\r\n",
      "  Downloading google_pasta-0.2.0-py3-none-any.whl (57 kB)\r\n",
      "\u001b[K     |████████████████████████████████| 57 kB 3.2 MB/s \r\n",
      "\u001b[?25hCollecting google-auth-oauthlib<0.5,>=0.4.1\r\n",
      "  Downloading google_auth_oauthlib-0.4.4-py2.py3-none-any.whl (18 kB)\r\n",
      "Collecting werkzeug>=0.11.15\r\n",
      "  Downloading Werkzeug-2.0.1-py3-none-any.whl (288 kB)\r\n",
      "\u001b[K     |████████████████████████████████| 288 kB 50.3 MB/s \r\n",
      "\u001b[?25hCollecting google-auth<2,>=1.6.3\r\n",
      "  Downloading google_auth-1.31.0-py2.py3-none-any.whl (147 kB)\r\n",
      "\u001b[K     |████████████████████████████████| 147 kB 62.9 MB/s \r\n",
      "\u001b[?25hCollecting markdown>=2.6.8\r\n",
      "  Downloading Markdown-3.3.4-py3-none-any.whl (97 kB)\r\n",
      "\u001b[K     |████████████████████████████████| 97 kB 5.4 MB/s \r\n",
      "\u001b[?25hCollecting cachetools<5.0,>=2.0.0\r\n",
      "  Downloading cachetools-4.2.2-py3-none-any.whl (11 kB)\r\n",
      "Collecting pyasn1-modules>=0.2.1\r\n",
      "  Downloading pyasn1_modules-0.2.8-py2.py3-none-any.whl (155 kB)\r\n",
      "\u001b[K     |████████████████████████████████| 155 kB 63.9 MB/s \r\n",
      "\u001b[?25hCollecting rsa<5,>=3.1.4\r\n",
      "  Downloading rsa-4.7.2-py3-none-any.whl (34 kB)\r\n",
      "Collecting requests-oauthlib>=0.7.0\r\n",
      "  Downloading requests_oauthlib-1.3.0-py2.py3-none-any.whl (23 kB)\r\n",
      "Collecting importlib-metadata\r\n",
      "  Downloading importlib_metadata-4.5.0-py3-none-any.whl (17 kB)\r\n",
      "Collecting pyasn1<0.5.0,>=0.4.6\r\n",
      "  Downloading pyasn1-0.4.8-py2.py3-none-any.whl (77 kB)\r\n",
      "\u001b[K     |████████████████████████████████| 77 kB 4.2 MB/s \r\n",
      "\u001b[?25hCollecting oauthlib>=3.0.0\r\n",
      "  Downloading oauthlib-3.1.1-py2.py3-none-any.whl (146 kB)\r\n",
      "\u001b[K     |████████████████████████████████| 146 kB 40.8 MB/s \r\n",
      "\u001b[?25hCollecting typing-extensions>=3.6.4\r\n",
      "  Downloading typing_extensions-3.10.0.0-py3-none-any.whl (26 kB)\r\n",
      "Collecting zipp>=0.5\r\n",
      "  Downloading zipp-3.4.1-py3-none-any.whl (5.2 kB)\r\n",
      "Building wheels for collected packages: prettytable, resampy, gast, termcolor, wrapt\r\n",
      "  Building wheel for prettytable (setup.py) ... \u001b[?25l-\b \b\\\b \bdone\r\n",
      "\u001b[?25h  Created wheel for prettytable: filename=prettytable-0.7.2-py3-none-any.whl size=13699 sha256=730c8c234cf8a0bb2a24b12d6446074cfe14b1975855cc2c14ebd969916c368e\r\n",
      "  Stored in directory: /root/.cache/pip/wheels/b2/7f/f6/f180315b584f00445045ff1699b550fa895d09471337ce21c6\r\n",
      "  Building wheel for resampy (setup.py) ... \u001b[?25l-\b \b\\\b \bdone\r\n",
      "\u001b[?25h  Created wheel for resampy: filename=resampy-0.2.1-py3-none-any.whl size=320846 sha256=4bfac050d41ddb84ed56a565439007793a31c236ecc43129dafd21a5ea2c49a8\r\n",
      "  Stored in directory: /root/.cache/pip/wheels/71/74/53/d5ceb7c5ee7a168c7d106041863e71ac3273f4a4677743a284\r\n",
      "  Building wheel for gast (setup.py) ... \u001b[?25l-\b \b\\\b \bdone\r\n",
      "\u001b[?25h  Created wheel for gast: filename=gast-0.2.2-py3-none-any.whl size=7538 sha256=86ae87ce3546eb23696f23d66ddf52a7105f3200f339e3898ea8264dcf736865\r\n",
      "  Stored in directory: /root/.cache/pip/wheels/21/7f/02/420f32a803f7d0967b48dd823da3f558c5166991bfd204eef3\r\n",
      "  Building wheel for termcolor (setup.py) ... \u001b[?25l-\b \b\\\b \bdone\r\n",
      "\u001b[?25h  Created wheel for termcolor: filename=termcolor-1.1.0-py3-none-any.whl size=4829 sha256=4e38fa824e9e68842f045ba357f588c4825448b7e7c63fb13ddead5c2a8932c3\r\n",
      "  Stored in directory: /root/.cache/pip/wheels/3f/e3/ec/8a8336ff196023622fbcb36de0c5a5c218cbb24111d1d4c7f2\r\n",
      "  Building wheel for wrapt (setup.py) ... \u001b[?25l-\b \b\\\b \b|\b \bdone\r\n",
      "\u001b[?25h  Created wheel for wrapt: filename=wrapt-1.12.1-cp37-cp37m-linux_x86_64.whl size=70959 sha256=1c455f2f895a36cf8bbb3a442e9345ba5cedb639d02498985fc6febd4e6cb095\r\n",
      "  Stored in directory: /root/.cache/pip/wheels/62/76/4c/aa25851149f3f6d9785f6c869387ad82b3fd37582fa8147ac6\r\n",
      "Successfully built prettytable resampy gast termcolor wrapt\r\n",
      "Installing collected packages: urllib3, pyasn1, idna, chardet, certifi, zipp, typing-extensions, six, setuptools, rsa, requests, pyasn1-modules, oauthlib, cachetools, requests-oauthlib, numpy, importlib-metadata, google-auth, wheel, werkzeug, protobuf, markdown, llvmlite, h5py, grpcio, google-auth-oauthlib, absl-py, wrapt, termcolor, tensorflow-estimator, tensorboard, scipy, pytz, python-dateutil, opt-einsum, numba, keras-preprocessing, keras-applications, google-pasta, gast, astor, tensorflow, resampy, prettytable, pillow, pandas, decorator, coremltools, turicreate\r\n",
      "\u001b[31mERROR: pip's dependency resolver does not currently take into account all the packages that are installed. This behaviour is the source of the following dependency conflicts.\r\n",
      "tensorflow-probability 0.12.2 requires gast>=0.3.2, but you have gast 0.2.2 which is incompatible.\r\n",
      "tensorflow-metadata 0.29.0 requires absl-py<0.13,>=0.9, but you have absl-py 0.13.0 which is incompatible.\r\n",
      "tensorflow-cloud 0.1.13 requires tensorboard>=2.3.0, but you have tensorboard 2.0.2 which is incompatible.\r\n",
      "pytorch-lightning 1.2.8 requires tensorboard>=2.2.0, but you have tensorboard 2.0.2 which is incompatible.\r\n",
      "pynndescent 0.5.2 requires numba>=0.51.2, but you have numba 0.50.1 which is incompatible.\r\n",
      "pyldavis 3.3.1 requires numpy>=1.20.0, but you have numpy 1.18.5 which is incompatible.\r\n",
      "plotnine 0.8.0 requires numpy>=1.19.0, but you have numpy 1.18.5 which is incompatible.\r\n",
      "pdpbox 0.2.1 requires matplotlib==3.1.1, but you have matplotlib 3.4.1 which is incompatible.\r\n",
      "osmnx 1.0.1 requires numpy>=1.19, but you have numpy 1.18.5 which is incompatible.\r\n",
      "matrixprofile 1.1.10 requires protobuf==3.11.2, but you have protobuf 3.17.3 which is incompatible.\r\n",
      "librosa 0.8.0 requires resampy>=0.2.2, but you have resampy 0.2.1 which is incompatible.\r\n",
      "jupyterlab-git 0.11.0 requires nbdime<2.0.0,>=1.1.0, but you have nbdime 2.1.0 which is incompatible.\r\n",
      "gym 0.18.0 requires Pillow<=7.2.0, but you have pillow 8.2.0 which is incompatible.\r\n",
      "earthengine-api 0.1.261 requires google-api-python-client<2,>=1.12.1, but you have google-api-python-client 1.8.0 which is incompatible.\r\n",
      "datashader 0.12.1 requires numba!=0.49.*,!=0.50.*,>=0.37.0, but you have numba 0.50.1 which is incompatible.\r\n",
      "autogluon-core 0.1.0 requires numpy==1.19.5, but you have numpy 1.18.5 which is incompatible.\r\n",
      "autogluon-core 0.1.0 requires scipy==1.5.4, but you have scipy 1.6.3 which is incompatible.\r\n",
      "aiobotocore 1.3.0 requires botocore<1.20.50,>=1.20.49, but you have botocore 1.20.53 which is incompatible.\u001b[0m\r\n",
      "Successfully installed absl-py-0.13.0 astor-0.8.1 cachetools-4.2.2 certifi-2021.5.30 chardet-4.0.0 coremltools-3.3 decorator-5.0.9 gast-0.3.3 google-auth-1.31.0 google-auth-oauthlib-0.4.4 google-pasta-0.2.0 grpcio-1.38.0 h5py-2.10.0 idna-2.10 importlib-metadata-4.5.0 keras-applications-1.0.8 keras-preprocessing-1.1.2 llvmlite-0.36.0 markdown-3.3.4 numba-0.53.1 numpy-1.19.5 oauthlib-3.1.1 opt-einsum-3.3.0 pandas-1.2.4 pillow-8.2.0 prettytable-2.1.0 protobuf-3.17.3 pyasn1-0.4.8 pyasn1-modules-0.2.8 python-dateutil-2.8.1 pytz-2021.1 requests-2.25.1 requests-oauthlib-1.3.0 resampy-0.2.2 rsa-4.7.2 scipy-1.6.3 setuptools-57.0.0 six-1.16.0 tensorboard-2.4.1 tensorflow-2.4.1 tensorflow-estimator-2.4.0 termcolor-1.1.0 turicreate-6.4.1 typing-extensions-3.10.0.0 urllib3-1.26.5 werkzeug-2.0.1 wheel-0.36.2 wrapt-1.12.1 zipp-3.4.1\r\n"
     ]
    }
   ],
   "source": [
    "!pip install turicreate --ignore-installed"
   ]
  },
  {
   "cell_type": "markdown",
   "id": "friendly-deadline",
   "metadata": {
    "papermill": {
     "duration": 0.205725,
     "end_time": "2021-06-18T18:54:59.616159",
     "exception": false,
     "start_time": "2021-06-18T18:54:59.410434",
     "status": "completed"
    },
    "tags": []
   },
   "source": [
    "<div style=\"color:white;\n",
    "           display:fill;\n",
    "           border-radius:5px;\n",
    "           font-size:110%;\n",
    "           font-family:cursive;\n",
    "           letter-spacing:0.5px;\n",
    "           background-color:pink;\n",
    "           color:Black;\n",
    "            padding:5px 5px 5px 5px;\n",
    "           font-family:cursive\n",
    "           \">\n",
    "<h1 style=\"text-align:center;font-weight: bold\"> Importing Libraries </h1>\n",
    "</div>\n"
   ]
  },
  {
   "cell_type": "code",
   "execution_count": 2,
   "id": "hungarian-trainer",
   "metadata": {
    "execution": {
     "iopub.execute_input": "2021-06-18T18:55:00.073114Z",
     "iopub.status.busy": "2021-06-18T18:55:00.072394Z",
     "iopub.status.idle": "2021-06-18T18:55:00.639371Z",
     "shell.execute_reply": "2021-06-18T18:55:00.639925Z",
     "shell.execute_reply.started": "2021-06-15T10:38:23.892185Z"
    },
    "papermill": {
     "duration": 0.788403,
     "end_time": "2021-06-18T18:55:00.640160",
     "exception": false,
     "start_time": "2021-06-18T18:54:59.851757",
     "status": "completed"
    },
    "tags": []
   },
   "outputs": [],
   "source": [
    "import turicreate as tc"
   ]
  },
  {
   "cell_type": "markdown",
   "id": "hispanic-defeat",
   "metadata": {
    "papermill": {
     "duration": 0.194726,
     "end_time": "2021-06-18T18:55:01.030322",
     "exception": false,
     "start_time": "2021-06-18T18:55:00.835596",
     "status": "completed"
    },
    "tags": []
   },
   "source": [
    "\n",
    "<div style=\"color:white;\n",
    "           display:fill;\n",
    "           border-radius:5px;\n",
    "           font-size:110%;\n",
    "           font-family:cursive;\n",
    "           letter-spacing:0.5px;\n",
    "           background-color:pink;\n",
    "           color:Black;\n",
    "            padding:5px 5px 5px 5px;\n",
    "           font-family:cursive\n",
    "           \">\n",
    "<h1 style=\"text-align:center;font-weight: bold\"> Importing Dataset </h1>\n",
    "</div>\n"
   ]
  },
  {
   "cell_type": "code",
   "execution_count": 3,
   "id": "animated-mercury",
   "metadata": {
    "execution": {
     "iopub.execute_input": "2021-06-18T18:55:01.429054Z",
     "iopub.status.busy": "2021-06-18T18:55:01.428368Z",
     "iopub.status.idle": "2021-06-18T18:55:01.494430Z",
     "shell.execute_reply": "2021-06-18T18:55:01.495139Z",
     "shell.execute_reply.started": "2021-06-15T10:38:38.98931Z"
    },
    "papermill": {
     "duration": 0.267069,
     "end_time": "2021-06-18T18:55:01.495332",
     "exception": false,
     "start_time": "2021-06-18T18:55:01.228263",
     "status": "completed"
    },
    "tags": []
   },
   "outputs": [],
   "source": [
    "song_data = tc.SFrame('../input/songs-data/song_data.sframe')"
   ]
  },
  {
   "cell_type": "markdown",
   "id": "conditional-bonus",
   "metadata": {
    "papermill": {
     "duration": 0.19868,
     "end_time": "2021-06-18T18:55:01.891732",
     "exception": false,
     "start_time": "2021-06-18T18:55:01.693052",
     "status": "completed"
    },
    "tags": []
   },
   "source": [
    "<div style=\"color:white;\n",
    "           display:fill;\n",
    "           border-radius:5px;\n",
    "           font-size:110%;\n",
    "           font-family:cursive;\n",
    "           letter-spacing:0.5px;\n",
    "           background-color:pink;\n",
    "           color:Black;\n",
    "            padding:5px 5px 5px 5px;\n",
    "           font-family:cursive\n",
    "           \">\n",
    "<h1 style=\"text-align:center;font-weight: bold\">What are SFrames?</h1>\n",
    "    <h3 style=\"text-align:center;font-weight: bold\">Here you noticed we use SFrames Dataset not the typicall csv or tsv. So lemme introduce you to SFrames</h3>\n",
    "    <h3 style=\"text-align:center;font-weight: bold\">SFrames are the primary data structure for extracting data from other sources for use in Turi Create.\n",
    "</h3>\n",
    "    <h3 style=\"text-align:center;font-weight: bold\">SFrames is a scalable data frame. They are disk backed data frames. So you can eaisly work with datasets that are larger than your available RAM.</h3>\n",
    "    \n",
    "</div>\n",
    "\n"
   ]
  },
  {
   "cell_type": "code",
   "execution_count": 4,
   "id": "protecting-master",
   "metadata": {
    "execution": {
     "iopub.execute_input": "2021-06-18T18:55:02.296491Z",
     "iopub.status.busy": "2021-06-18T18:55:02.295827Z",
     "iopub.status.idle": "2021-06-18T18:55:02.404646Z",
     "shell.execute_reply": "2021-06-18T18:55:02.403944Z",
     "shell.execute_reply.started": "2021-06-15T10:38:41.074235Z"
    },
    "papermill": {
     "duration": 0.31806,
     "end_time": "2021-06-18T18:55:02.404801",
     "exception": false,
     "start_time": "2021-06-18T18:55:02.086741",
     "status": "completed"
    },
    "tags": []
   },
   "outputs": [
    {
     "data": {
      "text/html": [
       "<div style=\"max-height:1000px;max-width:1500px;overflow:auto;\"><table frame=\"box\" rules=\"cols\">\n",
       "    <thead>\n",
       "        <tr>\n",
       "            <th style=\"padding-left: 1em; padding-right: 1em; text-align: center\">user_id</th>\n",
       "            <th style=\"padding-left: 1em; padding-right: 1em; text-align: center\">song_id</th>\n",
       "            <th style=\"padding-left: 1em; padding-right: 1em; text-align: center\">listen_count</th>\n",
       "            <th style=\"padding-left: 1em; padding-right: 1em; text-align: center\">title</th>\n",
       "            <th style=\"padding-left: 1em; padding-right: 1em; text-align: center\">artist</th>\n",
       "        </tr>\n",
       "    </thead>\n",
       "    <tbody>\n",
       "        <tr>\n",
       "            <td style=\"padding-left: 1em; padding-right: 1em; text-align: center; vertical-align: top\">b80344d063b5ccb3212f76538<br>f3d9e43d87dca9e ...</td>\n",
       "            <td style=\"padding-left: 1em; padding-right: 1em; text-align: center; vertical-align: top\">SOAKIMP12A8C130995</td>\n",
       "            <td style=\"padding-left: 1em; padding-right: 1em; text-align: center; vertical-align: top\">1</td>\n",
       "            <td style=\"padding-left: 1em; padding-right: 1em; text-align: center; vertical-align: top\">The Cove</td>\n",
       "            <td style=\"padding-left: 1em; padding-right: 1em; text-align: center; vertical-align: top\">Jack Johnson</td>\n",
       "        </tr>\n",
       "        <tr>\n",
       "            <td style=\"padding-left: 1em; padding-right: 1em; text-align: center; vertical-align: top\">b80344d063b5ccb3212f76538<br>f3d9e43d87dca9e ...</td>\n",
       "            <td style=\"padding-left: 1em; padding-right: 1em; text-align: center; vertical-align: top\">SOBBMDR12A8C13253B</td>\n",
       "            <td style=\"padding-left: 1em; padding-right: 1em; text-align: center; vertical-align: top\">2</td>\n",
       "            <td style=\"padding-left: 1em; padding-right: 1em; text-align: center; vertical-align: top\">Entre Dos Aguas</td>\n",
       "            <td style=\"padding-left: 1em; padding-right: 1em; text-align: center; vertical-align: top\">Paco De Lucia</td>\n",
       "        </tr>\n",
       "        <tr>\n",
       "            <td style=\"padding-left: 1em; padding-right: 1em; text-align: center; vertical-align: top\">b80344d063b5ccb3212f76538<br>f3d9e43d87dca9e ...</td>\n",
       "            <td style=\"padding-left: 1em; padding-right: 1em; text-align: center; vertical-align: top\">SOBXHDL12A81C204C0</td>\n",
       "            <td style=\"padding-left: 1em; padding-right: 1em; text-align: center; vertical-align: top\">1</td>\n",
       "            <td style=\"padding-left: 1em; padding-right: 1em; text-align: center; vertical-align: top\">Stronger</td>\n",
       "            <td style=\"padding-left: 1em; padding-right: 1em; text-align: center; vertical-align: top\">Kanye West</td>\n",
       "        </tr>\n",
       "        <tr>\n",
       "            <td style=\"padding-left: 1em; padding-right: 1em; text-align: center; vertical-align: top\">b80344d063b5ccb3212f76538<br>f3d9e43d87dca9e ...</td>\n",
       "            <td style=\"padding-left: 1em; padding-right: 1em; text-align: center; vertical-align: top\">SOBYHAJ12A6701BF1D</td>\n",
       "            <td style=\"padding-left: 1em; padding-right: 1em; text-align: center; vertical-align: top\">1</td>\n",
       "            <td style=\"padding-left: 1em; padding-right: 1em; text-align: center; vertical-align: top\">Constellations</td>\n",
       "            <td style=\"padding-left: 1em; padding-right: 1em; text-align: center; vertical-align: top\">Jack Johnson</td>\n",
       "        </tr>\n",
       "        <tr>\n",
       "            <td style=\"padding-left: 1em; padding-right: 1em; text-align: center; vertical-align: top\">b80344d063b5ccb3212f76538<br>f3d9e43d87dca9e ...</td>\n",
       "            <td style=\"padding-left: 1em; padding-right: 1em; text-align: center; vertical-align: top\">SODACBL12A8C13C273</td>\n",
       "            <td style=\"padding-left: 1em; padding-right: 1em; text-align: center; vertical-align: top\">1</td>\n",
       "            <td style=\"padding-left: 1em; padding-right: 1em; text-align: center; vertical-align: top\">Learn To Fly</td>\n",
       "            <td style=\"padding-left: 1em; padding-right: 1em; text-align: center; vertical-align: top\">Foo Fighters</td>\n",
       "        </tr>\n",
       "        <tr>\n",
       "            <td style=\"padding-left: 1em; padding-right: 1em; text-align: center; vertical-align: top\">b80344d063b5ccb3212f76538<br>f3d9e43d87dca9e ...</td>\n",
       "            <td style=\"padding-left: 1em; padding-right: 1em; text-align: center; vertical-align: top\">SODDNQT12A6D4F5F7E</td>\n",
       "            <td style=\"padding-left: 1em; padding-right: 1em; text-align: center; vertical-align: top\">5</td>\n",
       "            <td style=\"padding-left: 1em; padding-right: 1em; text-align: center; vertical-align: top\">Apuesta Por El Rock &#x27;N&#x27;<br>Roll ...</td>\n",
       "            <td style=\"padding-left: 1em; padding-right: 1em; text-align: center; vertical-align: top\">Héroes del Silencio</td>\n",
       "        </tr>\n",
       "        <tr>\n",
       "            <td style=\"padding-left: 1em; padding-right: 1em; text-align: center; vertical-align: top\">b80344d063b5ccb3212f76538<br>f3d9e43d87dca9e ...</td>\n",
       "            <td style=\"padding-left: 1em; padding-right: 1em; text-align: center; vertical-align: top\">SODXRTY12AB0180F3B</td>\n",
       "            <td style=\"padding-left: 1em; padding-right: 1em; text-align: center; vertical-align: top\">1</td>\n",
       "            <td style=\"padding-left: 1em; padding-right: 1em; text-align: center; vertical-align: top\">Paper Gangsta</td>\n",
       "            <td style=\"padding-left: 1em; padding-right: 1em; text-align: center; vertical-align: top\">Lady GaGa</td>\n",
       "        </tr>\n",
       "        <tr>\n",
       "            <td style=\"padding-left: 1em; padding-right: 1em; text-align: center; vertical-align: top\">b80344d063b5ccb3212f76538<br>f3d9e43d87dca9e ...</td>\n",
       "            <td style=\"padding-left: 1em; padding-right: 1em; text-align: center; vertical-align: top\">SOFGUAY12AB017B0A8</td>\n",
       "            <td style=\"padding-left: 1em; padding-right: 1em; text-align: center; vertical-align: top\">1</td>\n",
       "            <td style=\"padding-left: 1em; padding-right: 1em; text-align: center; vertical-align: top\">Stacked Actors</td>\n",
       "            <td style=\"padding-left: 1em; padding-right: 1em; text-align: center; vertical-align: top\">Foo Fighters</td>\n",
       "        </tr>\n",
       "        <tr>\n",
       "            <td style=\"padding-left: 1em; padding-right: 1em; text-align: center; vertical-align: top\">b80344d063b5ccb3212f76538<br>f3d9e43d87dca9e ...</td>\n",
       "            <td style=\"padding-left: 1em; padding-right: 1em; text-align: center; vertical-align: top\">SOFRQTD12A81C233C0</td>\n",
       "            <td style=\"padding-left: 1em; padding-right: 1em; text-align: center; vertical-align: top\">1</td>\n",
       "            <td style=\"padding-left: 1em; padding-right: 1em; text-align: center; vertical-align: top\">Sehr kosmisch</td>\n",
       "            <td style=\"padding-left: 1em; padding-right: 1em; text-align: center; vertical-align: top\">Harmonia</td>\n",
       "        </tr>\n",
       "        <tr>\n",
       "            <td style=\"padding-left: 1em; padding-right: 1em; text-align: center; vertical-align: top\">b80344d063b5ccb3212f76538<br>f3d9e43d87dca9e ...</td>\n",
       "            <td style=\"padding-left: 1em; padding-right: 1em; text-align: center; vertical-align: top\">SOHQWYZ12A6D4FA701</td>\n",
       "            <td style=\"padding-left: 1em; padding-right: 1em; text-align: center; vertical-align: top\">1</td>\n",
       "            <td style=\"padding-left: 1em; padding-right: 1em; text-align: center; vertical-align: top\">Heaven&#x27;s gonna burn your<br>eyes ...</td>\n",
       "            <td style=\"padding-left: 1em; padding-right: 1em; text-align: center; vertical-align: top\">Thievery Corporation<br>feat. Emiliana Torrini ...</td>\n",
       "        </tr>\n",
       "    </tbody>\n",
       "</table>\n",
       "<table frame=\"box\" rules=\"cols\">\n",
       "    <thead>\n",
       "        <tr>\n",
       "            <th style=\"padding-left: 1em; padding-right: 1em; text-align: center\">song</th>\n",
       "        </tr>\n",
       "    </thead>\n",
       "    <tbody>\n",
       "        <tr>\n",
       "            <td style=\"padding-left: 1em; padding-right: 1em; text-align: center; vertical-align: top\">The Cove - Jack Johnson</td>\n",
       "        </tr>\n",
       "        <tr>\n",
       "            <td style=\"padding-left: 1em; padding-right: 1em; text-align: center; vertical-align: top\">Entre Dos Aguas - Paco De<br>Lucia ...</td>\n",
       "        </tr>\n",
       "        <tr>\n",
       "            <td style=\"padding-left: 1em; padding-right: 1em; text-align: center; vertical-align: top\">Stronger - Kanye West</td>\n",
       "        </tr>\n",
       "        <tr>\n",
       "            <td style=\"padding-left: 1em; padding-right: 1em; text-align: center; vertical-align: top\">Constellations - Jack<br>Johnson ...</td>\n",
       "        </tr>\n",
       "        <tr>\n",
       "            <td style=\"padding-left: 1em; padding-right: 1em; text-align: center; vertical-align: top\">Learn To Fly - Foo<br>Fighters ...</td>\n",
       "        </tr>\n",
       "        <tr>\n",
       "            <td style=\"padding-left: 1em; padding-right: 1em; text-align: center; vertical-align: top\">Apuesta Por El Rock &#x27;N&#x27;<br>Roll - Héroes del ...</td>\n",
       "        </tr>\n",
       "        <tr>\n",
       "            <td style=\"padding-left: 1em; padding-right: 1em; text-align: center; vertical-align: top\">Paper Gangsta - Lady GaGa</td>\n",
       "        </tr>\n",
       "        <tr>\n",
       "            <td style=\"padding-left: 1em; padding-right: 1em; text-align: center; vertical-align: top\">Stacked Actors - Foo<br>Fighters ...</td>\n",
       "        </tr>\n",
       "        <tr>\n",
       "            <td style=\"padding-left: 1em; padding-right: 1em; text-align: center; vertical-align: top\">Sehr kosmisch - Harmonia</td>\n",
       "        </tr>\n",
       "        <tr>\n",
       "            <td style=\"padding-left: 1em; padding-right: 1em; text-align: center; vertical-align: top\">Heaven&#x27;s gonna burn your<br>eyes - Thievery ...</td>\n",
       "        </tr>\n",
       "    </tbody>\n",
       "</table>\n",
       "[1116609 rows x 6 columns]<br/>Note: Only the head of the SFrame is printed.<br/>You can use print_rows(num_rows=m, num_columns=n) to print more rows and columns.\n",
       "</div>"
      ],
      "text/plain": [
       "Columns:\n",
       "\tuser_id\tstr\n",
       "\tsong_id\tstr\n",
       "\tlisten_count\tint\n",
       "\ttitle\tstr\n",
       "\tartist\tstr\n",
       "\tsong\tstr\n",
       "\n",
       "Rows: 1116609\n",
       "\n",
       "Data:\n",
       "+-------------------------------+--------------------+--------------+\n",
       "|            user_id            |      song_id       | listen_count |\n",
       "+-------------------------------+--------------------+--------------+\n",
       "| b80344d063b5ccb3212f76538f... | SOAKIMP12A8C130995 |      1       |\n",
       "| b80344d063b5ccb3212f76538f... | SOBBMDR12A8C13253B |      2       |\n",
       "| b80344d063b5ccb3212f76538f... | SOBXHDL12A81C204C0 |      1       |\n",
       "| b80344d063b5ccb3212f76538f... | SOBYHAJ12A6701BF1D |      1       |\n",
       "| b80344d063b5ccb3212f76538f... | SODACBL12A8C13C273 |      1       |\n",
       "| b80344d063b5ccb3212f76538f... | SODDNQT12A6D4F5F7E |      5       |\n",
       "| b80344d063b5ccb3212f76538f... | SODXRTY12AB0180F3B |      1       |\n",
       "| b80344d063b5ccb3212f76538f... | SOFGUAY12AB017B0A8 |      1       |\n",
       "| b80344d063b5ccb3212f76538f... | SOFRQTD12A81C233C0 |      1       |\n",
       "| b80344d063b5ccb3212f76538f... | SOHQWYZ12A6D4FA701 |      1       |\n",
       "+-------------------------------+--------------------+--------------+\n",
       "+-------------------------------+-------------------------------+\n",
       "|             title             |             artist            |\n",
       "+-------------------------------+-------------------------------+\n",
       "|            The Cove           |          Jack Johnson         |\n",
       "|        Entre Dos Aguas        |         Paco De Lucia         |\n",
       "|            Stronger           |           Kanye West          |\n",
       "|         Constellations        |          Jack Johnson         |\n",
       "|          Learn To Fly         |          Foo Fighters         |\n",
       "|  Apuesta Por El Rock 'N' Roll |      Héroes del Silencio      |\n",
       "|         Paper Gangsta         |           Lady GaGa           |\n",
       "|         Stacked Actors        |          Foo Fighters         |\n",
       "|         Sehr kosmisch         |            Harmonia           |\n",
       "| Heaven's gonna burn your eyes | Thievery Corporation feat.... |\n",
       "+-------------------------------+-------------------------------+\n",
       "+-------------------------------+\n",
       "|              song             |\n",
       "+-------------------------------+\n",
       "|    The Cove - Jack Johnson    |\n",
       "| Entre Dos Aguas - Paco De ... |\n",
       "|     Stronger - Kanye West     |\n",
       "| Constellations - Jack Johnson |\n",
       "|  Learn To Fly - Foo Fighters  |\n",
       "| Apuesta Por El Rock 'N' Ro... |\n",
       "|   Paper Gangsta - Lady GaGa   |\n",
       "| Stacked Actors - Foo Fighters |\n",
       "|    Sehr kosmisch - Harmonia   |\n",
       "| Heaven's gonna burn your e... |\n",
       "+-------------------------------+\n",
       "[1116609 rows x 6 columns]\n",
       "Note: Only the head of the SFrame is printed.\n",
       "You can use print_rows(num_rows=m, num_columns=n) to print more rows and columns."
      ]
     },
     "execution_count": 4,
     "metadata": {},
     "output_type": "execute_result"
    }
   ],
   "source": [
    "song_data"
   ]
  },
  {
   "cell_type": "markdown",
   "id": "alert-georgia",
   "metadata": {
    "papermill": {
     "duration": 0.194266,
     "end_time": "2021-06-18T18:55:02.793765",
     "exception": false,
     "start_time": "2021-06-18T18:55:02.599499",
     "status": "completed"
    },
    "tags": []
   },
   "source": [
    "\n",
    "<div style=\"color:white;\n",
    "           display:fill;\n",
    "           border-radius:5px;\n",
    "           font-size:110%;\n",
    "           font-family:cursive;\n",
    "           letter-spacing:0.5px;\n",
    "           background-color:pink;\n",
    "           color:Black;\n",
    "            padding:5px 5px 5px 5px;\n",
    "           font-family:cursive\n",
    "           \">\n",
    "<h1 style=\"text-align:center;font-weight: bold\"> Exploratory Data Analysis </h1>\n",
    "</div>\n"
   ]
  },
  {
   "cell_type": "code",
   "execution_count": 5,
   "id": "massive-military",
   "metadata": {
    "execution": {
     "iopub.execute_input": "2021-06-18T18:55:03.187005Z",
     "iopub.status.busy": "2021-06-18T18:55:03.186155Z",
     "iopub.status.idle": "2021-06-18T18:55:03.238853Z",
     "shell.execute_reply": "2021-06-18T18:55:03.237902Z",
     "shell.execute_reply.started": "2021-06-15T10:38:46.703394Z"
    },
    "papermill": {
     "duration": 0.251382,
     "end_time": "2021-06-18T18:55:03.239017",
     "exception": false,
     "start_time": "2021-06-18T18:55:02.987635",
     "status": "completed"
    },
    "tags": []
   },
   "outputs": [
    {
     "data": {
      "text/html": [
       "<div style=\"max-height:1000px;max-width:1500px;overflow:auto;\"><table frame=\"box\" rules=\"cols\">\n",
       "    <thead>\n",
       "        <tr>\n",
       "            <th style=\"padding-left: 1em; padding-right: 1em; text-align: center\">user_id</th>\n",
       "            <th style=\"padding-left: 1em; padding-right: 1em; text-align: center\">song_id</th>\n",
       "            <th style=\"padding-left: 1em; padding-right: 1em; text-align: center\">listen_count</th>\n",
       "            <th style=\"padding-left: 1em; padding-right: 1em; text-align: center\">title</th>\n",
       "            <th style=\"padding-left: 1em; padding-right: 1em; text-align: center\">artist</th>\n",
       "        </tr>\n",
       "    </thead>\n",
       "    <tbody>\n",
       "        <tr>\n",
       "            <td style=\"padding-left: 1em; padding-right: 1em; text-align: center; vertical-align: top\">b80344d063b5ccb3212f76538<br>f3d9e43d87dca9e ...</td>\n",
       "            <td style=\"padding-left: 1em; padding-right: 1em; text-align: center; vertical-align: top\">SOAKIMP12A8C130995</td>\n",
       "            <td style=\"padding-left: 1em; padding-right: 1em; text-align: center; vertical-align: top\">1</td>\n",
       "            <td style=\"padding-left: 1em; padding-right: 1em; text-align: center; vertical-align: top\">The Cove</td>\n",
       "            <td style=\"padding-left: 1em; padding-right: 1em; text-align: center; vertical-align: top\">Jack Johnson</td>\n",
       "        </tr>\n",
       "        <tr>\n",
       "            <td style=\"padding-left: 1em; padding-right: 1em; text-align: center; vertical-align: top\">b80344d063b5ccb3212f76538<br>f3d9e43d87dca9e ...</td>\n",
       "            <td style=\"padding-left: 1em; padding-right: 1em; text-align: center; vertical-align: top\">SOBBMDR12A8C13253B</td>\n",
       "            <td style=\"padding-left: 1em; padding-right: 1em; text-align: center; vertical-align: top\">2</td>\n",
       "            <td style=\"padding-left: 1em; padding-right: 1em; text-align: center; vertical-align: top\">Entre Dos Aguas</td>\n",
       "            <td style=\"padding-left: 1em; padding-right: 1em; text-align: center; vertical-align: top\">Paco De Lucia</td>\n",
       "        </tr>\n",
       "        <tr>\n",
       "            <td style=\"padding-left: 1em; padding-right: 1em; text-align: center; vertical-align: top\">b80344d063b5ccb3212f76538<br>f3d9e43d87dca9e ...</td>\n",
       "            <td style=\"padding-left: 1em; padding-right: 1em; text-align: center; vertical-align: top\">SOBXHDL12A81C204C0</td>\n",
       "            <td style=\"padding-left: 1em; padding-right: 1em; text-align: center; vertical-align: top\">1</td>\n",
       "            <td style=\"padding-left: 1em; padding-right: 1em; text-align: center; vertical-align: top\">Stronger</td>\n",
       "            <td style=\"padding-left: 1em; padding-right: 1em; text-align: center; vertical-align: top\">Kanye West</td>\n",
       "        </tr>\n",
       "        <tr>\n",
       "            <td style=\"padding-left: 1em; padding-right: 1em; text-align: center; vertical-align: top\">b80344d063b5ccb3212f76538<br>f3d9e43d87dca9e ...</td>\n",
       "            <td style=\"padding-left: 1em; padding-right: 1em; text-align: center; vertical-align: top\">SOBYHAJ12A6701BF1D</td>\n",
       "            <td style=\"padding-left: 1em; padding-right: 1em; text-align: center; vertical-align: top\">1</td>\n",
       "            <td style=\"padding-left: 1em; padding-right: 1em; text-align: center; vertical-align: top\">Constellations</td>\n",
       "            <td style=\"padding-left: 1em; padding-right: 1em; text-align: center; vertical-align: top\">Jack Johnson</td>\n",
       "        </tr>\n",
       "        <tr>\n",
       "            <td style=\"padding-left: 1em; padding-right: 1em; text-align: center; vertical-align: top\">b80344d063b5ccb3212f76538<br>f3d9e43d87dca9e ...</td>\n",
       "            <td style=\"padding-left: 1em; padding-right: 1em; text-align: center; vertical-align: top\">SODACBL12A8C13C273</td>\n",
       "            <td style=\"padding-left: 1em; padding-right: 1em; text-align: center; vertical-align: top\">1</td>\n",
       "            <td style=\"padding-left: 1em; padding-right: 1em; text-align: center; vertical-align: top\">Learn To Fly</td>\n",
       "            <td style=\"padding-left: 1em; padding-right: 1em; text-align: center; vertical-align: top\">Foo Fighters</td>\n",
       "        </tr>\n",
       "        <tr>\n",
       "            <td style=\"padding-left: 1em; padding-right: 1em; text-align: center; vertical-align: top\">b80344d063b5ccb3212f76538<br>f3d9e43d87dca9e ...</td>\n",
       "            <td style=\"padding-left: 1em; padding-right: 1em; text-align: center; vertical-align: top\">SODDNQT12A6D4F5F7E</td>\n",
       "            <td style=\"padding-left: 1em; padding-right: 1em; text-align: center; vertical-align: top\">5</td>\n",
       "            <td style=\"padding-left: 1em; padding-right: 1em; text-align: center; vertical-align: top\">Apuesta Por El Rock &#x27;N&#x27;<br>Roll ...</td>\n",
       "            <td style=\"padding-left: 1em; padding-right: 1em; text-align: center; vertical-align: top\">Héroes del Silencio</td>\n",
       "        </tr>\n",
       "        <tr>\n",
       "            <td style=\"padding-left: 1em; padding-right: 1em; text-align: center; vertical-align: top\">b80344d063b5ccb3212f76538<br>f3d9e43d87dca9e ...</td>\n",
       "            <td style=\"padding-left: 1em; padding-right: 1em; text-align: center; vertical-align: top\">SODXRTY12AB0180F3B</td>\n",
       "            <td style=\"padding-left: 1em; padding-right: 1em; text-align: center; vertical-align: top\">1</td>\n",
       "            <td style=\"padding-left: 1em; padding-right: 1em; text-align: center; vertical-align: top\">Paper Gangsta</td>\n",
       "            <td style=\"padding-left: 1em; padding-right: 1em; text-align: center; vertical-align: top\">Lady GaGa</td>\n",
       "        </tr>\n",
       "        <tr>\n",
       "            <td style=\"padding-left: 1em; padding-right: 1em; text-align: center; vertical-align: top\">b80344d063b5ccb3212f76538<br>f3d9e43d87dca9e ...</td>\n",
       "            <td style=\"padding-left: 1em; padding-right: 1em; text-align: center; vertical-align: top\">SOFGUAY12AB017B0A8</td>\n",
       "            <td style=\"padding-left: 1em; padding-right: 1em; text-align: center; vertical-align: top\">1</td>\n",
       "            <td style=\"padding-left: 1em; padding-right: 1em; text-align: center; vertical-align: top\">Stacked Actors</td>\n",
       "            <td style=\"padding-left: 1em; padding-right: 1em; text-align: center; vertical-align: top\">Foo Fighters</td>\n",
       "        </tr>\n",
       "        <tr>\n",
       "            <td style=\"padding-left: 1em; padding-right: 1em; text-align: center; vertical-align: top\">b80344d063b5ccb3212f76538<br>f3d9e43d87dca9e ...</td>\n",
       "            <td style=\"padding-left: 1em; padding-right: 1em; text-align: center; vertical-align: top\">SOFRQTD12A81C233C0</td>\n",
       "            <td style=\"padding-left: 1em; padding-right: 1em; text-align: center; vertical-align: top\">1</td>\n",
       "            <td style=\"padding-left: 1em; padding-right: 1em; text-align: center; vertical-align: top\">Sehr kosmisch</td>\n",
       "            <td style=\"padding-left: 1em; padding-right: 1em; text-align: center; vertical-align: top\">Harmonia</td>\n",
       "        </tr>\n",
       "        <tr>\n",
       "            <td style=\"padding-left: 1em; padding-right: 1em; text-align: center; vertical-align: top\">b80344d063b5ccb3212f76538<br>f3d9e43d87dca9e ...</td>\n",
       "            <td style=\"padding-left: 1em; padding-right: 1em; text-align: center; vertical-align: top\">SOHQWYZ12A6D4FA701</td>\n",
       "            <td style=\"padding-left: 1em; padding-right: 1em; text-align: center; vertical-align: top\">1</td>\n",
       "            <td style=\"padding-left: 1em; padding-right: 1em; text-align: center; vertical-align: top\">Heaven&#x27;s gonna burn your<br>eyes ...</td>\n",
       "            <td style=\"padding-left: 1em; padding-right: 1em; text-align: center; vertical-align: top\">Thievery Corporation<br>feat. Emiliana Torrini ...</td>\n",
       "        </tr>\n",
       "    </tbody>\n",
       "</table>\n",
       "<table frame=\"box\" rules=\"cols\">\n",
       "    <thead>\n",
       "        <tr>\n",
       "            <th style=\"padding-left: 1em; padding-right: 1em; text-align: center\">song</th>\n",
       "        </tr>\n",
       "    </thead>\n",
       "    <tbody>\n",
       "        <tr>\n",
       "            <td style=\"padding-left: 1em; padding-right: 1em; text-align: center; vertical-align: top\">The Cove - Jack Johnson</td>\n",
       "        </tr>\n",
       "        <tr>\n",
       "            <td style=\"padding-left: 1em; padding-right: 1em; text-align: center; vertical-align: top\">Entre Dos Aguas - Paco De<br>Lucia ...</td>\n",
       "        </tr>\n",
       "        <tr>\n",
       "            <td style=\"padding-left: 1em; padding-right: 1em; text-align: center; vertical-align: top\">Stronger - Kanye West</td>\n",
       "        </tr>\n",
       "        <tr>\n",
       "            <td style=\"padding-left: 1em; padding-right: 1em; text-align: center; vertical-align: top\">Constellations - Jack<br>Johnson ...</td>\n",
       "        </tr>\n",
       "        <tr>\n",
       "            <td style=\"padding-left: 1em; padding-right: 1em; text-align: center; vertical-align: top\">Learn To Fly - Foo<br>Fighters ...</td>\n",
       "        </tr>\n",
       "        <tr>\n",
       "            <td style=\"padding-left: 1em; padding-right: 1em; text-align: center; vertical-align: top\">Apuesta Por El Rock &#x27;N&#x27;<br>Roll - Héroes del ...</td>\n",
       "        </tr>\n",
       "        <tr>\n",
       "            <td style=\"padding-left: 1em; padding-right: 1em; text-align: center; vertical-align: top\">Paper Gangsta - Lady GaGa</td>\n",
       "        </tr>\n",
       "        <tr>\n",
       "            <td style=\"padding-left: 1em; padding-right: 1em; text-align: center; vertical-align: top\">Stacked Actors - Foo<br>Fighters ...</td>\n",
       "        </tr>\n",
       "        <tr>\n",
       "            <td style=\"padding-left: 1em; padding-right: 1em; text-align: center; vertical-align: top\">Sehr kosmisch - Harmonia</td>\n",
       "        </tr>\n",
       "        <tr>\n",
       "            <td style=\"padding-left: 1em; padding-right: 1em; text-align: center; vertical-align: top\">Heaven&#x27;s gonna burn your<br>eyes - Thievery ...</td>\n",
       "        </tr>\n",
       "    </tbody>\n",
       "</table>\n",
       "[10 rows x 6 columns]<br/>\n",
       "</div>"
      ],
      "text/plain": [
       "Columns:\n",
       "\tuser_id\tstr\n",
       "\tsong_id\tstr\n",
       "\tlisten_count\tint\n",
       "\ttitle\tstr\n",
       "\tartist\tstr\n",
       "\tsong\tstr\n",
       "\n",
       "Rows: 10\n",
       "\n",
       "Data:\n",
       "+-------------------------------+--------------------+--------------+\n",
       "|            user_id            |      song_id       | listen_count |\n",
       "+-------------------------------+--------------------+--------------+\n",
       "| b80344d063b5ccb3212f76538f... | SOAKIMP12A8C130995 |      1       |\n",
       "| b80344d063b5ccb3212f76538f... | SOBBMDR12A8C13253B |      2       |\n",
       "| b80344d063b5ccb3212f76538f... | SOBXHDL12A81C204C0 |      1       |\n",
       "| b80344d063b5ccb3212f76538f... | SOBYHAJ12A6701BF1D |      1       |\n",
       "| b80344d063b5ccb3212f76538f... | SODACBL12A8C13C273 |      1       |\n",
       "| b80344d063b5ccb3212f76538f... | SODDNQT12A6D4F5F7E |      5       |\n",
       "| b80344d063b5ccb3212f76538f... | SODXRTY12AB0180F3B |      1       |\n",
       "| b80344d063b5ccb3212f76538f... | SOFGUAY12AB017B0A8 |      1       |\n",
       "| b80344d063b5ccb3212f76538f... | SOFRQTD12A81C233C0 |      1       |\n",
       "| b80344d063b5ccb3212f76538f... | SOHQWYZ12A6D4FA701 |      1       |\n",
       "+-------------------------------+--------------------+--------------+\n",
       "+-------------------------------+-------------------------------+\n",
       "|             title             |             artist            |\n",
       "+-------------------------------+-------------------------------+\n",
       "|            The Cove           |          Jack Johnson         |\n",
       "|        Entre Dos Aguas        |         Paco De Lucia         |\n",
       "|            Stronger           |           Kanye West          |\n",
       "|         Constellations        |          Jack Johnson         |\n",
       "|          Learn To Fly         |          Foo Fighters         |\n",
       "|  Apuesta Por El Rock 'N' Roll |      Héroes del Silencio      |\n",
       "|         Paper Gangsta         |           Lady GaGa           |\n",
       "|         Stacked Actors        |          Foo Fighters         |\n",
       "|         Sehr kosmisch         |            Harmonia           |\n",
       "| Heaven's gonna burn your eyes | Thievery Corporation feat.... |\n",
       "+-------------------------------+-------------------------------+\n",
       "+-------------------------------+\n",
       "|              song             |\n",
       "+-------------------------------+\n",
       "|    The Cove - Jack Johnson    |\n",
       "| Entre Dos Aguas - Paco De ... |\n",
       "|     Stronger - Kanye West     |\n",
       "| Constellations - Jack Johnson |\n",
       "|  Learn To Fly - Foo Fighters  |\n",
       "| Apuesta Por El Rock 'N' Ro... |\n",
       "|   Paper Gangsta - Lady GaGa   |\n",
       "| Stacked Actors - Foo Fighters |\n",
       "|    Sehr kosmisch - Harmonia   |\n",
       "| Heaven's gonna burn your e... |\n",
       "+-------------------------------+\n",
       "[10 rows x 6 columns]"
      ]
     },
     "execution_count": 5,
     "metadata": {},
     "output_type": "execute_result"
    }
   ],
   "source": [
    "song_data.head()"
   ]
  },
  {
   "cell_type": "code",
   "execution_count": 6,
   "id": "dietary-cancer",
   "metadata": {
    "execution": {
     "iopub.execute_input": "2021-06-18T18:55:03.634925Z",
     "iopub.status.busy": "2021-06-18T18:55:03.633975Z",
     "iopub.status.idle": "2021-06-18T18:55:03.639176Z",
     "shell.execute_reply": "2021-06-18T18:55:03.638500Z"
    },
    "papermill": {
     "duration": 0.206824,
     "end_time": "2021-06-18T18:55:03.639318",
     "exception": false,
     "start_time": "2021-06-18T18:55:03.432494",
     "status": "completed"
    },
    "tags": []
   },
   "outputs": [
    {
     "data": {
      "text/plain": [
       "1116609"
      ]
     },
     "execution_count": 6,
     "metadata": {},
     "output_type": "execute_result"
    }
   ],
   "source": [
    "len(song_data)"
   ]
  },
  {
   "cell_type": "code",
   "execution_count": 7,
   "id": "hidden-carroll",
   "metadata": {
    "execution": {
     "iopub.execute_input": "2021-06-18T18:55:04.036317Z",
     "iopub.status.busy": "2021-06-18T18:55:04.035586Z",
     "iopub.status.idle": "2021-06-18T18:55:08.717670Z",
     "shell.execute_reply": "2021-06-18T18:55:08.717056Z"
    },
    "papermill": {
     "duration": 4.883338,
     "end_time": "2021-06-18T18:55:08.717871",
     "exception": false,
     "start_time": "2021-06-18T18:55:03.834533",
     "status": "completed"
    },
    "tags": []
   },
   "outputs": [
    {
     "data": {
      "text/html": [
       "<pre>Materializing SFrame</pre>"
      ],
      "text/plain": [
       "Materializing SFrame"
      ]
     },
     "metadata": {},
     "output_type": "display_data"
    },
    {
     "data": {
      "text/html": [
       "<html>                 <body>                     <iframe style=\"border:0;margin:0\" width=\"1000\" height=\"2100\" srcdoc='<html lang=\"en\">                         <head>                             <script src=\"https://cdnjs.cloudflare.com/ajax/libs/vega/5.4.0/vega.js\"></script>                             <script src=\"https://cdnjs.cloudflare.com/ajax/libs/vega-embed/4.0.0/vega-embed.js\"></script>                             <script src=\"https://cdnjs.cloudflare.com/ajax/libs/vega-tooltip/0.5.1/vega-tooltip.min.js\"></script>                             <link rel=\"stylesheet\" type=\"text/css\" href=\"https://cdnjs.cloudflare.com/ajax/libs/vega-tooltip/0.5.1/vega-tooltip.min.css\">                             <style>                             .vega-actions > a{                                 color:white;                                 text-decoration: none;                                 font-family: \"Arial\";                                 cursor:pointer;                                 padding:5px;                                 background:#AAAAAA;                                 border-radius:4px;                                 padding-left:10px;                                 padding-right:10px;                                 margin-right:5px;                             }                             .vega-actions{                                 margin-top:20px;                                 text-align:center                             }                            .vega-actions > a{                                 background:#999999;                            }                             </style>                         </head>                         <body>                             <div id=\"vis\">                             </div>                             <script>                                 var vega_json = \"{\\\"$schema\\\": \\\"https://vega.github.io/schema/vega/v4.json\\\", \\\"metadata\\\": {\\\"bubbleOpts\\\": {\\\"showAllFields\\\": false, \\\"fields\\\": [{\\\"field\\\": \\\"left\\\"}, {\\\"field\\\": \\\"right\\\"}, {\\\"field\\\": \\\"count\\\"}, {\\\"field\\\": \\\"label\\\"}]}}, \\\"width\\\": 800, \\\"height\\\": 1880, \\\"padding\\\": 8, \\\"data\\\": [{\\\"name\\\": \\\"pts_store\\\"}, {\\\"name\\\": \\\"source_2\\\", \\\"values\\\": [{\\\"a\\\": 0, \\\"title\\\": \\\"user_id\\\", \\\"num_row\\\": 1116609, \\\"type\\\": \\\"str\\\", \\\"num_unique\\\": 66346, \\\"num_missing\\\": 0, \\\"categorical\\\": [{\\\"label\\\": \\\"0045c60d98ced5efb3cbf1e0b4b7de1da3f1a506\\\", \\\"label_idx\\\": 0, \\\"count\\\": 49, \\\"percentage\\\": \\\"0.00438829%\\\"}, {\\\"label\\\": \\\"0130ca3bbe5b0d34616d9e0390c3b5b58a7e3ff6\\\", \\\"label_idx\\\": 1, \\\"count\\\": 49, \\\"percentage\\\": \\\"0.00438829%\\\"}, {\\\"label\\\": \\\"015aa27307c7acc4e304240198817562e78a4648\\\", \\\"label_idx\\\": 2, \\\"count\\\": 49, \\\"percentage\\\": \\\"0.00438829%\\\"}, {\\\"label\\\": \\\"01d3e2bd4c17ae84f376451a25f76a7c2dbdda1d\\\", \\\"label_idx\\\": 3, \\\"count\\\": 49, \\\"percentage\\\": \\\"0.00438829%\\\"}, {\\\"label\\\": \\\"0214291498f0d96a8a82d17f03b38477d543c0e7\\\", \\\"label_idx\\\": 4, \\\"count\\\": 49, \\\"percentage\\\": \\\"0.00438829%\\\"}, {\\\"label\\\": \\\"024ca7ed3ccce1a88df54b403540ca0ed9be6fa4\\\", \\\"label_idx\\\": 5, \\\"count\\\": 49, \\\"percentage\\\": \\\"0.00438829%\\\"}, {\\\"label\\\": \\\"029ccfe48497d04d4d43c9f9f325da4d50f13241\\\", \\\"label_idx\\\": 6, \\\"count\\\": 49, \\\"percentage\\\": \\\"0.00438829%\\\"}, {\\\"label\\\": \\\"02d780503e85e4545439e6a3eaf2ee81ddb79b88\\\", \\\"label_idx\\\": 7, \\\"count\\\": 49, \\\"percentage\\\": \\\"0.00438829%\\\"}, {\\\"label\\\": \\\"02fae1c811998501a0af130a32e6215f89667854\\\", \\\"label_idx\\\": 8, \\\"count\\\": 49, \\\"percentage\\\": \\\"0.00438829%\\\"}, {\\\"label\\\": \\\"02fb2d35dd2979795b589fdb9cbce737f7b573b1\\\", \\\"label_idx\\\": 9, \\\"count\\\": 49, \\\"percentage\\\": \\\"0.00438829%\\\"}, {\\\"label\\\": \\\"Other (66336 labels)\\\", \\\"label_idx\\\": 10, \\\"count\\\": 1116119, \\\"percentage\\\": \\\"99.9561%\\\"}], \\\"numeric\\\": []}, {\\\"a\\\": 1, \\\"title\\\": \\\"song_id\\\", \\\"num_row\\\": 1116609, \\\"type\\\": \\\"str\\\", \\\"num_unique\\\": 10000, \\\"num_missing\\\": 0, \\\"categorical\\\": [{\\\"label\\\": \\\"SOFRQTD12A81C233C0\\\", \\\"label_idx\\\": 0, \\\"count\\\": 5970, \\\"percentage\\\": \\\"0.534654%\\\"}, {\\\"label\\\": \\\"SOAUWYT12A81C206F1\\\", \\\"label_idx\\\": 1, \\\"count\\\": 5281, \\\"percentage\\\": \\\"0.47295%\\\"}, {\\\"label\\\": \\\"SOBONKR12A58A7A7E0\\\", \\\"label_idx\\\": 2, \\\"count\\\": 4806, \\\"percentage\\\": \\\"0.43041%\\\"}, {\\\"label\\\": \\\"SOAXGDH12A8C13F8A1\\\", \\\"label_idx\\\": 3, \\\"count\\\": 4536, \\\"percentage\\\": \\\"0.40623%\\\"}, {\\\"label\\\": \\\"SOSXLTC12AF72A7F54\\\", \\\"label_idx\\\": 4, \\\"count\\\": 4339, \\\"percentage\\\": \\\"0.388587%\\\"}, {\\\"label\\\": \\\"SOEGIYH12A6D4FC0E3\\\", \\\"label_idx\\\": 5, \\\"count\\\": 3949, \\\"percentage\\\": \\\"0.35366%\\\"}, {\\\"label\\\": \\\"SONYKOW12AB01849C9\\\", \\\"label_idx\\\": 6, \\\"count\\\": 3916, \\\"percentage\\\": \\\"0.350705%\\\"}, {\\\"label\\\": \\\"SOFLJQZ12A6D4FADA6\\\", \\\"label_idx\\\": 7, \\\"count\\\": 3185, \\\"percentage\\\": \\\"0.285239%\\\"}, {\\\"label\\\": \\\"SOLFXKT12AB017E3E0\\\", \\\"label_idx\\\": 8, \\\"count\\\": 3171, \\\"percentage\\\": \\\"0.283985%\\\"}, {\\\"label\\\": \\\"SODJWHY12A8C142CCE\\\", \\\"label_idx\\\": 9, \\\"count\\\": 3132, \\\"percentage\\\": \\\"0.280492%\\\"}, {\\\"label\\\": \\\"Other (9990 labels)\\\", \\\"label_idx\\\": 10, \\\"count\\\": 1074324, \\\"percentage\\\": \\\"96.2131%\\\"}], \\\"numeric\\\": []}, {\\\"a\\\": 2, \\\"title\\\": \\\"listen_count\\\", \\\"num_row\\\": 1116609, \\\"type\\\": \\\"integer\\\", \\\"num_unique\\\": 276, \\\"num_missing\\\": 0, \\\"mean\\\": 3.290769, \\\"min\\\": 1.0, \\\"max\\\": 920.0, \\\"median\\\": 1.0, \\\"stdev\\\": 7.20253, \\\"numeric\\\": [{\\\"left\\\": -18, \\\"right\\\": 30, \\\"count\\\": 1105601}, {\\\"left\\\": 30, \\\"right\\\": 78, \\\"count\\\": 9755}, {\\\"left\\\": 78, \\\"right\\\": 126, \\\"count\\\": 879}, {\\\"left\\\": 126, \\\"right\\\": 174, \\\"count\\\": 208}, {\\\"left\\\": 174, \\\"right\\\": 222, \\\"count\\\": 79}, {\\\"left\\\": 222, \\\"right\\\": 270, \\\"count\\\": 33}, {\\\"left\\\": 270, \\\"right\\\": 318, \\\"count\\\": 17}, {\\\"left\\\": 318, \\\"right\\\": 366, \\\"count\\\": 11}, {\\\"left\\\": 366, \\\"right\\\": 414, \\\"count\\\": 8}, {\\\"left\\\": 414, \\\"right\\\": 462, \\\"count\\\": 7}, {\\\"left\\\": 462, \\\"right\\\": 510, \\\"count\\\": 3}, {\\\"left\\\": 510, \\\"right\\\": 558, \\\"count\\\": 1}, {\\\"left\\\": 558, \\\"right\\\": 606, \\\"count\\\": 2}, {\\\"left\\\": 606, \\\"right\\\": 654, \\\"count\\\": 1}, {\\\"left\\\": 654, \\\"right\\\": 702, \\\"count\\\": 2}, {\\\"left\\\": 702, \\\"right\\\": 750, \\\"count\\\": 0}, {\\\"left\\\": 750, \\\"right\\\": 798, \\\"count\\\": 1}, {\\\"left\\\": 798, \\\"right\\\": 846, \\\"count\\\": 0}, {\\\"left\\\": 846, \\\"right\\\": 894, \\\"count\\\": 0}, {\\\"left\\\": 894, \\\"right\\\": 942, \\\"count\\\": 1}, {\\\"start\\\": -18, \\\"stop\\\": 942, \\\"step\\\": 48}], \\\"categorical\\\": []}, {\\\"a\\\": 3, \\\"title\\\": \\\"title\\\", \\\"num_row\\\": 1116609, \\\"type\\\": \\\"str\\\", \\\"num_unique\\\": 9566, \\\"num_missing\\\": 0, \\\"categorical\\\": [{\\\"label\\\": \\\"Sehr kosmisch\\\", \\\"label_idx\\\": 0, \\\"count\\\": 5970, \\\"percentage\\\": \\\"0.534654%\\\"}, {\\\"label\\\": \\\"Undo\\\", \\\"label_idx\\\": 1, \\\"count\\\": 5281, \\\"percentage\\\": \\\"0.47295%\\\"}, {\\\"label\\\": \\\"You&apos;re The One\\\", \\\"label_idx\\\": 2, \\\"count\\\": 4936, \\\"percentage\\\": \\\"0.442053%\\\"}, {\\\"label\\\": \\\"Dog Days Are Over (Radio Edit)\\\", \\\"label_idx\\\": 3, \\\"count\\\": 4536, \\\"percentage\\\": \\\"0.40623%\\\"}, {\\\"label\\\": \\\"Revelry\\\", \\\"label_idx\\\": 4, \\\"count\\\": 4339, \\\"percentage\\\": \\\"0.388587%\\\"}, {\\\"label\\\": \\\"Horn Concerto No. 4 in E flat K495: II. Romance (Andante cantabile)\\\", \\\"label_idx\\\": 5, \\\"count\\\": 3949, \\\"percentage\\\": \\\"0.35366%\\\"}, {\\\"label\\\": \\\"Secrets\\\", \\\"label_idx\\\": 6, \\\"count\\\": 3916, \\\"percentage\\\": \\\"0.350705%\\\"}, {\\\"label\\\": \\\"Tive Sim\\\", \\\"label_idx\\\": 7, \\\"count\\\": 3185, \\\"percentage\\\": \\\"0.285239%\\\"}, {\\\"label\\\": \\\"Fireflies\\\", \\\"label_idx\\\": 8, \\\"count\\\": 3171, \\\"percentage\\\": \\\"0.283985%\\\"}, {\\\"label\\\": \\\"Hey_ Soul Sister\\\", \\\"label_idx\\\": 9, \\\"count\\\": 3132, \\\"percentage\\\": \\\"0.280492%\\\"}, {\\\"label\\\": \\\"Other (9556 labels)\\\", \\\"label_idx\\\": 10, \\\"count\\\": 1074194, \\\"percentage\\\": \\\"96.2014%\\\"}], \\\"numeric\\\": []}, {\\\"a\\\": 4, \\\"title\\\": \\\"artist\\\", \\\"num_row\\\": 1116609, \\\"type\\\": \\\"str\\\", \\\"num_unique\\\": 3375, \\\"num_missing\\\": 0, \\\"categorical\\\": [{\\\"label\\\": \\\"Coldplay\\\", \\\"label_idx\\\": 0, \\\"count\\\": 13945, \\\"percentage\\\": \\\"1.24887%\\\"}, {\\\"label\\\": \\\"Florence + The Machine\\\", \\\"label_idx\\\": 1, \\\"count\\\": 10082, \\\"percentage\\\": \\\"0.902912%\\\"}, {\\\"label\\\": \\\"Kings Of Leon\\\", \\\"label_idx\\\": 2, \\\"count\\\": 9908, \\\"percentage\\\": \\\"0.887329%\\\"}, {\\\"label\\\": \\\"Justin Bieber\\\", \\\"label_idx\\\": 3, \\\"count\\\": 8796, \\\"percentage\\\": \\\"0.787742%\\\"}, {\\\"label\\\": \\\"The Black Keys\\\", \\\"label_idx\\\": 4, \\\"count\\\": 8141, \\\"percentage\\\": \\\"0.729082%\\\"}, {\\\"label\\\": \\\"Jack Johnson\\\", \\\"label_idx\\\": 5, \\\"count\\\": 7907, \\\"percentage\\\": \\\"0.708126%\\\"}, {\\\"label\\\": \\\"Train\\\", \\\"label_idx\\\": 6, \\\"count\\\": 7738, \\\"percentage\\\": \\\"0.692991%\\\"}, {\\\"label\\\": \\\"Eminem\\\", \\\"label_idx\\\": 7, \\\"count\\\": 7558, \\\"percentage\\\": \\\"0.676871%\\\"}, {\\\"label\\\": \\\"OneRepublic\\\", \\\"label_idx\\\": 8, \\\"count\\\": 7228, \\\"percentage\\\": \\\"0.647317%\\\"}, {\\\"label\\\": \\\"Radiohead\\\", \\\"label_idx\\\": 9, \\\"count\\\": 7180, \\\"percentage\\\": \\\"0.643018%\\\"}, {\\\"label\\\": \\\"Other (3365 labels)\\\", \\\"label_idx\\\": 10, \\\"count\\\": 1028126, \\\"percentage\\\": \\\"92.0757%\\\"}], \\\"numeric\\\": []}, {\\\"a\\\": 5, \\\"title\\\": \\\"song\\\", \\\"num_row\\\": 1116609, \\\"type\\\": \\\"str\\\", \\\"num_unique\\\": 9952, \\\"num_missing\\\": 0, \\\"categorical\\\": [{\\\"label\\\": \\\"Sehr kosmisch - Harmonia\\\", \\\"label_idx\\\": 0, \\\"count\\\": 5970, \\\"percentage\\\": \\\"0.534654%\\\"}, {\\\"label\\\": \\\"Undo - Bj\\\\u00f6rk\\\", \\\"label_idx\\\": 1, \\\"count\\\": 5281, \\\"percentage\\\": \\\"0.47295%\\\"}, {\\\"label\\\": \\\"You&apos;re The One - Dwight Yoakam\\\", \\\"label_idx\\\": 2, \\\"count\\\": 4806, \\\"percentage\\\": \\\"0.43041%\\\"}, {\\\"label\\\": \\\"Dog Days Are Over (Radio Edit) - Florence + The Machine\\\", \\\"label_idx\\\": 3, \\\"count\\\": 4536, \\\"percentage\\\": \\\"0.40623%\\\"}, {\\\"label\\\": \\\"Revelry - Kings Of Leon\\\", \\\"label_idx\\\": 4, \\\"count\\\": 4339, \\\"percentage\\\": \\\"0.388587%\\\"}, {\\\"label\\\": \\\"Horn Concerto No. 4 in E flat K495: II. Romance (Andante cantabile) - Barry Tuckwell/Academy of St Martin-in-the-Fields/Sir Neville Marriner\\\", \\\"label_idx\\\": 5, \\\"count\\\": 3949, \\\"percentage\\\": \\\"0.35366%\\\"}, {\\\"label\\\": \\\"Secrets - OneRepublic\\\", \\\"label_idx\\\": 6, \\\"count\\\": 3916, \\\"percentage\\\": \\\"0.350705%\\\"}, {\\\"label\\\": \\\"Tive Sim - Cartola\\\", \\\"label_idx\\\": 7, \\\"count\\\": 3185, \\\"percentage\\\": \\\"0.285239%\\\"}, {\\\"label\\\": \\\"Fireflies - Charttraxx Karaoke\\\", \\\"label_idx\\\": 8, \\\"count\\\": 3171, \\\"percentage\\\": \\\"0.283985%\\\"}, {\\\"label\\\": \\\"Hey_ Soul Sister - Train\\\", \\\"label_idx\\\": 9, \\\"count\\\": 3132, \\\"percentage\\\": \\\"0.280492%\\\"}, {\\\"label\\\": \\\"Other (9942 labels)\\\", \\\"label_idx\\\": 10, \\\"count\\\": 1074324, \\\"percentage\\\": \\\"96.2131%\\\"}], \\\"numeric\\\": []}]}, {\\\"name\\\": \\\"data_2\\\", \\\"source\\\": \\\"source_2\\\", \\\"transform\\\": [{\\\"type\\\": \\\"formula\\\", \\\"expr\\\": \\\"20\\\", \\\"as\\\": \\\"c_x_axis_back\\\"}, {\\\"type\\\": \\\"formula\\\", \\\"expr\\\": \\\"toNumber(datum[\\\\\\\"a\\\\\\\"])*300+66\\\", \\\"as\\\": \\\"c_main_background\\\"}, {\\\"type\\\": \\\"formula\\\", \\\"expr\\\": \\\"toNumber(datum[\\\\\\\"a\\\\\\\"])*300+43\\\", \\\"as\\\": \\\"c_top_bar\\\"}, {\\\"type\\\": \\\"formula\\\", \\\"expr\\\": \\\"toNumber(datum[\\\\\\\"a\\\\\\\"])*300+59\\\", \\\"as\\\": \\\"c_top_title\\\"}, {\\\"type\\\": \\\"formula\\\", \\\"expr\\\": \\\"toNumber(datum[\\\\\\\"a\\\\\\\"])*300+58\\\", \\\"as\\\": \\\"c_top_type\\\"}, {\\\"type\\\": \\\"formula\\\", \\\"expr\\\": \\\"toNumber(datum[\\\\\\\"a\\\\\\\"])*300+178\\\", \\\"as\\\": \\\"c_rule\\\"}, {\\\"type\\\": \\\"formula\\\", \\\"expr\\\": \\\"toNumber(datum[\\\\\\\"a\\\\\\\"])*300+106\\\", \\\"as\\\": \\\"c_num_rows\\\"}, {\\\"type\\\": \\\"formula\\\", \\\"expr\\\": \\\"toNumber(datum[\\\\\\\"a\\\\\\\"])*300+130\\\", \\\"as\\\": \\\"c_num_unique\\\"}, {\\\"type\\\": \\\"formula\\\", \\\"expr\\\": \\\"toNumber(datum[\\\\\\\"a\\\\\\\"])*300+154\\\", \\\"as\\\": \\\"c_missing\\\"}, {\\\"type\\\": \\\"formula\\\", \\\"expr\\\": \\\"toNumber(datum[\\\\\\\"a\\\\\\\"])*300+105\\\", \\\"as\\\": \\\"c_num_rows_val\\\"}, {\\\"type\\\": \\\"formula\\\", \\\"expr\\\": \\\"toNumber(datum[\\\\\\\"a\\\\\\\"])*300+130\\\", \\\"as\\\": \\\"c_num_unique_val\\\"}, {\\\"type\\\": \\\"formula\\\", \\\"expr\\\": \\\"toNumber(datum[\\\\\\\"a\\\\\\\"])*300+154\\\", \\\"as\\\": \\\"c_missing_val\\\"}, {\\\"type\\\": \\\"formula\\\", \\\"expr\\\": \\\"toNumber(datum[\\\\\\\"a\\\\\\\"])*300+195\\\", \\\"as\\\": \\\"c_frequent_items\\\"}, {\\\"type\\\": \\\"formula\\\", \\\"expr\\\": \\\"toNumber(datum[\\\\\\\"a\\\\\\\"])*300+218\\\", \\\"as\\\": \\\"c_first_item\\\"}, {\\\"type\\\": \\\"formula\\\", \\\"expr\\\": \\\"toNumber(datum[\\\\\\\"a\\\\\\\"])*300+235\\\", \\\"as\\\": \\\"c_second_item\\\"}, {\\\"type\\\": \\\"formula\\\", \\\"expr\\\": \\\"toNumber(datum[\\\\\\\"a\\\\\\\"])*300+252\\\", \\\"as\\\": \\\"c_third_item\\\"}, {\\\"type\\\": \\\"formula\\\", \\\"expr\\\": \\\"toNumber(datum[\\\\\\\"a\\\\\\\"])*300+269\\\", \\\"as\\\": \\\"c_fourth_item\\\"}, {\\\"type\\\": \\\"formula\\\", \\\"expr\\\": \\\"toNumber(datum[\\\\\\\"a\\\\\\\"])*300+286\\\", \\\"as\\\": \\\"c_fifth_item\\\"}, {\\\"type\\\": \\\"formula\\\", \\\"expr\\\": \\\"toNumber(datum[\\\\\\\"a\\\\\\\"])*300+200\\\", \\\"as\\\": \\\"c_mean\\\"}, {\\\"type\\\": \\\"formula\\\", \\\"expr\\\": \\\"toNumber(datum[\\\\\\\"a\\\\\\\"])*300+220\\\", \\\"as\\\": \\\"c_min\\\"}, {\\\"type\\\": \\\"formula\\\", \\\"expr\\\": \\\"toNumber(datum[\\\\\\\"a\\\\\\\"])*300+240\\\", \\\"as\\\": \\\"c_max\\\"}, {\\\"type\\\": \\\"formula\\\", \\\"expr\\\": \\\"toNumber(datum[\\\\\\\"a\\\\\\\"])*300+260\\\", \\\"as\\\": \\\"c_median\\\"}, {\\\"type\\\": \\\"formula\\\", \\\"expr\\\": \\\"toNumber(datum[\\\\\\\"a\\\\\\\"])*300+280\\\", \\\"as\\\": \\\"c_stdev\\\"}, {\\\"type\\\": \\\"formula\\\", \\\"expr\\\": \\\"toNumber(datum[\\\\\\\"a\\\\\\\"])*300+198\\\", \\\"as\\\": \\\"c_mean_val\\\"}, {\\\"type\\\": \\\"formula\\\", \\\"expr\\\": \\\"toNumber(datum[\\\\\\\"a\\\\\\\"])*300+218\\\", \\\"as\\\": \\\"c_min_val\\\"}, {\\\"type\\\": \\\"formula\\\", \\\"expr\\\": \\\"toNumber(datum[\\\\\\\"a\\\\\\\"])*300+238\\\", \\\"as\\\": \\\"c_max_val\\\"}, {\\\"type\\\": \\\"formula\\\", \\\"expr\\\": \\\"toNumber(datum[\\\\\\\"a\\\\\\\"])*300+258\\\", \\\"as\\\": \\\"c_median_val\\\"}, {\\\"type\\\": \\\"formula\\\", \\\"expr\\\": \\\"toNumber(datum[\\\\\\\"a\\\\\\\"])*300+278\\\", \\\"as\\\": \\\"c_stdev_val\\\"}, {\\\"type\\\": \\\"formula\\\", \\\"expr\\\": \\\"toNumber(datum[\\\\\\\"a\\\\\\\"])*300+106\\\", \\\"as\\\": \\\"graph_offset\\\"}, {\\\"type\\\": \\\"formula\\\", \\\"expr\\\": \\\"toNumber(datum[\\\\\\\"a\\\\\\\"])*300+132\\\", \\\"as\\\": \\\"graph_offset_categorical\\\"}, {\\\"type\\\": \\\"formula\\\", \\\"expr\\\": \\\"(toString(datum[\\\\\\\"type\\\\\\\"]) == \\\\\\\"integer\\\\\\\" || toString(datum[\\\\\\\"type\\\\\\\"]) == \\\\\\\"float\\\\\\\")?false:true\\\", \\\"as\\\": \\\"c_clip_val\\\"}, {\\\"type\\\": \\\"formula\\\", \\\"expr\\\": \\\"(toString(datum[\\\\\\\"type\\\\\\\"]) == \\\\\\\"integer\\\\\\\" || toString(datum[\\\\\\\"type\\\\\\\"]) == \\\\\\\"float\\\\\\\")?250:0\\\", \\\"as\\\": \\\"c_width_numeric_val\\\"}, {\\\"type\\\": \\\"formula\\\", \\\"expr\\\": \\\"(toString(datum[\\\\\\\"type\\\\\\\"]) == \\\\\\\"str\\\\\\\")?false:true\\\", \\\"as\\\": \\\"c_clip_val_cat\\\"}, {\\\"type\\\": \\\"formula\\\", \\\"expr\\\": \\\"(toString(datum[\\\\\\\"type\\\\\\\"]) == \\\\\\\"str\\\\\\\")?250:0\\\", \\\"as\\\": \\\"c_width_numeric_val_cat\\\"}]}], \\\"marks\\\": [{\\\"encode\\\": {\\\"enter\\\": {\\\"x\\\": {\\\"value\\\": 0}, \\\"width\\\": {\\\"value\\\": 734}, \\\"y\\\": {\\\"value\\\": 0}, \\\"height\\\": {\\\"value\\\": 366}, \\\"clip\\\": {\\\"value\\\": 0}, \\\"fill\\\": {\\\"value\\\": \\\"#ffffff\\\"}, \\\"fillOpacity\\\": {\\\"value\\\": 0}, \\\"stroke\\\": {\\\"value\\\": \\\"#000000\\\"}, \\\"strokeWidth\\\": {\\\"value\\\": 0}}}, \\\"marks\\\": [{\\\"encode\\\": {\\\"enter\\\": {\\\"x\\\": {\\\"value\\\": 0}, \\\"width\\\": {\\\"value\\\": 734}, \\\"y\\\": {\\\"value\\\": 0}, \\\"height\\\": {\\\"value\\\": 366}, \\\"clip\\\": {\\\"value\\\": 0}, \\\"fill\\\": {\\\"value\\\": \\\"#ffffff\\\"}, \\\"fillOpacity\\\": {\\\"value\\\": 0}, \\\"stroke\\\": {\\\"value\\\": \\\"#000000\\\"}, \\\"strokeWidth\\\": {\\\"value\\\": 0}}}, \\\"scales\\\": [], \\\"axes\\\": [], \\\"marks\\\": [{\\\"from\\\": {\\\"data\\\": \\\"data_2\\\"}, \\\"encode\\\": {\\\"enter\\\": {\\\"x\\\": {\\\"value\\\": 33}, \\\"width\\\": {\\\"value\\\": 700}, \\\"y\\\": {\\\"value\\\": 66}, \\\"height\\\": {\\\"value\\\": 250}, \\\"fill\\\": {\\\"value\\\": \\\"#FEFEFE\\\"}, \\\"fillOpacity\\\": {\\\"value\\\": 1}, \\\"stroke\\\": {\\\"value\\\": \\\"#DEDEDE\\\"}, \\\"strokeWidth\\\": {\\\"value\\\": 0.5}}, \\\"update\\\": {\\\"x\\\": {\\\"signal\\\": \\\"datum[\\\\\\\"c_x_axis_back\\\\\\\"]\\\"}, \\\"y\\\": {\\\"field\\\": \\\"c_main_background\\\"}}}, \\\"type\\\": \\\"rect\\\"}, {\\\"from\\\": {\\\"data\\\": \\\"data_2\\\"}, \\\"encode\\\": {\\\"enter\\\": {\\\"x\\\": {\\\"value\\\": 33}, \\\"width\\\": {\\\"value\\\": 700}, \\\"y\\\": {\\\"value\\\": 43}, \\\"height\\\": {\\\"value\\\": 30}, \\\"fill\\\": {\\\"value\\\": \\\"#F5F5F5\\\"}, \\\"fillOpacity\\\": {\\\"value\\\": 1}, \\\"stroke\\\": {\\\"value\\\": \\\"#DEDEDE\\\"}, \\\"strokeWidth\\\": {\\\"value\\\": 0.5}}, \\\"update\\\": {\\\"x\\\": {\\\"signal\\\": \\\"datum[\\\\\\\"c_x_axis_back\\\\\\\"]\\\"}, \\\"y\\\": {\\\"field\\\": \\\"c_top_bar\\\"}}}, \\\"type\\\": \\\"rect\\\"}, {\\\"from\\\": {\\\"data\\\": \\\"data_2\\\"}, \\\"encode\\\": {\\\"enter\\\": {\\\"x\\\": {\\\"value\\\": 720}, \\\"y\\\": {\\\"value\\\": 58}, \\\"text\\\": {\\\"signal\\\": \\\"&apos;&apos;+datum[\\\\\\\"type\\\\\\\"]\\\"}, \\\"align\\\": {\\\"value\\\": \\\"right\\\"}, \\\"baseline\\\": {\\\"value\\\": \\\"middle\\\"}, \\\"dx\\\": {\\\"value\\\": 0, \\\"offset\\\": 0}, \\\"dy\\\": {\\\"value\\\": 0, \\\"offset\\\": 0}, \\\"angle\\\": {\\\"value\\\": 0}, \\\"font\\\": {\\\"value\\\": \\\"AvenirNext-Medium\\\"}, \\\"fontSize\\\": {\\\"value\\\": 12}, \\\"fontWeight\\\": {\\\"value\\\": \\\"normal\\\"}, \\\"fontStyle\\\": {\\\"value\\\": \\\"normal\\\"}, \\\"fill\\\": {\\\"value\\\": \\\"#595859\\\"}}, \\\"update\\\": {\\\"x\\\": {\\\"signal\\\": \\\"datum[\\\\\\\"c_x_axis_back\\\\\\\"]+687\\\"}, \\\"y\\\": {\\\"field\\\": \\\"c_top_type\\\"}}}, \\\"type\\\": \\\"text\\\"}, {\\\"from\\\": {\\\"data\\\": \\\"data_2\\\"}, \\\"encode\\\": {\\\"enter\\\": {\\\"x\\\": {\\\"value\\\": 44}, \\\"y\\\": {\\\"value\\\": 59}, \\\"text\\\": {\\\"signal\\\": \\\"&apos;&apos;+datum[\\\\\\\"title\\\\\\\"]\\\"}, \\\"align\\\": {\\\"value\\\": \\\"left\\\"}, \\\"baseline\\\": {\\\"value\\\": \\\"middle\\\"}, \\\"dx\\\": {\\\"value\\\": 0, \\\"offset\\\": 0}, \\\"dy\\\": {\\\"value\\\": 0, \\\"offset\\\": 0}, \\\"angle\\\": {\\\"value\\\": 0}, \\\"font\\\": {\\\"value\\\": \\\"AvenirNext-Medium\\\"}, \\\"fontSize\\\": {\\\"value\\\": 15}, \\\"fontWeight\\\": {\\\"value\\\": \\\"normal\\\"}, \\\"fontStyle\\\": {\\\"value\\\": \\\"normal\\\"}, \\\"fill\\\": {\\\"value\\\": \\\"#9B9B9B\\\"}}, \\\"update\\\": {\\\"x\\\": {\\\"signal\\\": \\\"datum[\\\\\\\"c_x_axis_back\\\\\\\"]+11\\\"}, \\\"y\\\": {\\\"field\\\": \\\"c_top_title\\\"}}}, \\\"type\\\": \\\"text\\\"}, {\\\"from\\\": {\\\"data\\\": \\\"data_2\\\"}, \\\"encode\\\": {\\\"enter\\\": {\\\"x\\\": {\\\"value\\\": 500}, \\\"y\\\": {\\\"value\\\": 178}, \\\"stroke\\\": {\\\"value\\\": \\\"#EDEDEB\\\"}, \\\"strokeWidth\\\": {\\\"value\\\": 1}, \\\"strokeCap\\\": {\\\"value\\\": \\\"butt\\\"}, \\\"x2\\\": {\\\"value\\\": 720}, \\\"y2\\\": {\\\"value\\\": 178}}, \\\"update\\\": {\\\"x\\\": {\\\"signal\\\": \\\"datum[\\\\\\\"c_x_axis_back\\\\\\\"]+467\\\"}, \\\"x2\\\": {\\\"signal\\\": \\\"datum[\\\\\\\"c_x_axis_back\\\\\\\"]+687\\\"}, \\\"y\\\": {\\\"field\\\": \\\"c_rule\\\"}, \\\"y2\\\": {\\\"field\\\": \\\"c_rule\\\"}}}, \\\"type\\\": \\\"rule\\\"}, {\\\"from\\\": {\\\"data\\\": \\\"data_2\\\"}, \\\"encode\\\": {\\\"enter\\\": {\\\"x\\\": {\\\"value\\\": 500}, \\\"y\\\": {\\\"value\\\": 106}, \\\"text\\\": {\\\"value\\\": \\\"Num. Rows:\\\"}, \\\"align\\\": {\\\"value\\\": \\\"left\\\"}, \\\"baseline\\\": {\\\"value\\\": \\\"middle\\\"}, \\\"dx\\\": {\\\"value\\\": 0, \\\"offset\\\": 0}, \\\"dy\\\": {\\\"value\\\": 0, \\\"offset\\\": 0}, \\\"angle\\\": {\\\"value\\\": 0}, \\\"font\\\": {\\\"value\\\": \\\"AvenirNext-Medium\\\"}, \\\"fontSize\\\": {\\\"value\\\": 12}, \\\"fontWeight\\\": {\\\"value\\\": \\\"normal\\\"}, \\\"fontStyle\\\": {\\\"value\\\": \\\"normal\\\"}, \\\"fill\\\": {\\\"value\\\": \\\"#4A4A4A\\\"}}, \\\"update\\\": {\\\"x\\\": {\\\"signal\\\": \\\"datum[\\\\\\\"c_x_axis_back\\\\\\\"]+467\\\"}, \\\"y\\\": {\\\"field\\\": \\\"c_num_rows\\\"}}}, \\\"type\\\": \\\"text\\\"}, {\\\"from\\\": {\\\"data\\\": \\\"data_2\\\"}, \\\"encode\\\": {\\\"enter\\\": {\\\"x\\\": {\\\"value\\\": 500}, \\\"y\\\": {\\\"value\\\": 130}, \\\"text\\\": {\\\"value\\\": \\\"Num. Unique:\\\"}, \\\"align\\\": {\\\"value\\\": \\\"left\\\"}, \\\"baseline\\\": {\\\"value\\\": \\\"middle\\\"}, \\\"dx\\\": {\\\"value\\\": 0, \\\"offset\\\": 0}, \\\"dy\\\": {\\\"value\\\": 0, \\\"offset\\\": 0}, \\\"angle\\\": {\\\"value\\\": 0}, \\\"font\\\": {\\\"value\\\": \\\"AvenirNext-Medium\\\"}, \\\"fontSize\\\": {\\\"value\\\": 12}, \\\"fontWeight\\\": {\\\"value\\\": \\\"normal\\\"}, \\\"fontStyle\\\": {\\\"value\\\": \\\"normal\\\"}, \\\"fill\\\": {\\\"value\\\": \\\"#4A4A4A\\\"}}, \\\"update\\\": {\\\"x\\\": {\\\"signal\\\": \\\"datum[\\\\\\\"c_x_axis_back\\\\\\\"]+467\\\"}, \\\"y\\\": {\\\"field\\\": \\\"c_num_unique\\\"}}}, \\\"type\\\": \\\"text\\\"}, {\\\"from\\\": {\\\"data\\\": \\\"data_2\\\"}, \\\"encode\\\": {\\\"enter\\\": {\\\"x\\\": {\\\"value\\\": 500}, \\\"y\\\": {\\\"value\\\": 154}, \\\"text\\\": {\\\"value\\\": \\\"Missing:\\\"}, \\\"align\\\": {\\\"value\\\": \\\"left\\\"}, \\\"baseline\\\": {\\\"value\\\": \\\"middle\\\"}, \\\"dx\\\": {\\\"value\\\": 0, \\\"offset\\\": 0}, \\\"dy\\\": {\\\"value\\\": 0, \\\"offset\\\": 0}, \\\"angle\\\": {\\\"value\\\": 0}, \\\"font\\\": {\\\"value\\\": \\\"AvenirNext-Medium\\\"}, \\\"fontSize\\\": {\\\"value\\\": 12}, \\\"fontWeight\\\": {\\\"value\\\": \\\"normal\\\"}, \\\"fontStyle\\\": {\\\"value\\\": \\\"normal\\\"}, \\\"fill\\\": {\\\"value\\\": \\\"#4A4A4A\\\"}}, \\\"update\\\": {\\\"x\\\": {\\\"signal\\\": \\\"datum[\\\\\\\"c_x_axis_back\\\\\\\"]+467\\\"}, \\\"y\\\": {\\\"field\\\": \\\"c_missing\\\"}}}, \\\"type\\\": \\\"text\\\"}, {\\\"from\\\": {\\\"data\\\": \\\"data_2\\\"}, \\\"encode\\\": {\\\"enter\\\": {\\\"x\\\": {\\\"value\\\": 700}, \\\"y\\\": {\\\"value\\\": 105}, \\\"text\\\": {\\\"signal\\\": \\\"toString(format(datum[\\\\\\\"num_row\\\\\\\"], \\\\\\\",\\\\\\\"))\\\"}, \\\"align\\\": {\\\"value\\\": \\\"right\\\"}, \\\"baseline\\\": {\\\"value\\\": \\\"middle\\\"}, \\\"dx\\\": {\\\"value\\\": 0, \\\"offset\\\": 0}, \\\"dy\\\": {\\\"value\\\": 0, \\\"offset\\\": 0}, \\\"angle\\\": {\\\"value\\\": 0}, \\\"font\\\": {\\\"value\\\": \\\"AvenirNext-Medium\\\"}, \\\"fontSize\\\": {\\\"value\\\": 12}, \\\"fontWeight\\\": {\\\"value\\\": \\\"normal\\\"}, \\\"fontStyle\\\": {\\\"value\\\": \\\"normal\\\"}, \\\"fill\\\": {\\\"value\\\": \\\"#5A5A5A\\\"}}, \\\"update\\\": {\\\"x\\\": {\\\"signal\\\": \\\"datum[\\\\\\\"c_x_axis_back\\\\\\\"]+667\\\"}, \\\"y\\\": {\\\"field\\\": \\\"c_num_rows_val\\\"}}}, \\\"type\\\": \\\"text\\\"}, {\\\"from\\\": {\\\"data\\\": \\\"data_2\\\"}, \\\"encode\\\": {\\\"enter\\\": {\\\"x\\\": {\\\"value\\\": 700}, \\\"y\\\": {\\\"value\\\": 130}, \\\"text\\\": {\\\"signal\\\": \\\"toString(format(datum[\\\\\\\"num_unique\\\\\\\"], \\\\\\\",\\\\\\\"))\\\"}, \\\"align\\\": {\\\"value\\\": \\\"right\\\"}, \\\"baseline\\\": {\\\"value\\\": \\\"middle\\\"}, \\\"dx\\\": {\\\"value\\\": 0, \\\"offset\\\": 0}, \\\"dy\\\": {\\\"value\\\": 0, \\\"offset\\\": 0}, \\\"angle\\\": {\\\"value\\\": 0}, \\\"font\\\": {\\\"value\\\": \\\"AvenirNext-Medium\\\"}, \\\"fontSize\\\": {\\\"value\\\": 12}, \\\"fontWeight\\\": {\\\"value\\\": \\\"normal\\\"}, \\\"fontStyle\\\": {\\\"value\\\": \\\"normal\\\"}, \\\"fill\\\": {\\\"value\\\": \\\"#5A5A5A\\\"}}, \\\"update\\\": {\\\"x\\\": {\\\"signal\\\": \\\"datum[\\\\\\\"c_x_axis_back\\\\\\\"]+667\\\"}, \\\"y\\\": {\\\"field\\\": \\\"c_num_unique_val\\\"}}}, \\\"type\\\": \\\"text\\\"}, {\\\"from\\\": {\\\"data\\\": \\\"data_2\\\"}, \\\"encode\\\": {\\\"enter\\\": {\\\"x\\\": {\\\"value\\\": 700}, \\\"y\\\": {\\\"value\\\": 154}, \\\"text\\\": {\\\"signal\\\": \\\"toString(format(datum[\\\\\\\"num_missing\\\\\\\"], \\\\\\\",\\\\\\\"))\\\"}, \\\"align\\\": {\\\"value\\\": \\\"right\\\"}, \\\"baseline\\\": {\\\"value\\\": \\\"middle\\\"}, \\\"dx\\\": {\\\"value\\\": 0, \\\"offset\\\": 0}, \\\"dy\\\": {\\\"value\\\": 0, \\\"offset\\\": 0}, \\\"angle\\\": {\\\"value\\\": 0}, \\\"font\\\": {\\\"value\\\": \\\"AvenirNext-Medium\\\"}, \\\"fontSize\\\": {\\\"value\\\": 12}, \\\"fontWeight\\\": {\\\"value\\\": \\\"normal\\\"}, \\\"fontStyle\\\": {\\\"value\\\": \\\"normal\\\"}, \\\"fill\\\": {\\\"value\\\": \\\"#5A5A5A\\\"}}, \\\"update\\\": {\\\"x\\\": {\\\"signal\\\": \\\"datum[\\\\\\\"c_x_axis_back\\\\\\\"]+667\\\"}, \\\"y\\\": {\\\"field\\\": \\\"c_missing_val\\\"}}}, \\\"type\\\": \\\"text\\\"}, {\\\"from\\\": {\\\"data\\\": \\\"data_2\\\"}, \\\"encode\\\": {\\\"enter\\\": {\\\"x\\\": {\\\"value\\\": 500}, \\\"y\\\": {\\\"value\\\": 200}, \\\"text\\\": {\\\"signal\\\": \\\"(toString(datum[\\\\\\\"type\\\\\\\"]) == \\\\\\\"str\\\\\\\")? \\\\\\\"Frequent Items\\\\\\\":\\\\\\\"\\\\\\\"\\\"}, \\\"align\\\": {\\\"value\\\": \\\"left\\\"}, \\\"baseline\\\": {\\\"value\\\": \\\"middle\\\"}, \\\"dx\\\": {\\\"value\\\": 0, \\\"offset\\\": 0}, \\\"dy\\\": {\\\"value\\\": 0, \\\"offset\\\": 0}, \\\"angle\\\": {\\\"value\\\": 0}, \\\"clip\\\": {\\\"value\\\": true}, \\\"font\\\": {\\\"value\\\": \\\"AvenirNext-Medium\\\"}, \\\"fontSize\\\": {\\\"value\\\": 11}, \\\"fontWeight\\\": {\\\"value\\\": \\\"bold\\\"}, \\\"fontStyle\\\": {\\\"value\\\": \\\"normal\\\"}, \\\"fill\\\": {\\\"value\\\": \\\"#4A4A4A\\\"}}, \\\"update\\\": {\\\"x\\\": {\\\"signal\\\": \\\"datum[\\\\\\\"c_x_axis_back\\\\\\\"]+467\\\"}, \\\"y\\\": {\\\"field\\\": \\\"c_frequent_items\\\"}}}, \\\"type\\\": \\\"text\\\"}, {\\\"from\\\": {\\\"data\\\": \\\"data_2\\\"}, \\\"encode\\\": {\\\"enter\\\": {\\\"x\\\": {\\\"value\\\": 520}, \\\"y\\\": {\\\"value\\\": 200}, \\\"text\\\": {\\\"signal\\\": \\\"((datum[\\\\\\\"categorical\\\\\\\"].length >= 1) &amp;&amp; (toString(datum[\\\\\\\"type\\\\\\\"]) == \\\\\\\"str\\\\\\\"))? toString(datum[\\\\\\\"categorical\\\\\\\"][0][\\\\\\\"label\\\\\\\"]):\\\\\\\"\\\\\\\"\\\"}, \\\"align\\\": {\\\"value\\\": \\\"left\\\"}, \\\"baseline\\\": {\\\"value\\\": \\\"middle\\\"}, \\\"dx\\\": {\\\"value\\\": 0, \\\"offset\\\": 0}, \\\"dy\\\": {\\\"value\\\": 0, \\\"offset\\\": 0}, \\\"angle\\\": {\\\"value\\\": 0}, \\\"clip\\\": {\\\"value\\\": true}, \\\"font\\\": {\\\"value\\\": \\\"AvenirNext-Medium\\\"}, \\\"fontSize\\\": {\\\"value\\\": 11}, \\\"fontWeight\\\": {\\\"value\\\": \\\"normal\\\"}, \\\"fontStyle\\\": {\\\"value\\\": \\\"normal\\\"}, \\\"fill\\\": {\\\"value\\\": \\\"#4A4A4A\\\"}}, \\\"update\\\": {\\\"x\\\": {\\\"signal\\\": \\\"datum[\\\\\\\"c_x_axis_back\\\\\\\"]+487\\\"}, \\\"y\\\": {\\\"field\\\": \\\"c_first_item\\\"}}}, \\\"type\\\": \\\"text\\\"}, {\\\"from\\\": {\\\"data\\\": \\\"data_2\\\"}, \\\"encode\\\": {\\\"enter\\\": {\\\"x\\\": {\\\"value\\\": 520}, \\\"y\\\": {\\\"value\\\": 200}, \\\"text\\\": {\\\"signal\\\": \\\"((datum[\\\\\\\"categorical\\\\\\\"].length >= 2) &amp;&amp; (toString(datum[\\\\\\\"type\\\\\\\"]) == \\\\\\\"str\\\\\\\"))? toString(datum[\\\\\\\"categorical\\\\\\\"][1][\\\\\\\"label\\\\\\\"]):\\\\\\\"\\\\\\\"\\\"}, \\\"align\\\": {\\\"value\\\": \\\"left\\\"}, \\\"baseline\\\": {\\\"value\\\": \\\"middle\\\"}, \\\"dx\\\": {\\\"value\\\": 0, \\\"offset\\\": 0}, \\\"dy\\\": {\\\"value\\\": 0, \\\"offset\\\": 0}, \\\"angle\\\": {\\\"value\\\": 0}, \\\"clip\\\": {\\\"value\\\": true}, \\\"font\\\": {\\\"value\\\": \\\"AvenirNext-Medium\\\"}, \\\"fontSize\\\": {\\\"value\\\": 11}, \\\"fontWeight\\\": {\\\"value\\\": \\\"normal\\\"}, \\\"fontStyle\\\": {\\\"value\\\": \\\"normal\\\"}, \\\"fill\\\": {\\\"value\\\": \\\"#4A4A4A\\\"}}, \\\"update\\\": {\\\"x\\\": {\\\"signal\\\": \\\"datum[\\\\\\\"c_x_axis_back\\\\\\\"]+487\\\"}, \\\"y\\\": {\\\"field\\\": \\\"c_second_item\\\"}}}, \\\"type\\\": \\\"text\\\"}, {\\\"from\\\": {\\\"data\\\": \\\"data_2\\\"}, \\\"encode\\\": {\\\"enter\\\": {\\\"x\\\": {\\\"value\\\": 520}, \\\"y\\\": {\\\"value\\\": 200}, \\\"text\\\": {\\\"signal\\\": \\\"((datum[\\\\\\\"categorical\\\\\\\"].length >= 3) &amp;&amp; (toString(datum[\\\\\\\"type\\\\\\\"]) == \\\\\\\"str\\\\\\\"))? toString(datum[\\\\\\\"categorical\\\\\\\"][2][\\\\\\\"label\\\\\\\"]):\\\\\\\"\\\\\\\"\\\"}, \\\"align\\\": {\\\"value\\\": \\\"left\\\"}, \\\"baseline\\\": {\\\"value\\\": \\\"middle\\\"}, \\\"dx\\\": {\\\"value\\\": 0, \\\"offset\\\": 0}, \\\"dy\\\": {\\\"value\\\": 0, \\\"offset\\\": 0}, \\\"angle\\\": {\\\"value\\\": 0}, \\\"clip\\\": {\\\"value\\\": true}, \\\"font\\\": {\\\"value\\\": \\\"AvenirNext-Medium\\\"}, \\\"fontSize\\\": {\\\"value\\\": 11}, \\\"fontWeight\\\": {\\\"value\\\": \\\"normal\\\"}, \\\"fontStyle\\\": {\\\"value\\\": \\\"normal\\\"}, \\\"fill\\\": {\\\"value\\\": \\\"#4A4A4A\\\"}}, \\\"update\\\": {\\\"x\\\": {\\\"signal\\\": \\\"datum[\\\\\\\"c_x_axis_back\\\\\\\"]+487\\\"}, \\\"y\\\": {\\\"field\\\": \\\"c_third_item\\\"}}}, \\\"type\\\": \\\"text\\\"}, {\\\"from\\\": {\\\"data\\\": \\\"data_2\\\"}, \\\"encode\\\": {\\\"enter\\\": {\\\"x\\\": {\\\"value\\\": 520}, \\\"y\\\": {\\\"value\\\": 200}, \\\"text\\\": {\\\"signal\\\": \\\"((datum[\\\\\\\"categorical\\\\\\\"].length >= 4) &amp;&amp; (toString(datum[\\\\\\\"type\\\\\\\"]) == \\\\\\\"str\\\\\\\"))? toString(datum[\\\\\\\"categorical\\\\\\\"][3][\\\\\\\"label\\\\\\\"]):\\\\\\\"\\\\\\\"\\\"}, \\\"align\\\": {\\\"value\\\": \\\"left\\\"}, \\\"baseline\\\": {\\\"value\\\": \\\"middle\\\"}, \\\"dx\\\": {\\\"value\\\": 0, \\\"offset\\\": 0}, \\\"dy\\\": {\\\"value\\\": 0, \\\"offset\\\": 0}, \\\"angle\\\": {\\\"value\\\": 0}, \\\"clip\\\": {\\\"value\\\": true}, \\\"font\\\": {\\\"value\\\": \\\"AvenirNext-Medium\\\"}, \\\"fontSize\\\": {\\\"value\\\": 11}, \\\"fontWeight\\\": {\\\"value\\\": \\\"normal\\\"}, \\\"fontStyle\\\": {\\\"value\\\": \\\"normal\\\"}, \\\"fill\\\": {\\\"value\\\": \\\"#4A4A4A\\\"}}, \\\"update\\\": {\\\"x\\\": {\\\"signal\\\": \\\"datum[\\\\\\\"c_x_axis_back\\\\\\\"]+487\\\"}, \\\"y\\\": {\\\"field\\\": \\\"c_fourth_item\\\"}}}, \\\"type\\\": \\\"text\\\"}, {\\\"from\\\": {\\\"data\\\": \\\"data_2\\\"}, \\\"encode\\\": {\\\"enter\\\": {\\\"x\\\": {\\\"value\\\": 520}, \\\"y\\\": {\\\"value\\\": 200}, \\\"text\\\": {\\\"signal\\\": \\\"((datum[\\\\\\\"categorical\\\\\\\"].length >= 5) &amp;&amp; (toString(datum[\\\\\\\"type\\\\\\\"]) == \\\\\\\"str\\\\\\\"))? toString(datum[\\\\\\\"categorical\\\\\\\"][4][\\\\\\\"label\\\\\\\"]):\\\\\\\"\\\\\\\"\\\"}, \\\"align\\\": {\\\"value\\\": \\\"left\\\"}, \\\"baseline\\\": {\\\"value\\\": \\\"middle\\\"}, \\\"dx\\\": {\\\"value\\\": 0, \\\"offset\\\": 0}, \\\"dy\\\": {\\\"value\\\": 0, \\\"offset\\\": 0}, \\\"angle\\\": {\\\"value\\\": 0}, \\\"clip\\\": {\\\"value\\\": true}, \\\"font\\\": {\\\"value\\\": \\\"AvenirNext-Medium\\\"}, \\\"fontSize\\\": {\\\"value\\\": 11}, \\\"fontWeight\\\": {\\\"value\\\": \\\"normal\\\"}, \\\"fontStyle\\\": {\\\"value\\\": \\\"normal\\\"}, \\\"fill\\\": {\\\"value\\\": \\\"#4A4A4A\\\"}}, \\\"update\\\": {\\\"x\\\": {\\\"signal\\\": \\\"datum[\\\\\\\"c_x_axis_back\\\\\\\"]+487\\\"}, \\\"y\\\": {\\\"field\\\": \\\"c_fifth_item\\\"}}}, \\\"type\\\": \\\"text\\\"}, {\\\"from\\\": {\\\"data\\\": \\\"data_2\\\"}, \\\"encode\\\": {\\\"enter\\\": {\\\"x\\\": {\\\"value\\\": 700}, \\\"y\\\": {\\\"value\\\": 200}, \\\"text\\\": {\\\"signal\\\": \\\"((datum[\\\\\\\"categorical\\\\\\\"].length >= 1) &amp;&amp; (toString(datum[\\\\\\\"type\\\\\\\"]) == \\\\\\\"str\\\\\\\"))? toString(datum[\\\\\\\"categorical\\\\\\\"][0][\\\\\\\"count\\\\\\\"]):\\\\\\\"\\\\\\\"\\\"}, \\\"align\\\": {\\\"value\\\": \\\"right\\\"}, \\\"baseline\\\": {\\\"value\\\": \\\"middle\\\"}, \\\"dx\\\": {\\\"value\\\": 0, \\\"offset\\\": 0}, \\\"dy\\\": {\\\"value\\\": 0, \\\"offset\\\": 0}, \\\"angle\\\": {\\\"value\\\": 0}, \\\"clip\\\": {\\\"value\\\": true}, \\\"font\\\": {\\\"value\\\": \\\"AvenirNext-Medium\\\"}, \\\"fontSize\\\": {\\\"value\\\": 11}, \\\"fontWeight\\\": {\\\"value\\\": \\\"normal\\\"}, \\\"fontStyle\\\": {\\\"value\\\": \\\"normal\\\"}, \\\"fill\\\": {\\\"value\\\": \\\"#7A7A7A\\\"}}, \\\"update\\\": {\\\"x\\\": {\\\"signal\\\": \\\"datum[\\\\\\\"c_x_axis_back\\\\\\\"]+667\\\"}, \\\"y\\\": {\\\"field\\\": \\\"c_first_item\\\"}}}, \\\"type\\\": \\\"text\\\"}, {\\\"from\\\": {\\\"data\\\": \\\"data_2\\\"}, \\\"encode\\\": {\\\"enter\\\": {\\\"x\\\": {\\\"value\\\": 700}, \\\"y\\\": {\\\"value\\\": 200}, \\\"text\\\": {\\\"signal\\\": \\\"((datum[\\\\\\\"categorical\\\\\\\"].length >= 2) &amp;&amp; (toString(datum[\\\\\\\"type\\\\\\\"]) == \\\\\\\"str\\\\\\\"))? toString(datum[\\\\\\\"categorical\\\\\\\"][1][\\\\\\\"count\\\\\\\"]):\\\\\\\"\\\\\\\"\\\"}, \\\"align\\\": {\\\"value\\\": \\\"right\\\"}, \\\"baseline\\\": {\\\"value\\\": \\\"middle\\\"}, \\\"dx\\\": {\\\"value\\\": 0, \\\"offset\\\": 0}, \\\"dy\\\": {\\\"value\\\": 0, \\\"offset\\\": 0}, \\\"angle\\\": {\\\"value\\\": 0}, \\\"clip\\\": {\\\"value\\\": true}, \\\"font\\\": {\\\"value\\\": \\\"AvenirNext-Medium\\\"}, \\\"fontSize\\\": {\\\"value\\\": 10}, \\\"fontWeight\\\": {\\\"value\\\": \\\"normal\\\"}, \\\"fontStyle\\\": {\\\"value\\\": \\\"normal\\\"}, \\\"fill\\\": {\\\"value\\\": \\\"#7A7A7A\\\"}}, \\\"update\\\": {\\\"x\\\": {\\\"signal\\\": \\\"datum[\\\\\\\"c_x_axis_back\\\\\\\"]+667\\\"}, \\\"y\\\": {\\\"field\\\": \\\"c_second_item\\\"}}}, \\\"type\\\": \\\"text\\\"}, {\\\"from\\\": {\\\"data\\\": \\\"data_2\\\"}, \\\"encode\\\": {\\\"enter\\\": {\\\"x\\\": {\\\"value\\\": 700}, \\\"y\\\": {\\\"value\\\": 200}, \\\"text\\\": {\\\"signal\\\": \\\"((datum[\\\\\\\"categorical\\\\\\\"].length >= 3) &amp;&amp; (toString(datum[\\\\\\\"type\\\\\\\"]) == \\\\\\\"str\\\\\\\"))? toString(datum[\\\\\\\"categorical\\\\\\\"][2][\\\\\\\"count\\\\\\\"]):\\\\\\\"\\\\\\\"\\\"}, \\\"align\\\": {\\\"value\\\": \\\"right\\\"}, \\\"baseline\\\": {\\\"value\\\": \\\"middle\\\"}, \\\"dx\\\": {\\\"value\\\": 0, \\\"offset\\\": 0}, \\\"dy\\\": {\\\"value\\\": 0, \\\"offset\\\": 0}, \\\"angle\\\": {\\\"value\\\": 0}, \\\"clip\\\": {\\\"value\\\": true}, \\\"font\\\": {\\\"value\\\": \\\"AvenirNext-Medium\\\"}, \\\"fontSize\\\": {\\\"value\\\": 10}, \\\"fontWeight\\\": {\\\"value\\\": \\\"normal\\\"}, \\\"fontStyle\\\": {\\\"value\\\": \\\"normal\\\"}, \\\"fill\\\": {\\\"value\\\": \\\"#7A7A7A\\\"}}, \\\"update\\\": {\\\"x\\\": {\\\"signal\\\": \\\"datum[\\\\\\\"c_x_axis_back\\\\\\\"]+667\\\"}, \\\"y\\\": {\\\"field\\\": \\\"c_third_item\\\"}}}, \\\"type\\\": \\\"text\\\"}, {\\\"from\\\": {\\\"data\\\": \\\"data_2\\\"}, \\\"encode\\\": {\\\"enter\\\": {\\\"x\\\": {\\\"value\\\": 700}, \\\"y\\\": {\\\"value\\\": 200}, \\\"text\\\": {\\\"signal\\\": \\\"((datum[\\\\\\\"categorical\\\\\\\"].length >= 4) &amp;&amp; (toString(datum[\\\\\\\"type\\\\\\\"]) == \\\\\\\"str\\\\\\\"))? toString(datum[\\\\\\\"categorical\\\\\\\"][3][\\\\\\\"count\\\\\\\"]):\\\\\\\"\\\\\\\"\\\"}, \\\"align\\\": {\\\"value\\\": \\\"right\\\"}, \\\"baseline\\\": {\\\"value\\\": \\\"middle\\\"}, \\\"dx\\\": {\\\"value\\\": 0, \\\"offset\\\": 0}, \\\"dy\\\": {\\\"value\\\": 0, \\\"offset\\\": 0}, \\\"angle\\\": {\\\"value\\\": 0}, \\\"clip\\\": {\\\"value\\\": true}, \\\"font\\\": {\\\"value\\\": \\\"AvenirNext-Medium\\\"}, \\\"fontSize\\\": {\\\"value\\\": 10}, \\\"fontWeight\\\": {\\\"value\\\": \\\"normal\\\"}, \\\"fontStyle\\\": {\\\"value\\\": \\\"normal\\\"}, \\\"fill\\\": {\\\"value\\\": \\\"#7A7A7A\\\"}}, \\\"update\\\": {\\\"x\\\": {\\\"signal\\\": \\\"datum[\\\\\\\"c_x_axis_back\\\\\\\"]+667\\\"}, \\\"y\\\": {\\\"field\\\": \\\"c_fourth_item\\\"}}}, \\\"type\\\": \\\"text\\\"}, {\\\"from\\\": {\\\"data\\\": \\\"data_2\\\"}, \\\"encode\\\": {\\\"enter\\\": {\\\"x\\\": {\\\"value\\\": 700}, \\\"y\\\": {\\\"value\\\": 200}, \\\"text\\\": {\\\"signal\\\": \\\"((datum[\\\\\\\"categorical\\\\\\\"].length >= 5) &amp;&amp; (toString(datum[\\\\\\\"type\\\\\\\"]) == \\\\\\\"str\\\\\\\"))? toString(datum[\\\\\\\"categorical\\\\\\\"][4][\\\\\\\"count\\\\\\\"]):\\\\\\\"\\\\\\\"\\\"}, \\\"align\\\": {\\\"value\\\": \\\"right\\\"}, \\\"baseline\\\": {\\\"value\\\": \\\"middle\\\"}, \\\"dx\\\": {\\\"value\\\": 0, \\\"offset\\\": 0}, \\\"dy\\\": {\\\"value\\\": 0, \\\"offset\\\": 0}, \\\"angle\\\": {\\\"value\\\": 0}, \\\"clip\\\": {\\\"value\\\": true}, \\\"font\\\": {\\\"value\\\": \\\"AvenirNext-Medium\\\"}, \\\"fontSize\\\": {\\\"value\\\": 10}, \\\"fontWeight\\\": {\\\"value\\\": \\\"normal\\\"}, \\\"fontStyle\\\": {\\\"value\\\": \\\"normal\\\"}, \\\"fill\\\": {\\\"value\\\": \\\"#7A7A7A\\\"}}, \\\"update\\\": {\\\"x\\\": {\\\"signal\\\": \\\"datum[\\\\\\\"c_x_axis_back\\\\\\\"]+667\\\"}, \\\"y\\\": {\\\"field\\\": \\\"c_fifth_item\\\"}}}, \\\"type\\\": \\\"text\\\"}, {\\\"from\\\": {\\\"data\\\": \\\"data_2\\\"}, \\\"encode\\\": {\\\"enter\\\": {\\\"x\\\": {\\\"value\\\": 500}, \\\"y\\\": {\\\"value\\\": 200}, \\\"text\\\": {\\\"signal\\\": \\\"(toString(datum[\\\\\\\"type\\\\\\\"]) == \\\\\\\"integer\\\\\\\" || toString(datum[\\\\\\\"type\\\\\\\"]) == \\\\\\\"float\\\\\\\")? \\\\\\\"Mean:\\\\\\\":\\\\\\\"\\\\\\\"\\\"}, \\\"align\\\": {\\\"value\\\": \\\"left\\\"}, \\\"baseline\\\": {\\\"value\\\": \\\"middle\\\"}, \\\"dx\\\": {\\\"value\\\": 0, \\\"offset\\\": 0}, \\\"dy\\\": {\\\"value\\\": 0, \\\"offset\\\": 0}, \\\"angle\\\": {\\\"value\\\": 0}, \\\"clip\\\": {\\\"value\\\": true}, \\\"font\\\": {\\\"value\\\": \\\"AvenirNext-Medium\\\"}, \\\"fontSize\\\": {\\\"value\\\": 11}, \\\"fontWeight\\\": {\\\"value\\\": \\\"bold\\\"}, \\\"fontStyle\\\": {\\\"value\\\": \\\"normal\\\"}, \\\"fill\\\": {\\\"value\\\": \\\"#4A4A4A\\\"}}, \\\"update\\\": {\\\"x\\\": {\\\"signal\\\": \\\"datum[\\\\\\\"c_x_axis_back\\\\\\\"]+467\\\"}, \\\"y\\\": {\\\"field\\\": \\\"c_mean\\\"}}}, \\\"type\\\": \\\"text\\\"}, {\\\"from\\\": {\\\"data\\\": \\\"data_2\\\"}, \\\"encode\\\": {\\\"enter\\\": {\\\"x\\\": {\\\"value\\\": 500}, \\\"y\\\": {\\\"value\\\": 220}, \\\"text\\\": {\\\"signal\\\": \\\"(toString(datum[\\\\\\\"type\\\\\\\"]) == \\\\\\\"integer\\\\\\\" || toString(datum[\\\\\\\"type\\\\\\\"]) == \\\\\\\"float\\\\\\\")? \\\\\\\"Min:\\\\\\\":\\\\\\\"\\\\\\\"\\\"}, \\\"align\\\": {\\\"value\\\": \\\"left\\\"}, \\\"baseline\\\": {\\\"value\\\": \\\"middle\\\"}, \\\"dx\\\": {\\\"value\\\": 0, \\\"offset\\\": 0}, \\\"dy\\\": {\\\"value\\\": 0, \\\"offset\\\": 0}, \\\"angle\\\": {\\\"value\\\": 0}, \\\"font\\\": {\\\"value\\\": \\\"AvenirNext-Medium\\\"}, \\\"fontSize\\\": {\\\"value\\\": 11}, \\\"fontWeight\\\": {\\\"value\\\": \\\"bold\\\"}, \\\"fontStyle\\\": {\\\"value\\\": \\\"normal\\\"}, \\\"fill\\\": {\\\"value\\\": \\\"#4A4A4A\\\"}}, \\\"update\\\": {\\\"x\\\": {\\\"signal\\\": \\\"datum[\\\\\\\"c_x_axis_back\\\\\\\"]+467\\\"}, \\\"y\\\": {\\\"field\\\": \\\"c_min\\\"}}}, \\\"type\\\": \\\"text\\\"}, {\\\"from\\\": {\\\"data\\\": \\\"data_2\\\"}, \\\"encode\\\": {\\\"enter\\\": {\\\"x\\\": {\\\"value\\\": 500}, \\\"y\\\": {\\\"value\\\": 240}, \\\"text\\\": {\\\"signal\\\": \\\"(toString(datum[\\\\\\\"type\\\\\\\"]) == \\\\\\\"integer\\\\\\\" || toString(datum[\\\\\\\"type\\\\\\\"]) == \\\\\\\"float\\\\\\\")? \\\\\\\"Max:\\\\\\\":\\\\\\\"\\\\\\\"\\\"}, \\\"align\\\": {\\\"value\\\": \\\"left\\\"}, \\\"baseline\\\": {\\\"value\\\": \\\"middle\\\"}, \\\"dx\\\": {\\\"value\\\": 0, \\\"offset\\\": 0}, \\\"dy\\\": {\\\"value\\\": 0, \\\"offset\\\": 0}, \\\"angle\\\": {\\\"value\\\": 0}, \\\"font\\\": {\\\"value\\\": \\\"AvenirNext-Medium\\\"}, \\\"fontSize\\\": {\\\"value\\\": 11}, \\\"fontWeight\\\": {\\\"value\\\": \\\"bold\\\"}, \\\"fontStyle\\\": {\\\"value\\\": \\\"normal\\\"}, \\\"fill\\\": {\\\"value\\\": \\\"#4A4A4A\\\"}}, \\\"update\\\": {\\\"x\\\": {\\\"signal\\\": \\\"datum[\\\\\\\"c_x_axis_back\\\\\\\"]+467\\\"}, \\\"y\\\": {\\\"field\\\": \\\"c_max\\\"}}}, \\\"type\\\": \\\"text\\\"}, {\\\"from\\\": {\\\"data\\\": \\\"data_2\\\"}, \\\"encode\\\": {\\\"enter\\\": {\\\"x\\\": {\\\"value\\\": 500}, \\\"y\\\": {\\\"value\\\": 260}, \\\"text\\\": {\\\"signal\\\": \\\"(toString(datum[\\\\\\\"type\\\\\\\"]) == \\\\\\\"integer\\\\\\\" || toString(datum[\\\\\\\"type\\\\\\\"]) == \\\\\\\"float\\\\\\\")? \\\\\\\"Median:\\\\\\\":\\\\\\\"\\\\\\\"\\\"}, \\\"align\\\": {\\\"value\\\": \\\"left\\\"}, \\\"baseline\\\": {\\\"value\\\": \\\"middle\\\"}, \\\"dx\\\": {\\\"value\\\": 0, \\\"offset\\\": 0}, \\\"dy\\\": {\\\"value\\\": 0, \\\"offset\\\": 0}, \\\"angle\\\": {\\\"value\\\": 0}, \\\"font\\\": {\\\"value\\\": \\\"AvenirNext-Medium\\\"}, \\\"fontSize\\\": {\\\"value\\\": 11}, \\\"fontWeight\\\": {\\\"value\\\": \\\"bold\\\"}, \\\"fontStyle\\\": {\\\"value\\\": \\\"normal\\\"}, \\\"fill\\\": {\\\"value\\\": \\\"#4A4A4A\\\"}}, \\\"update\\\": {\\\"x\\\": {\\\"signal\\\": \\\"datum[\\\\\\\"c_x_axis_back\\\\\\\"]+467\\\"}, \\\"y\\\": {\\\"field\\\": \\\"c_median\\\"}}}, \\\"type\\\": \\\"text\\\"}, {\\\"from\\\": {\\\"data\\\": \\\"data_2\\\"}, \\\"encode\\\": {\\\"enter\\\": {\\\"x\\\": {\\\"value\\\": 500}, \\\"y\\\": {\\\"value\\\": 280}, \\\"text\\\": {\\\"signal\\\": \\\"(toString(datum[\\\\\\\"type\\\\\\\"]) == \\\\\\\"integer\\\\\\\" || toString(datum[\\\\\\\"type\\\\\\\"]) == \\\\\\\"float\\\\\\\")? \\\\\\\"St. Dev:\\\\\\\":\\\\\\\"\\\\\\\"\\\"}, \\\"align\\\": {\\\"value\\\": \\\"left\\\"}, \\\"baseline\\\": {\\\"value\\\": \\\"middle\\\"}, \\\"dx\\\": {\\\"value\\\": 0, \\\"offset\\\": 0}, \\\"dy\\\": {\\\"value\\\": 0, \\\"offset\\\": 0}, \\\"angle\\\": {\\\"value\\\": 0}, \\\"font\\\": {\\\"value\\\": \\\"AvenirNext-Medium\\\"}, \\\"fontSize\\\": {\\\"value\\\": 11}, \\\"fontWeight\\\": {\\\"value\\\": \\\"bold\\\"}, \\\"fontStyle\\\": {\\\"value\\\": \\\"normal\\\"}, \\\"fill\\\": {\\\"value\\\": \\\"#4A4A4A\\\"}}, \\\"update\\\": {\\\"x\\\": {\\\"signal\\\": \\\"datum[\\\\\\\"c_x_axis_back\\\\\\\"]+467\\\"}, \\\"y\\\": {\\\"field\\\": \\\"c_stdev\\\"}}}, \\\"type\\\": \\\"text\\\"}, {\\\"from\\\": {\\\"data\\\": \\\"data_2\\\"}, \\\"encode\\\": {\\\"enter\\\": {\\\"x\\\": {\\\"value\\\": 700}, \\\"y\\\": {\\\"value\\\": 198}, \\\"text\\\": {\\\"signal\\\": \\\"(toString(datum[\\\\\\\"type\\\\\\\"]) == \\\\\\\"integer\\\\\\\" || toString(datum[\\\\\\\"type\\\\\\\"]) == \\\\\\\"float\\\\\\\")?toString(format(datum[\\\\\\\"mean\\\\\\\"], \\\\\\\",\\\\\\\")):\\\\\\\"\\\\\\\"\\\"}, \\\"align\\\": {\\\"value\\\": \\\"right\\\"}, \\\"baseline\\\": {\\\"value\\\": \\\"middle\\\"}, \\\"dx\\\": {\\\"value\\\": 0, \\\"offset\\\": 0}, \\\"dy\\\": {\\\"value\\\": 0, \\\"offset\\\": 0}, \\\"angle\\\": {\\\"value\\\": 0}, \\\"font\\\": {\\\"value\\\": \\\"AvenirNext-Medium\\\"}, \\\"fontSize\\\": {\\\"value\\\": 10}, \\\"fontWeight\\\": {\\\"value\\\": \\\"normal\\\"}, \\\"fontStyle\\\": {\\\"value\\\": \\\"normal\\\"}, \\\"fill\\\": {\\\"value\\\": \\\"#6A6A6A\\\"}}, \\\"update\\\": {\\\"x\\\": {\\\"signal\\\": \\\"datum[\\\\\\\"c_x_axis_back\\\\\\\"]+667\\\"}, \\\"y\\\": {\\\"field\\\": \\\"c_mean_val\\\"}}}, \\\"type\\\": \\\"text\\\"}, {\\\"from\\\": {\\\"data\\\": \\\"data_2\\\"}, \\\"encode\\\": {\\\"enter\\\": {\\\"x\\\": {\\\"value\\\": 700}, \\\"y\\\": {\\\"value\\\": 218}, \\\"text\\\": {\\\"signal\\\": \\\"(toString(datum[\\\\\\\"type\\\\\\\"]) == \\\\\\\"integer\\\\\\\" || toString(datum[\\\\\\\"type\\\\\\\"]) == \\\\\\\"float\\\\\\\")?toString(format(datum[\\\\\\\"min\\\\\\\"], \\\\\\\",\\\\\\\")):\\\\\\\"\\\\\\\"\\\"}, \\\"align\\\": {\\\"value\\\": \\\"right\\\"}, \\\"baseline\\\": {\\\"value\\\": \\\"middle\\\"}, \\\"dx\\\": {\\\"value\\\": 0, \\\"offset\\\": 0}, \\\"dy\\\": {\\\"value\\\": 0, \\\"offset\\\": 0}, \\\"angle\\\": {\\\"value\\\": 0}, \\\"font\\\": {\\\"value\\\": \\\"AvenirNext-Medium\\\"}, \\\"fontSize\\\": {\\\"value\\\": 10}, \\\"fontWeight\\\": {\\\"value\\\": \\\"normal\\\"}, \\\"fontStyle\\\": {\\\"value\\\": \\\"normal\\\"}, \\\"fill\\\": {\\\"value\\\": \\\"#6A6A6A\\\"}}, \\\"update\\\": {\\\"x\\\": {\\\"signal\\\": \\\"datum[\\\\\\\"c_x_axis_back\\\\\\\"]+667\\\"}, \\\"y\\\": {\\\"field\\\": \\\"c_min_val\\\"}}}, \\\"type\\\": \\\"text\\\"}, {\\\"from\\\": {\\\"data\\\": \\\"data_2\\\"}, \\\"encode\\\": {\\\"enter\\\": {\\\"x\\\": {\\\"value\\\": 700}, \\\"y\\\": {\\\"value\\\": 238}, \\\"text\\\": {\\\"signal\\\": \\\"(toString(datum[\\\\\\\"type\\\\\\\"]) == \\\\\\\"integer\\\\\\\" || toString(datum[\\\\\\\"type\\\\\\\"]) == \\\\\\\"float\\\\\\\")?toString(format(datum[\\\\\\\"max\\\\\\\"], \\\\\\\",\\\\\\\")):\\\\\\\"\\\\\\\"\\\"}, \\\"align\\\": {\\\"value\\\": \\\"right\\\"}, \\\"baseline\\\": {\\\"value\\\": \\\"middle\\\"}, \\\"dx\\\": {\\\"value\\\": 0, \\\"offset\\\": 0}, \\\"dy\\\": {\\\"value\\\": 0, \\\"offset\\\": 0}, \\\"angle\\\": {\\\"value\\\": 0}, \\\"font\\\": {\\\"value\\\": \\\"AvenirNext-Medium\\\"}, \\\"fontSize\\\": {\\\"value\\\": 10}, \\\"fontWeight\\\": {\\\"value\\\": \\\"normal\\\"}, \\\"fontStyle\\\": {\\\"value\\\": \\\"normal\\\"}, \\\"fill\\\": {\\\"value\\\": \\\"#6A6A6A\\\"}}, \\\"update\\\": {\\\"x\\\": {\\\"signal\\\": \\\"datum[\\\\\\\"c_x_axis_back\\\\\\\"]+667\\\"}, \\\"y\\\": {\\\"field\\\": \\\"c_max_val\\\"}}}, \\\"type\\\": \\\"text\\\"}, {\\\"from\\\": {\\\"data\\\": \\\"data_2\\\"}, \\\"encode\\\": {\\\"enter\\\": {\\\"x\\\": {\\\"value\\\": 700}, \\\"y\\\": {\\\"value\\\": 258}, \\\"text\\\": {\\\"signal\\\": \\\"(toString(datum[\\\\\\\"type\\\\\\\"]) == \\\\\\\"integer\\\\\\\" || toString(datum[\\\\\\\"type\\\\\\\"]) == \\\\\\\"float\\\\\\\")?toString(format(datum[\\\\\\\"median\\\\\\\"], \\\\\\\",\\\\\\\")):\\\\\\\"\\\\\\\"\\\"}, \\\"align\\\": {\\\"value\\\": \\\"right\\\"}, \\\"baseline\\\": {\\\"value\\\": \\\"middle\\\"}, \\\"dx\\\": {\\\"value\\\": 0, \\\"offset\\\": 0}, \\\"dy\\\": {\\\"value\\\": 0, \\\"offset\\\": 0}, \\\"angle\\\": {\\\"value\\\": 0}, \\\"font\\\": {\\\"value\\\": \\\"AvenirNext-Medium\\\"}, \\\"fontSize\\\": {\\\"value\\\": 10}, \\\"fontWeight\\\": {\\\"value\\\": \\\"normal\\\"}, \\\"fontStyle\\\": {\\\"value\\\": \\\"normal\\\"}, \\\"fill\\\": {\\\"value\\\": \\\"#6A6A6A\\\"}}, \\\"update\\\": {\\\"x\\\": {\\\"signal\\\": \\\"datum[\\\\\\\"c_x_axis_back\\\\\\\"]+667\\\"}, \\\"y\\\": {\\\"field\\\": \\\"c_median_val\\\"}}}, \\\"type\\\": \\\"text\\\"}, {\\\"from\\\": {\\\"data\\\": \\\"data_2\\\"}, \\\"encode\\\": {\\\"enter\\\": {\\\"x\\\": {\\\"value\\\": 700}, \\\"y\\\": {\\\"value\\\": 278}, \\\"text\\\": {\\\"signal\\\": \\\"(toString(datum[\\\\\\\"type\\\\\\\"]) == \\\\\\\"integer\\\\\\\" || toString(datum[\\\\\\\"type\\\\\\\"]) == \\\\\\\"float\\\\\\\")?toString(format(datum[\\\\\\\"stdev\\\\\\\"], \\\\\\\",\\\\\\\")):\\\\\\\"\\\\\\\"\\\"}, \\\"align\\\": {\\\"value\\\": \\\"right\\\"}, \\\"baseline\\\": {\\\"value\\\": \\\"middle\\\"}, \\\"dx\\\": {\\\"value\\\": 0, \\\"offset\\\": 0}, \\\"dy\\\": {\\\"value\\\": 0, \\\"offset\\\": 0}, \\\"angle\\\": {\\\"value\\\": 0}, \\\"font\\\": {\\\"value\\\": \\\"AvenirNext-Medium\\\"}, \\\"fontSize\\\": {\\\"value\\\": 10}, \\\"fontWeight\\\": {\\\"value\\\": \\\"normal\\\"}, \\\"fontStyle\\\": {\\\"value\\\": \\\"normal\\\"}, \\\"fill\\\": {\\\"value\\\": \\\"#6A6A6A\\\"}}, \\\"update\\\": {\\\"x\\\": {\\\"signal\\\": \\\"datum[\\\\\\\"c_x_axis_back\\\\\\\"]+667\\\"}, \\\"y\\\": {\\\"field\\\": \\\"c_stdev_val\\\"}}}, \\\"type\\\": \\\"text\\\"}, {\\\"from\\\": {\\\"facet\\\": {\\\"name\\\": \\\"new_data\\\", \\\"data\\\": \\\"data_2\\\", \\\"field\\\": \\\"numeric\\\"}}, \\\"encode\\\": {\\\"enter\\\": {\\\"x\\\": {\\\"value\\\": 120}, \\\"width\\\": {\\\"value\\\": 250}, \\\"y\\\": {\\\"field\\\": \\\"graph_offset\\\"}, \\\"height\\\": {\\\"value\\\": 150}, \\\"fill\\\": {\\\"value\\\": \\\"#ffffff\\\"}, \\\"fillOpacity\\\": {\\\"value\\\": 0}, \\\"stroke\\\": {\\\"value\\\": \\\"#000000\\\"}, \\\"strokeWidth\\\": {\\\"value\\\": 0}}, \\\"update\\\": {\\\"x\\\": {\\\"signal\\\": \\\"datum[\\\\\\\"c_x_axis_back\\\\\\\"]+87\\\"}, \\\"clip\\\": {\\\"field\\\": \\\"c_clip_val\\\"}, \\\"width\\\": {\\\"field\\\": \\\"c_width_numeric_val\\\"}}}, \\\"type\\\": \\\"group\\\", \\\"scales\\\": [{\\\"name\\\": \\\"x\\\", \\\"type\\\": \\\"linear\\\", \\\"domain\\\": {\\\"data\\\": \\\"new_data\\\", \\\"fields\\\": [\\\"left\\\", \\\"right\\\"], \\\"sort\\\": true}, \\\"range\\\": [0, {\\\"signal\\\": \\\"width\\\"}], \\\"nice\\\": true, \\\"zero\\\": true}, {\\\"name\\\": \\\"y\\\", \\\"type\\\": \\\"linear\\\", \\\"domain\\\": {\\\"data\\\": \\\"new_data\\\", \\\"field\\\": \\\"count\\\"}, \\\"range\\\": [{\\\"signal\\\": \\\"height\\\"}, 0], \\\"nice\\\": true, \\\"zero\\\": true}], \\\"axes\\\": [{\\\"title\\\": \\\"Values\\\", \\\"scale\\\": \\\"x\\\", \\\"labelOverlap\\\": true, \\\"orient\\\": \\\"bottom\\\", \\\"tickCount\\\": {\\\"signal\\\": \\\"ceil(width/40)\\\"}, \\\"zindex\\\": 1}, {\\\"scale\\\": \\\"x\\\", \\\"domain\\\": false, \\\"grid\\\": true, \\\"labels\\\": false, \\\"maxExtent\\\": 0, \\\"minExtent\\\": 0, \\\"orient\\\": \\\"bottom\\\", \\\"tickCount\\\": {\\\"signal\\\": \\\"ceil(width/40)\\\"}, \\\"ticks\\\": false, \\\"zindex\\\": 0, \\\"gridScale\\\": \\\"y\\\"}, {\\\"title\\\": \\\"Count\\\", \\\"scale\\\": \\\"y\\\", \\\"labelOverlap\\\": true, \\\"orient\\\": \\\"left\\\", \\\"tickCount\\\": {\\\"signal\\\": \\\"ceil(height/40)\\\"}, \\\"zindex\\\": 1}, {\\\"scale\\\": \\\"y\\\", \\\"domain\\\": false, \\\"grid\\\": true, \\\"labels\\\": false, \\\"maxExtent\\\": 0, \\\"minExtent\\\": 0, \\\"orient\\\": \\\"left\\\", \\\"tickCount\\\": {\\\"signal\\\": \\\"ceil(height/40)\\\"}, \\\"ticks\\\": false, \\\"zindex\\\": 0, \\\"gridScale\\\": \\\"x\\\"}], \\\"style\\\": \\\"cell\\\", \\\"signals\\\": [{\\\"name\\\": \\\"width\\\", \\\"update\\\": \\\"250\\\"}, {\\\"name\\\": \\\"height\\\", \\\"update\\\": \\\"150\\\"}], \\\"marks\\\": [{\\\"name\\\": \\\"marks\\\", \\\"type\\\": \\\"rect\\\", \\\"style\\\": [\\\"rect\\\"], \\\"from\\\": {\\\"data\\\": \\\"new_data\\\"}, \\\"encode\\\": {\\\"hover\\\": {\\\"fill\\\": {\\\"value\\\": \\\"#7EC2F3\\\"}}, \\\"update\\\": {\\\"x\\\": {\\\"scale\\\": \\\"x\\\", \\\"field\\\": \\\"left\\\"}, \\\"x2\\\": {\\\"scale\\\": \\\"x\\\", \\\"field\\\": \\\"right\\\"}, \\\"y\\\": {\\\"scale\\\": \\\"y\\\", \\\"field\\\": \\\"count\\\"}, \\\"y2\\\": {\\\"scale\\\": \\\"y\\\", \\\"value\\\": 0}, \\\"fill\\\": {\\\"value\\\": \\\"#108EE9\\\"}}}}]}, {\\\"from\\\": {\\\"facet\\\": {\\\"name\\\": \\\"data_5\\\", \\\"data\\\": \\\"data_2\\\", \\\"field\\\": \\\"categorical\\\"}}, \\\"encode\\\": {\\\"enter\\\": {\\\"x\\\": {\\\"value\\\": 170}, \\\"width\\\": {\\\"value\\\": 250}, \\\"y\\\": {\\\"field\\\": \\\"graph_offset_categorical\\\"}, \\\"height\\\": {\\\"value\\\": 150}, \\\"fill\\\": {\\\"value\\\": \\\"#ffffff\\\"}, \\\"fillOpacity\\\": {\\\"value\\\": 0}, \\\"stroke\\\": {\\\"value\\\": \\\"#000000\\\"}, \\\"strokeWidth\\\": {\\\"value\\\": 0}}, \\\"update\\\": {\\\"x\\\": {\\\"signal\\\": \\\"datum[\\\\\\\"c_x_axis_back\\\\\\\"]+137\\\"}, \\\"clip\\\": {\\\"field\\\": \\\"c_clip_val_cat\\\"}, \\\"width\\\": {\\\"field\\\": \\\"c_width_numeric_val_cat\\\"}}}, \\\"type\\\": \\\"group\\\", \\\"style\\\": \\\"cell\\\", \\\"signals\\\": [{\\\"name\\\": \\\"unit\\\", \\\"value\\\": {}, \\\"on\\\": [{\\\"events\\\": \\\"mousemove\\\", \\\"update\\\": \\\"isTuple(group()) ? group() : unit\\\"}]}, {\\\"name\\\": \\\"pts\\\", \\\"update\\\": \\\"data(\\\\\\\"pts_store\\\\\\\").length &amp;&amp; {count: data(\\\\\\\"pts_store\\\\\\\")[0].values[0]}\\\"}, {\\\"name\\\": \\\"pts_tuple\\\", \\\"value\\\": {}, \\\"on\\\": [{\\\"events\\\": [{\\\"source\\\": \\\"scope\\\", \\\"type\\\": \\\"click\\\"}], \\\"update\\\": \\\"datum &amp;&amp; item().mark.marktype !== &apos;group&apos; ? {unit: \\\\\\\"\\\\\\\", encodings: [\\\\\\\"x\\\\\\\"], fields: [\\\\\\\"count\\\\\\\"], values: [datum[\\\\\\\"count\\\\\\\"]]} : null\\\", \\\"force\\\": true}]}, {\\\"name\\\": \\\"pts_modify\\\", \\\"on\\\": [{\\\"events\\\": {\\\"signal\\\": \\\"pts_tuple\\\"}, \\\"update\\\": \\\"modify(\\\\\\\"pts_store\\\\\\\", pts_tuple, true)\\\"}]}], \\\"marks\\\": [{\\\"name\\\": \\\"marks\\\", \\\"type\\\": \\\"rect\\\", \\\"style\\\": [\\\"bar\\\"], \\\"from\\\": {\\\"data\\\": \\\"data_5\\\"}, \\\"encode\\\": {\\\"hover\\\": {\\\"fill\\\": {\\\"value\\\": \\\"#7EC2F3\\\"}}, \\\"update\\\": {\\\"x\\\": {\\\"scale\\\": \\\"x\\\", \\\"field\\\": \\\"count\\\"}, \\\"x2\\\": {\\\"scale\\\": \\\"x\\\", \\\"value\\\": 0}, \\\"y\\\": {\\\"scale\\\": \\\"y\\\", \\\"field\\\": \\\"label\\\"}, \\\"height\\\": {\\\"scale\\\": \\\"y\\\", \\\"band\\\": true}, \\\"fill\\\": {\\\"value\\\": \\\"#108EE9\\\"}}}}], \\\"scales\\\": [{\\\"name\\\": \\\"x\\\", \\\"type\\\": \\\"linear\\\", \\\"domain\\\": {\\\"data\\\": \\\"data_5\\\", \\\"field\\\": \\\"count\\\"}, \\\"range\\\": [0, 250], \\\"nice\\\": true, \\\"zero\\\": true}, {\\\"name\\\": \\\"y\\\", \\\"type\\\": \\\"band\\\", \\\"domain\\\": {\\\"data\\\": \\\"data_5\\\", \\\"field\\\": \\\"label\\\", \\\"sort\\\": {\\\"op\\\": \\\"mean\\\", \\\"field\\\": \\\"label_idx\\\", \\\"order\\\": \\\"descending\\\"}}, \\\"range\\\": [150, 0], \\\"paddingInner\\\": 0.1, \\\"paddingOuter\\\": 0.05}], \\\"axes\\\": [{\\\"orient\\\": \\\"top\\\", \\\"scale\\\": \\\"x\\\", \\\"labelOverlap\\\": true, \\\"tickCount\\\": {\\\"signal\\\": \\\"ceil(width/40)\\\"}, \\\"title\\\": \\\"Count\\\", \\\"zindex\\\": 1}, {\\\"orient\\\": \\\"top\\\", \\\"scale\\\": \\\"x\\\", \\\"domain\\\": false, \\\"grid\\\": true, \\\"labels\\\": false, \\\"maxExtent\\\": 0, \\\"minExtent\\\": 0, \\\"tickCount\\\": {\\\"signal\\\": \\\"ceil(width/40)\\\"}, \\\"ticks\\\": false, \\\"zindex\\\": 0, \\\"gridScale\\\": \\\"y\\\"}, {\\\"scale\\\": \\\"y\\\", \\\"labelOverlap\\\": true, \\\"orient\\\": \\\"left\\\", \\\"title\\\": \\\"Label\\\", \\\"zindex\\\": 1}]}], \\\"type\\\": \\\"group\\\"}], \\\"type\\\": \\\"group\\\"}], \\\"config\\\": {\\\"axis\\\": {\\\"labelFont\\\": \\\"HelveticaNeue-Light, Arial\\\", \\\"labelFontSize\\\": 7, \\\"labelPadding\\\": 10, \\\"labelColor\\\": \\\"#595959\\\", \\\"titleFont\\\": \\\"HelveticaNeue-Light, Arial\\\", \\\"titleFontWeight\\\": \\\"normal\\\", \\\"titlePadding\\\": 9, \\\"titleFontSize\\\": 12, \\\"titleColor\\\": \\\"#595959\\\"}, \\\"axisY\\\": {\\\"minExtent\\\": 30}, \\\"style\\\": {\\\"rect\\\": {\\\"stroke\\\": \\\"rgba(200, 200, 200, 0.5)\\\"}, \\\"group-title\\\": {\\\"fontSize\\\": 20, \\\"font\\\": \\\"HelveticaNeue-Light, Arial\\\", \\\"fontWeight\\\": \\\"normal\\\", \\\"fill\\\": \\\"#595959\\\"}}}}\";                                 var vega_json_parsed = JSON.parse(vega_json);                                 var toolTipOpts = {                                     showAllFields: true                                 };                                 if(vega_json_parsed[\"metadata\"] != null){                                     if(vega_json_parsed[\"metadata\"][\"bubbleOpts\"] != null){                                         toolTipOpts = vega_json_parsed[\"metadata\"][\"bubbleOpts\"];                                     };                                 };                                 vegaEmbed(\"#vis\", vega_json_parsed).then(function (result) {                                     vegaTooltip.vega(result.view, toolTipOpts);                                  });                             </script>                         </body>                     </html>' src=\"demo_iframe_srcdoc.htm\">                         <p>Your browser does not support iframes.</p>                     </iframe>                 </body>             </html>"
      ],
      "text/plain": [
       "<IPython.core.display.HTML object>"
      ]
     },
     "metadata": {},
     "output_type": "display_data"
    }
   ],
   "source": [
    "song_data.show()"
   ]
  },
  {
   "cell_type": "markdown",
   "id": "roman-proposal",
   "metadata": {
    "papermill": {
     "duration": 0.20828,
     "end_time": "2021-06-18T18:55:09.136126",
     "exception": false,
     "start_time": "2021-06-18T18:55:08.927846",
     "status": "completed"
    },
    "tags": []
   },
   "source": [
    "\n",
    "<div style=\"color:white;\n",
    "           display:fill;\n",
    "           border-radius:5px;\n",
    "           font-size:110%;\n",
    "           font-family:cursive;\n",
    "           letter-spacing:0.5px;\n",
    "           background-color:pink;\n",
    "           color:Black;\n",
    "            padding:5px 5px 5px 5px;\n",
    "           font-family:cursive\n",
    "           \">\n",
    "<h1 style=\"text-align:center;font-weight: bold\"> Showing Most Popular Songs in Dataset</h1>\n",
    "</div>\n"
   ]
  },
  {
   "cell_type": "code",
   "execution_count": 8,
   "id": "center-positive",
   "metadata": {
    "execution": {
     "iopub.execute_input": "2021-06-18T18:55:09.567359Z",
     "iopub.status.busy": "2021-06-18T18:55:09.566438Z",
     "iopub.status.idle": "2021-06-18T18:55:09.570977Z",
     "shell.execute_reply": "2021-06-18T18:55:09.570242Z",
     "shell.execute_reply.started": "2021-06-15T10:40:29.809448Z"
    },
    "papermill": {
     "duration": 0.226731,
     "end_time": "2021-06-18T18:55:09.571159",
     "exception": false,
     "start_time": "2021-06-18T18:55:09.344428",
     "status": "completed"
    },
    "tags": []
   },
   "outputs": [],
   "source": [
    "taylor = song_data[song_data['artist'] == 'Taylor Swift']"
   ]
  },
  {
   "cell_type": "code",
   "execution_count": 9,
   "id": "executive-doubt",
   "metadata": {
    "execution": {
     "iopub.execute_input": "2021-06-18T18:55:09.988690Z",
     "iopub.status.busy": "2021-06-18T18:55:09.988007Z",
     "iopub.status.idle": "2021-06-18T18:55:10.117723Z",
     "shell.execute_reply": "2021-06-18T18:55:10.116983Z",
     "shell.execute_reply.started": "2021-06-15T10:40:31.19411Z"
    },
    "papermill": {
     "duration": 0.340111,
     "end_time": "2021-06-18T18:55:10.117908",
     "exception": false,
     "start_time": "2021-06-18T18:55:09.777797",
     "status": "completed"
    },
    "tags": []
   },
   "outputs": [
    {
     "data": {
      "text/html": [
       "<div style=\"max-height:1000px;max-width:1500px;overflow:auto;\"><table frame=\"box\" rules=\"cols\">\n",
       "    <thead>\n",
       "        <tr>\n",
       "            <th style=\"padding-left: 1em; padding-right: 1em; text-align: center\">user_id</th>\n",
       "            <th style=\"padding-left: 1em; padding-right: 1em; text-align: center\">song_id</th>\n",
       "            <th style=\"padding-left: 1em; padding-right: 1em; text-align: center\">listen_count</th>\n",
       "            <th style=\"padding-left: 1em; padding-right: 1em; text-align: center\">title</th>\n",
       "            <th style=\"padding-left: 1em; padding-right: 1em; text-align: center\">artist</th>\n",
       "        </tr>\n",
       "    </thead>\n",
       "    <tbody>\n",
       "        <tr>\n",
       "            <td style=\"padding-left: 1em; padding-right: 1em; text-align: center; vertical-align: top\">169f9f4c68b62d1887c7c0ac9<br>9d10a79cfca5daf ...</td>\n",
       "            <td style=\"padding-left: 1em; padding-right: 1em; text-align: center; vertical-align: top\">SOCLMAD12AB017FC09</td>\n",
       "            <td style=\"padding-left: 1em; padding-right: 1em; text-align: center; vertical-align: top\">1</td>\n",
       "            <td style=\"padding-left: 1em; padding-right: 1em; text-align: center; vertical-align: top\">Tim McGraw</td>\n",
       "            <td style=\"padding-left: 1em; padding-right: 1em; text-align: center; vertical-align: top\">Taylor Swift</td>\n",
       "        </tr>\n",
       "        <tr>\n",
       "            <td style=\"padding-left: 1em; padding-right: 1em; text-align: center; vertical-align: top\">81bde1c3a845c64f1677bd9d2<br>8f2da85dfefcf30 ...</td>\n",
       "            <td style=\"padding-left: 1em; padding-right: 1em; text-align: center; vertical-align: top\">SOTWSXL12A8C143349</td>\n",
       "            <td style=\"padding-left: 1em; padding-right: 1em; text-align: center; vertical-align: top\">1</td>\n",
       "            <td style=\"padding-left: 1em; padding-right: 1em; text-align: center; vertical-align: top\">Love Story</td>\n",
       "            <td style=\"padding-left: 1em; padding-right: 1em; text-align: center; vertical-align: top\">Taylor Swift</td>\n",
       "        </tr>\n",
       "        <tr>\n",
       "            <td style=\"padding-left: 1em; padding-right: 1em; text-align: center; vertical-align: top\">0152fcbd02b172a874c75a57a<br>913f0f0109ba272 ...</td>\n",
       "            <td style=\"padding-left: 1em; padding-right: 1em; text-align: center; vertical-align: top\">SOSAXUZ12AAF3B2031</td>\n",
       "            <td style=\"padding-left: 1em; padding-right: 1em; text-align: center; vertical-align: top\">2</td>\n",
       "            <td style=\"padding-left: 1em; padding-right: 1em; text-align: center; vertical-align: top\">The Best Day</td>\n",
       "            <td style=\"padding-left: 1em; padding-right: 1em; text-align: center; vertical-align: top\">Taylor Swift</td>\n",
       "        </tr>\n",
       "        <tr>\n",
       "            <td style=\"padding-left: 1em; padding-right: 1em; text-align: center; vertical-align: top\">0152fcbd02b172a874c75a57a<br>913f0f0109ba272 ...</td>\n",
       "            <td style=\"padding-left: 1em; padding-right: 1em; text-align: center; vertical-align: top\">SOSROFB12AAF3B4C5D</td>\n",
       "            <td style=\"padding-left: 1em; padding-right: 1em; text-align: center; vertical-align: top\">3</td>\n",
       "            <td style=\"padding-left: 1em; padding-right: 1em; text-align: center; vertical-align: top\">You Belong With Me</td>\n",
       "            <td style=\"padding-left: 1em; padding-right: 1em; text-align: center; vertical-align: top\">Taylor Swift</td>\n",
       "        </tr>\n",
       "        <tr>\n",
       "            <td style=\"padding-left: 1em; padding-right: 1em; text-align: center; vertical-align: top\">8cbb5066924ec788e3fea9a4a<br>ae59586f46f38fa ...</td>\n",
       "            <td style=\"padding-left: 1em; padding-right: 1em; text-align: center; vertical-align: top\">SOTWSXL12A8C143349</td>\n",
       "            <td style=\"padding-left: 1em; padding-right: 1em; text-align: center; vertical-align: top\">1</td>\n",
       "            <td style=\"padding-left: 1em; padding-right: 1em; text-align: center; vertical-align: top\">Love Story</td>\n",
       "            <td style=\"padding-left: 1em; padding-right: 1em; text-align: center; vertical-align: top\">Taylor Swift</td>\n",
       "        </tr>\n",
       "        <tr>\n",
       "            <td style=\"padding-left: 1em; padding-right: 1em; text-align: center; vertical-align: top\">ea07020bb223c733ccc55aa92<br>5ebcc25c4d97377 ...</td>\n",
       "            <td style=\"padding-left: 1em; padding-right: 1em; text-align: center; vertical-align: top\">SOMPTCI12AB017C416</td>\n",
       "            <td style=\"padding-left: 1em; padding-right: 1em; text-align: center; vertical-align: top\">13</td>\n",
       "            <td style=\"padding-left: 1em; padding-right: 1em; text-align: center; vertical-align: top\">Forever &amp; Always</td>\n",
       "            <td style=\"padding-left: 1em; padding-right: 1em; text-align: center; vertical-align: top\">Taylor Swift</td>\n",
       "        </tr>\n",
       "        <tr>\n",
       "            <td style=\"padding-left: 1em; padding-right: 1em; text-align: center; vertical-align: top\">85d0d381551960608e02df989<br>56277e495b3cf6b ...</td>\n",
       "            <td style=\"padding-left: 1em; padding-right: 1em; text-align: center; vertical-align: top\">SOSROFB12AAF3B4C5D</td>\n",
       "            <td style=\"padding-left: 1em; padding-right: 1em; text-align: center; vertical-align: top\">3</td>\n",
       "            <td style=\"padding-left: 1em; padding-right: 1em; text-align: center; vertical-align: top\">You Belong With Me</td>\n",
       "            <td style=\"padding-left: 1em; padding-right: 1em; text-align: center; vertical-align: top\">Taylor Swift</td>\n",
       "        </tr>\n",
       "        <tr>\n",
       "            <td style=\"padding-left: 1em; padding-right: 1em; text-align: center; vertical-align: top\">5d5e0142e54c3bb7b69f548c2<br>ee55066c90700eb ...</td>\n",
       "            <td style=\"padding-left: 1em; padding-right: 1em; text-align: center; vertical-align: top\">SOLJTMU12AAF3B4C4D</td>\n",
       "            <td style=\"padding-left: 1em; padding-right: 1em; text-align: center; vertical-align: top\">2</td>\n",
       "            <td style=\"padding-left: 1em; padding-right: 1em; text-align: center; vertical-align: top\">Hey Stephen</td>\n",
       "            <td style=\"padding-left: 1em; padding-right: 1em; text-align: center; vertical-align: top\">Taylor Swift</td>\n",
       "        </tr>\n",
       "        <tr>\n",
       "            <td style=\"padding-left: 1em; padding-right: 1em; text-align: center; vertical-align: top\">5d5e0142e54c3bb7b69f548c2<br>ee55066c90700eb ...</td>\n",
       "            <td style=\"padding-left: 1em; padding-right: 1em; text-align: center; vertical-align: top\">SORRBVQ12A58A7AA33</td>\n",
       "            <td style=\"padding-left: 1em; padding-right: 1em; text-align: center; vertical-align: top\">2</td>\n",
       "            <td style=\"padding-left: 1em; padding-right: 1em; text-align: center; vertical-align: top\">Change</td>\n",
       "            <td style=\"padding-left: 1em; padding-right: 1em; text-align: center; vertical-align: top\">Taylor Swift</td>\n",
       "        </tr>\n",
       "        <tr>\n",
       "            <td style=\"padding-left: 1em; padding-right: 1em; text-align: center; vertical-align: top\">5d5e0142e54c3bb7b69f548c2<br>ee55066c90700eb ...</td>\n",
       "            <td style=\"padding-left: 1em; padding-right: 1em; text-align: center; vertical-align: top\">SOTNWCI12AAF3B2028</td>\n",
       "            <td style=\"padding-left: 1em; padding-right: 1em; text-align: center; vertical-align: top\">3</td>\n",
       "            <td style=\"padding-left: 1em; padding-right: 1em; text-align: center; vertical-align: top\">Forever &amp; Always</td>\n",
       "            <td style=\"padding-left: 1em; padding-right: 1em; text-align: center; vertical-align: top\">Taylor Swift</td>\n",
       "        </tr>\n",
       "    </tbody>\n",
       "</table>\n",
       "<table frame=\"box\" rules=\"cols\">\n",
       "    <thead>\n",
       "        <tr>\n",
       "            <th style=\"padding-left: 1em; padding-right: 1em; text-align: center\">song</th>\n",
       "        </tr>\n",
       "    </thead>\n",
       "    <tbody>\n",
       "        <tr>\n",
       "            <td style=\"padding-left: 1em; padding-right: 1em; text-align: center; vertical-align: top\">Tim McGraw - Taylor Swift</td>\n",
       "        </tr>\n",
       "        <tr>\n",
       "            <td style=\"padding-left: 1em; padding-right: 1em; text-align: center; vertical-align: top\">Love Story - Taylor Swift</td>\n",
       "        </tr>\n",
       "        <tr>\n",
       "            <td style=\"padding-left: 1em; padding-right: 1em; text-align: center; vertical-align: top\">The Best Day - Taylor<br>Swift ...</td>\n",
       "        </tr>\n",
       "        <tr>\n",
       "            <td style=\"padding-left: 1em; padding-right: 1em; text-align: center; vertical-align: top\">You Belong With Me -<br>Taylor Swift ...</td>\n",
       "        </tr>\n",
       "        <tr>\n",
       "            <td style=\"padding-left: 1em; padding-right: 1em; text-align: center; vertical-align: top\">Love Story - Taylor Swift</td>\n",
       "        </tr>\n",
       "        <tr>\n",
       "            <td style=\"padding-left: 1em; padding-right: 1em; text-align: center; vertical-align: top\">Forever &amp; Always - Taylor<br>Swift ...</td>\n",
       "        </tr>\n",
       "        <tr>\n",
       "            <td style=\"padding-left: 1em; padding-right: 1em; text-align: center; vertical-align: top\">You Belong With Me -<br>Taylor Swift ...</td>\n",
       "        </tr>\n",
       "        <tr>\n",
       "            <td style=\"padding-left: 1em; padding-right: 1em; text-align: center; vertical-align: top\">Hey Stephen - Taylor<br>Swift ...</td>\n",
       "        </tr>\n",
       "        <tr>\n",
       "            <td style=\"padding-left: 1em; padding-right: 1em; text-align: center; vertical-align: top\">Change - Taylor Swift</td>\n",
       "        </tr>\n",
       "        <tr>\n",
       "            <td style=\"padding-left: 1em; padding-right: 1em; text-align: center; vertical-align: top\">Forever &amp; Always - Taylor<br>Swift ...</td>\n",
       "        </tr>\n",
       "    </tbody>\n",
       "</table>\n",
       "[? rows x 6 columns]<br/>Note: Only the head of the SFrame is printed. This SFrame is lazily evaluated.<br/>You can use sf.materialize() to force materialization.\n",
       "</div>"
      ],
      "text/plain": [
       "Columns:\n",
       "\tuser_id\tstr\n",
       "\tsong_id\tstr\n",
       "\tlisten_count\tint\n",
       "\ttitle\tstr\n",
       "\tartist\tstr\n",
       "\tsong\tstr\n",
       "\n",
       "Rows: Unknown\n",
       "\n",
       "Data:\n",
       "+-------------------------------+--------------------+--------------+\n",
       "|            user_id            |      song_id       | listen_count |\n",
       "+-------------------------------+--------------------+--------------+\n",
       "| 169f9f4c68b62d1887c7c0ac99... | SOCLMAD12AB017FC09 |      1       |\n",
       "| 81bde1c3a845c64f1677bd9d28... | SOTWSXL12A8C143349 |      1       |\n",
       "| 0152fcbd02b172a874c75a57a9... | SOSAXUZ12AAF3B2031 |      2       |\n",
       "| 0152fcbd02b172a874c75a57a9... | SOSROFB12AAF3B4C5D |      3       |\n",
       "| 8cbb5066924ec788e3fea9a4aa... | SOTWSXL12A8C143349 |      1       |\n",
       "| ea07020bb223c733ccc55aa925... | SOMPTCI12AB017C416 |      13      |\n",
       "| 85d0d381551960608e02df9895... | SOSROFB12AAF3B4C5D |      3       |\n",
       "| 5d5e0142e54c3bb7b69f548c2e... | SOLJTMU12AAF3B4C4D |      2       |\n",
       "| 5d5e0142e54c3bb7b69f548c2e... | SORRBVQ12A58A7AA33 |      2       |\n",
       "| 5d5e0142e54c3bb7b69f548c2e... | SOTNWCI12AAF3B2028 |      3       |\n",
       "+-------------------------------+--------------------+--------------+\n",
       "+--------------------+--------------+-------------------------------+\n",
       "|       title        |    artist    |              song             |\n",
       "+--------------------+--------------+-------------------------------+\n",
       "|     Tim McGraw     | Taylor Swift |   Tim McGraw - Taylor Swift   |\n",
       "|     Love Story     | Taylor Swift |   Love Story - Taylor Swift   |\n",
       "|    The Best Day    | Taylor Swift |  The Best Day - Taylor Swift  |\n",
       "| You Belong With Me | Taylor Swift | You Belong With Me - Taylo... |\n",
       "|     Love Story     | Taylor Swift |   Love Story - Taylor Swift   |\n",
       "|  Forever & Always  | Taylor Swift | Forever & Always - Taylor ... |\n",
       "| You Belong With Me | Taylor Swift | You Belong With Me - Taylo... |\n",
       "|    Hey Stephen     | Taylor Swift |   Hey Stephen - Taylor Swift  |\n",
       "|       Change       | Taylor Swift |     Change - Taylor Swift     |\n",
       "|  Forever & Always  | Taylor Swift | Forever & Always - Taylor ... |\n",
       "+--------------------+--------------+-------------------------------+\n",
       "[? rows x 6 columns]\n",
       "Note: Only the head of the SFrame is printed. This SFrame is lazily evaluated.\n",
       "You can use sf.materialize() to force materialization."
      ]
     },
     "execution_count": 9,
     "metadata": {},
     "output_type": "execute_result"
    }
   ],
   "source": [
    "taylor"
   ]
  },
  {
   "cell_type": "code",
   "execution_count": 10,
   "id": "crucial-zoning",
   "metadata": {
    "execution": {
     "iopub.execute_input": "2021-06-18T18:55:10.519666Z",
     "iopub.status.busy": "2021-06-18T18:55:10.518814Z",
     "iopub.status.idle": "2021-06-18T18:55:12.027886Z",
     "shell.execute_reply": "2021-06-18T18:55:12.027260Z",
     "shell.execute_reply.started": "2021-06-15T10:40:35.969324Z"
    },
    "papermill": {
     "duration": 1.710931,
     "end_time": "2021-06-18T18:55:12.028061",
     "exception": false,
     "start_time": "2021-06-18T18:55:10.317130",
     "status": "completed"
    },
    "tags": []
   },
   "outputs": [],
   "source": [
    "artists = song_data['artist'].unique()\n"
   ]
  },
  {
   "cell_type": "code",
   "execution_count": 11,
   "id": "mexican-description",
   "metadata": {
    "execution": {
     "iopub.execute_input": "2021-06-18T18:55:12.446592Z",
     "iopub.status.busy": "2021-06-18T18:55:12.445864Z",
     "iopub.status.idle": "2021-06-18T18:55:12.460645Z",
     "shell.execute_reply": "2021-06-18T18:55:12.461140Z",
     "shell.execute_reply.started": "2021-06-15T10:40:39.384076Z"
    },
    "papermill": {
     "duration": 0.227955,
     "end_time": "2021-06-18T18:55:12.461352",
     "exception": false,
     "start_time": "2021-06-18T18:55:12.233397",
     "status": "completed"
    },
    "tags": []
   },
   "outputs": [
    {
     "data": {
      "text/html": [
       "<pre>Materializing SArray</pre>"
      ],
      "text/plain": [
       "Materializing SArray"
      ]
     },
     "metadata": {},
     "output_type": "display_data"
    },
    {
     "data": {
      "text/html": [
       "<html>                 <body>                     <iframe style=\"border:0;margin:0\" width=\"920\" height=\"770\" srcdoc='<html lang=\"en\">                         <head>                             <script src=\"https://cdnjs.cloudflare.com/ajax/libs/vega/5.4.0/vega.js\"></script>                             <script src=\"https://cdnjs.cloudflare.com/ajax/libs/vega-embed/4.0.0/vega-embed.js\"></script>                             <script src=\"https://cdnjs.cloudflare.com/ajax/libs/vega-tooltip/0.5.1/vega-tooltip.min.js\"></script>                             <link rel=\"stylesheet\" type=\"text/css\" href=\"https://cdnjs.cloudflare.com/ajax/libs/vega-tooltip/0.5.1/vega-tooltip.min.css\">                             <style>                             .vega-actions > a{                                 color:white;                                 text-decoration: none;                                 font-family: \"Arial\";                                 cursor:pointer;                                 padding:5px;                                 background:#AAAAAA;                                 border-radius:4px;                                 padding-left:10px;                                 padding-right:10px;                                 margin-right:5px;                             }                             .vega-actions{                                 margin-top:20px;                                 text-align:center                             }                            .vega-actions > a{                                 background:#999999;                            }                             </style>                         </head>                         <body>                             <div id=\"vis\">                             </div>                             <script>                                 var vega_json = \"{\\\"$schema\\\": \\\"https://vega.github.io/schema/vega/v4.json\\\", \\\"autosize\\\": {\\\"type\\\": \\\"fit\\\", \\\"resize\\\": false, \\\"contains\\\": \\\"padding\\\"}, \\\"padding\\\": 8, \\\"metadata\\\": {\\\"bubbleOpts\\\": {\\\"showAllFields\\\": false, \\\"fields\\\": [{\\\"field\\\": \\\"count\\\"}, {\\\"field\\\": \\\"label\\\"}, {\\\"field\\\": \\\"percentage\\\"}]}}, \\\"width\\\": 720, \\\"height\\\": 550, \\\"title\\\": \\\"Distribution of Values [string]\\\", \\\"style\\\": \\\"cell\\\", \\\"data\\\": [{\\\"name\\\": \\\"pts_store_store\\\"}, {\\\"name\\\": \\\"source_2\\\", \\\"values\\\": [{\\\"label\\\": \\\"!!!\\\", \\\"label_idx\\\": 0, \\\"count\\\": 1, \\\"percentage\\\": \\\"0.0296296%\\\"}, {\\\"label\\\": \\\"&apos;N Sync/Phil Collins\\\", \\\"label_idx\\\": 1, \\\"count\\\": 1, \\\"percentage\\\": \\\"0.0296296%\\\"}, {\\\"label\\\": \\\"+ / - {Plus/Minus}\\\", \\\"label_idx\\\": 2, \\\"count\\\": 1, \\\"percentage\\\": \\\"0.0296296%\\\"}, {\\\"label\\\": \\\"+44\\\", \\\"label_idx\\\": 3, \\\"count\\\": 1, \\\"percentage\\\": \\\"0.0296296%\\\"}, {\\\"label\\\": \\\"10 Years\\\", \\\"label_idx\\\": 4, \\\"count\\\": 1, \\\"percentage\\\": \\\"0.0296296%\\\"}, {\\\"label\\\": \\\"1001\\\", \\\"label_idx\\\": 5, \\\"count\\\": 1, \\\"percentage\\\": \\\"0.0296296%\\\"}, {\\\"label\\\": \\\"10_000 Maniacs\\\", \\\"label_idx\\\": 6, \\\"count\\\": 1, \\\"percentage\\\": \\\"0.0296296%\\\"}, {\\\"label\\\": \\\"10cc\\\", \\\"label_idx\\\": 7, \\\"count\\\": 1, \\\"percentage\\\": \\\"0.0296296%\\\"}, {\\\"label\\\": \\\"112\\\", \\\"label_idx\\\": 8, \\\"count\\\": 1, \\\"percentage\\\": \\\"0.0296296%\\\"}, {\\\"label\\\": \\\"12 Stones\\\", \\\"label_idx\\\": 9, \\\"count\\\": 1, \\\"percentage\\\": \\\"0.0296296%\\\"}, {\\\"label\\\": \\\"16Volt\\\", \\\"label_idx\\\": 10, \\\"count\\\": 1, \\\"percentage\\\": \\\"0.0296296%\\\"}, {\\\"label\\\": \\\"1990s\\\", \\\"label_idx\\\": 11, \\\"count\\\": 1, \\\"percentage\\\": \\\"0.0296296%\\\"}, {\\\"label\\\": \\\"Other (3363 labels)\\\", \\\"label_idx\\\": 12, \\\"count\\\": 3363, \\\"percentage\\\": \\\"99.6444%\\\"}]}, {\\\"name\\\": \\\"data_0\\\", \\\"source\\\": \\\"source_2\\\", \\\"transform\\\": [{\\\"type\\\": \\\"formula\\\", \\\"expr\\\": \\\"toNumber(datum[\\\\\\\"count\\\\\\\"])\\\", \\\"as\\\": \\\"count\\\"}, {\\\"type\\\": \\\"filter\\\", \\\"expr\\\": \\\"datum[\\\\\\\"count\\\\\\\"] !== null &amp;&amp; !isNaN(datum[\\\\\\\"count\\\\\\\"])\\\"}]}], \\\"signals\\\": [{\\\"name\\\": \\\"unit\\\", \\\"value\\\": {}, \\\"on\\\": [{\\\"events\\\": \\\"mousemove\\\", \\\"update\\\": \\\"isTuple(group()) ? group() : unit\\\"}]}, {\\\"name\\\": \\\"pts_store\\\", \\\"update\\\": \\\"data(\\\\\\\"pts_store_store\\\\\\\").length &amp;&amp; {count: data(\\\\\\\"pts_store_store\\\\\\\")[0].values[0]}\\\"}, {\\\"name\\\": \\\"pts_store_tuple\\\", \\\"value\\\": {}, \\\"on\\\": [{\\\"events\\\": [{\\\"source\\\": \\\"scope\\\", \\\"type\\\": \\\"click\\\"}], \\\"update\\\": \\\"datum &amp;&amp; item().mark.marktype !== &apos;group&apos; ? {unit: \\\\\\\"\\\\\\\", encodings: [\\\\\\\"x\\\\\\\"], fields: [\\\\\\\"count\\\\\\\"], values: [datum[\\\\\\\"count\\\\\\\"]]} : null\\\", \\\"force\\\": true}]}, {\\\"name\\\": \\\"pts_store_modify\\\", \\\"on\\\": [{\\\"events\\\": {\\\"signal\\\": \\\"pts_store_tuple\\\"}, \\\"update\\\": \\\"modify(\\\\\\\"pts_store_store\\\\\\\", pts_store_tuple, true)\\\"}]}], \\\"marks\\\": [{\\\"name\\\": \\\"marks\\\", \\\"type\\\": \\\"rect\\\", \\\"style\\\": [\\\"bar\\\"], \\\"from\\\": {\\\"data\\\": \\\"data_0\\\"}, \\\"encode\\\": {\\\"hover\\\": {\\\"fill\\\": {\\\"value\\\": \\\"#7EC2F3\\\"}}, \\\"update\\\": {\\\"x\\\": {\\\"scale\\\": \\\"x\\\", \\\"field\\\": \\\"count\\\"}, \\\"x2\\\": {\\\"scale\\\": \\\"x\\\", \\\"value\\\": 0}, \\\"y\\\": {\\\"scale\\\": \\\"y\\\", \\\"field\\\": \\\"label\\\"}, \\\"height\\\": {\\\"scale\\\": \\\"y\\\", \\\"band\\\": true}, \\\"fill\\\": {\\\"value\\\": \\\"#108EE9\\\"}}}}], \\\"scales\\\": [{\\\"name\\\": \\\"x\\\", \\\"type\\\": \\\"linear\\\", \\\"domain\\\": {\\\"data\\\": \\\"data_0\\\", \\\"field\\\": \\\"count\\\"}, \\\"range\\\": [0, {\\\"signal\\\": \\\"width\\\"}], \\\"nice\\\": true, \\\"zero\\\": true}, {\\\"name\\\": \\\"y\\\", \\\"type\\\": \\\"band\\\", \\\"domain\\\": {\\\"data\\\": \\\"data_0\\\", \\\"field\\\": \\\"label\\\", \\\"sort\\\": {\\\"op\\\": \\\"mean\\\", \\\"field\\\": \\\"label_idx\\\", \\\"order\\\": \\\"descending\\\"}}, \\\"range\\\": [{\\\"signal\\\": \\\"height\\\"}, 0], \\\"paddingInner\\\": 0.1, \\\"paddingOuter\\\": 0.05}], \\\"axes\\\": [{\\\"orient\\\": \\\"top\\\", \\\"scale\\\": \\\"x\\\", \\\"labelOverlap\\\": true, \\\"tickCount\\\": {\\\"signal\\\": \\\"ceil(width/40)\\\"}, \\\"title\\\": \\\"Count\\\", \\\"zindex\\\": 1}, {\\\"orient\\\": \\\"top\\\", \\\"scale\\\": \\\"x\\\", \\\"domain\\\": false, \\\"grid\\\": true, \\\"labels\\\": false, \\\"maxExtent\\\": 0, \\\"minExtent\\\": 0, \\\"tickCount\\\": {\\\"signal\\\": \\\"ceil(width/40)\\\"}, \\\"ticks\\\": false, \\\"zindex\\\": 0, \\\"gridScale\\\": \\\"y\\\"}, {\\\"scale\\\": \\\"y\\\", \\\"labelOverlap\\\": true, \\\"orient\\\": \\\"left\\\", \\\"title\\\": \\\"Values\\\", \\\"zindex\\\": 1}], \\\"config\\\": {\\\"axis\\\": {\\\"gridColor\\\": \\\"rgba(204,204,204,1.0)\\\", \\\"labelFont\\\": \\\"\\\\\\\"San Francisco\\\\\\\", HelveticaNeue, Arial\\\", \\\"labelFontSize\\\": 12, \\\"labelPadding\\\": 10, \\\"labelColor\\\": \\\"rgba(0,0,0,0.847)\\\", \\\"tickColor\\\": \\\"rgb(136,136,136)\\\", \\\"titleFont\\\": \\\"\\\\\\\"San Francisco\\\\\\\", HelveticaNeue, Arial\\\", \\\"titleFontWeight\\\": \\\"normal\\\", \\\"titlePadding\\\": 20, \\\"titleFontSize\\\": 14, \\\"titleColor\\\": \\\"rgba(0,0,0,0.847)\\\"}, \\\"axisY\\\": {\\\"minExtent\\\": 30}, \\\"legend\\\": {\\\"labelFont\\\": \\\"\\\\\\\"San Francisco\\\\\\\", HelveticaNeue, Arial\\\", \\\"labelColor\\\": \\\"rgba(0,0,0,0.847)\\\", \\\"titleFont\\\": \\\"\\\\\\\"San Francisco\\\\\\\", HelveticaNeue, Arial\\\", \\\"cornerRadius\\\": 30, \\\"gradientLength\\\": 608, \\\"titleColor\\\": \\\"rgba(0,0,0,0.847)\\\"}, \\\"range\\\": {\\\"heatmap\\\": {\\\"scheme\\\": \\\"greenblue\\\"}}, \\\"style\\\": {\\\"rect\\\": {\\\"stroke\\\": \\\"rgba(200, 200, 200, 0.5)\\\"}, \\\"cell\\\": {\\\"stroke\\\": \\\"transparent\\\"}, \\\"group-title\\\": {\\\"fontSize\\\": 29, \\\"font\\\": \\\"HelveticaNeue, Arial\\\", \\\"fontWeight\\\": \\\"normal\\\", \\\"fill\\\": \\\"rgba(0,0,0,0.65)\\\"}}, \\\"title\\\": {\\\"color\\\": \\\"rgba(0,0,0,0.847)\\\", \\\"font\\\": \\\"\\\\\\\"San Francisco\\\\\\\", HelveticaNeue, Arial\\\", \\\"fontSize\\\": 18, \\\"fontWeight\\\": \\\"normal\\\", \\\"offset\\\": 30}}}\";                                 var vega_json_parsed = JSON.parse(vega_json);                                 var toolTipOpts = {                                     showAllFields: true                                 };                                 if(vega_json_parsed[\"metadata\"] != null){                                     if(vega_json_parsed[\"metadata\"][\"bubbleOpts\"] != null){                                         toolTipOpts = vega_json_parsed[\"metadata\"][\"bubbleOpts\"];                                     };                                 };                                 vegaEmbed(\"#vis\", vega_json_parsed).then(function (result) {                                     vegaTooltip.vega(result.view, toolTipOpts);                                  });                             </script>                         </body>                     </html>' src=\"demo_iframe_srcdoc.htm\">                         <p>Your browser does not support iframes.</p>                     </iframe>                 </body>             </html>"
      ],
      "text/plain": [
       "<IPython.core.display.HTML object>"
      ]
     },
     "metadata": {},
     "output_type": "display_data"
    }
   ],
   "source": [
    "artists.show()"
   ]
  },
  {
   "cell_type": "markdown",
   "id": "champion-express",
   "metadata": {
    "papermill": {
     "duration": 0.196442,
     "end_time": "2021-06-18T18:55:12.855761",
     "exception": false,
     "start_time": "2021-06-18T18:55:12.659319",
     "status": "completed"
    },
    "tags": []
   },
   "source": [
    "\n",
    "<div style=\"color:white;\n",
    "           display:fill;\n",
    "           border-radius:5px;\n",
    "           font-size:110%;\n",
    "           font-family:cursive;\n",
    "           letter-spacing:0.5px;\n",
    "           background-color:pink;\n",
    "           color:Black;\n",
    "            padding:5px 5px 5px 5px;\n",
    "           font-family:cursive\n",
    "           \">\n",
    "<h1 style=\"text-align:center;font-weight: bold\">Counting Number of Unique Users in the Dataset</h1>\n",
    "</div>\n"
   ]
  },
  {
   "cell_type": "code",
   "execution_count": 12,
   "id": "experimental-payday",
   "metadata": {
    "execution": {
     "iopub.execute_input": "2021-06-18T18:55:13.314053Z",
     "iopub.status.busy": "2021-06-18T18:55:13.313087Z",
     "iopub.status.idle": "2021-06-18T18:55:13.664562Z",
     "shell.execute_reply": "2021-06-18T18:55:13.663904Z",
     "shell.execute_reply.started": "2021-06-15T10:41:01.469741Z"
    },
    "papermill": {
     "duration": 0.566947,
     "end_time": "2021-06-18T18:55:13.664757",
     "exception": false,
     "start_time": "2021-06-18T18:55:13.097810",
     "status": "completed"
    },
    "tags": []
   },
   "outputs": [],
   "source": [
    "users = song_data['user_id'].unique()"
   ]
  },
  {
   "cell_type": "code",
   "execution_count": 13,
   "id": "viral-region",
   "metadata": {
    "execution": {
     "iopub.execute_input": "2021-06-18T18:55:14.081413Z",
     "iopub.status.busy": "2021-06-18T18:55:14.080745Z",
     "iopub.status.idle": "2021-06-18T18:55:14.085773Z",
     "shell.execute_reply": "2021-06-18T18:55:14.086346Z",
     "shell.execute_reply.started": "2021-06-15T10:41:04.191542Z"
    },
    "papermill": {
     "duration": 0.21485,
     "end_time": "2021-06-18T18:55:14.086582",
     "exception": false,
     "start_time": "2021-06-18T18:55:13.871732",
     "status": "completed"
    },
    "tags": []
   },
   "outputs": [
    {
     "data": {
      "text/plain": [
       "66346"
      ]
     },
     "execution_count": 13,
     "metadata": {},
     "output_type": "execute_result"
    }
   ],
   "source": [
    "len(users)"
   ]
  },
  {
   "cell_type": "markdown",
   "id": "ideal-atlas",
   "metadata": {
    "papermill": {
     "duration": 0.216686,
     "end_time": "2021-06-18T18:55:14.512369",
     "exception": false,
     "start_time": "2021-06-18T18:55:14.295683",
     "status": "completed"
    },
    "tags": []
   },
   "source": [
    "\n",
    "<div style=\"color:white;\n",
    "           display:fill;\n",
    "           border-radius:5px;\n",
    "           font-size:110%;\n",
    "           font-family:cursive;\n",
    "           letter-spacing:0.5px;\n",
    "           background-color:pink;\n",
    "           color:Black;\n",
    "            padding:5px 5px 5px 5px;\n",
    "           font-family:cursive\n",
    "           \">\n",
    "<h1 style=\"text-align:center;font-weight: bold\">Creating the Recommender based on Popularity of song</h1>\n",
    "</div>\n"
   ]
  },
  {
   "cell_type": "code",
   "execution_count": 14,
   "id": "structured-tumor",
   "metadata": {
    "execution": {
     "iopub.execute_input": "2021-06-18T18:55:14.910172Z",
     "iopub.status.busy": "2021-06-18T18:55:14.909465Z",
     "iopub.status.idle": "2021-06-18T18:55:14.913900Z",
     "shell.execute_reply": "2021-06-18T18:55:14.914440Z",
     "shell.execute_reply.started": "2021-06-15T10:41:06.848517Z"
    },
    "papermill": {
     "duration": 0.204599,
     "end_time": "2021-06-18T18:55:14.914646",
     "exception": false,
     "start_time": "2021-06-18T18:55:14.710047",
     "status": "completed"
    },
    "tags": []
   },
   "outputs": [],
   "source": [
    "train_data, test_data = song_data.random_split(.8, seed =0)"
   ]
  },
  {
   "cell_type": "code",
   "execution_count": 15,
   "id": "wrapped-range",
   "metadata": {
    "execution": {
     "iopub.execute_input": "2021-06-18T18:55:15.322466Z",
     "iopub.status.busy": "2021-06-18T18:55:15.321779Z",
     "iopub.status.idle": "2021-06-18T18:55:18.079239Z",
     "shell.execute_reply": "2021-06-18T18:55:18.078544Z",
     "shell.execute_reply.started": "2021-06-15T10:41:10.375163Z"
    },
    "papermill": {
     "duration": 2.960837,
     "end_time": "2021-06-18T18:55:18.079395",
     "exception": false,
     "start_time": "2021-06-18T18:55:15.118558",
     "status": "completed"
    },
    "tags": []
   },
   "outputs": [
    {
     "data": {
      "text/html": [
       "<pre>Warning: Ignoring columns song_id, listen_count, title, artist;</pre>"
      ],
      "text/plain": [
       "Warning: Ignoring columns song_id, listen_count, title, artist;"
      ]
     },
     "metadata": {},
     "output_type": "display_data"
    },
    {
     "data": {
      "text/html": [
       "<pre> To use one of these as a rating column, specify the column name to be used as target</pre>"
      ],
      "text/plain": [
       " To use one of these as a rating column, specify the column name to be used as target"
      ]
     },
     "metadata": {},
     "output_type": "display_data"
    },
    {
     "data": {
      "text/html": [
       "<pre>    and use a method that allows the use of a target.</pre>"
      ],
      "text/plain": [
       "    and use a method that allows the use of a target."
      ]
     },
     "metadata": {},
     "output_type": "display_data"
    },
    {
     "data": {
      "text/html": [
       "<pre>Preparing data set.</pre>"
      ],
      "text/plain": [
       "Preparing data set."
      ]
     },
     "metadata": {},
     "output_type": "display_data"
    },
    {
     "data": {
      "text/html": [
       "<pre>    Data has 893580 observations with 66085 users and 9952 items.</pre>"
      ],
      "text/plain": [
       "    Data has 893580 observations with 66085 users and 9952 items."
      ]
     },
     "metadata": {},
     "output_type": "display_data"
    },
    {
     "data": {
      "text/html": [
       "<pre>    Data prepared in: 1.12919s</pre>"
      ],
      "text/plain": [
       "    Data prepared in: 1.12919s"
      ]
     },
     "metadata": {},
     "output_type": "display_data"
    },
    {
     "data": {
      "text/html": [
       "<pre>893580 observations to process; with 9952 unique items.</pre>"
      ],
      "text/plain": [
       "893580 observations to process; with 9952 unique items."
      ]
     },
     "metadata": {},
     "output_type": "display_data"
    }
   ],
   "source": [
    "popularity_model = tc.popularity_recommender.create(train_data, user_id='user_id',item_id='song')"
   ]
  },
  {
   "cell_type": "markdown",
   "id": "level-color",
   "metadata": {
    "papermill": {
     "duration": 0.207429,
     "end_time": "2021-06-18T18:55:18.493594",
     "exception": false,
     "start_time": "2021-06-18T18:55:18.286165",
     "status": "completed"
    },
    "tags": []
   },
   "source": [
    "<div style=\"color:white;\n",
    "           display:fill;\n",
    "           border-radius:5px;\n",
    "           font-size:110%;\n",
    "           font-family:cursive;\n",
    "           letter-spacing:0.5px;\n",
    "           background-color:pink;\n",
    "           color:Black;\n",
    "            padding:5px 5px 5px 5px;\n",
    "           font-family:cursive\n",
    "           \">\n",
    "<h1 style=\"text-align:center;font-weight: bold\">Now its turn for some predictions</h1>\n",
    "</div>\n"
   ]
  },
  {
   "cell_type": "code",
   "execution_count": 16,
   "id": "independent-governor",
   "metadata": {
    "execution": {
     "iopub.execute_input": "2021-06-18T18:55:18.962377Z",
     "iopub.status.busy": "2021-06-18T18:55:18.961404Z",
     "iopub.status.idle": "2021-06-18T18:55:19.000439Z",
     "shell.execute_reply": "2021-06-18T18:55:19.000963Z",
     "shell.execute_reply.started": "2021-06-15T10:41:18.416626Z"
    },
    "papermill": {
     "duration": 0.275074,
     "end_time": "2021-06-18T18:55:19.001173",
     "exception": false,
     "start_time": "2021-06-18T18:55:18.726099",
     "status": "completed"
    },
    "tags": []
   },
   "outputs": [
    {
     "data": {
      "text/html": [
       "<div style=\"max-height:1000px;max-width:1500px;overflow:auto;\"><table frame=\"box\" rules=\"cols\">\n",
       "    <thead>\n",
       "        <tr>\n",
       "            <th style=\"padding-left: 1em; padding-right: 1em; text-align: center\">user_id</th>\n",
       "            <th style=\"padding-left: 1em; padding-right: 1em; text-align: center\">song</th>\n",
       "            <th style=\"padding-left: 1em; padding-right: 1em; text-align: center\">score</th>\n",
       "            <th style=\"padding-left: 1em; padding-right: 1em; text-align: center\">rank</th>\n",
       "        </tr>\n",
       "    </thead>\n",
       "    <tbody>\n",
       "        <tr>\n",
       "            <td style=\"padding-left: 1em; padding-right: 1em; text-align: center; vertical-align: top\">c66c10a9567f0d82ff31441a9<br>fd5063e5cd9dfe8 ...</td>\n",
       "            <td style=\"padding-left: 1em; padding-right: 1em; text-align: center; vertical-align: top\">Sehr kosmisch - Harmonia</td>\n",
       "            <td style=\"padding-left: 1em; padding-right: 1em; text-align: center; vertical-align: top\">4754.0</td>\n",
       "            <td style=\"padding-left: 1em; padding-right: 1em; text-align: center; vertical-align: top\">1</td>\n",
       "        </tr>\n",
       "        <tr>\n",
       "            <td style=\"padding-left: 1em; padding-right: 1em; text-align: center; vertical-align: top\">c66c10a9567f0d82ff31441a9<br>fd5063e5cd9dfe8 ...</td>\n",
       "            <td style=\"padding-left: 1em; padding-right: 1em; text-align: center; vertical-align: top\">Undo - Björk</td>\n",
       "            <td style=\"padding-left: 1em; padding-right: 1em; text-align: center; vertical-align: top\">4227.0</td>\n",
       "            <td style=\"padding-left: 1em; padding-right: 1em; text-align: center; vertical-align: top\">2</td>\n",
       "        </tr>\n",
       "        <tr>\n",
       "            <td style=\"padding-left: 1em; padding-right: 1em; text-align: center; vertical-align: top\">c66c10a9567f0d82ff31441a9<br>fd5063e5cd9dfe8 ...</td>\n",
       "            <td style=\"padding-left: 1em; padding-right: 1em; text-align: center; vertical-align: top\">You&#x27;re The One - Dwight<br>Yoakam ...</td>\n",
       "            <td style=\"padding-left: 1em; padding-right: 1em; text-align: center; vertical-align: top\">3781.0</td>\n",
       "            <td style=\"padding-left: 1em; padding-right: 1em; text-align: center; vertical-align: top\">3</td>\n",
       "        </tr>\n",
       "        <tr>\n",
       "            <td style=\"padding-left: 1em; padding-right: 1em; text-align: center; vertical-align: top\">c66c10a9567f0d82ff31441a9<br>fd5063e5cd9dfe8 ...</td>\n",
       "            <td style=\"padding-left: 1em; padding-right: 1em; text-align: center; vertical-align: top\">Dog Days Are Over (Radio<br>Edit) - Florence + The ...</td>\n",
       "            <td style=\"padding-left: 1em; padding-right: 1em; text-align: center; vertical-align: top\">3633.0</td>\n",
       "            <td style=\"padding-left: 1em; padding-right: 1em; text-align: center; vertical-align: top\">4</td>\n",
       "        </tr>\n",
       "        <tr>\n",
       "            <td style=\"padding-left: 1em; padding-right: 1em; text-align: center; vertical-align: top\">c66c10a9567f0d82ff31441a9<br>fd5063e5cd9dfe8 ...</td>\n",
       "            <td style=\"padding-left: 1em; padding-right: 1em; text-align: center; vertical-align: top\">Revelry - Kings Of Leon</td>\n",
       "            <td style=\"padding-left: 1em; padding-right: 1em; text-align: center; vertical-align: top\">3527.0</td>\n",
       "            <td style=\"padding-left: 1em; padding-right: 1em; text-align: center; vertical-align: top\">5</td>\n",
       "        </tr>\n",
       "        <tr>\n",
       "            <td style=\"padding-left: 1em; padding-right: 1em; text-align: center; vertical-align: top\">c66c10a9567f0d82ff31441a9<br>fd5063e5cd9dfe8 ...</td>\n",
       "            <td style=\"padding-left: 1em; padding-right: 1em; text-align: center; vertical-align: top\">Horn Concerto No. 4 in E<br>flat K495: II. Romance ...</td>\n",
       "            <td style=\"padding-left: 1em; padding-right: 1em; text-align: center; vertical-align: top\">3161.0</td>\n",
       "            <td style=\"padding-left: 1em; padding-right: 1em; text-align: center; vertical-align: top\">6</td>\n",
       "        </tr>\n",
       "        <tr>\n",
       "            <td style=\"padding-left: 1em; padding-right: 1em; text-align: center; vertical-align: top\">c66c10a9567f0d82ff31441a9<br>fd5063e5cd9dfe8 ...</td>\n",
       "            <td style=\"padding-left: 1em; padding-right: 1em; text-align: center; vertical-align: top\">Secrets - OneRepublic</td>\n",
       "            <td style=\"padding-left: 1em; padding-right: 1em; text-align: center; vertical-align: top\">3148.0</td>\n",
       "            <td style=\"padding-left: 1em; padding-right: 1em; text-align: center; vertical-align: top\">7</td>\n",
       "        </tr>\n",
       "        <tr>\n",
       "            <td style=\"padding-left: 1em; padding-right: 1em; text-align: center; vertical-align: top\">c66c10a9567f0d82ff31441a9<br>fd5063e5cd9dfe8 ...</td>\n",
       "            <td style=\"padding-left: 1em; padding-right: 1em; text-align: center; vertical-align: top\">Fireflies - Charttraxx<br>Karaoke ...</td>\n",
       "            <td style=\"padding-left: 1em; padding-right: 1em; text-align: center; vertical-align: top\">2532.0</td>\n",
       "            <td style=\"padding-left: 1em; padding-right: 1em; text-align: center; vertical-align: top\">8</td>\n",
       "        </tr>\n",
       "        <tr>\n",
       "            <td style=\"padding-left: 1em; padding-right: 1em; text-align: center; vertical-align: top\">c66c10a9567f0d82ff31441a9<br>fd5063e5cd9dfe8 ...</td>\n",
       "            <td style=\"padding-left: 1em; padding-right: 1em; text-align: center; vertical-align: top\">Tive Sim - Cartola</td>\n",
       "            <td style=\"padding-left: 1em; padding-right: 1em; text-align: center; vertical-align: top\">2521.0</td>\n",
       "            <td style=\"padding-left: 1em; padding-right: 1em; text-align: center; vertical-align: top\">9</td>\n",
       "        </tr>\n",
       "        <tr>\n",
       "            <td style=\"padding-left: 1em; padding-right: 1em; text-align: center; vertical-align: top\">c66c10a9567f0d82ff31441a9<br>fd5063e5cd9dfe8 ...</td>\n",
       "            <td style=\"padding-left: 1em; padding-right: 1em; text-align: center; vertical-align: top\">Drop The World - Lil<br>Wayne / Eminem ...</td>\n",
       "            <td style=\"padding-left: 1em; padding-right: 1em; text-align: center; vertical-align: top\">2053.0</td>\n",
       "            <td style=\"padding-left: 1em; padding-right: 1em; text-align: center; vertical-align: top\">10</td>\n",
       "        </tr>\n",
       "    </tbody>\n",
       "</table>\n",
       "[10 rows x 4 columns]<br/>\n",
       "</div>"
      ],
      "text/plain": [
       "Columns:\n",
       "\tuser_id\tstr\n",
       "\tsong\tstr\n",
       "\tscore\tfloat\n",
       "\trank\tint\n",
       "\n",
       "Rows: 10\n",
       "\n",
       "Data:\n",
       "+-------------------------------+--------------------------------+--------+------+\n",
       "|            user_id            |              song              | score  | rank |\n",
       "+-------------------------------+--------------------------------+--------+------+\n",
       "| c66c10a9567f0d82ff31441a9f... |    Sehr kosmisch - Harmonia    | 4754.0 |  1   |\n",
       "| c66c10a9567f0d82ff31441a9f... |          Undo - Björk          | 4227.0 |  2   |\n",
       "| c66c10a9567f0d82ff31441a9f... | You're The One - Dwight Yoakam | 3781.0 |  3   |\n",
       "| c66c10a9567f0d82ff31441a9f... | Dog Days Are Over (Radio E...  | 3633.0 |  4   |\n",
       "| c66c10a9567f0d82ff31441a9f... |    Revelry - Kings Of Leon     | 3527.0 |  5   |\n",
       "| c66c10a9567f0d82ff31441a9f... | Horn Concerto No. 4 in E f...  | 3161.0 |  6   |\n",
       "| c66c10a9567f0d82ff31441a9f... |     Secrets - OneRepublic      | 3148.0 |  7   |\n",
       "| c66c10a9567f0d82ff31441a9f... | Fireflies - Charttraxx Karaoke | 2532.0 |  8   |\n",
       "| c66c10a9567f0d82ff31441a9f... |       Tive Sim - Cartola       | 2521.0 |  9   |\n",
       "| c66c10a9567f0d82ff31441a9f... | Drop The World - Lil Wayne...  | 2053.0 |  10  |\n",
       "+-------------------------------+--------------------------------+--------+------+\n",
       "[10 rows x 4 columns]"
      ]
     },
     "execution_count": 16,
     "metadata": {},
     "output_type": "execute_result"
    }
   ],
   "source": [
    "popularity_model.recommend(users= [users[0]])"
   ]
  },
  {
   "cell_type": "code",
   "execution_count": 17,
   "id": "after-librarian",
   "metadata": {
    "execution": {
     "iopub.execute_input": "2021-06-18T18:55:19.419588Z",
     "iopub.status.busy": "2021-06-18T18:55:19.418569Z",
     "iopub.status.idle": "2021-06-18T18:55:19.449047Z",
     "shell.execute_reply": "2021-06-18T18:55:19.449676Z",
     "shell.execute_reply.started": "2021-06-15T10:41:22.808327Z"
    },
    "papermill": {
     "duration": 0.242406,
     "end_time": "2021-06-18T18:55:19.449894",
     "exception": false,
     "start_time": "2021-06-18T18:55:19.207488",
     "status": "completed"
    },
    "tags": []
   },
   "outputs": [
    {
     "data": {
      "text/html": [
       "<div style=\"max-height:1000px;max-width:1500px;overflow:auto;\"><table frame=\"box\" rules=\"cols\">\n",
       "    <thead>\n",
       "        <tr>\n",
       "            <th style=\"padding-left: 1em; padding-right: 1em; text-align: center\">user_id</th>\n",
       "            <th style=\"padding-left: 1em; padding-right: 1em; text-align: center\">song</th>\n",
       "            <th style=\"padding-left: 1em; padding-right: 1em; text-align: center\">score</th>\n",
       "            <th style=\"padding-left: 1em; padding-right: 1em; text-align: center\">rank</th>\n",
       "        </tr>\n",
       "    </thead>\n",
       "    <tbody>\n",
       "        <tr>\n",
       "            <td style=\"padding-left: 1em; padding-right: 1em; text-align: center; vertical-align: top\">279292bb36dbfc7f505e36ebf<br>038c81eb1d1d63e ...</td>\n",
       "            <td style=\"padding-left: 1em; padding-right: 1em; text-align: center; vertical-align: top\">Sehr kosmisch - Harmonia</td>\n",
       "            <td style=\"padding-left: 1em; padding-right: 1em; text-align: center; vertical-align: top\">4754.0</td>\n",
       "            <td style=\"padding-left: 1em; padding-right: 1em; text-align: center; vertical-align: top\">1</td>\n",
       "        </tr>\n",
       "        <tr>\n",
       "            <td style=\"padding-left: 1em; padding-right: 1em; text-align: center; vertical-align: top\">279292bb36dbfc7f505e36ebf<br>038c81eb1d1d63e ...</td>\n",
       "            <td style=\"padding-left: 1em; padding-right: 1em; text-align: center; vertical-align: top\">Undo - Björk</td>\n",
       "            <td style=\"padding-left: 1em; padding-right: 1em; text-align: center; vertical-align: top\">4227.0</td>\n",
       "            <td style=\"padding-left: 1em; padding-right: 1em; text-align: center; vertical-align: top\">2</td>\n",
       "        </tr>\n",
       "        <tr>\n",
       "            <td style=\"padding-left: 1em; padding-right: 1em; text-align: center; vertical-align: top\">279292bb36dbfc7f505e36ebf<br>038c81eb1d1d63e ...</td>\n",
       "            <td style=\"padding-left: 1em; padding-right: 1em; text-align: center; vertical-align: top\">You&#x27;re The One - Dwight<br>Yoakam ...</td>\n",
       "            <td style=\"padding-left: 1em; padding-right: 1em; text-align: center; vertical-align: top\">3781.0</td>\n",
       "            <td style=\"padding-left: 1em; padding-right: 1em; text-align: center; vertical-align: top\">3</td>\n",
       "        </tr>\n",
       "        <tr>\n",
       "            <td style=\"padding-left: 1em; padding-right: 1em; text-align: center; vertical-align: top\">279292bb36dbfc7f505e36ebf<br>038c81eb1d1d63e ...</td>\n",
       "            <td style=\"padding-left: 1em; padding-right: 1em; text-align: center; vertical-align: top\">Dog Days Are Over (Radio<br>Edit) - Florence + The ...</td>\n",
       "            <td style=\"padding-left: 1em; padding-right: 1em; text-align: center; vertical-align: top\">3633.0</td>\n",
       "            <td style=\"padding-left: 1em; padding-right: 1em; text-align: center; vertical-align: top\">4</td>\n",
       "        </tr>\n",
       "        <tr>\n",
       "            <td style=\"padding-left: 1em; padding-right: 1em; text-align: center; vertical-align: top\">279292bb36dbfc7f505e36ebf<br>038c81eb1d1d63e ...</td>\n",
       "            <td style=\"padding-left: 1em; padding-right: 1em; text-align: center; vertical-align: top\">Revelry - Kings Of Leon</td>\n",
       "            <td style=\"padding-left: 1em; padding-right: 1em; text-align: center; vertical-align: top\">3527.0</td>\n",
       "            <td style=\"padding-left: 1em; padding-right: 1em; text-align: center; vertical-align: top\">5</td>\n",
       "        </tr>\n",
       "        <tr>\n",
       "            <td style=\"padding-left: 1em; padding-right: 1em; text-align: center; vertical-align: top\">279292bb36dbfc7f505e36ebf<br>038c81eb1d1d63e ...</td>\n",
       "            <td style=\"padding-left: 1em; padding-right: 1em; text-align: center; vertical-align: top\">Horn Concerto No. 4 in E<br>flat K495: II. Romance ...</td>\n",
       "            <td style=\"padding-left: 1em; padding-right: 1em; text-align: center; vertical-align: top\">3161.0</td>\n",
       "            <td style=\"padding-left: 1em; padding-right: 1em; text-align: center; vertical-align: top\">6</td>\n",
       "        </tr>\n",
       "        <tr>\n",
       "            <td style=\"padding-left: 1em; padding-right: 1em; text-align: center; vertical-align: top\">279292bb36dbfc7f505e36ebf<br>038c81eb1d1d63e ...</td>\n",
       "            <td style=\"padding-left: 1em; padding-right: 1em; text-align: center; vertical-align: top\">Secrets - OneRepublic</td>\n",
       "            <td style=\"padding-left: 1em; padding-right: 1em; text-align: center; vertical-align: top\">3148.0</td>\n",
       "            <td style=\"padding-left: 1em; padding-right: 1em; text-align: center; vertical-align: top\">7</td>\n",
       "        </tr>\n",
       "        <tr>\n",
       "            <td style=\"padding-left: 1em; padding-right: 1em; text-align: center; vertical-align: top\">279292bb36dbfc7f505e36ebf<br>038c81eb1d1d63e ...</td>\n",
       "            <td style=\"padding-left: 1em; padding-right: 1em; text-align: center; vertical-align: top\">Hey_ Soul Sister - Train</td>\n",
       "            <td style=\"padding-left: 1em; padding-right: 1em; text-align: center; vertical-align: top\">2538.0</td>\n",
       "            <td style=\"padding-left: 1em; padding-right: 1em; text-align: center; vertical-align: top\">8</td>\n",
       "        </tr>\n",
       "        <tr>\n",
       "            <td style=\"padding-left: 1em; padding-right: 1em; text-align: center; vertical-align: top\">279292bb36dbfc7f505e36ebf<br>038c81eb1d1d63e ...</td>\n",
       "            <td style=\"padding-left: 1em; padding-right: 1em; text-align: center; vertical-align: top\">Fireflies - Charttraxx<br>Karaoke ...</td>\n",
       "            <td style=\"padding-left: 1em; padding-right: 1em; text-align: center; vertical-align: top\">2532.0</td>\n",
       "            <td style=\"padding-left: 1em; padding-right: 1em; text-align: center; vertical-align: top\">9</td>\n",
       "        </tr>\n",
       "        <tr>\n",
       "            <td style=\"padding-left: 1em; padding-right: 1em; text-align: center; vertical-align: top\">279292bb36dbfc7f505e36ebf<br>038c81eb1d1d63e ...</td>\n",
       "            <td style=\"padding-left: 1em; padding-right: 1em; text-align: center; vertical-align: top\">Tive Sim - Cartola</td>\n",
       "            <td style=\"padding-left: 1em; padding-right: 1em; text-align: center; vertical-align: top\">2521.0</td>\n",
       "            <td style=\"padding-left: 1em; padding-right: 1em; text-align: center; vertical-align: top\">10</td>\n",
       "        </tr>\n",
       "    </tbody>\n",
       "</table>\n",
       "[10 rows x 4 columns]<br/>\n",
       "</div>"
      ],
      "text/plain": [
       "Columns:\n",
       "\tuser_id\tstr\n",
       "\tsong\tstr\n",
       "\tscore\tfloat\n",
       "\trank\tint\n",
       "\n",
       "Rows: 10\n",
       "\n",
       "Data:\n",
       "+-------------------------------+--------------------------------+--------+------+\n",
       "|            user_id            |              song              | score  | rank |\n",
       "+-------------------------------+--------------------------------+--------+------+\n",
       "| 279292bb36dbfc7f505e36ebf0... |    Sehr kosmisch - Harmonia    | 4754.0 |  1   |\n",
       "| 279292bb36dbfc7f505e36ebf0... |          Undo - Björk          | 4227.0 |  2   |\n",
       "| 279292bb36dbfc7f505e36ebf0... | You're The One - Dwight Yoakam | 3781.0 |  3   |\n",
       "| 279292bb36dbfc7f505e36ebf0... | Dog Days Are Over (Radio E...  | 3633.0 |  4   |\n",
       "| 279292bb36dbfc7f505e36ebf0... |    Revelry - Kings Of Leon     | 3527.0 |  5   |\n",
       "| 279292bb36dbfc7f505e36ebf0... | Horn Concerto No. 4 in E f...  | 3161.0 |  6   |\n",
       "| 279292bb36dbfc7f505e36ebf0... |     Secrets - OneRepublic      | 3148.0 |  7   |\n",
       "| 279292bb36dbfc7f505e36ebf0... |    Hey_ Soul Sister - Train    | 2538.0 |  8   |\n",
       "| 279292bb36dbfc7f505e36ebf0... | Fireflies - Charttraxx Karaoke | 2532.0 |  9   |\n",
       "| 279292bb36dbfc7f505e36ebf0... |       Tive Sim - Cartola       | 2521.0 |  10  |\n",
       "+-------------------------------+--------------------------------+--------+------+\n",
       "[10 rows x 4 columns]"
      ]
     },
     "execution_count": 17,
     "metadata": {},
     "output_type": "execute_result"
    }
   ],
   "source": [
    "popularity_model.recommend(users=[users[1]])"
   ]
  },
  {
   "cell_type": "markdown",
   "id": "applied-taste",
   "metadata": {
    "papermill": {
     "duration": 0.202646,
     "end_time": "2021-06-18T18:55:19.862359",
     "exception": false,
     "start_time": "2021-06-18T18:55:19.659713",
     "status": "completed"
    },
    "tags": []
   },
   "source": [
    "<div style=\"color:white;\n",
    "           display:fill;\n",
    "           border-radius:5px;\n",
    "           font-size:110%;\n",
    "           font-family:cursive;\n",
    "           letter-spacing:0.5px;\n",
    "           background-color:pink;\n",
    "           color:Black;\n",
    "            padding:5px 5px 5px 5px;\n",
    "           font-family:cursive\n",
    "           \">\n",
    "<h1 style=\"text-align:center;font-weight: bold\">Creating Personalized Recommender</h1>\n",
    "</div>\n"
   ]
  },
  {
   "cell_type": "code",
   "execution_count": 18,
   "id": "stupid-basket",
   "metadata": {
    "execution": {
     "iopub.execute_input": "2021-06-18T18:55:20.289285Z",
     "iopub.status.busy": "2021-06-18T18:55:20.288315Z",
     "iopub.status.idle": "2021-06-18T18:55:24.458361Z",
     "shell.execute_reply": "2021-06-18T18:55:24.457754Z",
     "shell.execute_reply.started": "2021-06-15T10:41:26.525922Z"
    },
    "papermill": {
     "duration": 4.376201,
     "end_time": "2021-06-18T18:55:24.458498",
     "exception": false,
     "start_time": "2021-06-18T18:55:20.082297",
     "status": "completed"
    },
    "tags": []
   },
   "outputs": [
    {
     "data": {
      "text/html": [
       "<pre>Warning: Ignoring columns song_id, listen_count, title, artist;</pre>"
      ],
      "text/plain": [
       "Warning: Ignoring columns song_id, listen_count, title, artist;"
      ]
     },
     "metadata": {},
     "output_type": "display_data"
    },
    {
     "data": {
      "text/html": [
       "<pre> To use one of these as a rating column, specify the column name to be used as target</pre>"
      ],
      "text/plain": [
       " To use one of these as a rating column, specify the column name to be used as target"
      ]
     },
     "metadata": {},
     "output_type": "display_data"
    },
    {
     "data": {
      "text/html": [
       "<pre>    and use a method that allows the use of a target.</pre>"
      ],
      "text/plain": [
       "    and use a method that allows the use of a target."
      ]
     },
     "metadata": {},
     "output_type": "display_data"
    },
    {
     "data": {
      "text/html": [
       "<pre>Preparing data set.</pre>"
      ],
      "text/plain": [
       "Preparing data set."
      ]
     },
     "metadata": {},
     "output_type": "display_data"
    },
    {
     "data": {
      "text/html": [
       "<pre>    Data has 893580 observations with 66085 users and 9952 items.</pre>"
      ],
      "text/plain": [
       "    Data has 893580 observations with 66085 users and 9952 items."
      ]
     },
     "metadata": {},
     "output_type": "display_data"
    },
    {
     "data": {
      "text/html": [
       "<pre>    Data prepared in: 1.47467s</pre>"
      ],
      "text/plain": [
       "    Data prepared in: 1.47467s"
      ]
     },
     "metadata": {},
     "output_type": "display_data"
    },
    {
     "data": {
      "text/html": [
       "<pre>Training model from provided data.</pre>"
      ],
      "text/plain": [
       "Training model from provided data."
      ]
     },
     "metadata": {},
     "output_type": "display_data"
    },
    {
     "data": {
      "text/html": [
       "<pre>Gathering per-item and per-user statistics.</pre>"
      ],
      "text/plain": [
       "Gathering per-item and per-user statistics."
      ]
     },
     "metadata": {},
     "output_type": "display_data"
    },
    {
     "data": {
      "text/html": [
       "<pre>+--------------------------------+------------+</pre>"
      ],
      "text/plain": [
       "+--------------------------------+------------+"
      ]
     },
     "metadata": {},
     "output_type": "display_data"
    },
    {
     "data": {
      "text/html": [
       "<pre>| Elapsed Time (Item Statistics) | % Complete |</pre>"
      ],
      "text/plain": [
       "| Elapsed Time (Item Statistics) | % Complete |"
      ]
     },
     "metadata": {},
     "output_type": "display_data"
    },
    {
     "data": {
      "text/html": [
       "<pre>+--------------------------------+------------+</pre>"
      ],
      "text/plain": [
       "+--------------------------------+------------+"
      ]
     },
     "metadata": {},
     "output_type": "display_data"
    },
    {
     "data": {
      "text/html": [
       "<pre>| 2.357ms                        | 1.5        |</pre>"
      ],
      "text/plain": [
       "| 2.357ms                        | 1.5        |"
      ]
     },
     "metadata": {},
     "output_type": "display_data"
    },
    {
     "data": {
      "text/html": [
       "<pre>| 50.585ms                       | 100        |</pre>"
      ],
      "text/plain": [
       "| 50.585ms                       | 100        |"
      ]
     },
     "metadata": {},
     "output_type": "display_data"
    },
    {
     "data": {
      "text/html": [
       "<pre>+--------------------------------+------------+</pre>"
      ],
      "text/plain": [
       "+--------------------------------+------------+"
      ]
     },
     "metadata": {},
     "output_type": "display_data"
    },
    {
     "data": {
      "text/html": [
       "<pre>Setting up lookup tables.</pre>"
      ],
      "text/plain": [
       "Setting up lookup tables."
      ]
     },
     "metadata": {},
     "output_type": "display_data"
    },
    {
     "data": {
      "text/html": [
       "<pre>Processing data in one pass using dense lookup tables.</pre>"
      ],
      "text/plain": [
       "Processing data in one pass using dense lookup tables."
      ]
     },
     "metadata": {},
     "output_type": "display_data"
    },
    {
     "data": {
      "text/html": [
       "<pre>+-------------------------------------+------------------+-----------------+</pre>"
      ],
      "text/plain": [
       "+-------------------------------------+------------------+-----------------+"
      ]
     },
     "metadata": {},
     "output_type": "display_data"
    },
    {
     "data": {
      "text/html": [
       "<pre>| Elapsed Time (Constructing Lookups) | Total % Complete | Items Processed |</pre>"
      ],
      "text/plain": [
       "| Elapsed Time (Constructing Lookups) | Total % Complete | Items Processed |"
      ]
     },
     "metadata": {},
     "output_type": "display_data"
    },
    {
     "data": {
      "text/html": [
       "<pre>+-------------------------------------+------------------+-----------------+</pre>"
      ],
      "text/plain": [
       "+-------------------------------------+------------------+-----------------+"
      ]
     },
     "metadata": {},
     "output_type": "display_data"
    },
    {
     "data": {
      "text/html": [
       "<pre>| 314.564ms                           | 0                | 0               |</pre>"
      ],
      "text/plain": [
       "| 314.564ms                           | 0                | 0               |"
      ]
     },
     "metadata": {},
     "output_type": "display_data"
    },
    {
     "data": {
      "text/html": [
       "<pre>| 1.60s                               | 100              | 9952            |</pre>"
      ],
      "text/plain": [
       "| 1.60s                               | 100              | 9952            |"
      ]
     },
     "metadata": {},
     "output_type": "display_data"
    },
    {
     "data": {
      "text/html": [
       "<pre>+-------------------------------------+------------------+-----------------+</pre>"
      ],
      "text/plain": [
       "+-------------------------------------+------------------+-----------------+"
      ]
     },
     "metadata": {},
     "output_type": "display_data"
    },
    {
     "data": {
      "text/html": [
       "<pre>Finalizing lookup tables.</pre>"
      ],
      "text/plain": [
       "Finalizing lookup tables."
      ]
     },
     "metadata": {},
     "output_type": "display_data"
    },
    {
     "data": {
      "text/html": [
       "<pre>Generating candidate set for working with new users.</pre>"
      ],
      "text/plain": [
       "Generating candidate set for working with new users."
      ]
     },
     "metadata": {},
     "output_type": "display_data"
    },
    {
     "data": {
      "text/html": [
       "<pre>Finished training in 2.68684s</pre>"
      ],
      "text/plain": [
       "Finished training in 2.68684s"
      ]
     },
     "metadata": {},
     "output_type": "display_data"
    }
   ],
   "source": [
    "personalized_model = tc.item_similarity_recommender.create(\n",
    "    train_data,\n",
    "    user_id='user_id',\n",
    "    item_id='song'\n",
    ")"
   ]
  },
  {
   "cell_type": "markdown",
   "id": "fallen-chassis",
   "metadata": {
    "papermill": {
     "duration": 0.211627,
     "end_time": "2021-06-18T18:55:24.882418",
     "exception": false,
     "start_time": "2021-06-18T18:55:24.670791",
     "status": "completed"
    },
    "tags": []
   },
   "source": [
    "<div style=\"color:white;\n",
    "           display:fill;\n",
    "           border-radius:5px;\n",
    "           font-size:110%;\n",
    "           font-family:cursive;\n",
    "           letter-spacing:0.5px;\n",
    "           background-color:pink;\n",
    "           color:Black;\n",
    "            padding:5px 5px 5px 5px;\n",
    "           font-family:cursive\n",
    "           \">\n",
    "<h1 style=\"text-align:center;font-weight: bold\">Yay! Predictions</h1>\n",
    "</div>\n"
   ]
  },
  {
   "cell_type": "markdown",
   "id": "sticky-drill",
   "metadata": {
    "papermill": {
     "duration": 0.212552,
     "end_time": "2021-06-18T18:55:25.309809",
     "exception": false,
     "start_time": "2021-06-18T18:55:25.097257",
     "status": "completed"
    },
    "tags": []
   },
   "source": [
    "## Predicting for User 1"
   ]
  },
  {
   "cell_type": "code",
   "execution_count": 19,
   "id": "bacterial-nursery",
   "metadata": {
    "execution": {
     "iopub.execute_input": "2021-06-18T18:55:25.738046Z",
     "iopub.status.busy": "2021-06-18T18:55:25.737087Z",
     "iopub.status.idle": "2021-06-18T18:55:25.769670Z",
     "shell.execute_reply": "2021-06-18T18:55:25.769001Z",
     "shell.execute_reply.started": "2021-06-15T10:41:33.760385Z"
    },
    "papermill": {
     "duration": 0.247663,
     "end_time": "2021-06-18T18:55:25.769816",
     "exception": false,
     "start_time": "2021-06-18T18:55:25.522153",
     "status": "completed"
    },
    "tags": []
   },
   "outputs": [
    {
     "data": {
      "text/html": [
       "<div style=\"max-height:1000px;max-width:1500px;overflow:auto;\"><table frame=\"box\" rules=\"cols\">\n",
       "    <thead>\n",
       "        <tr>\n",
       "            <th style=\"padding-left: 1em; padding-right: 1em; text-align: center\">user_id</th>\n",
       "            <th style=\"padding-left: 1em; padding-right: 1em; text-align: center\">song</th>\n",
       "            <th style=\"padding-left: 1em; padding-right: 1em; text-align: center\">score</th>\n",
       "            <th style=\"padding-left: 1em; padding-right: 1em; text-align: center\">rank</th>\n",
       "        </tr>\n",
       "    </thead>\n",
       "    <tbody>\n",
       "        <tr>\n",
       "            <td style=\"padding-left: 1em; padding-right: 1em; text-align: center; vertical-align: top\">c66c10a9567f0d82ff31441a9<br>fd5063e5cd9dfe8 ...</td>\n",
       "            <td style=\"padding-left: 1em; padding-right: 1em; text-align: center; vertical-align: top\">Cuando Pase El Temblor -<br>Soda Stereo ...</td>\n",
       "            <td style=\"padding-left: 1em; padding-right: 1em; text-align: center; vertical-align: top\">0.019450453611520622</td>\n",
       "            <td style=\"padding-left: 1em; padding-right: 1em; text-align: center; vertical-align: top\">1</td>\n",
       "        </tr>\n",
       "        <tr>\n",
       "            <td style=\"padding-left: 1em; padding-right: 1em; text-align: center; vertical-align: top\">c66c10a9567f0d82ff31441a9<br>fd5063e5cd9dfe8 ...</td>\n",
       "            <td style=\"padding-left: 1em; padding-right: 1em; text-align: center; vertical-align: top\">Fireflies - Charttraxx<br>Karaoke ...</td>\n",
       "            <td style=\"padding-left: 1em; padding-right: 1em; text-align: center; vertical-align: top\">0.014473731701190654</td>\n",
       "            <td style=\"padding-left: 1em; padding-right: 1em; text-align: center; vertical-align: top\">2</td>\n",
       "        </tr>\n",
       "        <tr>\n",
       "            <td style=\"padding-left: 1em; padding-right: 1em; text-align: center; vertical-align: top\">c66c10a9567f0d82ff31441a9<br>fd5063e5cd9dfe8 ...</td>\n",
       "            <td style=\"padding-left: 1em; padding-right: 1em; text-align: center; vertical-align: top\">Love Is A Losing Game -<br>Amy Winehouse ...</td>\n",
       "            <td style=\"padding-left: 1em; padding-right: 1em; text-align: center; vertical-align: top\">0.014286596041459303</td>\n",
       "            <td style=\"padding-left: 1em; padding-right: 1em; text-align: center; vertical-align: top\">3</td>\n",
       "        </tr>\n",
       "        <tr>\n",
       "            <td style=\"padding-left: 1em; padding-right: 1em; text-align: center; vertical-align: top\">c66c10a9567f0d82ff31441a9<br>fd5063e5cd9dfe8 ...</td>\n",
       "            <td style=\"padding-left: 1em; padding-right: 1em; text-align: center; vertical-align: top\">Marry Me - Train</td>\n",
       "            <td style=\"padding-left: 1em; padding-right: 1em; text-align: center; vertical-align: top\">0.014133471709031325</td>\n",
       "            <td style=\"padding-left: 1em; padding-right: 1em; text-align: center; vertical-align: top\">4</td>\n",
       "        </tr>\n",
       "        <tr>\n",
       "            <td style=\"padding-left: 1em; padding-right: 1em; text-align: center; vertical-align: top\">c66c10a9567f0d82ff31441a9<br>fd5063e5cd9dfe8 ...</td>\n",
       "            <td style=\"padding-left: 1em; padding-right: 1em; text-align: center; vertical-align: top\">Secrets - OneRepublic</td>\n",
       "            <td style=\"padding-left: 1em; padding-right: 1em; text-align: center; vertical-align: top\">0.013591665488023024</td>\n",
       "            <td style=\"padding-left: 1em; padding-right: 1em; text-align: center; vertical-align: top\">5</td>\n",
       "        </tr>\n",
       "        <tr>\n",
       "            <td style=\"padding-left: 1em; padding-right: 1em; text-align: center; vertical-align: top\">c66c10a9567f0d82ff31441a9<br>fd5063e5cd9dfe8 ...</td>\n",
       "            <td style=\"padding-left: 1em; padding-right: 1em; text-align: center; vertical-align: top\">Sehr kosmisch - Harmonia</td>\n",
       "            <td style=\"padding-left: 1em; padding-right: 1em; text-align: center; vertical-align: top\">0.013398789442502536</td>\n",
       "            <td style=\"padding-left: 1em; padding-right: 1em; text-align: center; vertical-align: top\">6</td>\n",
       "        </tr>\n",
       "        <tr>\n",
       "            <td style=\"padding-left: 1em; padding-right: 1em; text-align: center; vertical-align: top\">c66c10a9567f0d82ff31441a9<br>fd5063e5cd9dfe8 ...</td>\n",
       "            <td style=\"padding-left: 1em; padding-right: 1em; text-align: center; vertical-align: top\">Te Hacen Falta Vitaminas<br>- Soda Stereo ...</td>\n",
       "            <td style=\"padding-left: 1em; padding-right: 1em; text-align: center; vertical-align: top\">0.01293028317964994</td>\n",
       "            <td style=\"padding-left: 1em; padding-right: 1em; text-align: center; vertical-align: top\">7</td>\n",
       "        </tr>\n",
       "        <tr>\n",
       "            <td style=\"padding-left: 1em; padding-right: 1em; text-align: center; vertical-align: top\">c66c10a9567f0d82ff31441a9<br>fd5063e5cd9dfe8 ...</td>\n",
       "            <td style=\"padding-left: 1em; padding-right: 1em; text-align: center; vertical-align: top\">OMG - Usher featuring<br>will.i.am ...</td>\n",
       "            <td style=\"padding-left: 1em; padding-right: 1em; text-align: center; vertical-align: top\">0.012777828253232516</td>\n",
       "            <td style=\"padding-left: 1em; padding-right: 1em; text-align: center; vertical-align: top\">8</td>\n",
       "        </tr>\n",
       "        <tr>\n",
       "            <td style=\"padding-left: 1em; padding-right: 1em; text-align: center; vertical-align: top\">c66c10a9567f0d82ff31441a9<br>fd5063e5cd9dfe8 ...</td>\n",
       "            <td style=\"padding-left: 1em; padding-right: 1em; text-align: center; vertical-align: top\">Y solo se me ocurre<br>amarte (Unplugged) - ...</td>\n",
       "            <td style=\"padding-left: 1em; padding-right: 1em; text-align: center; vertical-align: top\">0.012341127945826603</td>\n",
       "            <td style=\"padding-left: 1em; padding-right: 1em; text-align: center; vertical-align: top\">9</td>\n",
       "        </tr>\n",
       "        <tr>\n",
       "            <td style=\"padding-left: 1em; padding-right: 1em; text-align: center; vertical-align: top\">c66c10a9567f0d82ff31441a9<br>fd5063e5cd9dfe8 ...</td>\n",
       "            <td style=\"padding-left: 1em; padding-right: 1em; text-align: center; vertical-align: top\">No Dejes Que... -<br>Caifanes ...</td>\n",
       "            <td style=\"padding-left: 1em; padding-right: 1em; text-align: center; vertical-align: top\">0.012104249917543851</td>\n",
       "            <td style=\"padding-left: 1em; padding-right: 1em; text-align: center; vertical-align: top\">10</td>\n",
       "        </tr>\n",
       "    </tbody>\n",
       "</table>\n",
       "[10 rows x 4 columns]<br/>\n",
       "</div>"
      ],
      "text/plain": [
       "Columns:\n",
       "\tuser_id\tstr\n",
       "\tsong\tstr\n",
       "\tscore\tfloat\n",
       "\trank\tint\n",
       "\n",
       "Rows: 10\n",
       "\n",
       "Data:\n",
       "+-------------------------------+--------------------------------+\n",
       "|            user_id            |              song              |\n",
       "+-------------------------------+--------------------------------+\n",
       "| c66c10a9567f0d82ff31441a9f... | Cuando Pase El Temblor - S...  |\n",
       "| c66c10a9567f0d82ff31441a9f... | Fireflies - Charttraxx Karaoke |\n",
       "| c66c10a9567f0d82ff31441a9f... | Love Is A Losing Game - Am...  |\n",
       "| c66c10a9567f0d82ff31441a9f... |        Marry Me - Train        |\n",
       "| c66c10a9567f0d82ff31441a9f... |     Secrets - OneRepublic      |\n",
       "| c66c10a9567f0d82ff31441a9f... |    Sehr kosmisch - Harmonia    |\n",
       "| c66c10a9567f0d82ff31441a9f... | Te Hacen Falta Vitaminas -...  |\n",
       "| c66c10a9567f0d82ff31441a9f... | OMG - Usher featuring will...  |\n",
       "| c66c10a9567f0d82ff31441a9f... | Y solo se me ocurre amarte...  |\n",
       "| c66c10a9567f0d82ff31441a9f... |   No Dejes Que... - Caifanes   |\n",
       "+-------------------------------+--------------------------------+\n",
       "+----------------------+------+\n",
       "|        score         | rank |\n",
       "+----------------------+------+\n",
       "| 0.019450453611520622 |  1   |\n",
       "| 0.014473731701190654 |  2   |\n",
       "| 0.014286596041459303 |  3   |\n",
       "| 0.014133471709031325 |  4   |\n",
       "| 0.013591665488023024 |  5   |\n",
       "| 0.013398789442502536 |  6   |\n",
       "| 0.01293028317964994  |  7   |\n",
       "| 0.012777828253232516 |  8   |\n",
       "| 0.012341127945826603 |  9   |\n",
       "| 0.012104249917543851 |  10  |\n",
       "+----------------------+------+\n",
       "[10 rows x 4 columns]"
      ]
     },
     "execution_count": 19,
     "metadata": {},
     "output_type": "execute_result"
    }
   ],
   "source": [
    "personalized_model.recommend(users=[users[0]])"
   ]
  },
  {
   "cell_type": "markdown",
   "id": "cloudy-carnival",
   "metadata": {
    "papermill": {
     "duration": 0.214462,
     "end_time": "2021-06-18T18:55:26.198325",
     "exception": false,
     "start_time": "2021-06-18T18:55:25.983863",
     "status": "completed"
    },
    "tags": []
   },
   "source": [
    "## Predicting for User 2"
   ]
  },
  {
   "cell_type": "code",
   "execution_count": 20,
   "id": "leading-evening",
   "metadata": {
    "execution": {
     "iopub.execute_input": "2021-06-18T18:55:26.635387Z",
     "iopub.status.busy": "2021-06-18T18:55:26.634428Z",
     "iopub.status.idle": "2021-06-18T18:55:26.664169Z",
     "shell.execute_reply": "2021-06-18T18:55:26.664760Z",
     "shell.execute_reply.started": "2021-06-15T10:41:39.714581Z"
    },
    "papermill": {
     "duration": 0.250797,
     "end_time": "2021-06-18T18:55:26.664958",
     "exception": false,
     "start_time": "2021-06-18T18:55:26.414161",
     "status": "completed"
    },
    "tags": []
   },
   "outputs": [
    {
     "data": {
      "text/html": [
       "<div style=\"max-height:1000px;max-width:1500px;overflow:auto;\"><table frame=\"box\" rules=\"cols\">\n",
       "    <thead>\n",
       "        <tr>\n",
       "            <th style=\"padding-left: 1em; padding-right: 1em; text-align: center\">user_id</th>\n",
       "            <th style=\"padding-left: 1em; padding-right: 1em; text-align: center\">song</th>\n",
       "            <th style=\"padding-left: 1em; padding-right: 1em; text-align: center\">score</th>\n",
       "            <th style=\"padding-left: 1em; padding-right: 1em; text-align: center\">rank</th>\n",
       "        </tr>\n",
       "    </thead>\n",
       "    <tbody>\n",
       "        <tr>\n",
       "            <td style=\"padding-left: 1em; padding-right: 1em; text-align: center; vertical-align: top\">279292bb36dbfc7f505e36ebf<br>038c81eb1d1d63e ...</td>\n",
       "            <td style=\"padding-left: 1em; padding-right: 1em; text-align: center; vertical-align: top\">Riot In Cell Block Number<br>Nine - Dr Feelgood ...</td>\n",
       "            <td style=\"padding-left: 1em; padding-right: 1em; text-align: center; vertical-align: top\">0.03749999403953552</td>\n",
       "            <td style=\"padding-left: 1em; padding-right: 1em; text-align: center; vertical-align: top\">1</td>\n",
       "        </tr>\n",
       "        <tr>\n",
       "            <td style=\"padding-left: 1em; padding-right: 1em; text-align: center; vertical-align: top\">279292bb36dbfc7f505e36ebf<br>038c81eb1d1d63e ...</td>\n",
       "            <td style=\"padding-left: 1em; padding-right: 1em; text-align: center; vertical-align: top\">Sei Lá Mangueira -<br>Elizeth Cardoso ...</td>\n",
       "            <td style=\"padding-left: 1em; padding-right: 1em; text-align: center; vertical-align: top\">0.03316326439380646</td>\n",
       "            <td style=\"padding-left: 1em; padding-right: 1em; text-align: center; vertical-align: top\">2</td>\n",
       "        </tr>\n",
       "        <tr>\n",
       "            <td style=\"padding-left: 1em; padding-right: 1em; text-align: center; vertical-align: top\">279292bb36dbfc7f505e36ebf<br>038c81eb1d1d63e ...</td>\n",
       "            <td style=\"padding-left: 1em; padding-right: 1em; text-align: center; vertical-align: top\">The Stallion - Ween</td>\n",
       "            <td style=\"padding-left: 1em; padding-right: 1em; text-align: center; vertical-align: top\">0.032258063554763794</td>\n",
       "            <td style=\"padding-left: 1em; padding-right: 1em; text-align: center; vertical-align: top\">3</td>\n",
       "        </tr>\n",
       "        <tr>\n",
       "            <td style=\"padding-left: 1em; padding-right: 1em; text-align: center; vertical-align: top\">279292bb36dbfc7f505e36ebf<br>038c81eb1d1d63e ...</td>\n",
       "            <td style=\"padding-left: 1em; padding-right: 1em; text-align: center; vertical-align: top\">Rain - Subhumans</td>\n",
       "            <td style=\"padding-left: 1em; padding-right: 1em; text-align: center; vertical-align: top\">0.031415924429893494</td>\n",
       "            <td style=\"padding-left: 1em; padding-right: 1em; text-align: center; vertical-align: top\">4</td>\n",
       "        </tr>\n",
       "        <tr>\n",
       "            <td style=\"padding-left: 1em; padding-right: 1em; text-align: center; vertical-align: top\">279292bb36dbfc7f505e36ebf<br>038c81eb1d1d63e ...</td>\n",
       "            <td style=\"padding-left: 1em; padding-right: 1em; text-align: center; vertical-align: top\">West One (Shine On Me) -<br>The Ruts ...</td>\n",
       "            <td style=\"padding-left: 1em; padding-right: 1em; text-align: center; vertical-align: top\">0.030677199363708496</td>\n",
       "            <td style=\"padding-left: 1em; padding-right: 1em; text-align: center; vertical-align: top\">5</td>\n",
       "        </tr>\n",
       "        <tr>\n",
       "            <td style=\"padding-left: 1em; padding-right: 1em; text-align: center; vertical-align: top\">279292bb36dbfc7f505e36ebf<br>038c81eb1d1d63e ...</td>\n",
       "            <td style=\"padding-left: 1em; padding-right: 1em; text-align: center; vertical-align: top\">Back Against The Wall -<br>Cage The Elephant ...</td>\n",
       "            <td style=\"padding-left: 1em; padding-right: 1em; text-align: center; vertical-align: top\">0.030120477080345154</td>\n",
       "            <td style=\"padding-left: 1em; padding-right: 1em; text-align: center; vertical-align: top\">6</td>\n",
       "        </tr>\n",
       "        <tr>\n",
       "            <td style=\"padding-left: 1em; padding-right: 1em; text-align: center; vertical-align: top\">279292bb36dbfc7f505e36ebf<br>038c81eb1d1d63e ...</td>\n",
       "            <td style=\"padding-left: 1em; padding-right: 1em; text-align: center; vertical-align: top\">Life Less Frightening -<br>Rise Against ...</td>\n",
       "            <td style=\"padding-left: 1em; padding-right: 1em; text-align: center; vertical-align: top\">0.0284431129693985</td>\n",
       "            <td style=\"padding-left: 1em; padding-right: 1em; text-align: center; vertical-align: top\">7</td>\n",
       "        </tr>\n",
       "        <tr>\n",
       "            <td style=\"padding-left: 1em; padding-right: 1em; text-align: center; vertical-align: top\">279292bb36dbfc7f505e36ebf<br>038c81eb1d1d63e ...</td>\n",
       "            <td style=\"padding-left: 1em; padding-right: 1em; text-align: center; vertical-align: top\">A Beggar On A Beach Of<br>Gold - Mike And The ...</td>\n",
       "            <td style=\"padding-left: 1em; padding-right: 1em; text-align: center; vertical-align: top\">0.023002490401268005</td>\n",
       "            <td style=\"padding-left: 1em; padding-right: 1em; text-align: center; vertical-align: top\">8</td>\n",
       "        </tr>\n",
       "        <tr>\n",
       "            <td style=\"padding-left: 1em; padding-right: 1em; text-align: center; vertical-align: top\">279292bb36dbfc7f505e36ebf<br>038c81eb1d1d63e ...</td>\n",
       "            <td style=\"padding-left: 1em; padding-right: 1em; text-align: center; vertical-align: top\">Audience Of One - Rise<br>Against ...</td>\n",
       "            <td style=\"padding-left: 1em; padding-right: 1em; text-align: center; vertical-align: top\">0.01939384639263153</td>\n",
       "            <td style=\"padding-left: 1em; padding-right: 1em; text-align: center; vertical-align: top\">9</td>\n",
       "        </tr>\n",
       "        <tr>\n",
       "            <td style=\"padding-left: 1em; padding-right: 1em; text-align: center; vertical-align: top\">279292bb36dbfc7f505e36ebf<br>038c81eb1d1d63e ...</td>\n",
       "            <td style=\"padding-left: 1em; padding-right: 1em; text-align: center; vertical-align: top\">Blame It On The Boogie -<br>The Jacksons ...</td>\n",
       "            <td style=\"padding-left: 1em; padding-right: 1em; text-align: center; vertical-align: top\">0.018987342715263367</td>\n",
       "            <td style=\"padding-left: 1em; padding-right: 1em; text-align: center; vertical-align: top\">10</td>\n",
       "        </tr>\n",
       "    </tbody>\n",
       "</table>\n",
       "[10 rows x 4 columns]<br/>\n",
       "</div>"
      ],
      "text/plain": [
       "Columns:\n",
       "\tuser_id\tstr\n",
       "\tsong\tstr\n",
       "\tscore\tfloat\n",
       "\trank\tint\n",
       "\n",
       "Rows: 10\n",
       "\n",
       "Data:\n",
       "+-------------------------------+--------------------------------+\n",
       "|            user_id            |              song              |\n",
       "+-------------------------------+--------------------------------+\n",
       "| 279292bb36dbfc7f505e36ebf0... | Riot In Cell Block Number ...  |\n",
       "| 279292bb36dbfc7f505e36ebf0... | Sei Lá Mangueira - Elizeth...  |\n",
       "| 279292bb36dbfc7f505e36ebf0... |      The Stallion - Ween       |\n",
       "| 279292bb36dbfc7f505e36ebf0... |        Rain - Subhumans        |\n",
       "| 279292bb36dbfc7f505e36ebf0... | West One (Shine On Me) - T...  |\n",
       "| 279292bb36dbfc7f505e36ebf0... | Back Against The Wall - Ca...  |\n",
       "| 279292bb36dbfc7f505e36ebf0... | Life Less Frightening - Ri...  |\n",
       "| 279292bb36dbfc7f505e36ebf0... | A Beggar On A Beach Of Gol...  |\n",
       "| 279292bb36dbfc7f505e36ebf0... | Audience Of One - Rise Against |\n",
       "| 279292bb36dbfc7f505e36ebf0... | Blame It On The Boogie - T...  |\n",
       "+-------------------------------+--------------------------------+\n",
       "+----------------------+------+\n",
       "|        score         | rank |\n",
       "+----------------------+------+\n",
       "| 0.03749999403953552  |  1   |\n",
       "| 0.03316326439380646  |  2   |\n",
       "| 0.032258063554763794 |  3   |\n",
       "| 0.031415924429893494 |  4   |\n",
       "| 0.030677199363708496 |  5   |\n",
       "| 0.030120477080345154 |  6   |\n",
       "|  0.0284431129693985  |  7   |\n",
       "| 0.023002490401268005 |  8   |\n",
       "| 0.01939384639263153  |  9   |\n",
       "| 0.018987342715263367 |  10  |\n",
       "+----------------------+------+\n",
       "[10 rows x 4 columns]"
      ]
     },
     "execution_count": 20,
     "metadata": {},
     "output_type": "execute_result"
    }
   ],
   "source": [
    "personalized_model.recommend(users=[users[1]])"
   ]
  },
  {
   "cell_type": "markdown",
   "id": "systematic-airline",
   "metadata": {
    "papermill": {
     "duration": 0.212498,
     "end_time": "2021-06-18T18:55:27.090580",
     "exception": false,
     "start_time": "2021-06-18T18:55:26.878082",
     "status": "completed"
    },
    "tags": []
   },
   "source": [
    "<div style=\"color:white;\n",
    "           display:fill;\n",
    "           border-radius:5px;\n",
    "           font-size:110%;\n",
    "           font-family:cursive;\n",
    "           letter-spacing:0.5px;\n",
    "           background-color:pink;\n",
    "           color:Black;\n",
    "            padding:5px 5px 5px 5px;\n",
    "           font-family:cursive\n",
    "           \">\n",
    "<h1 style=\"text-align:center;font-weight: bold\">Finding Similar Songs using our freshly created Recommender🤩.</h1>\n",
    "</div>\n"
   ]
  },
  {
   "cell_type": "code",
   "execution_count": 21,
   "id": "formal-julian",
   "metadata": {
    "execution": {
     "iopub.execute_input": "2021-06-18T18:55:27.528022Z",
     "iopub.status.busy": "2021-06-18T18:55:27.527071Z",
     "iopub.status.idle": "2021-06-18T18:55:27.551892Z",
     "shell.execute_reply": "2021-06-18T18:55:27.551351Z",
     "shell.execute_reply.started": "2021-06-15T10:41:44.344889Z"
    },
    "papermill": {
     "duration": 0.245494,
     "end_time": "2021-06-18T18:55:27.552050",
     "exception": false,
     "start_time": "2021-06-18T18:55:27.306556",
     "status": "completed"
    },
    "tags": []
   },
   "outputs": [
    {
     "data": {
      "text/html": [
       "<div style=\"max-height:1000px;max-width:1500px;overflow:auto;\"><table frame=\"box\" rules=\"cols\">\n",
       "    <thead>\n",
       "        <tr>\n",
       "            <th style=\"padding-left: 1em; padding-right: 1em; text-align: center\">song</th>\n",
       "            <th style=\"padding-left: 1em; padding-right: 1em; text-align: center\">similar</th>\n",
       "            <th style=\"padding-left: 1em; padding-right: 1em; text-align: center\">score</th>\n",
       "            <th style=\"padding-left: 1em; padding-right: 1em; text-align: center\">rank</th>\n",
       "        </tr>\n",
       "    </thead>\n",
       "    <tbody>\n",
       "        <tr>\n",
       "            <td style=\"padding-left: 1em; padding-right: 1em; text-align: center; vertical-align: top\">Secrets - OneRepublic</td>\n",
       "            <td style=\"padding-left: 1em; padding-right: 1em; text-align: center; vertical-align: top\">Dog Days Are Over (Radio<br>Edit) - Florence + The ...</td>\n",
       "            <td style=\"padding-left: 1em; padding-right: 1em; text-align: center; vertical-align: top\">0.18115311861038208</td>\n",
       "            <td style=\"padding-left: 1em; padding-right: 1em; text-align: center; vertical-align: top\">1</td>\n",
       "        </tr>\n",
       "        <tr>\n",
       "            <td style=\"padding-left: 1em; padding-right: 1em; text-align: center; vertical-align: top\">Secrets - OneRepublic</td>\n",
       "            <td style=\"padding-left: 1em; padding-right: 1em; text-align: center; vertical-align: top\">Sehr kosmisch - Harmonia</td>\n",
       "            <td style=\"padding-left: 1em; padding-right: 1em; text-align: center; vertical-align: top\">0.18081289529800415</td>\n",
       "            <td style=\"padding-left: 1em; padding-right: 1em; text-align: center; vertical-align: top\">2</td>\n",
       "        </tr>\n",
       "        <tr>\n",
       "            <td style=\"padding-left: 1em; padding-right: 1em; text-align: center; vertical-align: top\">Secrets - OneRepublic</td>\n",
       "            <td style=\"padding-left: 1em; padding-right: 1em; text-align: center; vertical-align: top\">Fireflies - Charttraxx<br>Karaoke ...</td>\n",
       "            <td style=\"padding-left: 1em; padding-right: 1em; text-align: center; vertical-align: top\">0.16131669282913208</td>\n",
       "            <td style=\"padding-left: 1em; padding-right: 1em; text-align: center; vertical-align: top\">3</td>\n",
       "        </tr>\n",
       "        <tr>\n",
       "            <td style=\"padding-left: 1em; padding-right: 1em; text-align: center; vertical-align: top\">Secrets - OneRepublic</td>\n",
       "            <td style=\"padding-left: 1em; padding-right: 1em; text-align: center; vertical-align: top\">Marry Me - Train</td>\n",
       "            <td style=\"padding-left: 1em; padding-right: 1em; text-align: center; vertical-align: top\">0.15611225366592407</td>\n",
       "            <td style=\"padding-left: 1em; padding-right: 1em; text-align: center; vertical-align: top\">4</td>\n",
       "        </tr>\n",
       "        <tr>\n",
       "            <td style=\"padding-left: 1em; padding-right: 1em; text-align: center; vertical-align: top\">Secrets - OneRepublic</td>\n",
       "            <td style=\"padding-left: 1em; padding-right: 1em; text-align: center; vertical-align: top\">Hey_ Soul Sister - Train</td>\n",
       "            <td style=\"padding-left: 1em; padding-right: 1em; text-align: center; vertical-align: top\">0.14337420463562012</td>\n",
       "            <td style=\"padding-left: 1em; padding-right: 1em; text-align: center; vertical-align: top\">5</td>\n",
       "        </tr>\n",
       "        <tr>\n",
       "            <td style=\"padding-left: 1em; padding-right: 1em; text-align: center; vertical-align: top\">Secrets - OneRepublic</td>\n",
       "            <td style=\"padding-left: 1em; padding-right: 1em; text-align: center; vertical-align: top\">OMG - Usher featuring<br>will.i.am ...</td>\n",
       "            <td style=\"padding-left: 1em; padding-right: 1em; text-align: center; vertical-align: top\">0.1194995641708374</td>\n",
       "            <td style=\"padding-left: 1em; padding-right: 1em; text-align: center; vertical-align: top\">6</td>\n",
       "        </tr>\n",
       "        <tr>\n",
       "            <td style=\"padding-left: 1em; padding-right: 1em; text-align: center; vertical-align: top\">Secrets - OneRepublic</td>\n",
       "            <td style=\"padding-left: 1em; padding-right: 1em; text-align: center; vertical-align: top\">Drop The World - Lil<br>Wayne / Eminem ...</td>\n",
       "            <td style=\"padding-left: 1em; padding-right: 1em; text-align: center; vertical-align: top\">0.11132478713989258</td>\n",
       "            <td style=\"padding-left: 1em; padding-right: 1em; text-align: center; vertical-align: top\">7</td>\n",
       "        </tr>\n",
       "        <tr>\n",
       "            <td style=\"padding-left: 1em; padding-right: 1em; text-align: center; vertical-align: top\">Secrets - OneRepublic</td>\n",
       "            <td style=\"padding-left: 1em; padding-right: 1em; text-align: center; vertical-align: top\">Use Somebody - Kings Of<br>Leon ...</td>\n",
       "            <td style=\"padding-left: 1em; padding-right: 1em; text-align: center; vertical-align: top\">0.10322582721710205</td>\n",
       "            <td style=\"padding-left: 1em; padding-right: 1em; text-align: center; vertical-align: top\">8</td>\n",
       "        </tr>\n",
       "        <tr>\n",
       "            <td style=\"padding-left: 1em; padding-right: 1em; text-align: center; vertical-align: top\">Secrets - OneRepublic</td>\n",
       "            <td style=\"padding-left: 1em; padding-right: 1em; text-align: center; vertical-align: top\">All The Right Moves -<br>OneRepublic ...</td>\n",
       "            <td style=\"padding-left: 1em; padding-right: 1em; text-align: center; vertical-align: top\">0.09876871109008789</td>\n",
       "            <td style=\"padding-left: 1em; padding-right: 1em; text-align: center; vertical-align: top\">9</td>\n",
       "        </tr>\n",
       "        <tr>\n",
       "            <td style=\"padding-left: 1em; padding-right: 1em; text-align: center; vertical-align: top\">Secrets - OneRepublic</td>\n",
       "            <td style=\"padding-left: 1em; padding-right: 1em; text-align: center; vertical-align: top\">The Only Exception (Album<br>Version) - Paramore ...</td>\n",
       "            <td style=\"padding-left: 1em; padding-right: 1em; text-align: center; vertical-align: top\">0.09341615438461304</td>\n",
       "            <td style=\"padding-left: 1em; padding-right: 1em; text-align: center; vertical-align: top\">10</td>\n",
       "        </tr>\n",
       "    </tbody>\n",
       "</table>\n",
       "[10 rows x 4 columns]<br/>\n",
       "</div>"
      ],
      "text/plain": [
       "Columns:\n",
       "\tsong\tstr\n",
       "\tsimilar\tstr\n",
       "\tscore\tfloat\n",
       "\trank\tint\n",
       "\n",
       "Rows: 10\n",
       "\n",
       "Data:\n",
       "+-----------------------+--------------------------------+---------------------+\n",
       "|          song         |            similar             |        score        |\n",
       "+-----------------------+--------------------------------+---------------------+\n",
       "| Secrets - OneRepublic | Dog Days Are Over (Radio E...  | 0.18115311861038208 |\n",
       "| Secrets - OneRepublic |    Sehr kosmisch - Harmonia    | 0.18081289529800415 |\n",
       "| Secrets - OneRepublic | Fireflies - Charttraxx Karaoke | 0.16131669282913208 |\n",
       "| Secrets - OneRepublic |        Marry Me - Train        | 0.15611225366592407 |\n",
       "| Secrets - OneRepublic |    Hey_ Soul Sister - Train    | 0.14337420463562012 |\n",
       "| Secrets - OneRepublic | OMG - Usher featuring will...  |  0.1194995641708374 |\n",
       "| Secrets - OneRepublic | Drop The World - Lil Wayne...  | 0.11132478713989258 |\n",
       "| Secrets - OneRepublic |  Use Somebody - Kings Of Leon  | 0.10322582721710205 |\n",
       "| Secrets - OneRepublic | All The Right Moves - OneR...  | 0.09876871109008789 |\n",
       "| Secrets - OneRepublic | The Only Exception (Album ...  | 0.09341615438461304 |\n",
       "+-----------------------+--------------------------------+---------------------+\n",
       "+------+\n",
       "| rank |\n",
       "+------+\n",
       "|  1   |\n",
       "|  2   |\n",
       "|  3   |\n",
       "|  4   |\n",
       "|  5   |\n",
       "|  6   |\n",
       "|  7   |\n",
       "|  8   |\n",
       "|  9   |\n",
       "|  10  |\n",
       "+------+\n",
       "[10 rows x 4 columns]"
      ]
     },
     "execution_count": 21,
     "metadata": {},
     "output_type": "execute_result"
    }
   ],
   "source": [
    "personalized_model.get_similar_items(['Secrets - OneRepublic'])\n"
   ]
  },
  {
   "cell_type": "code",
   "execution_count": 22,
   "id": "bigger-aquatic",
   "metadata": {
    "execution": {
     "iopub.execute_input": "2021-06-18T18:55:27.992229Z",
     "iopub.status.busy": "2021-06-18T18:55:27.991490Z",
     "iopub.status.idle": "2021-06-18T18:55:28.015636Z",
     "shell.execute_reply": "2021-06-18T18:55:28.016085Z",
     "shell.execute_reply.started": "2021-06-15T10:41:47.128653Z"
    },
    "papermill": {
     "duration": 0.247618,
     "end_time": "2021-06-18T18:55:28.016270",
     "exception": false,
     "start_time": "2021-06-18T18:55:27.768652",
     "status": "completed"
    },
    "tags": []
   },
   "outputs": [
    {
     "data": {
      "text/html": [
       "<div style=\"max-height:1000px;max-width:1500px;overflow:auto;\"><table frame=\"box\" rules=\"cols\">\n",
       "    <thead>\n",
       "        <tr>\n",
       "            <th style=\"padding-left: 1em; padding-right: 1em; text-align: center\">song</th>\n",
       "            <th style=\"padding-left: 1em; padding-right: 1em; text-align: center\">similar</th>\n",
       "            <th style=\"padding-left: 1em; padding-right: 1em; text-align: center\">score</th>\n",
       "            <th style=\"padding-left: 1em; padding-right: 1em; text-align: center\">rank</th>\n",
       "        </tr>\n",
       "    </thead>\n",
       "    <tbody>\n",
       "        <tr>\n",
       "            <td style=\"padding-left: 1em; padding-right: 1em; text-align: center; vertical-align: top\">Love Story - Taylor Swift</td>\n",
       "            <td style=\"padding-left: 1em; padding-right: 1em; text-align: center; vertical-align: top\">You Belong With Me -<br>Taylor Swift ...</td>\n",
       "            <td style=\"padding-left: 1em; padding-right: 1em; text-align: center; vertical-align: top\">0.16121214628219604</td>\n",
       "            <td style=\"padding-left: 1em; padding-right: 1em; text-align: center; vertical-align: top\">1</td>\n",
       "        </tr>\n",
       "        <tr>\n",
       "            <td style=\"padding-left: 1em; padding-right: 1em; text-align: center; vertical-align: top\">Love Story - Taylor Swift</td>\n",
       "            <td style=\"padding-left: 1em; padding-right: 1em; text-align: center; vertical-align: top\">Baker&#x27;s Blue Jay Yarn -<br>Dakota Oak ...</td>\n",
       "            <td style=\"padding-left: 1em; padding-right: 1em; text-align: center; vertical-align: top\">0.09182935953140259</td>\n",
       "            <td style=\"padding-left: 1em; padding-right: 1em; text-align: center; vertical-align: top\">2</td>\n",
       "        </tr>\n",
       "        <tr>\n",
       "            <td style=\"padding-left: 1em; padding-right: 1em; text-align: center; vertical-align: top\">Love Story - Taylor Swift</td>\n",
       "            <td style=\"padding-left: 1em; padding-right: 1em; text-align: center; vertical-align: top\">Fireflies - Charttraxx<br>Karaoke ...</td>\n",
       "            <td style=\"padding-left: 1em; padding-right: 1em; text-align: center; vertical-align: top\">0.08639055490493774</td>\n",
       "            <td style=\"padding-left: 1em; padding-right: 1em; text-align: center; vertical-align: top\">3</td>\n",
       "        </tr>\n",
       "        <tr>\n",
       "            <td style=\"padding-left: 1em; padding-right: 1em; text-align: center; vertical-align: top\">Love Story - Taylor Swift</td>\n",
       "            <td style=\"padding-left: 1em; padding-right: 1em; text-align: center; vertical-align: top\">Hey_ Soul Sister - Train</td>\n",
       "            <td style=\"padding-left: 1em; padding-right: 1em; text-align: center; vertical-align: top\">0.08367705345153809</td>\n",
       "            <td style=\"padding-left: 1em; padding-right: 1em; text-align: center; vertical-align: top\">4</td>\n",
       "        </tr>\n",
       "        <tr>\n",
       "            <td style=\"padding-left: 1em; padding-right: 1em; text-align: center; vertical-align: top\">Love Story - Taylor Swift</td>\n",
       "            <td style=\"padding-left: 1em; padding-right: 1em; text-align: center; vertical-align: top\">The Only Exception (Album<br>Version) - Paramore ...</td>\n",
       "            <td style=\"padding-left: 1em; padding-right: 1em; text-align: center; vertical-align: top\">0.08280545473098755</td>\n",
       "            <td style=\"padding-left: 1em; padding-right: 1em; text-align: center; vertical-align: top\">5</td>\n",
       "        </tr>\n",
       "        <tr>\n",
       "            <td style=\"padding-left: 1em; padding-right: 1em; text-align: center; vertical-align: top\">Love Story - Taylor Swift</td>\n",
       "            <td style=\"padding-left: 1em; padding-right: 1em; text-align: center; vertical-align: top\">Lucky (Album Version) -<br>Jason Mraz &amp; Colbie ...</td>\n",
       "            <td style=\"padding-left: 1em; padding-right: 1em; text-align: center; vertical-align: top\">0.08191126585006714</td>\n",
       "            <td style=\"padding-left: 1em; padding-right: 1em; text-align: center; vertical-align: top\">6</td>\n",
       "        </tr>\n",
       "        <tr>\n",
       "            <td style=\"padding-left: 1em; padding-right: 1em; text-align: center; vertical-align: top\">Love Story - Taylor Swift</td>\n",
       "            <td style=\"padding-left: 1em; padding-right: 1em; text-align: center; vertical-align: top\">Tim McGraw - Taylor Swift</td>\n",
       "            <td style=\"padding-left: 1em; padding-right: 1em; text-align: center; vertical-align: top\">0.07975035905838013</td>\n",
       "            <td style=\"padding-left: 1em; padding-right: 1em; text-align: center; vertical-align: top\">7</td>\n",
       "        </tr>\n",
       "        <tr>\n",
       "            <td style=\"padding-left: 1em; padding-right: 1em; text-align: center; vertical-align: top\">Love Story - Taylor Swift</td>\n",
       "            <td style=\"padding-left: 1em; padding-right: 1em; text-align: center; vertical-align: top\">Rianna - Fisher</td>\n",
       "            <td style=\"padding-left: 1em; padding-right: 1em; text-align: center; vertical-align: top\">0.07897382974624634</td>\n",
       "            <td style=\"padding-left: 1em; padding-right: 1em; text-align: center; vertical-align: top\">8</td>\n",
       "        </tr>\n",
       "        <tr>\n",
       "            <td style=\"padding-left: 1em; padding-right: 1em; text-align: center; vertical-align: top\">Love Story - Taylor Swift</td>\n",
       "            <td style=\"padding-left: 1em; padding-right: 1em; text-align: center; vertical-align: top\">Forever &amp; Always - Taylor<br>Swift ...</td>\n",
       "            <td style=\"padding-left: 1em; padding-right: 1em; text-align: center; vertical-align: top\">0.07751935720443726</td>\n",
       "            <td style=\"padding-left: 1em; padding-right: 1em; text-align: center; vertical-align: top\">9</td>\n",
       "        </tr>\n",
       "        <tr>\n",
       "            <td style=\"padding-left: 1em; padding-right: 1em; text-align: center; vertical-align: top\">Love Story - Taylor Swift</td>\n",
       "            <td style=\"padding-left: 1em; padding-right: 1em; text-align: center; vertical-align: top\">Our Song - Taylor Swift</td>\n",
       "            <td style=\"padding-left: 1em; padding-right: 1em; text-align: center; vertical-align: top\">0.07176393270492554</td>\n",
       "            <td style=\"padding-left: 1em; padding-right: 1em; text-align: center; vertical-align: top\">10</td>\n",
       "        </tr>\n",
       "    </tbody>\n",
       "</table>\n",
       "[10 rows x 4 columns]<br/>\n",
       "</div>"
      ],
      "text/plain": [
       "Columns:\n",
       "\tsong\tstr\n",
       "\tsimilar\tstr\n",
       "\tscore\tfloat\n",
       "\trank\tint\n",
       "\n",
       "Rows: 10\n",
       "\n",
       "Data:\n",
       "+---------------------------+--------------------------------+\n",
       "|            song           |            similar             |\n",
       "+---------------------------+--------------------------------+\n",
       "| Love Story - Taylor Swift | You Belong With Me - Taylo...  |\n",
       "| Love Story - Taylor Swift | Baker's Blue Jay Yarn - Da...  |\n",
       "| Love Story - Taylor Swift | Fireflies - Charttraxx Karaoke |\n",
       "| Love Story - Taylor Swift |    Hey_ Soul Sister - Train    |\n",
       "| Love Story - Taylor Swift | The Only Exception (Album ...  |\n",
       "| Love Story - Taylor Swift | Lucky (Album Version) - Ja...  |\n",
       "| Love Story - Taylor Swift |   Tim McGraw - Taylor Swift    |\n",
       "| Love Story - Taylor Swift |        Rianna - Fisher         |\n",
       "| Love Story - Taylor Swift | Forever & Always - Taylor ...  |\n",
       "| Love Story - Taylor Swift |    Our Song - Taylor Swift     |\n",
       "+---------------------------+--------------------------------+\n",
       "+---------------------+------+\n",
       "|        score        | rank |\n",
       "+---------------------+------+\n",
       "| 0.16121214628219604 |  1   |\n",
       "| 0.09182935953140259 |  2   |\n",
       "| 0.08639055490493774 |  3   |\n",
       "| 0.08367705345153809 |  4   |\n",
       "| 0.08280545473098755 |  5   |\n",
       "| 0.08191126585006714 |  6   |\n",
       "| 0.07975035905838013 |  7   |\n",
       "| 0.07897382974624634 |  8   |\n",
       "| 0.07751935720443726 |  9   |\n",
       "| 0.07176393270492554 |  10  |\n",
       "+---------------------+------+\n",
       "[10 rows x 4 columns]"
      ]
     },
     "execution_count": 22,
     "metadata": {},
     "output_type": "execute_result"
    }
   ],
   "source": [
    "personalized_model.get_similar_items(['Love Story - Taylor Swift'])"
   ]
  },
  {
   "cell_type": "code",
   "execution_count": 23,
   "id": "waiting-burst",
   "metadata": {
    "execution": {
     "iopub.execute_input": "2021-06-18T18:55:28.457680Z",
     "iopub.status.busy": "2021-06-18T18:55:28.456963Z",
     "iopub.status.idle": "2021-06-18T18:55:28.484034Z",
     "shell.execute_reply": "2021-06-18T18:55:28.484557Z",
     "shell.execute_reply.started": "2021-06-15T10:41:50.39171Z"
    },
    "papermill": {
     "duration": 0.251192,
     "end_time": "2021-06-18T18:55:28.484743",
     "exception": false,
     "start_time": "2021-06-18T18:55:28.233551",
     "status": "completed"
    },
    "tags": []
   },
   "outputs": [
    {
     "data": {
      "text/html": [
       "<div style=\"max-height:1000px;max-width:1500px;overflow:auto;\"><table frame=\"box\" rules=\"cols\">\n",
       "    <thead>\n",
       "        <tr>\n",
       "            <th style=\"padding-left: 1em; padding-right: 1em; text-align: center\">song</th>\n",
       "            <th style=\"padding-left: 1em; padding-right: 1em; text-align: center\">similar</th>\n",
       "            <th style=\"padding-left: 1em; padding-right: 1em; text-align: center\">score</th>\n",
       "            <th style=\"padding-left: 1em; padding-right: 1em; text-align: center\">rank</th>\n",
       "        </tr>\n",
       "    </thead>\n",
       "    <tbody>\n",
       "        <tr>\n",
       "            <td style=\"padding-left: 1em; padding-right: 1em; text-align: center; vertical-align: top\">Halo - Beyoncé</td>\n",
       "            <td style=\"padding-left: 1em; padding-right: 1em; text-align: center; vertical-align: top\">Lucky (Album Version) -<br>Jason Mraz &amp; Colbie ...</td>\n",
       "            <td style=\"padding-left: 1em; padding-right: 1em; text-align: center; vertical-align: top\">0.05900216102600098</td>\n",
       "            <td style=\"padding-left: 1em; padding-right: 1em; text-align: center; vertical-align: top\">1</td>\n",
       "        </tr>\n",
       "        <tr>\n",
       "            <td style=\"padding-left: 1em; padding-right: 1em; text-align: center; vertical-align: top\">Halo - Beyoncé</td>\n",
       "            <td style=\"padding-left: 1em; padding-right: 1em; text-align: center; vertical-align: top\">Alejandro - Lady GaGa</td>\n",
       "            <td style=\"padding-left: 1em; padding-right: 1em; text-align: center; vertical-align: top\">0.05459892749786377</td>\n",
       "            <td style=\"padding-left: 1em; padding-right: 1em; text-align: center; vertical-align: top\">2</td>\n",
       "        </tr>\n",
       "        <tr>\n",
       "            <td style=\"padding-left: 1em; padding-right: 1em; text-align: center; vertical-align: top\">Halo - Beyoncé</td>\n",
       "            <td style=\"padding-left: 1em; padding-right: 1em; text-align: center; vertical-align: top\">Hey_ Soul Sister - Train</td>\n",
       "            <td style=\"padding-left: 1em; padding-right: 1em; text-align: center; vertical-align: top\">0.05382353067398071</td>\n",
       "            <td style=\"padding-left: 1em; padding-right: 1em; text-align: center; vertical-align: top\">3</td>\n",
       "        </tr>\n",
       "        <tr>\n",
       "            <td style=\"padding-left: 1em; padding-right: 1em; text-align: center; vertical-align: top\">Halo - Beyoncé</td>\n",
       "            <td style=\"padding-left: 1em; padding-right: 1em; text-align: center; vertical-align: top\">Sehr kosmisch - Harmonia</td>\n",
       "            <td style=\"padding-left: 1em; padding-right: 1em; text-align: center; vertical-align: top\">0.05359739065170288</td>\n",
       "            <td style=\"padding-left: 1em; padding-right: 1em; text-align: center; vertical-align: top\">4</td>\n",
       "        </tr>\n",
       "        <tr>\n",
       "            <td style=\"padding-left: 1em; padding-right: 1em; text-align: center; vertical-align: top\">Halo - Beyoncé</td>\n",
       "            <td style=\"padding-left: 1em; padding-right: 1em; text-align: center; vertical-align: top\">Love Story - Taylor Swift</td>\n",
       "            <td style=\"padding-left: 1em; padding-right: 1em; text-align: center; vertical-align: top\">0.05351978540420532</td>\n",
       "            <td style=\"padding-left: 1em; padding-right: 1em; text-align: center; vertical-align: top\">5</td>\n",
       "        </tr>\n",
       "        <tr>\n",
       "            <td style=\"padding-left: 1em; padding-right: 1em; text-align: center; vertical-align: top\">Halo - Beyoncé</td>\n",
       "            <td style=\"padding-left: 1em; padding-right: 1em; text-align: center; vertical-align: top\">Billionaire [feat. Bruno<br>Mars]  (Explicit Album ...</td>\n",
       "            <td style=\"padding-left: 1em; padding-right: 1em; text-align: center; vertical-align: top\">0.05334937572479248</td>\n",
       "            <td style=\"padding-left: 1em; padding-right: 1em; text-align: center; vertical-align: top\">6</td>\n",
       "        </tr>\n",
       "        <tr>\n",
       "            <td style=\"padding-left: 1em; padding-right: 1em; text-align: center; vertical-align: top\">Halo - Beyoncé</td>\n",
       "            <td style=\"padding-left: 1em; padding-right: 1em; text-align: center; vertical-align: top\">I Gotta Feeling - Black<br>Eyed Peas ...</td>\n",
       "            <td style=\"padding-left: 1em; padding-right: 1em; text-align: center; vertical-align: top\">0.05263155698776245</td>\n",
       "            <td style=\"padding-left: 1em; padding-right: 1em; text-align: center; vertical-align: top\">7</td>\n",
       "        </tr>\n",
       "        <tr>\n",
       "            <td style=\"padding-left: 1em; padding-right: 1em; text-align: center; vertical-align: top\">Halo - Beyoncé</td>\n",
       "            <td style=\"padding-left: 1em; padding-right: 1em; text-align: center; vertical-align: top\">Just Dance - Lady GaGa /<br>Colby O&#x27;Donis ...</td>\n",
       "            <td style=\"padding-left: 1em; padding-right: 1em; text-align: center; vertical-align: top\">0.05263155698776245</td>\n",
       "            <td style=\"padding-left: 1em; padding-right: 1em; text-align: center; vertical-align: top\">8</td>\n",
       "        </tr>\n",
       "        <tr>\n",
       "            <td style=\"padding-left: 1em; padding-right: 1em; text-align: center; vertical-align: top\">Halo - Beyoncé</td>\n",
       "            <td style=\"padding-left: 1em; padding-right: 1em; text-align: center; vertical-align: top\">Take A Bow - Rihanna</td>\n",
       "            <td style=\"padding-left: 1em; padding-right: 1em; text-align: center; vertical-align: top\">0.05144292116165161</td>\n",
       "            <td style=\"padding-left: 1em; padding-right: 1em; text-align: center; vertical-align: top\">9</td>\n",
       "        </tr>\n",
       "        <tr>\n",
       "            <td style=\"padding-left: 1em; padding-right: 1em; text-align: center; vertical-align: top\">Halo - Beyoncé</td>\n",
       "            <td style=\"padding-left: 1em; padding-right: 1em; text-align: center; vertical-align: top\">Fireflies - Charttraxx<br>Karaoke ...</td>\n",
       "            <td style=\"padding-left: 1em; padding-right: 1em; text-align: center; vertical-align: top\">0.05144035816192627</td>\n",
       "            <td style=\"padding-left: 1em; padding-right: 1em; text-align: center; vertical-align: top\">10</td>\n",
       "        </tr>\n",
       "    </tbody>\n",
       "</table>\n",
       "[10 rows x 4 columns]<br/>\n",
       "</div>"
      ],
      "text/plain": [
       "Columns:\n",
       "\tsong\tstr\n",
       "\tsimilar\tstr\n",
       "\tscore\tfloat\n",
       "\trank\tint\n",
       "\n",
       "Rows: 10\n",
       "\n",
       "Data:\n",
       "+----------------+--------------------------------+---------------------+------+\n",
       "|      song      |            similar             |        score        | rank |\n",
       "+----------------+--------------------------------+---------------------+------+\n",
       "| Halo - Beyoncé | Lucky (Album Version) - Ja...  | 0.05900216102600098 |  1   |\n",
       "| Halo - Beyoncé |     Alejandro - Lady GaGa      | 0.05459892749786377 |  2   |\n",
       "| Halo - Beyoncé |    Hey_ Soul Sister - Train    | 0.05382353067398071 |  3   |\n",
       "| Halo - Beyoncé |    Sehr kosmisch - Harmonia    | 0.05359739065170288 |  4   |\n",
       "| Halo - Beyoncé |   Love Story - Taylor Swift    | 0.05351978540420532 |  5   |\n",
       "| Halo - Beyoncé | Billionaire [feat. Bruno M...  | 0.05334937572479248 |  6   |\n",
       "| Halo - Beyoncé | I Gotta Feeling - Black Ey...  | 0.05263155698776245 |  7   |\n",
       "| Halo - Beyoncé | Just Dance - Lady GaGa / C...  | 0.05263155698776245 |  8   |\n",
       "| Halo - Beyoncé |      Take A Bow - Rihanna      | 0.05144292116165161 |  9   |\n",
       "| Halo - Beyoncé | Fireflies - Charttraxx Karaoke | 0.05144035816192627 |  10  |\n",
       "+----------------+--------------------------------+---------------------+------+\n",
       "[10 rows x 4 columns]"
      ]
     },
     "execution_count": 23,
     "metadata": {},
     "output_type": "execute_result"
    }
   ],
   "source": [
    "personalized_model.get_similar_items(['Halo - Beyoncé'])\n"
   ]
  },
  {
   "cell_type": "markdown",
   "id": "typical-plastic",
   "metadata": {
    "papermill": {
     "duration": 0.216348,
     "end_time": "2021-06-18T18:55:28.918789",
     "exception": false,
     "start_time": "2021-06-18T18:55:28.702441",
     "status": "completed"
    },
    "tags": []
   },
   "source": [
    "<div style=\"color:white;\n",
    "           display:fill;\n",
    "           border-radius:5px;\n",
    "           font-size:110%;\n",
    "           font-family:cursive;\n",
    "           letter-spacing:0.5px;\n",
    "           background-color:pink;\n",
    "           color:Black;\n",
    "            padding:5px 5px 5px 5px;\n",
    "           font-family:cursive\n",
    "           \">\n",
    "<h1 style=\"text-align:center;font-weight: bold\">Time for some evaluation 🤞.</h1>\n",
    "    <h3 style=\"text-align:center;font-weight: bold\">We now formally compare the popularity and the personalized models using precision-recall curves. </h3>\n",
    "</div>\n"
   ]
  },
  {
   "cell_type": "code",
   "execution_count": 24,
   "id": "celtic-backing",
   "metadata": {
    "execution": {
     "iopub.execute_input": "2021-06-18T18:55:29.356982Z",
     "iopub.status.busy": "2021-06-18T18:55:29.356275Z",
     "iopub.status.idle": "2021-06-18T18:55:32.116444Z",
     "shell.execute_reply": "2021-06-18T18:55:32.116915Z",
     "shell.execute_reply.started": "2021-06-15T10:41:59.539022Z"
    },
    "papermill": {
     "duration": 2.981184,
     "end_time": "2021-06-18T18:55:32.117120",
     "exception": false,
     "start_time": "2021-06-18T18:55:29.135936",
     "status": "completed"
    },
    "tags": []
   },
   "outputs": [
    {
     "name": "stdout",
     "output_type": "stream",
     "text": [
      "compare_models: using 2931 users to estimate model performance\n",
      "PROGRESS: Evaluate model M0\n"
     ]
    },
    {
     "data": {
      "text/html": [
       "<pre>recommendations finished on 1000/2931 queries. users per second: 13650.4</pre>"
      ],
      "text/plain": [
       "recommendations finished on 1000/2931 queries. users per second: 13650.4"
      ]
     },
     "metadata": {},
     "output_type": "display_data"
    },
    {
     "data": {
      "text/html": [
       "<pre>recommendations finished on 2000/2931 queries. users per second: 14638.4</pre>"
      ],
      "text/plain": [
       "recommendations finished on 2000/2931 queries. users per second: 14638.4"
      ]
     },
     "metadata": {},
     "output_type": "display_data"
    },
    {
     "name": "stdout",
     "output_type": "stream",
     "text": [
      "\n",
      "Precision and recall summary statistics by cutoff\n",
      "+--------+----------------------+----------------------+\n",
      "| cutoff |    mean_precision    |     mean_recall      |\n",
      "+--------+----------------------+----------------------+\n",
      "|   1    | 0.023882633913340143 | 0.005856223934524855 |\n",
      "|   2    | 0.021323780279767994 | 0.010331522319751579 |\n",
      "|   3    | 0.020925736381212354 | 0.015384784384272609 |\n",
      "|   4    | 0.020044353462981907 | 0.02021696838738807  |\n",
      "|   5    | 0.01903787103377685  | 0.02584908646832906  |\n",
      "|   6    | 0.018082565677243253 | 0.029059918530235863 |\n",
      "|   7    | 0.01754642491592338  | 0.03308259890910865  |\n",
      "|   8    | 0.016632548618219035 | 0.03550592807245832  |\n",
      "|   9    | 0.016111300655824716 | 0.03881715113803144  |\n",
      "|   10   | 0.015626066189014024 | 0.04261008855430558  |\n",
      "+--------+----------------------+----------------------+\n",
      "[10 rows x 3 columns]\n",
      "\n",
      "PROGRESS: Evaluate model M1\n"
     ]
    },
    {
     "data": {
      "text/html": [
       "<pre>recommendations finished on 1000/2931 queries. users per second: 11222.2</pre>"
      ],
      "text/plain": [
       "recommendations finished on 1000/2931 queries. users per second: 11222.2"
      ]
     },
     "metadata": {},
     "output_type": "display_data"
    },
    {
     "data": {
      "text/html": [
       "<pre>recommendations finished on 2000/2931 queries. users per second: 12607.2</pre>"
      ],
      "text/plain": [
       "recommendations finished on 2000/2931 queries. users per second: 12607.2"
      ]
     },
     "metadata": {},
     "output_type": "display_data"
    },
    {
     "name": "stdout",
     "output_type": "stream",
     "text": [
      "\n",
      "Precision and recall summary statistics by cutoff\n",
      "+--------+----------------------+----------------------+\n",
      "| cutoff |    mean_precision    |     mean_recall      |\n",
      "+--------+----------------------+----------------------+\n",
      "|   1    |  0.0593654042988741  | 0.017466957818574408 |\n",
      "|   2    | 0.052541794609348345 | 0.028735525484276145 |\n",
      "|   3    | 0.045831911747981326 | 0.03739376562921024  |\n",
      "|   4    | 0.04145342886386895  | 0.04417757850309481  |\n",
      "|   5    | 0.03787103377686803  | 0.05055189209187041  |\n",
      "|   6    | 0.03485727283066079  | 0.055821078911722534 |\n",
      "|   7    | 0.032265925817614616 |  0.0596003680671632  |\n",
      "|   8    | 0.030109177755032412 | 0.06376330301310737  |\n",
      "|   9    | 0.028052617612494862 | 0.06609727917001076  |\n",
      "|   10   | 0.026646195837598082 | 0.07020622700976713  |\n",
      "+--------+----------------------+----------------------+\n",
      "[10 rows x 3 columns]\n",
      "\n"
     ]
    }
   ],
   "source": [
    "model_performance = tc.recommender.util.compare_models(test_data,[popularity_model,personalized_model],user_sample=0.05)"
   ]
  },
  {
   "cell_type": "markdown",
   "id": "brutal-strand",
   "metadata": {
    "papermill": {
     "duration": 0.219828,
     "end_time": "2021-06-18T18:55:32.555949",
     "exception": false,
     "start_time": "2021-06-18T18:55:32.336121",
     "status": "completed"
    },
    "tags": []
   },
   "source": [
    "<div style=\"color:white;\n",
    "           display:fill;\n",
    "           border-radius:5px;\n",
    "           font-size:110%;\n",
    "           font-family:cursive;\n",
    "           letter-spacing:0.5px;\n",
    "           background-color:pink;\n",
    "           color:Black;\n",
    "            padding:5px 5px 5px 5px;\n",
    "           font-family:cursive\n",
    "           \">\n",
    "<h1 style=\"text-align:left;font-weight: bold\">Inference</h1>\n",
    "    <h4 style=\"text-align:left;font-weight: bold\">From this we can conclude that both of our Population Based Recommender and Personalized Recommender did well on recommending songs.</h4>\n",
    "        <h4 style=\"text-align:left;font-weight: bold\">But, The table shows that the Personalized Recommender provides much better performance.</h4>\n",
    "    <h4 style=\"text-align:left;font-weight: bold\">So the winner is Personalized Recommender</h4>\n",
    "</div>\n"
   ]
  },
  {
   "cell_type": "markdown",
   "id": "printable-invention",
   "metadata": {
    "papermill": {
     "duration": 0.220304,
     "end_time": "2021-06-18T18:55:33.026646",
     "exception": false,
     "start_time": "2021-06-18T18:55:32.806342",
     "status": "completed"
    },
    "tags": []
   },
   "source": [
    "<div style=\"color:white;\n",
    "           display:fill;\n",
    "           border-radius:5px;\n",
    "           font-size:110%;\n",
    "           font-family:cursive;\n",
    "           letter-spacing:0.5px;\n",
    "           background-color:pink;\n",
    "           color:Black;\n",
    "            padding:5px 5px 5px 5px;\n",
    "           font-family:cursive\n",
    "           \">\n",
    "    <h1 style=\"text-align:center;font-weight: bold\">So the winner is Personalized Recommender</h1>\n",
    "</div>\n"
   ]
  }
 ],
 "metadata": {
  "kernelspec": {
   "display_name": "Python 3",
   "language": "python",
   "name": "python3"
  },
  "language_info": {
   "codemirror_mode": {
    "name": "ipython",
    "version": 3
   },
   "file_extension": ".py",
   "mimetype": "text/x-python",
   "name": "python",
   "nbconvert_exporter": "python",
   "pygments_lexer": "ipython3",
   "version": "3.7.10"
  },
  "papermill": {
   "default_parameters": {},
   "duration": 120.015918,
   "end_time": "2021-06-18T18:55:34.259852",
   "environment_variables": {},
   "exception": null,
   "input_path": "__notebook__.ipynb",
   "output_path": "__notebook__.ipynb",
   "parameters": {},
   "start_time": "2021-06-18T18:53:34.243934",
   "version": "2.3.3"
  }
 },
 "nbformat": 4,
 "nbformat_minor": 5
}
